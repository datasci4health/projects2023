{
 "cells": [
  {
   "cell_type": "markdown",
   "id": "15b56280",
   "metadata": {},
   "source": [
    "# Relação da aplicação de insulina com valores de CK (CPK)\n",
    "O objetivo desse notebook é realizar uma análise para tentar encontrar alguma relação entre a insulina administrada nos pacientes, considerando ou não o fator da obesidade, e seus valores de CK (CPK).\n",
    "\n",
    "Para isso são utilizadas as tabelas:\n",
    "- `insulin_inputs_in_ck_pacients.csv`: contem informação sobre a administração de insulina em pacientes que fizeram exames de CK\n",
    "- `ck_norm`: contem informações sobre os valores de CK de pacientes \n",
    "- `bmi_norm`: contem informações sobre IMC (BMI) dos pacientes"
   ]
  },
  {
   "cell_type": "code",
   "execution_count": 21,
   "id": "a3978811",
   "metadata": {},
   "outputs": [
    {
     "data": {
      "text/html": [
       "<div>\n",
       "<style scoped>\n",
       "    .dataframe tbody tr th:only-of-type {\n",
       "        vertical-align: middle;\n",
       "    }\n",
       "\n",
       "    .dataframe tbody tr th {\n",
       "        vertical-align: top;\n",
       "    }\n",
       "\n",
       "    .dataframe thead th {\n",
       "        text-align: right;\n",
       "    }\n",
       "</style>\n",
       "<table border=\"1\" class=\"dataframe\">\n",
       "  <thead>\n",
       "    <tr style=\"text-align: right;\">\n",
       "      <th></th>\n",
       "      <th>Unnamed: 0</th>\n",
       "      <th>subject_id</th>\n",
       "      <th>hadm_id</th>\n",
       "      <th>stay_id</th>\n",
       "      <th>caregiver_id</th>\n",
       "      <th>starttime</th>\n",
       "      <th>endtime</th>\n",
       "      <th>storetime</th>\n",
       "      <th>itemid</th>\n",
       "      <th>amount</th>\n",
       "      <th>...</th>\n",
       "      <th>ordercomponenttypedescription</th>\n",
       "      <th>ordercategorydescription</th>\n",
       "      <th>patientweight</th>\n",
       "      <th>totalamount</th>\n",
       "      <th>totalamountuom</th>\n",
       "      <th>isopenbag</th>\n",
       "      <th>continueinnextdept</th>\n",
       "      <th>statusdescription</th>\n",
       "      <th>originalamount</th>\n",
       "      <th>originalrate</th>\n",
       "    </tr>\n",
       "  </thead>\n",
       "  <tbody>\n",
       "    <tr>\n",
       "      <th>0</th>\n",
       "      <td>772</td>\n",
       "      <td>10002428</td>\n",
       "      <td>23473524</td>\n",
       "      <td>35479615</td>\n",
       "      <td>41151</td>\n",
       "      <td>2156-05-19 22:41:00</td>\n",
       "      <td>2156-05-19 22:42:00</td>\n",
       "      <td>2156-05-19 22:42:00</td>\n",
       "      <td>223262</td>\n",
       "      <td>0.000000</td>\n",
       "      <td>...</td>\n",
       "      <td>Main order parameter</td>\n",
       "      <td>Drug Push</td>\n",
       "      <td>48.4</td>\n",
       "      <td>NaN</td>\n",
       "      <td>NaN</td>\n",
       "      <td>0</td>\n",
       "      <td>0</td>\n",
       "      <td>FinishedRunning</td>\n",
       "      <td>0.00</td>\n",
       "      <td>0.0</td>\n",
       "    </tr>\n",
       "    <tr>\n",
       "      <th>1</th>\n",
       "      <td>780</td>\n",
       "      <td>10002428</td>\n",
       "      <td>23473524</td>\n",
       "      <td>35479615</td>\n",
       "      <td>41151</td>\n",
       "      <td>2156-05-20 04:00:00</td>\n",
       "      <td>2156-05-20 04:01:00</td>\n",
       "      <td>2156-05-20 06:05:00</td>\n",
       "      <td>223262</td>\n",
       "      <td>0.000000</td>\n",
       "      <td>...</td>\n",
       "      <td>Main order parameter</td>\n",
       "      <td>Drug Push</td>\n",
       "      <td>48.4</td>\n",
       "      <td>NaN</td>\n",
       "      <td>NaN</td>\n",
       "      <td>0</td>\n",
       "      <td>0</td>\n",
       "      <td>FinishedRunning</td>\n",
       "      <td>0.00</td>\n",
       "      <td>0.0</td>\n",
       "    </tr>\n",
       "    <tr>\n",
       "      <th>2</th>\n",
       "      <td>859</td>\n",
       "      <td>10002428</td>\n",
       "      <td>23473524</td>\n",
       "      <td>35479615</td>\n",
       "      <td>74793</td>\n",
       "      <td>2156-05-13 09:43:00</td>\n",
       "      <td>2156-05-13 09:44:00</td>\n",
       "      <td>2156-05-13 09:43:00</td>\n",
       "      <td>223258</td>\n",
       "      <td>2.000000</td>\n",
       "      <td>...</td>\n",
       "      <td>Main order parameter</td>\n",
       "      <td>Drug Push</td>\n",
       "      <td>48.4</td>\n",
       "      <td>NaN</td>\n",
       "      <td>NaN</td>\n",
       "      <td>0</td>\n",
       "      <td>0</td>\n",
       "      <td>FinishedRunning</td>\n",
       "      <td>2.00</td>\n",
       "      <td>2.0</td>\n",
       "    </tr>\n",
       "    <tr>\n",
       "      <th>3</th>\n",
       "      <td>993</td>\n",
       "      <td>10002428</td>\n",
       "      <td>23473524</td>\n",
       "      <td>35479615</td>\n",
       "      <td>98628</td>\n",
       "      <td>2156-05-13 16:00:00</td>\n",
       "      <td>2156-05-13 16:01:00</td>\n",
       "      <td>2156-05-13 17:16:00</td>\n",
       "      <td>223258</td>\n",
       "      <td>0.000000</td>\n",
       "      <td>...</td>\n",
       "      <td>Main order parameter</td>\n",
       "      <td>Drug Push</td>\n",
       "      <td>48.4</td>\n",
       "      <td>NaN</td>\n",
       "      <td>NaN</td>\n",
       "      <td>0</td>\n",
       "      <td>0</td>\n",
       "      <td>FinishedRunning</td>\n",
       "      <td>0.00</td>\n",
       "      <td>0.0</td>\n",
       "    </tr>\n",
       "    <tr>\n",
       "      <th>4</th>\n",
       "      <td>2842</td>\n",
       "      <td>10004235</td>\n",
       "      <td>24181354</td>\n",
       "      <td>34100191</td>\n",
       "      <td>24745</td>\n",
       "      <td>2196-02-25 00:54:00</td>\n",
       "      <td>2196-02-25 04:12:00</td>\n",
       "      <td>2196-02-25 00:54:00</td>\n",
       "      <td>223258</td>\n",
       "      <td>13.197716</td>\n",
       "      <td>...</td>\n",
       "      <td>Main order parameter</td>\n",
       "      <td>Continuous Med</td>\n",
       "      <td>127.0</td>\n",
       "      <td>100.0</td>\n",
       "      <td>ml</td>\n",
       "      <td>0</td>\n",
       "      <td>0</td>\n",
       "      <td>ChangeDose/Rate</td>\n",
       "      <td>96.25</td>\n",
       "      <td>4.0</td>\n",
       "    </tr>\n",
       "  </tbody>\n",
       "</table>\n",
       "<p>5 rows × 27 columns</p>\n",
       "</div>"
      ],
      "text/plain": [
       "   Unnamed: 0  subject_id   hadm_id   stay_id  caregiver_id  \\\n",
       "0         772    10002428  23473524  35479615         41151   \n",
       "1         780    10002428  23473524  35479615         41151   \n",
       "2         859    10002428  23473524  35479615         74793   \n",
       "3         993    10002428  23473524  35479615         98628   \n",
       "4        2842    10004235  24181354  34100191         24745   \n",
       "\n",
       "             starttime              endtime            storetime  itemid  \\\n",
       "0  2156-05-19 22:41:00  2156-05-19 22:42:00  2156-05-19 22:42:00  223262   \n",
       "1  2156-05-20 04:00:00  2156-05-20 04:01:00  2156-05-20 06:05:00  223262   \n",
       "2  2156-05-13 09:43:00  2156-05-13 09:44:00  2156-05-13 09:43:00  223258   \n",
       "3  2156-05-13 16:00:00  2156-05-13 16:01:00  2156-05-13 17:16:00  223258   \n",
       "4  2196-02-25 00:54:00  2196-02-25 04:12:00  2196-02-25 00:54:00  223258   \n",
       "\n",
       "      amount  ... ordercomponenttypedescription  ordercategorydescription  \\\n",
       "0   0.000000  ...          Main order parameter                 Drug Push   \n",
       "1   0.000000  ...          Main order parameter                 Drug Push   \n",
       "2   2.000000  ...          Main order parameter                 Drug Push   \n",
       "3   0.000000  ...          Main order parameter                 Drug Push   \n",
       "4  13.197716  ...          Main order parameter            Continuous Med   \n",
       "\n",
       "  patientweight  totalamount  totalamountuom isopenbag continueinnextdept  \\\n",
       "0          48.4          NaN             NaN         0                  0   \n",
       "1          48.4          NaN             NaN         0                  0   \n",
       "2          48.4          NaN             NaN         0                  0   \n",
       "3          48.4          NaN             NaN         0                  0   \n",
       "4         127.0        100.0              ml         0                  0   \n",
       "\n",
       "  statusdescription originalamount  originalrate  \n",
       "0   FinishedRunning           0.00           0.0  \n",
       "1   FinishedRunning           0.00           0.0  \n",
       "2   FinishedRunning           2.00           2.0  \n",
       "3   FinishedRunning           0.00           0.0  \n",
       "4   ChangeDose/Rate          96.25           4.0  \n",
       "\n",
       "[5 rows x 27 columns]"
      ]
     },
     "execution_count": 21,
     "metadata": {},
     "output_type": "execute_result"
    }
   ],
   "source": [
    "import pandas as pd\n",
    "\n",
    "path_insulin = \"../data/interim/insulin_inputs_in_ck_pacients.csv\"\n",
    "path_cpk = \"../data/processed/ck_norm.csv\"\n",
    "path_bmi = \"../data/processed/bmi_norm.csv\"\n",
    "\n",
    "df_insulin = pd.read_csv(path_insulin)\n",
    "df_cpk = pd.read_csv(path_cpk)\n",
    "df_bmi = pd.read_csv(path_bmi)\n",
    "df_insulin.head()"
   ]
  },
  {
   "cell_type": "code",
   "execution_count": 16,
   "id": "9483c429",
   "metadata": {},
   "outputs": [
    {
     "data": {
      "text/html": [
       "<div>\n",
       "<style scoped>\n",
       "    .dataframe tbody tr th:only-of-type {\n",
       "        vertical-align: middle;\n",
       "    }\n",
       "\n",
       "    .dataframe tbody tr th {\n",
       "        vertical-align: top;\n",
       "    }\n",
       "\n",
       "    .dataframe thead th {\n",
       "        text-align: right;\n",
       "    }\n",
       "</style>\n",
       "<table border=\"1\" class=\"dataframe\">\n",
       "  <thead>\n",
       "    <tr style=\"text-align: right;\">\n",
       "      <th></th>\n",
       "      <th>Unnamed: 0</th>\n",
       "      <th>subject_id</th>\n",
       "      <th>hadm_id</th>\n",
       "      <th>stay_id</th>\n",
       "      <th>caregiver_id</th>\n",
       "      <th>charttime</th>\n",
       "      <th>storetime</th>\n",
       "      <th>itemid</th>\n",
       "      <th>value</th>\n",
       "      <th>valuenum</th>\n",
       "      <th>valueuom</th>\n",
       "      <th>warning</th>\n",
       "    </tr>\n",
       "  </thead>\n",
       "  <tbody>\n",
       "    <tr>\n",
       "      <th>0</th>\n",
       "      <td>932</td>\n",
       "      <td>10000980</td>\n",
       "      <td>26913865</td>\n",
       "      <td>39765666</td>\n",
       "      <td>NaN</td>\n",
       "      <td>2189-06-27 12:58:00</td>\n",
       "      <td>2189-06-27 14:18:00</td>\n",
       "      <td>225634</td>\n",
       "      <td>263</td>\n",
       "      <td>263.0</td>\n",
       "      <td>IU/L</td>\n",
       "      <td>1.0</td>\n",
       "    </tr>\n",
       "    <tr>\n",
       "      <th>1</th>\n",
       "      <td>18918</td>\n",
       "      <td>10001884</td>\n",
       "      <td>26184834</td>\n",
       "      <td>37510196</td>\n",
       "      <td>NaN</td>\n",
       "      <td>2131-01-14 03:08:00</td>\n",
       "      <td>2131-01-14 09:18:00</td>\n",
       "      <td>225634</td>\n",
       "      <td>786</td>\n",
       "      <td>786.0</td>\n",
       "      <td>IU/L</td>\n",
       "      <td>1.0</td>\n",
       "    </tr>\n",
       "    <tr>\n",
       "      <th>2</th>\n",
       "      <td>19039</td>\n",
       "      <td>10001884</td>\n",
       "      <td>26184834</td>\n",
       "      <td>37510196</td>\n",
       "      <td>NaN</td>\n",
       "      <td>2131-01-16 04:02:00</td>\n",
       "      <td>2131-01-16 05:06:00</td>\n",
       "      <td>225634</td>\n",
       "      <td>361</td>\n",
       "      <td>361.0</td>\n",
       "      <td>IU/L</td>\n",
       "      <td>1.0</td>\n",
       "    </tr>\n",
       "    <tr>\n",
       "      <th>3</th>\n",
       "      <td>22053</td>\n",
       "      <td>10002155</td>\n",
       "      <td>20345487</td>\n",
       "      <td>32358465</td>\n",
       "      <td>NaN</td>\n",
       "      <td>2131-03-10 02:04:00</td>\n",
       "      <td>2131-03-10 03:17:00</td>\n",
       "      <td>225634</td>\n",
       "      <td>99</td>\n",
       "      <td>99.0</td>\n",
       "      <td>IU/L</td>\n",
       "      <td>0.0</td>\n",
       "    </tr>\n",
       "    <tr>\n",
       "      <th>4</th>\n",
       "      <td>27263</td>\n",
       "      <td>10002155</td>\n",
       "      <td>23822395</td>\n",
       "      <td>33685454</td>\n",
       "      <td>NaN</td>\n",
       "      <td>2129-08-04 17:56:00</td>\n",
       "      <td>2129-08-04 18:51:00</td>\n",
       "      <td>225634</td>\n",
       "      <td>589</td>\n",
       "      <td>589.0</td>\n",
       "      <td>IU/L</td>\n",
       "      <td>1.0</td>\n",
       "    </tr>\n",
       "  </tbody>\n",
       "</table>\n",
       "</div>"
      ],
      "text/plain": [
       "   Unnamed: 0  subject_id   hadm_id   stay_id  caregiver_id  \\\n",
       "0         932    10000980  26913865  39765666           NaN   \n",
       "1       18918    10001884  26184834  37510196           NaN   \n",
       "2       19039    10001884  26184834  37510196           NaN   \n",
       "3       22053    10002155  20345487  32358465           NaN   \n",
       "4       27263    10002155  23822395  33685454           NaN   \n",
       "\n",
       "             charttime            storetime  itemid  value  valuenum valueuom  \\\n",
       "0  2189-06-27 12:58:00  2189-06-27 14:18:00  225634    263     263.0     IU/L   \n",
       "1  2131-01-14 03:08:00  2131-01-14 09:18:00  225634    786     786.0     IU/L   \n",
       "2  2131-01-16 04:02:00  2131-01-16 05:06:00  225634    361     361.0     IU/L   \n",
       "3  2131-03-10 02:04:00  2131-03-10 03:17:00  225634     99      99.0     IU/L   \n",
       "4  2129-08-04 17:56:00  2129-08-04 18:51:00  225634    589     589.0     IU/L   \n",
       "\n",
       "   warning  \n",
       "0      1.0  \n",
       "1      1.0  \n",
       "2      1.0  \n",
       "3      0.0  \n",
       "4      1.0  "
      ]
     },
     "execution_count": 16,
     "metadata": {},
     "output_type": "execute_result"
    }
   ],
   "source": [
    "df_cpk.head()"
   ]
  },
  {
   "cell_type": "code",
   "execution_count": 22,
   "id": "f6aea30f",
   "metadata": {},
   "outputs": [
    {
     "data": {
      "text/html": [
       "<div>\n",
       "<style scoped>\n",
       "    .dataframe tbody tr th:only-of-type {\n",
       "        vertical-align: middle;\n",
       "    }\n",
       "\n",
       "    .dataframe tbody tr th {\n",
       "        vertical-align: top;\n",
       "    }\n",
       "\n",
       "    .dataframe thead th {\n",
       "        text-align: right;\n",
       "    }\n",
       "</style>\n",
       "<table border=\"1\" class=\"dataframe\">\n",
       "  <thead>\n",
       "    <tr style=\"text-align: right;\">\n",
       "      <th></th>\n",
       "      <th>Unnamed: 0</th>\n",
       "      <th>subject_id</th>\n",
       "      <th>chartdate</th>\n",
       "      <th>seq_num</th>\n",
       "      <th>result_name</th>\n",
       "      <th>result_value</th>\n",
       "    </tr>\n",
       "  </thead>\n",
       "  <tbody>\n",
       "    <tr>\n",
       "      <th>0</th>\n",
       "      <td>329</td>\n",
       "      <td>10000980</td>\n",
       "      <td>2185-06-17</td>\n",
       "      <td>1</td>\n",
       "      <td>BMI (kg/m2)</td>\n",
       "      <td>33.6</td>\n",
       "    </tr>\n",
       "    <tr>\n",
       "      <th>1</th>\n",
       "      <td>331</td>\n",
       "      <td>10000980</td>\n",
       "      <td>2185-09-17</td>\n",
       "      <td>1</td>\n",
       "      <td>BMI (kg/m2)</td>\n",
       "      <td>34.0</td>\n",
       "    </tr>\n",
       "    <tr>\n",
       "      <th>2</th>\n",
       "      <td>333</td>\n",
       "      <td>10000980</td>\n",
       "      <td>2185-12-17</td>\n",
       "      <td>1</td>\n",
       "      <td>BMI (kg/m2)</td>\n",
       "      <td>34.2</td>\n",
       "    </tr>\n",
       "    <tr>\n",
       "      <th>3</th>\n",
       "      <td>336</td>\n",
       "      <td>10000980</td>\n",
       "      <td>2186-03-17</td>\n",
       "      <td>1</td>\n",
       "      <td>BMI (kg/m2)</td>\n",
       "      <td>34.0</td>\n",
       "    </tr>\n",
       "    <tr>\n",
       "      <th>4</th>\n",
       "      <td>340</td>\n",
       "      <td>10000980</td>\n",
       "      <td>2186-09-15</td>\n",
       "      <td>1</td>\n",
       "      <td>BMI (kg/m2)</td>\n",
       "      <td>34.2</td>\n",
       "    </tr>\n",
       "  </tbody>\n",
       "</table>\n",
       "</div>"
      ],
      "text/plain": [
       "   Unnamed: 0  subject_id   chartdate  seq_num  result_name  result_value\n",
       "0         329    10000980  2185-06-17        1  BMI (kg/m2)          33.6\n",
       "1         331    10000980  2185-09-17        1  BMI (kg/m2)          34.0\n",
       "2         333    10000980  2185-12-17        1  BMI (kg/m2)          34.2\n",
       "3         336    10000980  2186-03-17        1  BMI (kg/m2)          34.0\n",
       "4         340    10000980  2186-09-15        1  BMI (kg/m2)          34.2"
      ]
     },
     "execution_count": 22,
     "metadata": {},
     "output_type": "execute_result"
    }
   ],
   "source": [
    "df_bmi.head()"
   ]
  },
  {
   "cell_type": "markdown",
   "id": "11f6f233",
   "metadata": {},
   "source": [
    "Consideramos apenas quantidades de insulina administrada maior que 0"
   ]
  },
  {
   "cell_type": "code",
   "execution_count": 23,
   "id": "3fd8362f",
   "metadata": {},
   "outputs": [
    {
     "data": {
      "text/html": [
       "<div>\n",
       "<style scoped>\n",
       "    .dataframe tbody tr th:only-of-type {\n",
       "        vertical-align: middle;\n",
       "    }\n",
       "\n",
       "    .dataframe tbody tr th {\n",
       "        vertical-align: top;\n",
       "    }\n",
       "\n",
       "    .dataframe thead th {\n",
       "        text-align: right;\n",
       "    }\n",
       "</style>\n",
       "<table border=\"1\" class=\"dataframe\">\n",
       "  <thead>\n",
       "    <tr style=\"text-align: right;\">\n",
       "      <th></th>\n",
       "      <th>Unnamed: 0</th>\n",
       "      <th>subject_id</th>\n",
       "      <th>hadm_id</th>\n",
       "      <th>stay_id</th>\n",
       "      <th>caregiver_id</th>\n",
       "      <th>starttime</th>\n",
       "      <th>endtime</th>\n",
       "      <th>storetime</th>\n",
       "      <th>itemid</th>\n",
       "      <th>amount</th>\n",
       "      <th>...</th>\n",
       "      <th>ordercomponenttypedescription</th>\n",
       "      <th>ordercategorydescription</th>\n",
       "      <th>patientweight</th>\n",
       "      <th>totalamount</th>\n",
       "      <th>totalamountuom</th>\n",
       "      <th>isopenbag</th>\n",
       "      <th>continueinnextdept</th>\n",
       "      <th>statusdescription</th>\n",
       "      <th>originalamount</th>\n",
       "      <th>originalrate</th>\n",
       "    </tr>\n",
       "  </thead>\n",
       "  <tbody>\n",
       "    <tr>\n",
       "      <th>2</th>\n",
       "      <td>859</td>\n",
       "      <td>10002428</td>\n",
       "      <td>23473524</td>\n",
       "      <td>35479615</td>\n",
       "      <td>74793</td>\n",
       "      <td>2156-05-13 09:43:00</td>\n",
       "      <td>2156-05-13 09:44:00</td>\n",
       "      <td>2156-05-13 09:43:00</td>\n",
       "      <td>223258</td>\n",
       "      <td>2.000000</td>\n",
       "      <td>...</td>\n",
       "      <td>Main order parameter</td>\n",
       "      <td>Drug Push</td>\n",
       "      <td>48.4</td>\n",
       "      <td>NaN</td>\n",
       "      <td>NaN</td>\n",
       "      <td>0</td>\n",
       "      <td>0</td>\n",
       "      <td>FinishedRunning</td>\n",
       "      <td>2.000000</td>\n",
       "      <td>2.0</td>\n",
       "    </tr>\n",
       "    <tr>\n",
       "      <th>4</th>\n",
       "      <td>2842</td>\n",
       "      <td>10004235</td>\n",
       "      <td>24181354</td>\n",
       "      <td>34100191</td>\n",
       "      <td>24745</td>\n",
       "      <td>2196-02-25 00:54:00</td>\n",
       "      <td>2196-02-25 04:12:00</td>\n",
       "      <td>2196-02-25 00:54:00</td>\n",
       "      <td>223258</td>\n",
       "      <td>13.197716</td>\n",
       "      <td>...</td>\n",
       "      <td>Main order parameter</td>\n",
       "      <td>Continuous Med</td>\n",
       "      <td>127.0</td>\n",
       "      <td>100.0</td>\n",
       "      <td>ml</td>\n",
       "      <td>0</td>\n",
       "      <td>0</td>\n",
       "      <td>ChangeDose/Rate</td>\n",
       "      <td>96.250000</td>\n",
       "      <td>4.0</td>\n",
       "    </tr>\n",
       "    <tr>\n",
       "      <th>5</th>\n",
       "      <td>2876</td>\n",
       "      <td>10004235</td>\n",
       "      <td>24181354</td>\n",
       "      <td>34100191</td>\n",
       "      <td>24834</td>\n",
       "      <td>2196-02-24 22:55:00</td>\n",
       "      <td>2196-02-24 22:56:00</td>\n",
       "      <td>2196-02-24 22:55:00</td>\n",
       "      <td>223258</td>\n",
       "      <td>10.000000</td>\n",
       "      <td>...</td>\n",
       "      <td>Main order parameter</td>\n",
       "      <td>Drug Push</td>\n",
       "      <td>127.0</td>\n",
       "      <td>NaN</td>\n",
       "      <td>NaN</td>\n",
       "      <td>0</td>\n",
       "      <td>0</td>\n",
       "      <td>FinishedRunning</td>\n",
       "      <td>10.000000</td>\n",
       "      <td>10.0</td>\n",
       "    </tr>\n",
       "    <tr>\n",
       "      <th>6</th>\n",
       "      <td>2877</td>\n",
       "      <td>10004235</td>\n",
       "      <td>24181354</td>\n",
       "      <td>34100191</td>\n",
       "      <td>24834</td>\n",
       "      <td>2196-02-24 22:55:00</td>\n",
       "      <td>2196-02-25 00:01:00</td>\n",
       "      <td>2196-02-24 22:55:00</td>\n",
       "      <td>223258</td>\n",
       "      <td>1.100000</td>\n",
       "      <td>...</td>\n",
       "      <td>Main order parameter</td>\n",
       "      <td>Continuous Med</td>\n",
       "      <td>127.0</td>\n",
       "      <td>100.0</td>\n",
       "      <td>ml</td>\n",
       "      <td>0</td>\n",
       "      <td>0</td>\n",
       "      <td>ChangeDose/Rate</td>\n",
       "      <td>100.000000</td>\n",
       "      <td>1.0</td>\n",
       "    </tr>\n",
       "    <tr>\n",
       "      <th>7</th>\n",
       "      <td>2886</td>\n",
       "      <td>10004235</td>\n",
       "      <td>24181354</td>\n",
       "      <td>34100191</td>\n",
       "      <td>24834</td>\n",
       "      <td>2196-02-25 00:01:00</td>\n",
       "      <td>2196-02-25 00:54:00</td>\n",
       "      <td>2196-02-25 00:01:00</td>\n",
       "      <td>223258</td>\n",
       "      <td>2.650000</td>\n",
       "      <td>...</td>\n",
       "      <td>Main order parameter</td>\n",
       "      <td>Continuous Med</td>\n",
       "      <td>127.0</td>\n",
       "      <td>100.0</td>\n",
       "      <td>ml</td>\n",
       "      <td>0</td>\n",
       "      <td>0</td>\n",
       "      <td>ChangeDose/Rate</td>\n",
       "      <td>98.900002</td>\n",
       "      <td>3.0</td>\n",
       "    </tr>\n",
       "  </tbody>\n",
       "</table>\n",
       "<p>5 rows × 27 columns</p>\n",
       "</div>"
      ],
      "text/plain": [
       "   Unnamed: 0  subject_id   hadm_id   stay_id  caregiver_id  \\\n",
       "2         859    10002428  23473524  35479615         74793   \n",
       "4        2842    10004235  24181354  34100191         24745   \n",
       "5        2876    10004235  24181354  34100191         24834   \n",
       "6        2877    10004235  24181354  34100191         24834   \n",
       "7        2886    10004235  24181354  34100191         24834   \n",
       "\n",
       "             starttime              endtime            storetime  itemid  \\\n",
       "2  2156-05-13 09:43:00  2156-05-13 09:44:00  2156-05-13 09:43:00  223258   \n",
       "4  2196-02-25 00:54:00  2196-02-25 04:12:00  2196-02-25 00:54:00  223258   \n",
       "5  2196-02-24 22:55:00  2196-02-24 22:56:00  2196-02-24 22:55:00  223258   \n",
       "6  2196-02-24 22:55:00  2196-02-25 00:01:00  2196-02-24 22:55:00  223258   \n",
       "7  2196-02-25 00:01:00  2196-02-25 00:54:00  2196-02-25 00:01:00  223258   \n",
       "\n",
       "      amount  ... ordercomponenttypedescription  ordercategorydescription  \\\n",
       "2   2.000000  ...          Main order parameter                 Drug Push   \n",
       "4  13.197716  ...          Main order parameter            Continuous Med   \n",
       "5  10.000000  ...          Main order parameter                 Drug Push   \n",
       "6   1.100000  ...          Main order parameter            Continuous Med   \n",
       "7   2.650000  ...          Main order parameter            Continuous Med   \n",
       "\n",
       "  patientweight  totalamount  totalamountuom isopenbag continueinnextdept  \\\n",
       "2          48.4          NaN             NaN         0                  0   \n",
       "4         127.0        100.0              ml         0                  0   \n",
       "5         127.0          NaN             NaN         0                  0   \n",
       "6         127.0        100.0              ml         0                  0   \n",
       "7         127.0        100.0              ml         0                  0   \n",
       "\n",
       "  statusdescription originalamount  originalrate  \n",
       "2   FinishedRunning       2.000000           2.0  \n",
       "4   ChangeDose/Rate      96.250000           4.0  \n",
       "5   FinishedRunning      10.000000          10.0  \n",
       "6   ChangeDose/Rate     100.000000           1.0  \n",
       "7   ChangeDose/Rate      98.900002           3.0  \n",
       "\n",
       "[5 rows x 27 columns]"
      ]
     },
     "execution_count": 23,
     "metadata": {},
     "output_type": "execute_result"
    }
   ],
   "source": [
    "df_insulin = df_insulin[df_insulin[\"amount\"] > 0]\n",
    "df_insulin.head()"
   ]
  },
  {
   "cell_type": "markdown",
   "id": "a5671d76",
   "metadata": {},
   "source": [
    "O MIMIC IV apresenta mais de um tipo de insulina.\n",
    "O tipo de insulina administrada será considerado um valor categórico, sendo convertido para um número de identificação."
   ]
  },
  {
   "cell_type": "code",
   "execution_count": 24,
   "id": "acdaebb1",
   "metadata": {},
   "outputs": [
    {
     "name": "stdout",
     "output_type": "stream",
     "text": [
      "{223258: 0, 223262: 1, 223259: 2, 223260: 3, 229299: 4, 223261: 5, 223257: 6, 229619: 7}\n"
     ]
    }
   ],
   "source": [
    "insulin_types = df_insulin[\"itemid\"].unique()\n",
    "insulin_onehot_dict = {}\n",
    "for i, i_t in enumerate(insulin_types):\n",
    "    insulin_onehot_dict[i_t] = i\n",
    "print(insulin_onehot_dict)"
   ]
  },
  {
   "cell_type": "markdown",
   "id": "cdb7b8ab",
   "metadata": {},
   "source": [
    "Coletando os dados que serão utilizados:\n",
    "(tipo de insulina, quantidade de insulina administrada, IMC do paciente, valor de CK do paciente) "
   ]
  },
  {
   "cell_type": "code",
   "execution_count": 42,
   "id": "91bedc17",
   "metadata": {},
   "outputs": [
    {
     "name": "stderr",
     "output_type": "stream",
     "text": [
      "100%|████████████████████████████████████| 46536/46536 [01:28<00:00, 524.34it/s]"
     ]
    },
    {
     "name": "stdout",
     "output_type": "stream",
     "text": [
      "29188\n"
     ]
    },
    {
     "name": "stderr",
     "output_type": "stream",
     "text": [
      "\n"
     ]
    }
   ],
   "source": [
    "from tqdm import tqdm\n",
    "\n",
    "data_array = []\n",
    "for _, row in tqdm(df_cpk.iterrows(), total=df_cpk.shape[0]):\n",
    "    insulin_pacient = df_insulin[df_insulin['subject_id'] == row['subject_id']]\n",
    "    if len(insulin_pacient) == 0:\n",
    "        continue\n",
    "    insulin_pacient = insulin_pacient.iloc[0]\n",
    "    insulin_label = insulin_onehot_dict[insulin_pacient['itemid']]\n",
    "    insulin_value = insulin_pacient['amount']\n",
    "    cpk_value = row['value']\n",
    "    bmi_value = df_bmi[df_bmi['subject_id'] == row['subject_id']]['result_value'].mean()\n",
    "    data_array.append((insulin_label, insulin_value, bmi_value, cpk_value))\n",
    "print(len(data_array))"
   ]
  },
  {
   "cell_type": "code",
   "execution_count": 43,
   "id": "d97cde36",
   "metadata": {},
   "outputs": [
    {
     "data": {
      "text/plain": [
       "(0, 2.0, 19.74285714285714, 29)"
      ]
     },
     "execution_count": 43,
     "metadata": {},
     "output_type": "execute_result"
    }
   ],
   "source": [
    "data_array[0] #(tipo de insulina, quantidade de insulina administrada, IMC do paciente, valor de CK do paciente)"
   ]
  },
  {
   "cell_type": "markdown",
   "id": "b0926c85",
   "metadata": {},
   "source": [
    "## Normalização dos dados\n",
    "A fim de manter os dados na mesma escala, os dados são normalizados para se manterem no intervalo entre [0, 1]\n",
    "Os dados também são divididos entre dados de todos os pacientes e apenas dados de pacientes obesos. A informação categorica do tipo de insulina é convertida para um array no formato _one hot encoding_.\n",
    "\n",
    "Valores máximos e mínimos:\n",
    "- Quantidade de insulina administrada (ml): min=0.0333275645971298; max=216.0\n",
    "- IMC: min=0.4 max=89.5\n",
    "- CK: min=3 max=9996"
   ]
  },
  {
   "cell_type": "code",
   "execution_count": 127,
   "id": "1c7d3587",
   "metadata": {},
   "outputs": [
    {
     "name": "stdout",
     "output_type": "stream",
     "text": [
      "0.0333275645971298 216.0\n",
      "0.4 89.5\n",
      "3 9996\n",
      "([1, 0, 0, 0, 0, 0, 0, 0, 0.009106370039530593, 0.21709155042488376], 0.0026018212748924246)\n",
      "([1, 0, 0, 0, 0, 0, 0, 0, 0.060955645921728224], 0.989492644851396)\n"
     ]
    }
   ],
   "source": [
    "import math\n",
    "import numpy as np\n",
    "\n",
    "non_nan_data = [x for x in data_array if not math.isnan(x[2])]\n",
    "min_insulin = min([x[1] for x in non_nan_data])\n",
    "max_insulin = max([x[1] for x in non_nan_data])\n",
    "min_bmi = min([x[2] for x in non_nan_data])\n",
    "max_bmi = max([x[2] for x in non_nan_data])\n",
    "min_ck = min([x[3] for x in non_nan_data])\n",
    "max_ck = max([x[3] for x in non_nan_data])\n",
    "\n",
    "print(min_insulin, max_insulin)\n",
    "print(min_bmi, max_bmi)\n",
    "print(min_ck, max_ck)\n",
    "\n",
    "norm_data = []\n",
    "norm_obese_data = []\n",
    "for i_l, i_v, bmi, ck in non_nan_data:\n",
    "    norm_insulin = (i_v-min_insulin) / (max_insulin - min_insulin)\n",
    "    norm_bmi = (bmi-min_bmi) / (max_bmi - min_bmi)\n",
    "    norm_ck = (ck-min_ck) / (max_ck - min_ck)\n",
    "    one_hot_array = [0] * len(insulin_types)\n",
    "    one_hot_array[i_l] = 1\n",
    "    one_hot_array.append(norm_insulin)\n",
    "    \n",
    "    if bmi >= 30:\n",
    "        norm_obese_data.append((one_hot_array.copy(), norm_ck))\n",
    "        \n",
    "    one_hot_array.append(norm_bmi)\n",
    "    norm_data.append((one_hot_array, norm_ck))\n",
    "\n",
    "print(norm_data[0])\n",
    "print(norm_obese_data[0])"
   ]
  },
  {
   "cell_type": "markdown",
   "id": "61e5be77",
   "metadata": {},
   "source": [
    "## Modelo para pacientes em geral"
   ]
  },
  {
   "cell_type": "markdown",
   "id": "29046224",
   "metadata": {},
   "source": [
    "### Regressão linear\n",
    "Um modelo regressão linear é treinado com objetivo de predizer o valor de CK do paciente, com base no tipo de insulina, quantidade administrada e IMC.\n",
    "\n",
    "Os dados são divididos em 80% para treino (12359 amostras) e 20% para teste (3090 amostras)."
   ]
  },
  {
   "cell_type": "code",
   "execution_count": 140,
   "id": "2938bf2b",
   "metadata": {},
   "outputs": [
    {
     "name": "stdout",
     "output_type": "stream",
     "text": [
      "12359\n",
      "3090\n"
     ]
    }
   ],
   "source": [
    "import random\n",
    "random.seed(10)\n",
    "random.shuffle(norm_data)\n",
    "train_size = int(len(norm_data) * 0.8)\n",
    "train_data = norm_data[0 : train_size]1.30587561e+06\n",
    "test_data = norm_data[train_size:]\n",
    "print(len(train_data))\n",
    "print(len(test_data))"
   ]
  },
  {
   "cell_type": "code",
   "execution_count": 141,
   "id": "b2d6e5e5",
   "metadata": {},
   "outputs": [
    {
     "name": "stdout",
     "output_type": "stream",
     "text": [
      "[0, 1, 0, 0, 0, 0, 0, 0, 0.018367058170002268, 0.35099139543583996] -> 0.005403782647853498\n"
     ]
    }
   ],
   "source": [
    "x_train = [x[0] for x in train_data]\n",
    "y_train = [x[1] for x in train_data]\n",
    "x_test = [x[0] for x in test_data]\n",
    "y_test = [x[1] for x in test_data]\n",
    "print(x_train[0], \"->\", y_train[0])"
   ]
  },
  {
   "cell_type": "code",
   "execution_count": 142,
   "id": "e4ed4df4",
   "metadata": {},
   "outputs": [],
   "source": [
    "from sklearn.linear_model import LinearRegression\n",
    "insulin_model = LinearRegression().fit(x_train, y_train)"
   ]
  },
  {
   "cell_type": "code",
   "execution_count": 143,
   "id": "59b4ce82",
   "metadata": {},
   "outputs": [
    {
     "data": {
      "text/plain": [
       "array([8.92736306e+10, 8.92736306e+10, 8.92736306e+10, 8.92736306e+10,\n",
       "       8.92736306e+10, 8.92736306e+10, 8.92736306e+10, 1.30587561e+06,\n",
       "       1.19682901e-01, 1.64008668e-01])"
      ]
     },
     "execution_count": 143,
     "metadata": {},
     "output_type": "execute_result"
    }
   ],
   "source": [
    "insulin_model.coef_"
   ]
  },
  {
   "cell_type": "code",
   "execution_count": 144,
   "id": "eaba470b",
   "metadata": {},
   "outputs": [
    {
     "data": {
      "text/plain": [
       "0.016304729645855498"
      ]
     },
     "execution_count": 144,
     "metadata": {},
     "output_type": "execute_result"
    }
   ],
   "source": [
    "insulin_model.score(x_test, y_test)"
   ]
  },
  {
   "cell_type": "markdown",
   "id": "65d7db45",
   "metadata": {},
   "source": [
    "### Regressão logística\n",
    "Um modelo regressão logística é treinado para comparação com o modelo linear. Para isso o problema é rearranjado. É calculado o valor de CK médio e os pacientes são divididos em pacientes com CK alto ou baixo, conforme o CK médio.\n",
    "\n",
    "Objetivo da regressão logística é então predizer com base no tipo de insulina, quantidade administrada e IMC, se o paciente apresenta um valor alto ou baixo de CK (classificação binaria)"
   ]
  },
  {
   "cell_type": "code",
   "execution_count": 119,
   "id": "c80be4df",
   "metadata": {},
   "outputs": [],
   "source": [
    "ck_values = [x[1] for x in norm_data]\n",
    "mean_ck = sum(ck_values) / len(ck_values)\n",
    "y_train_binary = [int(x > mean_ck) for x in y_train]\n",
    "y_test_binary = [int(x > mean_ck) for x in y_test]"
   ]
  },
  {
   "cell_type": "code",
   "execution_count": 120,
   "id": "ca382429",
   "metadata": {},
   "outputs": [],
   "source": [
    "from sklearn.linear_model import LogisticRegression\n",
    "insulin_class_model = LogisticRegression(random_state=0).fit(x_train, y_train_binary)"
   ]
  },
  {
   "cell_type": "code",
   "execution_count": 123,
   "id": "fb8f70ea",
   "metadata": {},
   "outputs": [
    {
     "data": {
      "text/plain": [
       "array([[ 0.80362295,  0.27992811,  0.28019234,  0.24901903,  0.73737364,\n",
       "        -0.71708455, -1.63868049,  0.        ,  1.68608572,  2.01404578]])"
      ]
     },
     "execution_count": 123,
     "metadata": {},
     "output_type": "execute_result"
    }
   ],
   "source": [
    "insulin_class_model.coef_"
   ]
  },
  {
   "cell_type": "code",
   "execution_count": 122,
   "id": "3987c257",
   "metadata": {},
   "outputs": [
    {
     "data": {
      "text/plain": [
       "0.7812297734627832"
      ]
     },
     "execution_count": 122,
     "metadata": {},
     "output_type": "execute_result"
    }
   ],
   "source": [
    "insulin_class_model.score(x_test, y_test_binary)"
   ]
  },
  {
   "cell_type": "markdown",
   "id": "6eeb1d75",
   "metadata": {},
   "source": [
    "## Modelo para pacientes obesos"
   ]
  },
  {
   "cell_type": "markdown",
   "id": "da8f7627",
   "metadata": {},
   "source": [
    "### Regressão linear\n",
    "A regressão linear é aplicada considerando apenas dados de pacientes obesos.\n",
    "Diferentemente dos dados dos pacientes em geral, nos dados dos pacientes obesos não são incluídos os valores de IMC."
   ]
  },
  {
   "cell_type": "code",
   "execution_count": 128,
   "id": "3d5d0e1f",
   "metadata": {},
   "outputs": [
    {
     "name": "stdout",
     "output_type": "stream",
     "text": [
      "4635\n",
      "1159\n"
     ]
    }
   ],
   "source": [
    "random.shuffle(norm_obese_data)\n",
    "train_size = int(len(norm_obese_data) * 0.8)\n",
    "train_data = norm_obese_data[0 : train_size]\n",
    "test_data = norm_obese_data[train_size:]\n",
    "print(len(train_data))\n",
    "print(len(test_data))"
   ]
  },
  {
   "cell_type": "code",
   "execution_count": 129,
   "id": "0784e051",
   "metadata": {},
   "outputs": [
    {
     "name": "stdout",
     "output_type": "stream",
     "text": [
      "[0, 1, 0, 0, 0, 0, 0, 0, 0.009106370039530593] -> 0.11568097668367858\n"
     ]
    }
   ],
   "source": [
    "x_train = [x[0] for x in train_data]\n",
    "y_train = [x[1] for x in train_data]\n",
    "x_test = [x[0] for x in test_data]\n",
    "y_test = [x[1] for x in test_data]\n",
    "print(x_train[0], \"->\", y_train[0])"
   ]
  },
  {
   "cell_type": "code",
   "execution_count": 133,
   "id": "85573c97",
   "metadata": {},
   "outputs": [],
   "source": [
    "from sklearn.linear_model import LinearRegression\n",
    "insulin_obese_model = LinearRegression().fit(x_train, y_train)"
   ]
  },
  {
   "cell_type": "code",
   "execution_count": 134,
   "id": "56bdccfd",
   "metadata": {},
   "outputs": [
    {
     "data": {
      "text/plain": [
       "0.0010681015149365258"
      ]
     },
     "execution_count": 134,
     "metadata": {},
     "output_type": "execute_result"
    }
   ],
   "source": [
    "insulin_obese_model.score(x_test, y_test)"
   ]
  },
  {
   "cell_type": "markdown",
   "id": "a19862b4",
   "metadata": {},
   "source": [
    "### Regressão logística"
   ]
  },
  {
   "cell_type": "code",
   "execution_count": 136,
   "id": "4ddca72f",
   "metadata": {},
   "outputs": [],
   "source": [
    "y_train_binary = [int(x > mean_ck) for x in y_train]\n",
    "y_test_binary = [int(x > mean_ck) for x in y_test]"
   ]
  },
  {
   "cell_type": "code",
   "execution_count": 137,
   "id": "cac9382a",
   "metadata": {},
   "outputs": [],
   "source": [
    "from sklearn.linear_model import LogisticRegression\n",
    "insulin_obese_class_model = LogisticRegression(random_state=0).fit(x_train, y_train_binary)"
   ]
  },
  {
   "cell_type": "code",
   "execution_count": 139,
   "id": "3a218940",
   "metadata": {},
   "outputs": [
    {
     "data": {
      "text/plain": [
       "0.7428817946505608"
      ]
     },
     "execution_count": 139,
     "metadata": {},
     "output_type": "execute_result"
    }
   ],
   "source": [
    "insulin_obese_class_model.score(x_test, y_test_binary)"
   ]
  }
 ],
 "metadata": {
  "kernelspec": {
   "display_name": "Python 3 (ipykernel)",
   "language": "python",
   "name": "python3"
  },
  "language_info": {
   "codemirror_mode": {
    "name": "ipython",
    "version": 3
   },
   "file_extension": ".py",
   "mimetype": "text/x-python",
   "name": "python",
   "nbconvert_exporter": "python",
   "pygments_lexer": "ipython3",
   "version": "3.7.13"
  }
 },
 "nbformat": 4,
 "nbformat_minor": 5
}
