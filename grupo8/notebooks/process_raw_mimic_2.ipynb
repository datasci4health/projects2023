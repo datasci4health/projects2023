{
 "cells": [
  {
   "cell_type": "markdown",
   "id": "7beb8616",
   "metadata": {
    "id": "7beb8616"
   },
   "source": [
    "## Processamento inicial da base de dados MIMIC-IV\n",
    "\n",
    "O objetivo desse notebook é realizar um processamento das tabelas originais do MIMIC-IV com objetivo de gerar tabelas intermediarias contendo apenas os dados utilizados na análise exploratória"
   ]
  },
  {
   "cell_type": "markdown",
   "id": "MKjnebCFZ_j5",
   "metadata": {
    "id": "MKjnebCFZ_j5"
   },
   "source": [
    "### Obtenção de dados de CK (CPK)\n",
    "\n",
    "Inicialmente filtramos a tabela `chartevents.csv` que possui diversas informações sobre eventos do hospital inclusive sobre o exame de CK (CPK), identificado pela coluna `itemid` igual a `225634` (pode ser verificado utilizando a tabela `d_items.csv`). Assim, filtramos apenas esses exames. O resultado é salvo na tabela `ck_events.csv`\n",
    "\n",
    "Como a tabela `chartevents.csv` é muito grande (30gb) ela foi processada em pedaços (chunks).\n"
   ]
  },
  {
   "cell_type": "code",
   "execution_count": 1,
   "id": "713b5d9e",
   "metadata": {
    "id": "713b5d9e"
   },
   "outputs": [],
   "source": [
    "path_chartevents = \"/media/salathiel/HD/mimic/chartevents.csv\"\n",
    "outfilename = \"../data/interim/ck_events_2.csv\""
   ]
  },
  {
   "cell_type": "code",
   "execution_count": 2,
   "id": "f48df7e4",
   "metadata": {
    "colab": {
     "base_uri": "https://localhost:8080/",
     "height": 395
    },
    "id": "f48df7e4",
    "outputId": "0467a08f-11fa-42b5-dde5-4181bb0e42e5"
   },
   "outputs": [
    {
     "ename": "KeyboardInterrupt",
     "evalue": "",
     "output_type": "error",
     "traceback": [
      "\u001b[0;31m---------------------------------------------------------------------------\u001b[0m",
      "\u001b[0;31mKeyboardInterrupt\u001b[0m                         Traceback (most recent call last)",
      "\u001b[0;32m/tmp/ipykernel_2809/1737534477.py\u001b[0m in \u001b[0;36m<module>\u001b[0;34m\u001b[0m\n\u001b[1;32m      6\u001b[0m \u001b[0mdf_final\u001b[0m \u001b[0;34m=\u001b[0m \u001b[0;32mNone\u001b[0m\u001b[0;34m\u001b[0m\u001b[0;34m\u001b[0m\u001b[0m\n\u001b[1;32m      7\u001b[0m \u001b[0;32mwith\u001b[0m \u001b[0mpd\u001b[0m\u001b[0;34m.\u001b[0m\u001b[0mread_csv\u001b[0m\u001b[0;34m(\u001b[0m\u001b[0mpath_chartevents\u001b[0m\u001b[0;34m,\u001b[0m \u001b[0mchunksize\u001b[0m\u001b[0;34m=\u001b[0m\u001b[0mchunksize\u001b[0m\u001b[0;34m)\u001b[0m \u001b[0;32mas\u001b[0m \u001b[0mreader\u001b[0m\u001b[0;34m:\u001b[0m\u001b[0;34m\u001b[0m\u001b[0;34m\u001b[0m\u001b[0m\n\u001b[0;32m----> 8\u001b[0;31m     \u001b[0;32mfor\u001b[0m \u001b[0mchunk\u001b[0m \u001b[0;32min\u001b[0m \u001b[0mreader\u001b[0m\u001b[0;34m:\u001b[0m\u001b[0;34m\u001b[0m\u001b[0;34m\u001b[0m\u001b[0m\n\u001b[0m\u001b[1;32m      9\u001b[0m         \u001b[0mchunk\u001b[0m \u001b[0;34m=\u001b[0m \u001b[0mchunk\u001b[0m\u001b[0;34m.\u001b[0m\u001b[0mloc\u001b[0m\u001b[0;34m[\u001b[0m\u001b[0mchunk\u001b[0m\u001b[0;34m[\u001b[0m\u001b[0;34m'itemid'\u001b[0m\u001b[0;34m]\u001b[0m \u001b[0;34m==\u001b[0m \u001b[0mck_cpk_id\u001b[0m\u001b[0;34m]\u001b[0m\u001b[0;34m\u001b[0m\u001b[0;34m\u001b[0m\u001b[0m\n\u001b[1;32m     10\u001b[0m         \u001b[0;32mif\u001b[0m \u001b[0mlen\u001b[0m\u001b[0;34m(\u001b[0m\u001b[0mchunk\u001b[0m\u001b[0;34m)\u001b[0m \u001b[0;34m>\u001b[0m \u001b[0;36m0\u001b[0m\u001b[0;34m:\u001b[0m\u001b[0;34m\u001b[0m\u001b[0;34m\u001b[0m\u001b[0m\n",
      "\u001b[0;32m/media/salathiel/HD/mconda/envs/rl/lib/python3.7/site-packages/pandas/io/parsers/readers.py\u001b[0m in \u001b[0;36m__next__\u001b[0;34m(self)\u001b[0m\n\u001b[1;32m   1022\u001b[0m     \u001b[0;32mdef\u001b[0m \u001b[0m__next__\u001b[0m\u001b[0;34m(\u001b[0m\u001b[0mself\u001b[0m\u001b[0;34m)\u001b[0m\u001b[0;34m:\u001b[0m\u001b[0;34m\u001b[0m\u001b[0;34m\u001b[0m\u001b[0m\n\u001b[1;32m   1023\u001b[0m         \u001b[0;32mtry\u001b[0m\u001b[0;34m:\u001b[0m\u001b[0;34m\u001b[0m\u001b[0;34m\u001b[0m\u001b[0m\n\u001b[0;32m-> 1024\u001b[0;31m             \u001b[0;32mreturn\u001b[0m \u001b[0mself\u001b[0m\u001b[0;34m.\u001b[0m\u001b[0mget_chunk\u001b[0m\u001b[0;34m(\u001b[0m\u001b[0;34m)\u001b[0m\u001b[0;34m\u001b[0m\u001b[0;34m\u001b[0m\u001b[0m\n\u001b[0m\u001b[1;32m   1025\u001b[0m         \u001b[0;32mexcept\u001b[0m \u001b[0mStopIteration\u001b[0m\u001b[0;34m:\u001b[0m\u001b[0;34m\u001b[0m\u001b[0;34m\u001b[0m\u001b[0m\n\u001b[1;32m   1026\u001b[0m             \u001b[0mself\u001b[0m\u001b[0;34m.\u001b[0m\u001b[0mclose\u001b[0m\u001b[0;34m(\u001b[0m\u001b[0;34m)\u001b[0m\u001b[0;34m\u001b[0m\u001b[0;34m\u001b[0m\u001b[0m\n",
      "\u001b[0;32m/media/salathiel/HD/mconda/envs/rl/lib/python3.7/site-packages/pandas/io/parsers/readers.py\u001b[0m in \u001b[0;36mget_chunk\u001b[0;34m(self, size)\u001b[0m\n\u001b[1;32m   1072\u001b[0m                 \u001b[0;32mraise\u001b[0m \u001b[0mStopIteration\u001b[0m\u001b[0;34m\u001b[0m\u001b[0;34m\u001b[0m\u001b[0m\n\u001b[1;32m   1073\u001b[0m             \u001b[0msize\u001b[0m \u001b[0;34m=\u001b[0m \u001b[0mmin\u001b[0m\u001b[0;34m(\u001b[0m\u001b[0msize\u001b[0m\u001b[0;34m,\u001b[0m \u001b[0mself\u001b[0m\u001b[0;34m.\u001b[0m\u001b[0mnrows\u001b[0m \u001b[0;34m-\u001b[0m \u001b[0mself\u001b[0m\u001b[0;34m.\u001b[0m\u001b[0m_currow\u001b[0m\u001b[0;34m)\u001b[0m\u001b[0;34m\u001b[0m\u001b[0;34m\u001b[0m\u001b[0m\n\u001b[0;32m-> 1074\u001b[0;31m         \u001b[0;32mreturn\u001b[0m \u001b[0mself\u001b[0m\u001b[0;34m.\u001b[0m\u001b[0mread\u001b[0m\u001b[0;34m(\u001b[0m\u001b[0mnrows\u001b[0m\u001b[0;34m=\u001b[0m\u001b[0msize\u001b[0m\u001b[0;34m)\u001b[0m\u001b[0;34m\u001b[0m\u001b[0;34m\u001b[0m\u001b[0m\n\u001b[0m\u001b[1;32m   1075\u001b[0m \u001b[0;34m\u001b[0m\u001b[0m\n\u001b[1;32m   1076\u001b[0m     \u001b[0;32mdef\u001b[0m \u001b[0m__enter__\u001b[0m\u001b[0;34m(\u001b[0m\u001b[0mself\u001b[0m\u001b[0;34m)\u001b[0m\u001b[0;34m:\u001b[0m\u001b[0;34m\u001b[0m\u001b[0;34m\u001b[0m\u001b[0m\n",
      "\u001b[0;32m/media/salathiel/HD/mconda/envs/rl/lib/python3.7/site-packages/pandas/io/parsers/readers.py\u001b[0m in \u001b[0;36mread\u001b[0;34m(self, nrows)\u001b[0m\n\u001b[1;32m   1045\u001b[0m     \u001b[0;32mdef\u001b[0m \u001b[0mread\u001b[0m\u001b[0;34m(\u001b[0m\u001b[0mself\u001b[0m\u001b[0;34m,\u001b[0m \u001b[0mnrows\u001b[0m\u001b[0;34m=\u001b[0m\u001b[0;32mNone\u001b[0m\u001b[0;34m)\u001b[0m\u001b[0;34m:\u001b[0m\u001b[0;34m\u001b[0m\u001b[0;34m\u001b[0m\u001b[0m\n\u001b[1;32m   1046\u001b[0m         \u001b[0mnrows\u001b[0m \u001b[0;34m=\u001b[0m \u001b[0mvalidate_integer\u001b[0m\u001b[0;34m(\u001b[0m\u001b[0;34m\"nrows\"\u001b[0m\u001b[0;34m,\u001b[0m \u001b[0mnrows\u001b[0m\u001b[0;34m)\u001b[0m\u001b[0;34m\u001b[0m\u001b[0;34m\u001b[0m\u001b[0m\n\u001b[0;32m-> 1047\u001b[0;31m         \u001b[0mindex\u001b[0m\u001b[0;34m,\u001b[0m \u001b[0mcolumns\u001b[0m\u001b[0;34m,\u001b[0m \u001b[0mcol_dict\u001b[0m \u001b[0;34m=\u001b[0m \u001b[0mself\u001b[0m\u001b[0;34m.\u001b[0m\u001b[0m_engine\u001b[0m\u001b[0;34m.\u001b[0m\u001b[0mread\u001b[0m\u001b[0;34m(\u001b[0m\u001b[0mnrows\u001b[0m\u001b[0;34m)\u001b[0m\u001b[0;34m\u001b[0m\u001b[0;34m\u001b[0m\u001b[0m\n\u001b[0m\u001b[1;32m   1048\u001b[0m \u001b[0;34m\u001b[0m\u001b[0m\n\u001b[1;32m   1049\u001b[0m         \u001b[0;32mif\u001b[0m \u001b[0mindex\u001b[0m \u001b[0;32mis\u001b[0m \u001b[0;32mNone\u001b[0m\u001b[0;34m:\u001b[0m\u001b[0;34m\u001b[0m\u001b[0;34m\u001b[0m\u001b[0m\n",
      "\u001b[0;32m/media/salathiel/HD/mconda/envs/rl/lib/python3.7/site-packages/pandas/io/parsers/c_parser_wrapper.py\u001b[0m in \u001b[0;36mread\u001b[0;34m(self, nrows)\u001b[0m\n\u001b[1;32m    222\u001b[0m         \u001b[0;32mtry\u001b[0m\u001b[0;34m:\u001b[0m\u001b[0;34m\u001b[0m\u001b[0;34m\u001b[0m\u001b[0m\n\u001b[1;32m    223\u001b[0m             \u001b[0;32mif\u001b[0m \u001b[0mself\u001b[0m\u001b[0;34m.\u001b[0m\u001b[0mlow_memory\u001b[0m\u001b[0;34m:\u001b[0m\u001b[0;34m\u001b[0m\u001b[0;34m\u001b[0m\u001b[0m\n\u001b[0;32m--> 224\u001b[0;31m                 \u001b[0mchunks\u001b[0m \u001b[0;34m=\u001b[0m \u001b[0mself\u001b[0m\u001b[0;34m.\u001b[0m\u001b[0m_reader\u001b[0m\u001b[0;34m.\u001b[0m\u001b[0mread_low_memory\u001b[0m\u001b[0;34m(\u001b[0m\u001b[0mnrows\u001b[0m\u001b[0;34m)\u001b[0m\u001b[0;34m\u001b[0m\u001b[0;34m\u001b[0m\u001b[0m\n\u001b[0m\u001b[1;32m    225\u001b[0m                 \u001b[0;31m# destructive to chunks\u001b[0m\u001b[0;34m\u001b[0m\u001b[0;34m\u001b[0m\u001b[0;34m\u001b[0m\u001b[0m\n\u001b[1;32m    226\u001b[0m                 \u001b[0mdata\u001b[0m \u001b[0;34m=\u001b[0m \u001b[0m_concatenate_chunks\u001b[0m\u001b[0;34m(\u001b[0m\u001b[0mchunks\u001b[0m\u001b[0;34m)\u001b[0m\u001b[0;34m\u001b[0m\u001b[0;34m\u001b[0m\u001b[0m\n",
      "\u001b[0;32m/media/salathiel/HD/mconda/envs/rl/lib/python3.7/site-packages/pandas/_libs/parsers.pyx\u001b[0m in \u001b[0;36mpandas._libs.parsers.TextReader.read_low_memory\u001b[0;34m()\u001b[0m\n",
      "\u001b[0;32m/media/salathiel/HD/mconda/envs/rl/lib/python3.7/site-packages/pandas/_libs/parsers.pyx\u001b[0m in \u001b[0;36mpandas._libs.parsers.TextReader._read_rows\u001b[0;34m()\u001b[0m\n",
      "\u001b[0;32m/media/salathiel/HD/mconda/envs/rl/lib/python3.7/site-packages/pandas/_libs/parsers.pyx\u001b[0m in \u001b[0;36mpandas._libs.parsers.TextReader._convert_column_data\u001b[0;34m()\u001b[0m\n",
      "\u001b[0;32m/media/salathiel/HD/mconda/envs/rl/lib/python3.7/site-packages/pandas/core/dtypes/common.py\u001b[0m in \u001b[0;36mis_extension_array_dtype\u001b[0;34m(arr_or_dtype)\u001b[0m\n\u001b[1;32m   1418\u001b[0m \u001b[0;34m\u001b[0m\u001b[0m\n\u001b[1;32m   1419\u001b[0m \u001b[0;34m\u001b[0m\u001b[0m\n\u001b[0;32m-> 1420\u001b[0;31m \u001b[0;32mdef\u001b[0m \u001b[0mis_extension_array_dtype\u001b[0m\u001b[0;34m(\u001b[0m\u001b[0marr_or_dtype\u001b[0m\u001b[0;34m)\u001b[0m \u001b[0;34m->\u001b[0m \u001b[0mbool\u001b[0m\u001b[0;34m:\u001b[0m\u001b[0;34m\u001b[0m\u001b[0;34m\u001b[0m\u001b[0m\n\u001b[0m\u001b[1;32m   1421\u001b[0m     \"\"\"\n\u001b[1;32m   1422\u001b[0m     \u001b[0mCheck\u001b[0m \u001b[0;32mif\u001b[0m \u001b[0man\u001b[0m \u001b[0mobject\u001b[0m \u001b[0;32mis\u001b[0m \u001b[0ma\u001b[0m \u001b[0mpandas\u001b[0m \u001b[0mextension\u001b[0m \u001b[0marray\u001b[0m \u001b[0mtype\u001b[0m\u001b[0;34m.\u001b[0m\u001b[0;34m\u001b[0m\u001b[0;34m\u001b[0m\u001b[0m\n",
      "\u001b[0;31mKeyboardInterrupt\u001b[0m: "
     ]
    }
   ],
   "source": [
    "import pandas as pd\n",
    "\n",
    "ck_cpk_id = 225634\n",
    "chunksize = 10 ** 7  #quantidade de linhas a serem lidas de uma vez\n",
    "\n",
    "df_final = None\n",
    "with pd.read_csv(path_chartevents, chunksize=chunksize) as reader:\n",
    "    for chunk in reader:\n",
    "        chunk = chunk.loc[chunk['itemid'] == ck_cpk_id]\n",
    "        if len(chunk) > 0:\n",
    "            if df_final is None:\n",
    "                df_final = chunk\n",
    "            else:\n",
    "                df_final = pd.concat([df_final,chunk])\n",
    "\n",
    "print(\"Saving processed table in:\", outfilename)\n",
    "df_final.to_csv(outfilename)"
   ]
  },
  {
   "cell_type": "code",
   "execution_count": null,
   "id": "7eb3922c",
   "metadata": {
    "id": "7eb3922c"
   },
   "outputs": [],
   "source": [
    "#visualizando a tabela gerada\n",
    "df = pd.read_csv(outfilename)\n",
    "print(df.head())\n",
    "print(\"LEN:\", len(df))"
   ]
  },
  {
   "cell_type": "markdown",
   "id": "0469da87",
   "metadata": {
    "id": "0469da87"
   },
   "source": [
    "#### Informaçoes dos pacientes que fizeram exames de CK (CPK)\n",
    "\n",
    "A tabela gerada (`ck_events.csv`) possui o identificador do paciente que realizou o exame na coluna `subject_id`. Utilizando essa informação podemos pegar as informações desses pacientes. As informações dos pacientes do MIMIC-IV estão disponíveis na tabela `omr.csv`, que possui informações sobre peso, altura, IMC e pressão arterial.\n",
    "O código abaixo obtêm as informações de todos os pacientes que fizeram algum exame CK (CPK), e salva na tabela `pacients_with_ck.csv`"
   ]
  },
  {
   "cell_type": "code",
   "execution_count": null,
   "id": "75fecaf5",
   "metadata": {
    "id": "75fecaf5"
   },
   "outputs": [],
   "source": [
    "glucose_events_path = \"../data/interim/glucose_events.csv\"\n",
    "output_pacients_with_ck = \"../data/interim/pacients_with_ck.csv\""
   ]
  },
  {
   "cell_type": "code",
   "execution_count": null,
   "id": "9f62a5c6",
   "metadata": {
    "id": "9f62a5c6"
   },
   "outputs": [],
   "source": [
    "df_g = pd.read_csv(glucose_events_path)\n",
    "all_pacients = df_g['subject_id']\n",
    "\n",
    "df_pacients = pd.read_csv(pacient_info_path)\n",
    "df_pacients_with_ck = df_pacients[df_pacients['subject_id'].isin(all_pacients)]\n",
    "\n",
    "print(\"Saving processed table in:\", output_pacients_with_ck)\n",
    "df_pacients_with_ck.to_csv(output_pacients_with_ck)"
   ]
  },
  {
   "cell_type": "code",
   "execution_count": null,
   "id": "9026fd15",
   "metadata": {
    "id": "9026fd15"
   },
   "outputs": [],
   "source": [
    "#visualizando a tabela gerada\n",
    "df = pd.read_csv(output_pacients_with_ck)\n",
    "print(df.head())\n",
    "print(\"LEN:\", len(df))"
   ]
  },
  {
   "cell_type": "markdown",
   "id": "1d14d007",
   "metadata": {
    "id": "1d14d007"
   },
   "source": [
    "#### Informações sobre aplicações de insulina em pacientes com CK (CPK)\n",
    "Além das informações obtidas no processamento acima, também estamos interessados em verificar se esses pacientes receberam doses de insulina.\n",
    "A tabela `inputevents.csv` possui informações sobre todos os eventos de entradas de fluido (incluindo insulina). Observando novamente a tabela `d_items.csv`, a insulina aparece com `itemid` com os números: 223257, 223258, 223259, 223260, 223261, 223262, 229299, 229619. Esses números se referem as insulinas descritas como:  Insulin - 70/30, Insulin - Regular, Insulin - NPH, Insulin - Glargine, Insulin - Humalog 75/25, Insulin - Humalog,Insulin - Novolog, Insulin - U500\n",
    "\n",
    "A partir dessa tabela é gerada uma nova tabela com o nome de `insulin_inputs_in_ck_pacients.csv` com todos os eventos de aplicação de insulina em pacientes que fizeram algum exame de CK (CPK).\n",
    "\n",
    "Novamente essa tabela (`inputevents.csv`) é muito grande (2,3GB) assim também foi processada em pedaços (chunks)."
   ]
  },
  {
   "cell_type": "code",
   "execution_count": null,
   "id": "773e109a",
   "metadata": {
    "id": "773e109a"
   },
   "outputs": [],
   "source": [
    "input_events_path = \"../data/external/inputevents.csv\"\n",
    "insulin_inputs_output = \"../data/interim/insulin_inputs_in_ck_pacients.csv\"\n",
    "insulin_idxs = [223257, 223258, 223259, 223260, 223261, 223262, 229299, 229619]"
   ]
  },
  {
   "cell_type": "code",
   "execution_count": null,
   "id": "2d91ab64",
   "metadata": {
    "id": "2d91ab64"
   },
   "outputs": [],
   "source": [
    "chunksize = 10 ** 6\n",
    "\n",
    "df_ck = pd.read_csv(ck_events_path)\n",
    "all_pacients = df_ck['subject_id']\n",
    "\n",
    "df_final = None\n",
    "with pd.read_csv(input_events_path, chunksize=chunksize) as reader:\n",
    "    for chunk in reader:\n",
    "        df_pacients_with_ck = chunk[chunk['subject_id'].isin(all_pacients)]\n",
    "        df_insulin_inputs = df_pacients_with_ck[df_pacients_with_ck['itemid'].isin(insulin_idxs)]\n",
    "        if len(chunk) > 0:\n",
    "            if df_final is None:\n",
    "                df_final = df_insulin_inputs\n",
    "            else:\n",
    "                df_final = pd.concat([df_final,df_insulin_inputs])\n",
    "\n",
    "\n",
    "print(\"Saving processed table in:\", insulin_inputs_output)\n",
    "df_final.to_csv(insulin_inputs_output)"
   ]
  },
  {
   "cell_type": "code",
   "execution_count": null,
   "id": "7b561861",
   "metadata": {
    "id": "7b561861"
   },
   "outputs": [],
   "source": [
    "#visualizando a tabela gerada\n",
    "df = pd.read_csv(insulin_inputs_output)\n",
    "print(df.head())\n",
    "print(\"LEN:\", len(df))"
   ]
  },
  {
   "cell_type": "markdown",
   "id": "v87SmXbkN7Qh",
   "metadata": {
    "id": "v87SmXbkN7Qh"
   },
   "source": [
    "### Obtenção de dados de glicose\n",
    "\n",
    "Filtramos novamente a tabela `chartevents.csv` identificando pela coluna `itemid`. Observando a tabela `d_items.csv`, a glicose aparece de diversas formas. Foram selecionados somente IDs que aparecem na tabela `chartevents.cs` e, dentre esses, somente os IDs 220621, 225664, 226537, 228388 que se referem a: Glucose (serum), Glucose finger stick (range 70-100), Glucose (whole blood), Glucose (whole blood) (soft). Não foram selecionados os IDS referentes ao sistema de escore Apache IV pois ele não é o foco do estudo. Também foi omitido o ID da categoria Glucose Control - Prophy por ser um parâmetro textual relacionado à profilaxia. Assim, filtramos apenas medições de glicose, salvando o resultado na tabela `glucose_events.csv`. Novamente, processamos `chartevents.csv` em chunks."
   ]
  },
  {
   "cell_type": "code",
   "execution_count": 1,
   "id": "Q_fU-dFxN7r2",
   "metadata": {
    "id": "Q_fU-dFxN7r2"
   },
   "outputs": [
    {
     "name": "stdout",
     "output_type": "stream",
     "text": [
      "Saving processed table in: ../data/interim/glucose_events.csv\n"
     ]
    }
   ],
   "source": [
    "import pandas as pd\n",
    "path_chartevents = \"/media/salathiel/HD/mimic/chartevents.csv\"\n",
    "outfilename = \"../data/interim/glucose_events.csv\"\n",
    "glucose_idxs = [220621, 225664, 226537, 228388]\n",
    "chunksize = 10 ** 7  #quantidade de linhas a serem lidas de uma vez\n",
    "\n",
    "df_final = None\n",
    "with pd.read_csv(path_chartevents, chunksize=chunksize) as reader:\n",
    "    for chunk in reader:\n",
    "        chunk = chunk.loc[chunk['itemid'].isin(glucose_idxs)]\n",
    "        if len(chunk) > 0:\n",
    "            if df_final is None:\n",
    "                df_final = chunk\n",
    "            else:\n",
    "                df_final = pd.concat([df_final,chunk])\n",
    "\n",
    "\n",
    "print(\"Saving processed table in:\", outfilename)\n",
    "df_final.to_csv(outfilename)"
   ]
  },
  {
   "cell_type": "code",
   "execution_count": null,
   "id": "7uSUDhuBWPb9",
   "metadata": {
    "id": "7uSUDhuBWPb9"
   },
   "outputs": [],
   "source": [
    "#visualizando a tabela gerada\n",
    "df = pd.read_csv(outfilename)\n",
    "print(df.head())\n",
    "print(\"LEN:\", len(df))"
   ]
  },
  {
   "cell_type": "markdown",
   "id": "ucPPRxWLWmg6",
   "metadata": {
    "id": "ucPPRxWLWmg6"
   },
   "source": [
    "#### Informaçoes dos pacientes que fizeram exames de glicose\n",
    "\n",
    "A tabela gerada (`glucose_events.csv`) possui o identificador do paciente que realizou o exame na coluna `subject_id`. Utilizando essa informação podemos pegar as informações desses pacientes. As informações dos pacientes do MIMIC-IV estão disponíveis na tabela `omr.csv`, que possui informações sobre peso, altura, IMC e pressão arterial.\n",
    "\n",
    "O código abaixo obtêm as informações de todos os pacientes que fizeram algum exame de glicose, e salva na tabela `patients_with_glucose.csv`"
   ]
  },
  {
   "cell_type": "code",
   "execution_count": 2,
   "id": "wYfWasvVX-WC",
   "metadata": {
    "id": "wYfWasvVX-WC"
   },
   "outputs": [],
   "source": [
    "patient_info_path = \"/media/salathiel/HD/mimic/omr.csv\"\n",
    "glucose_events_path = \"../data/interim/glucose_events.csv\"\n",
    "output_patients_with_glucose = \"../data/interim/pacients_with_glucose.csv\""
   ]
  },
  {
   "cell_type": "code",
   "execution_count": 3,
   "id": "A7txb2xyWm5G",
   "metadata": {
    "id": "A7txb2xyWm5G"
   },
   "outputs": [
    {
     "name": "stdout",
     "output_type": "stream",
     "text": [
      "Saving processed table in: ../data/interim/pacients_with_glucose.csv\n"
     ]
    }
   ],
   "source": [
    "df_glucose = pd.read_csv(glucose_events_path)\n",
    "all_patients = df_glucose['subject_id']\n",
    "\n",
    "df_patients = pd.read_csv(patient_info_path)\n",
    "df_patients_with_glucose = df_patients[df_patients['subject_id'].isin(all_patients)]\n",
    "\n",
    "print(\"Saving processed table in:\", output_patients_with_glucose)\n",
    "df_patients_with_glucose.to_csv(output_patients_with_glucose)"
   ]
  },
  {
   "cell_type": "code",
   "execution_count": null,
   "id": "pgC7ZtkMX9dz",
   "metadata": {
    "id": "pgC7ZtkMX9dz"
   },
   "outputs": [],
   "source": [
    "#visualizando a tabela gerada\n",
    "df = pd.read_csv(output_patients_with_glucose)\n",
    "print(df.head())\n",
    "print(\"LEN:\", len(df))"
   ]
  },
  {
   "cell_type": "markdown",
   "id": "VWi4hnxANxs9",
   "metadata": {
    "id": "VWi4hnxANxs9"
   },
   "source": [
    "#### Informações sobre aplicações de insulina em pacientes com glicose\n",
    "\n",
    "Vamos novamente analisar pacientes que receberam aplicação de insulina, mas agora considerando pacientes que fizeram exame de glicose ao invés de CK (CPK).\n",
    "Para tanto, vamos usar os mesmos IDs analisados anteriormente.\n",
    "\n",
    "A partir dessa tabela é gerada uma nova tabela com o nome de `insulin_inputs_in_glucose_patients.csv` com todos os eventos de aplicação de insulina em pacientes que fizeram algum exame de glicose selecionado anteriormente.\n",
    "\n",
    "Novamente essa tabela (`inputevents.csv`) é muito grande (2,3GB) assim também foi processada em pedaços (chunks)."
   ]
  },
  {
   "cell_type": "code",
   "execution_count": 4,
   "id": "Is07ql_JYvXF",
   "metadata": {
    "id": "Is07ql_JYvXF"
   },
   "outputs": [],
   "source": [
    "input_events_path = \"/media/salathiel/HD/mimic/inputevents.csv\"\n",
    "insulin_inputs_output = \"../data/interim/insulin_inputs_in_glucose_pacients.csv\"\n",
    "\n",
    "insulin_idxs = [223257, 223258, 223259, 223260, 223261, 223262, 229299, 229619]"
   ]
  },
  {
   "cell_type": "code",
   "execution_count": 5,
   "id": "rw-nvO_wNx6c",
   "metadata": {
    "id": "rw-nvO_wNx6c"
   },
   "outputs": [
    {
     "name": "stdout",
     "output_type": "stream",
     "text": [
      "Saving processed table in: ../data/interim/insulin_inputs_in_glucose_pacients.csv\n"
     ]
    }
   ],
   "source": [
    "chunksize = 10 ** 6\n",
    "\n",
    "df_glucose = pd.read_csv(glucose_events_path)\n",
    "all_patients = df_glucose['subject_id']\n",
    "\n",
    "df_final = None\n",
    "with pd.read_csv(input_events_path, chunksize=chunksize) as reader:\n",
    "    for chunk in reader:\n",
    "        df_patients_with_glucose = chunk[chunk['subject_id'].isin(all_patients)]\n",
    "        df_insulin_inputs = df_patients_with_glucose[df_patients_with_glucose['itemid'].isin(insulin_idxs)]\n",
    "        if len(chunk) > 0:\n",
    "            if df_final is None:\n",
    "                df_final = df_insulin_inputs\n",
    "            else:\n",
    "                df_final = pd.concat([df_final,df_insulin_inputs])\n",
    "\n",
    "\n",
    "print(\"Saving processed table in:\", insulin_inputs_output)\n",
    "df_final.to_csv(insulin_inputs_output)"
   ]
  },
  {
   "cell_type": "code",
   "execution_count": null,
   "id": "Kpv3f4iQWXRi",
   "metadata": {
    "id": "Kpv3f4iQWXRi"
   },
   "outputs": [],
   "source": [
    "#visualizando a tabela gerada\n",
    "df = pd.read_csv(insulin_inputs_output)\n",
    "print(df.head())\n",
    "print(\"LEN:\", len(df))"
   ]
  }
 ],
 "metadata": {
  "colab": {
   "provenance": []
  },
  "kernelspec": {
   "display_name": "Python 3 (ipykernel)",
   "language": "python",
   "name": "python3"
  },
  "language_info": {
   "codemirror_mode": {
    "name": "ipython",
    "version": 3
   },
   "file_extension": ".py",
   "mimetype": "text/x-python",
   "name": "python",
   "nbconvert_exporter": "python",
   "pygments_lexer": "ipython3",
   "version": "3.7.13"
  }
 },
 "nbformat": 4,
 "nbformat_minor": 5
}
