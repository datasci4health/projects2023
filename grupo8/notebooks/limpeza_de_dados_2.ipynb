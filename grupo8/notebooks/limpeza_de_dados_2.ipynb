{
 "cells": [
  {
   "cell_type": "markdown",
   "metadata": {
    "id": "a8MbQYi0y5bC"
   },
   "source": [
    "### Limpeza de dados\n",
    "O objetivo desse notebook é realizar uma limpeza de dados na tabela de informações dos pacientes que realizaram algum exame de glicose (`patients_with_glucose.csv`)"
   ]
  },
  {
   "cell_type": "code",
   "execution_count": 1,
   "metadata": {},
   "outputs": [],
   "source": [
    "import pandas as pd"
   ]
  },
  {
   "cell_type": "markdown",
   "metadata": {
    "id": "pNs-niRvyvLO"
   },
   "source": [
    "#### Limpeza da tabela patients_with_glucose.csv\n",
    "Os passos para limpeza dessa tabela são:\n",
    "1. Filtragem dos dados para incluir somente os resultados relativos ao BMI (IMC) em kg/m^2 (dados de BMI sem unidade indicada foram desconsiderados)\n",
    "2. Verificação dos valores de BMI extremamente elevados e calculando quanto da população total eles representam\n",
    "3. Exportação tabela filtrada considerando apenas resultados de BMI < 100\n",
    "\n",
    "Ao final do processamento uma nova tabela `bmi_glucose.csv` é criada"
   ]
  },
  {
   "cell_type": "code",
   "execution_count": 2,
   "metadata": {
    "colab": {
     "base_uri": "https://localhost:8080/",
     "height": 408
    },
    "id": "QhLSbRxqy1_o",
    "outputId": "2582d011-b034-4e3c-e60d-49213aaeeb42"
   },
   "outputs": [
    {
     "name": "stderr",
     "output_type": "stream",
     "text": [
      "<ipython-input-2-b221ce4bfcae>:4: SettingWithCopyWarning: \n",
      "A value is trying to be set on a copy of a slice from a DataFrame.\n",
      "Try using .loc[row_indexer,col_indexer] = value instead\n",
      "\n",
      "See the caveats in the documentation: https://pandas.pydata.org/pandas-docs/stable/user_guide/indexing.html#returning-a-view-versus-a-copy\n",
      "  bmi['result_value'] = bmi['result_value'].astype(float)\n"
     ]
    },
    {
     "name": "stdout",
     "output_type": "stream",
     "text": [
      "Porcentagem de medições com BMI acima de 100 kg/m2: 0.03%\n"
     ]
    }
   ],
   "source": [
    "df = pd.read_csv('../data/interim/patients_with_glucose.csv')\n",
    "\n",
    "bmi = df[df['result_name'] == 'BMI (kg/m2)']\n",
    "bmi['result_value'] = bmi['result_value'].astype(float)\n",
    "\n",
    "bmi_norm = bmi[bmi['result_value'] < 100]\n",
    "bmi_abs = bmi[bmi['result_value'] >= 100]\n",
    "abs_percent = 100*(len(bmi_abs)/len(bmi))\n",
    "print(f\"Porcentagem de medições com BMI acima de 100 kg/m2: {abs_percent:.2f}%\")\n",
    "\n",
    "bmi_norm.to_csv('../data/processed/bmi_glucose.csv', index=False)"
   ]
  },
  {
   "cell_type": "code",
   "execution_count": 3,
   "metadata": {},
   "outputs": [
    {
     "name": "stdout",
     "output_type": "stream",
     "text": [
      "   Unnamed: 0  subject_id   chartdate  seq_num  result_name  result_value\n",
      "0           2    10000032  2180-05-07        1  BMI (kg/m2)          18.0\n",
      "1          22    10000032  2180-05-25        1  BMI (kg/m2)          18.6\n",
      "2          25    10000032  2180-06-01        1  BMI (kg/m2)          18.7\n",
      "3          28    10000032  2180-06-22        1  BMI (kg/m2)          18.9\n",
      "4          31    10000032  2180-06-27        1  BMI (kg/m2)          19.2\n",
      "LEN: 458890\n"
     ]
    }
   ],
   "source": [
    "#visualizando a tabela gerada\n",
    "df = pd.read_csv('../data/processed/bmi_glucose.csv')\n",
    "print(df.head())\n",
    "print(\"LEN:\", len(df))"
   ]
  }
 ],
 "metadata": {
  "colab": {
   "provenance": []
  },
  "kernelspec": {
   "display_name": "Python 3 (ipykernel)",
   "language": "python",
   "name": "python3"
  },
  "language_info": {
   "codemirror_mode": {
    "name": "ipython",
    "version": 3
   },
   "file_extension": ".py",
   "mimetype": "text/x-python",
   "name": "python",
   "nbconvert_exporter": "python",
   "pygments_lexer": "ipython3",
   "version": "3.7.13"
  }
 },
 "nbformat": 4,
 "nbformat_minor": 1
}
