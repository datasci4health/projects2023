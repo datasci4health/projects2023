{
 "cells": [
  {
   "cell_type": "markdown",
   "id": "7beb8616",
   "metadata": {},
   "source": [
    "### Processamento inicial da base de dados MIMIC-IV\n",
    "\n",
    "O objetivo desse notebook é realizar um processamento das tabelas originais do MIMIC-IV com objetivo de gerar tabelas intermediarias contendo apenas os dados utilizados na análise exploratória\n",
    "\n",
    "Inicialmente filtramos a tabela `chartevents.csv` que possui diversas informações sobre eventos do hospital inclusive sobre o exame de CK (CPK), identificado pela coluna `itemid` igual a `225634` (pode ser verificado utilizando a tabela `d_items.csv`). Assim, filtramos apenas esses exames. O resultado é salvo na tabela `ck_events.csv`\n",
    "\n",
    "Como a tabela `chartevents.csv` é muito grande (30gb) ela foi processada em pedaços (chunks)."
   ]
  },
  {
   "cell_type": "code",
   "execution_count": null,
   "id": "e840ae0e",
   "metadata": {},
   "outputs": [],
   "source": []
  },
  {
   "cell_type": "code",
   "execution_count": 1,
   "id": "713b5d9e",
   "metadata": {},
   "outputs": [],
   "source": [
    "path_chartevents = \"../data/external/chartevents.csv\"\n",
    "outfilename = \"../data/interim/ck_events.csv\""
   ]
  },
  {
   "cell_type": "code",
   "execution_count": 2,
   "id": "f48df7e4",
   "metadata": {},
   "outputs": [
    {
     "name": "stdout",
     "output_type": "stream",
     "text": [
      "Saving processed table in: ../data/interim/ck_events.csv\n"
     ]
    }
   ],
   "source": [
    "import pandas as pd\n",
    "\n",
    "ck_cpk_id = 225634\n",
    "chunksize = 10 ** 7  #quantidade de linhas a serem lidas de uma vez\n",
    "\n",
    "df_final = None\n",
    "with pd.read_csv(path_chartevents, chunksize=chunksize) as reader:\n",
    "    for chunk in reader:\n",
    "        chunk = chunk.loc[chunk['itemid'] == ck_cpk_id]\n",
    "        if len(chunk) > 0:\n",
    "            if df_final is None:\n",
    "                df_final = chunk\n",
    "            else:\n",
    "                df_final = pd.concat([df_final,chunk])\n",
    "                \n",
    "print(\"Saving processed table in:\", outfilename)\n",
    "df_final.to_csv(outfilename)"
   ]
  },
  {
   "cell_type": "code",
   "execution_count": 3,
   "id": "7eb3922c",
   "metadata": {},
   "outputs": [
    {
     "name": "stdout",
     "output_type": "stream",
     "text": [
      "   Unnamed: 0  Unnamed: 0.1  subject_id   hadm_id   stay_id  caregiver_id  \\\n",
      "0           0           932    10000980  26913865  39765666           NaN   \n",
      "1           1         18918    10001884  26184834  37510196           NaN   \n",
      "2           2         19039    10001884  26184834  37510196           NaN   \n",
      "3           3         22053    10002155  20345487  32358465           NaN   \n",
      "4           4         27263    10002155  23822395  33685454           NaN   \n",
      "\n",
      "             charttime            storetime  itemid  value  valuenum valueuom  \\\n",
      "0  2189-06-27 12:58:00  2189-06-27 14:18:00  225634    263     263.0     IU/L   \n",
      "1  2131-01-14 03:08:00  2131-01-14 09:18:00  225634    786     786.0     IU/L   \n",
      "2  2131-01-16 04:02:00  2131-01-16 05:06:00  225634    361     361.0     IU/L   \n",
      "3  2131-03-10 02:04:00  2131-03-10 03:17:00  225634     99      99.0     IU/L   \n",
      "4  2129-08-04 17:56:00  2129-08-04 18:51:00  225634    589     589.0     IU/L   \n",
      "\n",
      "   warning  \n",
      "0      1.0  \n",
      "1      1.0  \n",
      "2      1.0  \n",
      "3      0.0  \n",
      "4      1.0  \n",
      "LEN: 48585\n"
     ]
    }
   ],
   "source": [
    "#visualizando a tabela gerada\n",
    "df = pd.read_csv(outfilename)\n",
    "print(df.head())\n",
    "print(\"LEN:\", len(df))"
   ]
  },
  {
   "cell_type": "markdown",
   "id": "0469da87",
   "metadata": {},
   "source": [
    "#### Informaçoes dos pacientes que fizeram exames de CK (CPK)\n",
    "\n",
    "A tabela gerada (`ck_events.csv`) possui o identificador do paciente que realizou o exame na coluna `subject_id`. Utilizando essa informação podemos pegar as informações desses pacientes. As informações dos pacientes do MIMIC-IV estão disponíveis na tabela `omr.csv`, que possui informações sobre peso, altura, IMC e pressão arterial. \n",
    "O código abaixo obtêm as informações de todos os pacientes que fizeram algum exame CK (CPK), e salva na tabela `pacients_with_ck.csv`"
   ]
  },
  {
   "cell_type": "code",
   "execution_count": 4,
   "id": "75fecaf5",
   "metadata": {},
   "outputs": [],
   "source": [
    "pacient_info_path = \"../data/external/omr.csv\"\n",
    "ck_events_path = \"../data/interim/ck_events.csv\"\n",
    "output_pacients_with_ck = \"../data/interim/pacients_with_ck.csv\""
   ]
  },
  {
   "cell_type": "code",
   "execution_count": 5,
   "id": "9f62a5c6",
   "metadata": {},
   "outputs": [
    {
     "name": "stdout",
     "output_type": "stream",
     "text": [
      "Saving processed table in: ../data/interim/pacients_with_ck.csv\n"
     ]
    }
   ],
   "source": [
    "df_ck = pd.read_csv(ck_events_path)\n",
    "all_pacients = df_ck['subject_id']\n",
    "\n",
    "df_pacients = pd.read_csv(pacient_info_path)\n",
    "df_pacients_with_ck = df_pacients[df_pacients['subject_id'].isin(all_pacients)]\n",
    "\n",
    "print(\"Saving processed table in:\", output_pacients_with_ck)\n",
    "df_pacients_with_ck.to_csv(output_pacients_with_ck)"
   ]
  },
  {
   "cell_type": "code",
   "execution_count": 6,
   "id": "9026fd15",
   "metadata": {},
   "outputs": [
    {
     "name": "stdout",
     "output_type": "stream",
     "text": [
      "   Unnamed: 0  Unnamed: 0.1  subject_id   chartdate  seq_num     result_name  \\\n",
      "0           0           328    10000980  2185-06-17        1  Blood Pressure   \n",
      "1           1           329    10000980  2185-06-17        1     BMI (kg/m2)   \n",
      "2           2           330    10000980  2185-06-17        1    Weight (Lbs)   \n",
      "3           3           331    10000980  2185-09-17        1     BMI (kg/m2)   \n",
      "4           4           332    10000980  2185-09-17        1    Weight (Lbs)   \n",
      "\n",
      "  result_value  \n",
      "0       150/90  \n",
      "1         33.6  \n",
      "2          172  \n",
      "3         34.0  \n",
      "4          174  \n",
      "LEN: 653586\n"
     ]
    }
   ],
   "source": [
    "#visualizando a tabela gerada\n",
    "df = pd.read_csv(output_pacients_with_ck)\n",
    "print(df.head())\n",
    "print(\"LEN:\", len(df))"
   ]
  },
  {
   "cell_type": "markdown",
   "id": "1d14d007",
   "metadata": {},
   "source": [
    "#### Informações sobre aplicações de insulina\n",
    "Além das informações obtidas no processamento acima, também estamos interessados em verificar se esses pacientes receberam doses de insulina.\n",
    "A tabela `inputevents.csv` possui informações sobre todos os eventos de entradas de fluido (incluindo insulina). Observando novamente a tabela `d_items.csv`, a insulina aparece com `itemid` com os números: 223257, 223258, 223259, 223260, 223261, 223262, 229299, 229619. Esses números se referem as insulinas descritas como:  Insulin - 70/30, Insulin - Regular, Insulin - NPH, Insulin - Glargine, Insulin - Humalog 75/25, Insulin - Humalog,Insulin - Novolog, Insulin - U500\n",
    "\n",
    "A parti dessa tabela é gerada uma nova tabela com o nome de `insulin_inputs_in_ck_pacients.csv` com todos os eventos de aplicação de insulina em pacientes que fizeram algum exame de CK (CPK).\n",
    "\n",
    "Novamente essa tabela (`inputevents.csv`) é muito grande (2,3GB) assim também foi processada em pedaços (chunks)."
   ]
  },
  {
   "cell_type": "code",
   "execution_count": 7,
   "id": "773e109a",
   "metadata": {},
   "outputs": [],
   "source": [
    "input_events_path = \"../data/external/inputevents.csv\"\n",
    "insulin_inputs_output = \"../data/interim/insulin_inputs_in_ck_pacients.csv\"\n",
    "insulin_idxs = [223257, 223258, 223259, 223260, 223261, 223262, 229299, 229619]"
   ]
  },
  {
   "cell_type": "code",
   "execution_count": 8,
   "id": "2d91ab64",
   "metadata": {},
   "outputs": [
    {
     "name": "stdout",
     "output_type": "stream",
     "text": [
      "Saving processed table in: ../data/interim/insulin_inputs_in_ck_pacients.csv\n"
     ]
    }
   ],
   "source": [
    "chunksize = 10 ** 6\n",
    "\n",
    "df_ck = pd.read_csv(ck_events_path)\n",
    "all_pacients = df_ck['subject_id']\n",
    "\n",
    "df_final = None\n",
    "with pd.read_csv(input_events_path, chunksize=chunksize) as reader:\n",
    "    for chunk in reader:\n",
    "        df_pacients_with_ck = chunk[chunk['subject_id'].isin(all_pacients)]\n",
    "        df_insulin_inputs = df_pacients_with_ck[df_pacients_with_ck['itemid'].isin(insulin_idxs)]\n",
    "        if len(chunk) > 0:\n",
    "            if df_final is None:\n",
    "                df_final = df_insulin_inputs\n",
    "            else:\n",
    "                df_final = pd.concat([df_final,df_insulin_inputs])\n",
    "\n",
    "\n",
    "print(\"Saving processed table in:\", insulin_inputs_output)\n",
    "df_final.to_csv(insulin_inputs_output)"
   ]
  },
  {
   "cell_type": "code",
   "execution_count": 9,
   "id": "7b561861",
   "metadata": {},
   "outputs": [
    {
     "name": "stdout",
     "output_type": "stream",
     "text": [
      "   Unnamed: 0  Unnamed: 0.1  subject_id   hadm_id   stay_id  caregiver_id  \\\n",
      "0           0           772    10002428  23473524  35479615         41151   \n",
      "1           1           780    10002428  23473524  35479615         41151   \n",
      "2           2           859    10002428  23473524  35479615         74793   \n",
      "3           3           993    10002428  23473524  35479615         98628   \n",
      "4           4          2842    10004235  24181354  34100191         24745   \n",
      "\n",
      "             starttime              endtime            storetime  itemid  ...  \\\n",
      "0  2156-05-19 22:41:00  2156-05-19 22:42:00  2156-05-19 22:42:00  223262  ...   \n",
      "1  2156-05-20 04:00:00  2156-05-20 04:01:00  2156-05-20 06:05:00  223262  ...   \n",
      "2  2156-05-13 09:43:00  2156-05-13 09:44:00  2156-05-13 09:43:00  223258  ...   \n",
      "3  2156-05-13 16:00:00  2156-05-13 16:01:00  2156-05-13 17:16:00  223258  ...   \n",
      "4  2196-02-25 00:54:00  2196-02-25 04:12:00  2196-02-25 00:54:00  223258  ...   \n",
      "\n",
      "   ordercomponenttypedescription ordercategorydescription  patientweight  \\\n",
      "0           Main order parameter                Drug Push           48.4   \n",
      "1           Main order parameter                Drug Push           48.4   \n",
      "2           Main order parameter                Drug Push           48.4   \n",
      "3           Main order parameter                Drug Push           48.4   \n",
      "4           Main order parameter           Continuous Med          127.0   \n",
      "\n",
      "  totalamount  totalamountuom  isopenbag continueinnextdept statusdescription  \\\n",
      "0         NaN             NaN          0                  0   FinishedRunning   \n",
      "1         NaN             NaN          0                  0   FinishedRunning   \n",
      "2         NaN             NaN          0                  0   FinishedRunning   \n",
      "3         NaN             NaN          0                  0   FinishedRunning   \n",
      "4       100.0              ml          0                  0   ChangeDose/Rate   \n",
      "\n",
      "  originalamount originalrate  \n",
      "0           0.00          0.0  \n",
      "1           0.00          0.0  \n",
      "2           2.00          2.0  \n",
      "3           0.00          0.0  \n",
      "4          96.25          4.0  \n",
      "\n",
      "[5 rows x 28 columns]\n",
      "LEN: 218275\n"
     ]
    }
   ],
   "source": [
    "#visualizando a tabela gerada\n",
    "df = pd.read_csv(insulin_inputs_output)\n",
    "print(df.head())\n",
    "print(\"LEN:\", len(df))"
   ]
  }
 ],
 "metadata": {
  "kernelspec": {
   "display_name": "Python 3 (ipykernel)",
   "language": "python",
   "name": "python3"
  },
  "language_info": {
   "codemirror_mode": {
    "name": "ipython",
    "version": 3
   },
   "file_extension": ".py",
   "mimetype": "text/x-python",
   "name": "python",
   "nbconvert_exporter": "python",
   "pygments_lexer": "ipython3",
   "version": "3.7.13"
  }
 },
 "nbformat": 4,
 "nbformat_minor": 5
}
