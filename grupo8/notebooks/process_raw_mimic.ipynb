{
 "cells": [
  {
   "cell_type": "markdown",
   "id": "7beb8616",
   "metadata": {
    "id": "7beb8616"
   },
   "source": [
    "## Processamento inicial da base de dados MIMIC-IV\n",
    "\n",
    "O objetivo desse notebook é realizar um processamento das tabelas originais do MIMIC-IV com objetivo de gerar tabelas intermediarias contendo apenas os dados utilizados na análise exploratória"
   ]
  },
  {
   "cell_type": "markdown",
   "id": "MKjnebCFZ_j5",
   "metadata": {
    "id": "MKjnebCFZ_j5"
   },
   "source": [
    "### Obtenção de dados de CK (CPK)\n",
    "\n",
    "Inicialmente filtramos a tabela `chartevents.csv` que possui diversas informações sobre eventos do hospital inclusive sobre o exame de CK (CPK), identificado pela coluna `itemid` igual a `225634` (pode ser verificado utilizando a tabela `d_items.csv`). Assim, filtramos apenas esses exames. O resultado é salvo na tabela `ck_events.csv`\n",
    "\n",
    "Como a tabela `chartevents.csv` é muito grande (30gb) ela foi processada em pedaços (chunks).\n"
   ]
  },
  {
   "cell_type": "code",
   "execution_count": 4,
   "id": "713b5d9e",
   "metadata": {
    "id": "713b5d9e"
   },
   "outputs": [],
   "source": [
    "path_chartevents = \"../data/external/chartevents.csv\"\n",
    "outfilename = \"../data/interim/ck_events.csv\""
   ]
  },
  {
   "cell_type": "code",
   "execution_count": 5,
   "id": "8b8347bd",
   "metadata": {},
   "outputs": [],
   "source": [
    "import pandas as pd"
   ]
  },
  {
   "cell_type": "code",
   "execution_count": 9,
   "id": "f48df7e4",
   "metadata": {
    "colab": {
     "base_uri": "https://localhost:8080/",
     "height": 395
    },
    "id": "f48df7e4",
    "outputId": "0467a08f-11fa-42b5-dde5-4181bb0e42e5"
   },
   "outputs": [],
   "source": [
    "ck_cpk_id = 225634\n",
    "chunksize = 10 ** 7  #quantidade de linhas a serem lidas de uma vez\n",
    "\n",
    "df_final = None\n",
    "with pd.read_csv(path_chartevents, chunksize=chunksize) as reader:\n",
    "    for chunk in reader:\n",
    "        chunk = chunk.loc[chunk['itemid'] == ck_cpk_id]\n",
    "        if len(chunk) > 0:\n",
    "            if df_final is None:\n",
    "                df_final = chunk\n",
    "            else:\n",
    "                df_final = pd.concat([df_final,chunk])\n",
    "\n",
    "print(\"Saving processed table in:\", outfilename)\n",
    "df_final.to_csv(outfilename)"
   ]
  },
  {
   "cell_type": "code",
   "execution_count": null,
   "id": "7eb3922c",
   "metadata": {
    "id": "7eb3922c"
   },
   "outputs": [],
   "source": [
    "#visualizando a tabela gerada\n",
    "df = pd.read_csv(outfilename)\n",
    "print(df.head())\n",
    "print(\"LEN:\", len(df))"
   ]
  },
  {
   "cell_type": "markdown",
   "id": "0469da87",
   "metadata": {
    "id": "0469da87"
   },
   "source": [
    "#### Informaçoes dos pacientes que fizeram exames de CK (CPK)\n",
    "\n",
    "A tabela gerada (`ck_events.csv`) possui o identificador do paciente que realizou o exame na coluna `subject_id`. Utilizando essa informação podemos pegar as informações desses pacientes. As informações dos pacientes do MIMIC-IV estão disponíveis na tabela `omr.csv`, que possui informações sobre peso, altura, IMC e pressão arterial.\n",
    "O código abaixo obtêm as informações de todos os pacientes que fizeram algum exame CK (CPK), e salva na tabela `pacients_with_ck.csv`"
   ]
  },
  {
   "cell_type": "code",
   "execution_count": null,
   "id": "75fecaf5",
   "metadata": {
    "id": "75fecaf5"
   },
   "outputs": [],
   "source": [
    "pacient_info_path = \"../data/external/omr.csv\"\n",
    "ck_events_path = \"../data/interim/ck_events.csv\"\n",
    "output_pacients_with_ck = \"../data/interim/pacients_with_ck.csv\""
   ]
  },
  {
   "cell_type": "code",
   "execution_count": null,
   "id": "9f62a5c6",
   "metadata": {
    "id": "9f62a5c6"
   },
   "outputs": [],
   "source": [
    "df_g = pd.read_csv(ck_events_path)\n",
    "all_pacients = df_g['subject_id']\n",
    "\n",
    "df_pacients = pd.read_csv(pacient_info_path)\n",
    "df_pacients_with_ck = df_pacients[df_pacients['subject_id'].isin(all_pacients)]\n",
    "\n",
    "print(\"Saving processed table in:\", output_pacients_with_ck)\n",
    "df_pacients_with_ck.to_csv(output_pacients_with_ck)"
   ]
  },
  {
   "cell_type": "code",
   "execution_count": null,
   "id": "9026fd15",
   "metadata": {
    "id": "9026fd15"
   },
   "outputs": [],
   "source": [
    "#visualizando a tabela gerada\n",
    "df = pd.read_csv(output_pacients_with_ck)\n",
    "print(df.head())\n",
    "print(\"LEN:\", len(df))"
   ]
  },
  {
   "cell_type": "markdown",
   "id": "1d14d007",
   "metadata": {
    "id": "1d14d007"
   },
   "source": [
    "#### Informações sobre aplicações de insulina em pacientes com CK (CPK)\n",
    "Além das informações obtidas no processamento acima, também estamos interessados em verificar se esses pacientes receberam doses de insulina.\n",
    "A tabela `inputevents.csv` possui informações sobre todos os eventos de entradas de fluido (incluindo insulina). Observando novamente a tabela `d_items.csv`, a insulina aparece com `itemid` com os números: 223257, 223258, 223259, 223260, 223261, 223262, 229299, 229619. Esses números se referem as insulinas descritas como:  Insulin - 70/30, Insulin - Regular, Insulin - NPH, Insulin - Glargine, Insulin - Humalog 75/25, Insulin - Humalog,Insulin - Novolog, Insulin - U500\n",
    "\n",
    "A partir dessa tabela é gerada uma nova tabela com o nome de `insulin_inputs_in_ck_pacients.csv` com todos os eventos de aplicação de insulina em pacientes que fizeram algum exame de CK (CPK).\n",
    "\n",
    "Novamente essa tabela (`inputevents.csv`) é muito grande (2,3GB) assim também foi processada em pedaços (chunks)."
   ]
  },
  {
   "cell_type": "code",
   "execution_count": null,
   "id": "773e109a",
   "metadata": {
    "id": "773e109a"
   },
   "outputs": [],
   "source": [
    "input_events_path = \"../data/external/inputevents.csv\"\n",
    "insulin_inputs_output = \"../data/interim/insulin_inputs_in_ck_pacients.csv\"\n",
    "insulin_idxs = [223257, 223258, 223259, 223260, 223261, 223262, 229299, 229619]"
   ]
  },
  {
   "cell_type": "code",
   "execution_count": null,
   "id": "2d91ab64",
   "metadata": {
    "id": "2d91ab64"
   },
   "outputs": [],
   "source": [
    "chunksize = 10 ** 6\n",
    "\n",
    "df_ck = pd.read_csv(ck_events_path)\n",
    "all_pacients = df_ck['subject_id']\n",
    "\n",
    "df_final = None\n",
    "with pd.read_csv(input_events_path, chunksize=chunksize) as reader:\n",
    "    for chunk in reader:\n",
    "        df_pacients_with_ck = chunk[chunk['subject_id'].isin(all_pacients)]\n",
    "        df_insulin_inputs = df_pacients_with_ck[df_pacients_with_ck['itemid'].isin(insulin_idxs)]\n",
    "        if len(chunk) > 0:\n",
    "            if df_final is None:\n",
    "                df_final = df_insulin_inputs\n",
    "            else:\n",
    "                df_final = pd.concat([df_final,df_insulin_inputs])\n",
    "\n",
    "\n",
    "print(\"Saving processed table in:\", insulin_inputs_output)\n",
    "df_final.to_csv(insulin_inputs_output)"
   ]
  },
  {
   "cell_type": "code",
   "execution_count": null,
   "id": "7b561861",
   "metadata": {
    "id": "7b561861"
   },
   "outputs": [],
   "source": [
    "#visualizando a tabela gerada\n",
    "df = pd.read_csv(insulin_inputs_output)\n",
    "print(df.head())\n",
    "print(\"LEN:\", len(df))"
   ]
  },
  {
   "cell_type": "markdown",
   "id": "v87SmXbkN7Qh",
   "metadata": {
    "id": "v87SmXbkN7Qh"
   },
   "source": [
    "### Obtenção de dados de glicose\n",
    "\n",
    "Filtramos novamente a tabela `chartevents.csv` identificando pela coluna `itemid`. Observando a tabela `d_items.csv`, a glicose aparece de diversas formas. Foram selecionados somente IDs que aparecem na tabela `chartevents.cs` e, dentre esses, somente os IDs 220621, 225664, 226537, 228388 que se referem a: Glucose (serum), Glucose finger stick (range 70-100), Glucose (whole blood), Glucose (whole blood) (soft). Não foram selecionados os IDS referentes ao sistema de escore Apache IV pois ele não é o foco do estudo. Também foi omitido o ID da categoria Glucose Control - Prophy por ser um parâmetro textual relacionado à profilaxia. Assim, filtramos apenas medições de glicose, salvando o resultado na tabela `glucose_events.csv`. Novamente, processamos `chartevents.csv` em chunks."
   ]
  },
  {
   "cell_type": "code",
   "execution_count": null,
   "id": "Q_fU-dFxN7r2",
   "metadata": {
    "id": "Q_fU-dFxN7r2"
   },
   "outputs": [],
   "source": [
    "path_chartevents = \"../data/external/chartevents.csv\"\n",
    "outfilename = \"../data/interim/glucose_events.csv\"\n",
    "glucose_idxs = [220621, 225664, 226537, 228388]\n",
    "chunksize = 10 ** 7  #quantidade de linhas a serem lidas de uma vez\n",
    "\n",
    "df_final = None\n",
    "with pd.read_csv(path_chartevents, chunksize=chunksize) as reader:\n",
    "    for chunk in reader:\n",
    "        chunk = chunk.loc[chunk['itemid'].isin(glucose_idxs)]\n",
    "        if len(chunk) > 0:\n",
    "            if df_final is None:\n",
    "                df_final = chunk\n",
    "            else:\n",
    "                df_final = pd.concat([df_final,chunk])\n",
    "\n",
    "\n",
    "print(\"Saving processed table in:\", outfilename)\n",
    "df_final.to_csv(outfilename)"
   ]
  },
  {
   "cell_type": "code",
   "execution_count": null,
   "id": "7uSUDhuBWPb9",
   "metadata": {
    "id": "7uSUDhuBWPb9"
   },
   "outputs": [],
   "source": [
    "#visualizando a tabela gerada\n",
    "df = pd.read_csv(outfilename)\n",
    "print(df.head())\n",
    "print(\"LEN:\", len(df))"
   ]
  }
 ],
 "metadata": {
  "colab": {
   "provenance": []
  },
  "kernelspec": {
   "display_name": "Python 3 (ipykernel)",
   "language": "python",
   "name": "python3"
  },
  "language_info": {
   "codemirror_mode": {
    "name": "ipython",
    "version": 3
   },
   "file_extension": ".py",
   "mimetype": "text/x-python",
   "name": "python",
   "nbconvert_exporter": "python",
   "pygments_lexer": "ipython3",
   "version": "3.7.13"
  }
 },
 "nbformat": 4,
 "nbformat_minor": 5
}
