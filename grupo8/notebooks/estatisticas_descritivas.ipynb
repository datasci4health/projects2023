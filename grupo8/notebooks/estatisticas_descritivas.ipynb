{
 "cells": [
  {
   "cell_type": "markdown",
   "metadata": {
    "id": "j5U4j7gdAfS2"
   },
   "source": [
    "### Estatísticas descritivas\n",
    "O objetivo desse notebook é calcular certas estatísticas descritivas para o conjunto dos pacientes em geral e para os subconjuntos de pacientes com e sem obesidade. As estatísticas escolhidas foram média, mediana, moda e desvio padrão. Os cálculos foram feitos para o BMI (em kg/m2) e CK (CPK) (em IU/L) médios de cada paciente."
   ]
  },
  {
   "cell_type": "code",
   "execution_count": 10,
   "metadata": {
    "colab": {
     "base_uri": "https://localhost:8080/"
    },
    "id": "VPE7SbbQAiSX",
    "outputId": "6c018bc8-a65d-4551-b412-bfae02394504"
   },
   "outputs": [
    {
     "name": "stdout",
     "output_type": "stream",
     "text": [
      "A média do BMI é: 28.51 kg/m2\n",
      "A mediana do BMI é: 27.25 kg/m2\n",
      "A moda do BMI é: 25.00 kg/m2\n",
      "O desvio padrão do BMI é: 7.18 kg/m2\n",
      "\n",
      "A média do BMI de pacientes com obesidade é: 36.22 kg/m2\n",
      "A mediana do BMI de pacientes com obesidade é: 34.22 kg/m2\n",
      "A moda do BMI de pacientes com obesidade é: 32.10 kg/m2\n",
      "O desvio padrão do BMI de pacientes com obesidade é: 6.54 kg/m2\n",
      "\n",
      "A média do BMI de pacientes sem obesidade é: 24.62 kg/m2\n",
      "A mediana do BMI de pacientes sem obesidade é: 24.96 kg/m2\n",
      "A moda do BMI de pacientes sem obesidade é: 25.00 kg/m2\n",
      "O desvio padrão do BMI de pacientes sem obesidade é: 3.32 kg/m2\n",
      "\n"
     ]
    }
   ],
   "source": [
    "import pandas as pd\n",
    "import numpy as np\n",
    "\n",
    "df = pd.read_csv('../data/processed/bmi_norm.csv')\n",
    "\n",
    "bmi = df.groupby(['subject_id'])['result_value'].mean().reset_index()\n",
    "\n",
    "# Separando os dados em pacientes com obesidade (BMI >= 30) e sem obesidade\n",
    "bmi_ob = bmi[bmi['result_value'] >= 30]\n",
    "bmi_other = bmi[bmi['result_value'] < 30]\n",
    "\n",
    "# Calculando a média, desvião padrão, mediana e moda \n",
    "av = bmi['result_value'].mean()\n",
    "med = bmi['result_value'].median()\n",
    "mode = bmi['result_value'].mode()[0]\n",
    "std_dev = bmi['result_value'].std()\n",
    "print(f\"A média do BMI é: {av:.2f} kg/m2\")\n",
    "print(f\"A mediana do BMI é: {med:.2f} kg/m2\")\n",
    "print(f\"A moda do BMI é: {mode:.2f} kg/m2\")\n",
    "print(f\"O desvio padrão do BMI é: {std_dev:.2f} kg/m2\")\n",
    "print()\n",
    "\n",
    "# Calculando a média, desvião padrão, mediana e moda dos pacientes com obesidade\n",
    "av_ob = bmi_ob['result_value'].mean()\n",
    "med_ob = bmi_ob['result_value'].median()\n",
    "mode_ob = bmi_ob['result_value'].mode()[0]\n",
    "std_dev_ob = bmi_ob['result_value'].std()\n",
    "print(f\"A média do BMI de pacientes com obesidade é: {av_ob:.2f} kg/m2\")\n",
    "print(f\"A mediana do BMI de pacientes com obesidade é: {med_ob:.2f} kg/m2\")\n",
    "print(f\"A moda do BMI de pacientes com obesidade é: {mode_ob:.2f} kg/m2\")\n",
    "print(f\"O desvio padrão do BMI de pacientes com obesidade é: {std_dev_ob:.2f} kg/m2\")\n",
    "print()\n",
    "\n",
    "# Calculando a média, desvião padrão, mediana e moda dos pacientes sem obesidade\n",
    "av_other = bmi_other['result_value'].mean()\n",
    "med_other = bmi_other['result_value'].median()\n",
    "mode_other = bmi_other['result_value'].mode()[0]\n",
    "std_dev_other = bmi_other['result_value'].std()\n",
    "print(f\"A média do BMI de pacientes sem obesidade é: {av_other:.2f} kg/m2\")\n",
    "print(f\"A mediana do BMI de pacientes sem obesidade é: {med_other:.2f} kg/m2\")\n",
    "print(f\"A moda do BMI de pacientes sem obesidade é: {mode_other:.2f} kg/m2\")\n",
    "print(f\"O desvio padrão do BMI de pacientes sem obesidade é: {std_dev_other:.2f} kg/m2\")\n",
    "print()"
   ]
  },
  {
   "cell_type": "code",
   "execution_count": 11,
   "metadata": {
    "colab": {
     "base_uri": "https://localhost:8080/"
    },
    "id": "kF_eZJicEgH6",
    "outputId": "58190c47-0c2a-4aaf-a992-936b1524615d"
   },
   "outputs": [
    {
     "name": "stdout",
     "output_type": "stream",
     "text": [
      "A média do CK (CPK) é: 574.45 IU/L\n",
      "A mediana do CK (CPK) é: 155.00 IU/L\n",
      "A moda do CK (CPK) é: 38.00 IU/L\n",
      "O desvio padrão do CK (CPK) é: 1154.00 IU/L\n",
      "\n",
      "A média do CK (CPK) de pacientes com obesidade é: 661.31 IU/L\n",
      "A mediana do CK (CPK) de pacientes com obesidade é: 171.50 IU/L\n",
      "A moda do CK (CPK) de pacientes com obesidade é: 30.00 IU/L\n",
      "O desvio padrão do CK (CPK) de pacientes com obesidade é: 1292.40 IU/L\n",
      "\n",
      "A média do CK (CPK) de pacientes sem obesidade é: 466.49 IU/L\n",
      "A mediana do CK (CPK) de pacientes sem obesidade é: 131.00 IU/L\n",
      "A moda do CK (CPK) de pacientes sem obesidade é: 41.00 IU/L\n",
      "O desvio padrão do CK (CPK) de pacientes sem obesidade é: 986.92 IU/L\n",
      "\n"
     ]
    }
   ],
   "source": [
    "df = pd.read_csv('../data/processed/ck_norm.csv')\n",
    "\n",
    "ck = df.groupby(['subject_id'])['valuenum'].mean().reset_index()\n",
    "\n",
    "ck_ob = ck[ck['subject_id'].isin(bmi_ob['subject_id'])]\n",
    "ck_other = ck[ck['subject_id'].isin(bmi_other['subject_id'])]\n",
    "# Como há elementos em bmi_ob e bmi_other que não estão em ck_ob e ck_other, retiramos eles para a criaçao do gráfico\n",
    "bmi_ob_redux = bmi_ob[bmi_ob['subject_id'].isin(ck_ob['subject_id'])]\n",
    "bmi_other_redux = bmi_other[bmi_other['subject_id'].isin(ck_other['subject_id'])]\n",
    "\n",
    "# Calculando a média, desvião padrão, mediana e moda \n",
    "av = ck['valuenum'].mean()\n",
    "med = ck['valuenum'].median()\n",
    "mode = ck['valuenum'].mode()[0]\n",
    "std_dev = ck['valuenum'].std()\n",
    "print(f\"A média do CK (CPK) é: {av:.2f} IU/L\")\n",
    "print(f\"A mediana do CK (CPK) é: {med:.2f} IU/L\")\n",
    "print(f\"A moda do CK (CPK) é: {mode:.2f} IU/L\")\n",
    "print(f\"O desvio padrão do CK (CPK) é: {std_dev:.2f} IU/L\")\n",
    "print()\n",
    "\n",
    "# Calculando a média, desvião padrão, mediana e moda dos pacientes com obesidade\n",
    "av_ob = ck_ob['valuenum'].mean()\n",
    "med_ob = ck_ob['valuenum'].median()\n",
    "mode_ob = ck_ob['valuenum'].mode()[0]\n",
    "std_dev_ob = ck_ob['valuenum'].std()\n",
    "print(f\"A média do CK (CPK) de pacientes com obesidade é: {av_ob:.2f} IU/L\")\n",
    "print(f\"A mediana do CK (CPK) de pacientes com obesidade é: {med_ob:.2f} IU/L\")\n",
    "print(f\"A moda do CK (CPK) de pacientes com obesidade é: {mode_ob:.2f} IU/L\")\n",
    "print(f\"O desvio padrão do CK (CPK) de pacientes com obesidade é: {std_dev_ob:.2f} IU/L\")\n",
    "print()\n",
    "\n",
    "# Calculando a média, desvião padrão, mediana e moda dos pacientes sem obesidade\n",
    "av_other = ck_other['valuenum'].mean()\n",
    "med_other = ck_other['valuenum'].median()\n",
    "mode_other = ck_other['valuenum'].mode()[0]\n",
    "std_dev_other = ck_other['valuenum'].std()\n",
    "print(f\"A média do CK (CPK) de pacientes sem obesidade é: {av_other:.2f} IU/L\")\n",
    "print(f\"A mediana do CK (CPK) de pacientes sem obesidade é: {med_other:.2f} IU/L\")\n",
    "print(f\"A moda do CK (CPK) de pacientes sem obesidade é: {mode_other:.2f} IU/L\")\n",
    "print(f\"O desvio padrão do CK (CPK) de pacientes sem obesidade é: {std_dev_other:.2f} IU/L\")\n",
    "print()"
   ]
  }
 ],
 "metadata": {
  "colab": {
   "provenance": []
  },
  "kernelspec": {
   "display_name": "Python 3 (ipykernel)",
   "language": "python",
   "name": "python3"
  },
  "language_info": {
   "codemirror_mode": {
    "name": "ipython",
    "version": 3
   },
   "file_extension": ".py",
   "mimetype": "text/x-python",
   "name": "python",
   "nbconvert_exporter": "python",
   "pygments_lexer": "ipython3",
   "version": "3.7.13"
  }
 },
 "nbformat": 4,
 "nbformat_minor": 1
}
