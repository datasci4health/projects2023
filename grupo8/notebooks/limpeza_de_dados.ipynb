{
 "cells": [
  {
   "cell_type": "markdown",
   "metadata": {},
   "source": [
    "### Limpeza de dados\n",
    "O objetivo desse notebook é realizar uma limpeza de dados na tabela de informações dos pacientes que realizaram algum exame CK (`pacients_with_ck.csv`) e na tabela dos exames CK realizados (`ck_events.csv`)"
   ]
  },
  {
   "cell_type": "markdown",
   "metadata": {},
   "source": [
    "#### Limpeza da tabela pacients_with_ck.csv\n",
    "Os passos para limpeza dessa tabela são:\n",
    "1. Filtragem dos dados para incluir somente os resultados relativos ao BMI (IMC) em kg/m^2 (dados de BMI sem unidade indicada foram desconsiderados)\n",
    "2. Verificação dos valores de BMI extremamente elevados e calculando quanto da população total eles representam\n",
    "3. Exportação tabela filtrada considerando apenas resultados de BMI < 100\n",
    "\n",
    "Ao final do processamento uma nova tabela `bmi_norm.csv` é criada"
   ]
  },
  {
   "cell_type": "code",
   "execution_count": 1,
   "metadata": {
    "colab": {
     "base_uri": "https://localhost:8080/"
    },
    "id": "Z7zhJ9Kv-LF9",
    "outputId": "d859aa05-9669-45ed-caf6-cbf0f71e1fca"
   },
   "outputs": [
    {
     "name": "stderr",
     "output_type": "stream",
     "text": [
      "/media/salathiel/HD/mconda/envs/rl/lib/python3.7/site-packages/ipykernel_launcher.py:6: SettingWithCopyWarning: \n",
      "A value is trying to be set on a copy of a slice from a DataFrame.\n",
      "Try using .loc[row_indexer,col_indexer] = value instead\n",
      "\n",
      "See the caveats in the documentation: https://pandas.pydata.org/pandas-docs/stable/user_guide/indexing.html#returning-a-view-versus-a-copy\n",
      "  \n"
     ]
    },
    {
     "name": "stdout",
     "output_type": "stream",
     "text": [
      "Porcentagem de medições com BMI acima de 100 kg/m2: 0.03%\n"
     ]
    }
   ],
   "source": [
    "import pandas as pd\n",
    "\n",
    "df = pd.read_csv('../data/interim/pacients_with_ck.csv')\n",
    "\n",
    "bmi = df[df['result_name'] == 'BMI (kg/m2)']\n",
    "bmi['result_value'] = bmi['result_value'].astype(float)\n",
    "\n",
    "bmi_norm = bmi[bmi['result_value'] < 100]    \n",
    "bmi_abs = bmi[bmi['result_value'] >= 100]\n",
    "abs_percent = 100*(len(bmi_abs)/len(bmi))\n",
    "print(f\"Porcentagem de medições com BMI acima de 100 kg/m2: {abs_percent:.2f}%\")\n",
    "\n",
    "bmi_norm.to_csv('../data/processed/bmi_norm.csv', index=False)"
   ]
  },
  {
   "cell_type": "markdown",
   "metadata": {},
   "source": [
    "#### Limpeza da tabela ck_events.csv\n",
    "Os passos para limpeza dessa tabela são:\n",
    "1. Remoção de outliers, considerados CK > 10000 IU/L\n",
    "2. Cálculo de quanto da população total os outliers representam\n",
    "3. Exportação da tabela filtrada considerando apenas resultados de CK > 10000 IU/L\n",
    "\n",
    "Ao final do processamento uma nova tabela `ck_norm.csv` é criada"
   ]
  },
  {
   "cell_type": "code",
   "execution_count": 2,
   "metadata": {
    "colab": {
     "base_uri": "https://localhost:8080/"
    },
    "id": "vGE632Uh_4Xl",
    "outputId": "76359c95-72c0-4358-e1df-9b635f3e72ee"
   },
   "outputs": [
    {
     "name": "stdout",
     "output_type": "stream",
     "text": [
      "Porcentagem de medições com CK acima de 10000 IU/L: 4.22%\n"
     ]
    }
   ],
   "source": [
    "ck = pd.read_csv('../data/interim/ck_events.csv')\n",
    "\n",
    "ck_norm = ck[ck['valuenum'] <= 10000]\n",
    "ck_abs = ck[ck['valuenum'] > 10000]\n",
    "abs_percent = 100*(len(ck_abs)/len(ck))\n",
    "print(f\"Porcentagem de medições com CK acima de 10000 IU/L: {abs_percent:.2f}%\")\n",
    "\n",
    "# Exportando somente os resultados de CK <= 10 000\n",
    "ck_norm.to_csv('../data/processed/ck_norm.csv', index=False)"
   ]
  }
 ],
 "metadata": {
  "colab": {
   "provenance": []
  },
  "kernelspec": {
   "display_name": "Python 3 (ipykernel)",
   "language": "python",
   "name": "python3"
  },
  "language_info": {
   "codemirror_mode": {
    "name": "ipython",
    "version": 3
   },
   "file_extension": ".py",
   "mimetype": "text/x-python",
   "name": "python",
   "nbconvert_exporter": "python",
   "pygments_lexer": "ipython3",
   "version": "3.7.13"
  }
 },
 "nbformat": 4,
 "nbformat_minor": 1
}
