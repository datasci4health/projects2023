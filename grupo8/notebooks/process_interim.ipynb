{
 "cells": [
  {
   "cell_type": "markdown",
   "metadata": {},
   "source": [
    "## Processamento de dados intermediários de glicose\n",
    "\n",
    "O objetivo desse notebook é realizar um processamento das tabelas originais do MIMIC-IV e de algumas tabelas intermediárias com objetivo de gerar tabelas contendo mais dados úteis."
   ]
  },
  {
   "cell_type": "markdown",
   "metadata": {},
   "source": [
    "#### Informaçoes dos pacientes que fizeram exames de glicose\n",
    "\n",
    "A tabela gerada (`glucose_norm.csv`) possui o identificador do paciente que realizou o exame na coluna `subject_id`. Utilizando essa informação podemos pegar as informações desses pacientes. As informações dos pacientes do MIMIC-IV estão disponíveis na tabela `omr.csv`, que possui informações sobre peso, altura, IMC e pressão arterial.\n",
    "\n",
    "O código abaixo obtêm as informações de todos os pacientes que fizeram algum exame de glicose, e salva na tabela `patients_with_glucose.csv`"
   ]
  },
  {
   "cell_type": "code",
   "execution_count": 11,
   "metadata": {},
   "outputs": [],
   "source": [
    "import pandas as pd"
   ]
  },
  {
   "cell_type": "code",
   "execution_count": 12,
   "metadata": {},
   "outputs": [],
   "source": [
    "patient_info_path = \"../data/external/omr.csv\"\n",
    "glucose_events_path = \"../data/processed/glucose_norm.csv\"\n",
    "output_patients_with_glucose = \"../data/interim/patients_with_glucose.csv\""
   ]
  },
  {
   "cell_type": "code",
   "execution_count": 13,
   "metadata": {},
   "outputs": [
    {
     "name": "stdout",
     "output_type": "stream",
     "text": [
      "Saving processed table in: patients_with_glucose.csv\n"
     ]
    }
   ],
   "source": [
    "df_glucose = pd.read_csv(glucose_events_path)\n",
    "all_patients = df_glucose['subject_id']\n",
    "\n",
    "df_patients = pd.read_csv(patient_info_path)\n",
    "df_patients_with_glucose = df_patients[df_patients['subject_id'].isin(all_patients)]\n",
    "\n",
    "print(\"Saving processed table in:\", output_patients_with_glucose)\n",
    "df_patients_with_glucose.to_csv(output_patients_with_glucose)"
   ]
  },
  {
   "cell_type": "code",
   "execution_count": 14,
   "metadata": {},
   "outputs": [
    {
     "name": "stdout",
     "output_type": "stream",
     "text": [
      "   Unnamed: 0  subject_id   chartdate  seq_num      result_name result_value\n",
      "0           0    10000032  2180-04-27        1   Blood Pressure       110/65\n",
      "1           1    10000032  2180-04-27        1     Weight (Lbs)           94\n",
      "2           2    10000032  2180-05-07        1      BMI (kg/m2)         18.0\n",
      "3           3    10000032  2180-05-07        1  Height (Inches)           60\n",
      "4           4    10000032  2180-05-07        1     Weight (Lbs)        92.15\n",
      "LEN: 1771620\n"
     ]
    }
   ],
   "source": [
    "#visualizando a tabela gerada\n",
    "df = pd.read_csv(output_patients_with_glucose)\n",
    "print(df.head())\n",
    "print(\"LEN:\", len(df))"
   ]
  },
  {
   "cell_type": "markdown",
   "metadata": {},
   "source": [
    "#### Informações sobre aplicações de insulina em pacientes com glicose\n",
    "\n",
    "Vamos novamente analisar pacientes que receberam aplicação de insulina, mas agora considerando pacientes que fizeram exame de glicose ao invés de CK (CPK). Para tanto, vamos usar os mesmos IDs analisados anteriormente.\n",
    "\n",
    "A partir dessa tabela é gerada uma nova tabela com o nome de `insulin_inputs_in_glucose_patients.csv` com todos os eventos de aplicação de insulina em pacientes que fizeram algum exame de glicose selecionado anteriormente.\n",
    "\n",
    "Novamente essa tabela (`inputevents.csv`) é muito grande (2,3GB) assim também foi processada em pedaços (chunks)."
   ]
  },
  {
   "cell_type": "code",
   "execution_count": 15,
   "metadata": {},
   "outputs": [],
   "source": [
    "input_events_path = \"../data/external/inputevents.csv\"\n",
    "insulin_inputs_output = \"../data/interim/insulin_inputs_in_glucose_pacients.csv\"\n",
    "\n",
    "insulin_idxs = [223257, 223258, 223259, 223260, 223261, 223262, 229299, 229619]"
   ]
  },
  {
   "cell_type": "code",
   "execution_count": 16,
   "metadata": {},
   "outputs": [
    {
     "name": "stdout",
     "output_type": "stream",
     "text": [
      "Saving processed table in: insulin_inputs_in_glucose_pacients.csv\n"
     ]
    }
   ],
   "source": [
    "chunksize = 10 ** 6\n",
    "\n",
    "df_glucose = pd.read_csv(glucose_events_path)\n",
    "all_patients = df_glucose['subject_id']\n",
    "\n",
    "df_final = None\n",
    "with pd.read_csv(input_events_path, chunksize=chunksize) as reader:\n",
    "    for chunk in reader:\n",
    "        df_patients_with_glucose = chunk[chunk['subject_id'].isin(all_patients)]\n",
    "        df_insulin_inputs = df_patients_with_glucose[df_patients_with_glucose['itemid'].isin(insulin_idxs)]\n",
    "        if len(chunk) > 0:\n",
    "            if df_final is None:\n",
    "                df_final = df_insulin_inputs\n",
    "            else:\n",
    "                df_final = pd.concat([df_final,df_insulin_inputs])\n",
    "\n",
    "\n",
    "print(\"Saving processed table in:\", insulin_inputs_output)\n",
    "df_final.to_csv(insulin_inputs_output)"
   ]
  },
  {
   "cell_type": "code",
   "execution_count": 17,
   "metadata": {},
   "outputs": [
    {
     "name": "stdout",
     "output_type": "stream",
     "text": [
      "   Unnamed: 0  subject_id   hadm_id   stay_id  caregiver_id  \\\n",
      "0         360    10002013  23581541  39060235          6768   \n",
      "1         362    10002013  23581541  39060235          6768   \n",
      "2         374    10002013  23581541  39060235          6768   \n",
      "3         376    10002013  23581541  39060235          6768   \n",
      "4         379    10002013  23581541  39060235          6768   \n",
      "\n",
      "             starttime              endtime            storetime  itemid  \\\n",
      "0  2160-05-18 22:00:00  2160-05-18 23:00:00  2160-05-19 00:07:00  223258   \n",
      "1  2160-05-18 23:00:00  2160-05-19 01:09:00  2160-05-19 00:07:00  223258   \n",
      "2  2160-05-19 01:09:00  2160-05-19 02:17:00  2160-05-19 01:09:00  223258   \n",
      "3  2160-05-19 02:17:00  2160-05-19 06:25:00  2160-05-19 02:17:00  223258   \n",
      "4  2160-05-19 05:33:00  2160-05-19 05:34:00  2160-05-19 05:33:00  223260   \n",
      "\n",
      "      amount  ... ordercomponenttypedescription  ordercategorydescription  \\\n",
      "0   7.989103  ...          Main order parameter            Continuous Med   \n",
      "1  12.889622  ...          Main order parameter            Continuous Med   \n",
      "2   5.658078  ...          Main order parameter            Continuous Med   \n",
      "3  16.521651  ...          Main order parameter            Continuous Med   \n",
      "4  40.000000  ...          Main order parameter                 Drug Push   \n",
      "\n",
      "  patientweight  totalamount  totalamountuom isopenbag continueinnextdept  \\\n",
      "0          96.0        100.0              ml         0                  0   \n",
      "1          96.0        100.0              ml         0                  0   \n",
      "2          96.0        100.0              ml         0                  0   \n",
      "3          96.0        100.0              ml         0                  0   \n",
      "4          96.0          NaN             NaN         0                  0   \n",
      "\n",
      "  statusdescription originalamount  originalrate  \n",
      "0   ChangeDose/Rate      67.641075           8.0  \n",
      "1   ChangeDose/Rate      59.651970           6.0  \n",
      "2   ChangeDose/Rate      46.762348           5.0  \n",
      "3           Stopped      41.104271           4.0  \n",
      "4   FinishedRunning      40.000000          40.0  \n",
      "\n",
      "[5 rows x 27 columns]\n",
      "LEN: 407739\n"
     ]
    }
   ],
   "source": [
    "#visualizando a tabela gerada\n",
    "df = pd.read_csv(insulin_inputs_output)\n",
    "print(df.head())\n",
    "print(\"LEN:\", len(df))"
   ]
  }
 ],
 "metadata": {
  "kernelspec": {
   "display_name": "Python 3 (ipykernel)",
   "language": "python",
   "name": "python3"
  },
  "language_info": {
   "codemirror_mode": {
    "name": "ipython",
    "version": 3
   },
   "file_extension": ".py",
   "mimetype": "text/x-python",
   "name": "python",
   "nbconvert_exporter": "python",
   "pygments_lexer": "ipython3",
   "version": "3.7.13"
  }
 },
 "nbformat": 4,
 "nbformat_minor": 2
}
