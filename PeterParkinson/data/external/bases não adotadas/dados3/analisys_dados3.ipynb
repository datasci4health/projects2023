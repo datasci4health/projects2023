{
 "cells": [
  {
   "cell_type": "code",
   "execution_count": 15,
   "id": "0999450b-c796-4ba4-8f9e-0d975eca9027",
   "metadata": {},
   "outputs": [],
   "source": [
    "import numpy as np\n",
    "import pandas as pd\n",
    "import matplotlib.pyplot as plt"
   ]
  },
  {
   "attachments": {},
   "cell_type": "markdown",
   "id": "648aa8f4-f8e0-4faa-819e-1e04c10fcfec",
   "metadata": {},
   "source": [
    "### Dataset\n",
    "Esses dois datasets foram pesquisados também para o tema de Alzheimer, podendo ser encontrado no link https://ngdc.cncb.ac.cn/brainbase/diseases.\n",
    "\n",
    "O \"Brain Diseases - BrainBase - CNCB-NGDC.csv\" apesar de ter um número alto para doença de Alzheimer, o dataframe não possui muitas informações, tendo somente o sistema afetado pelas doenças, o símbolo do gene, o tipo e a fonte, assim tornando uma análise mais fraca para um projeto final. Além de mostrar genes com símbolos diferentes para cada pessoa, assim diminuindo ainda mais as analises.\n"
   ]
  },
  {
   "cell_type": "code",
   "execution_count": 3,
   "id": "5be4a4e9-9182-473e-adcc-5ea120f64719",
   "metadata": {},
   "outputs": [],
   "source": [
    "df = pd.read_csv(\"Brain Diseases - BrainBase - CNCB-NGDC.csv\")"
   ]
  },
  {
   "cell_type": "code",
   "execution_count": 4,
   "id": "53f01a5e-58d5-454e-b547-f414b5e33a8b",
   "metadata": {},
   "outputs": [
    {
     "data": {
      "text/html": [
       "<div>\n",
       "<style scoped>\n",
       "    .dataframe tbody tr th:only-of-type {\n",
       "        vertical-align: middle;\n",
       "    }\n",
       "\n",
       "    .dataframe tbody tr th {\n",
       "        vertical-align: top;\n",
       "    }\n",
       "\n",
       "    .dataframe thead th {\n",
       "        text-align: right;\n",
       "    }\n",
       "</style>\n",
       "<table border=\"1\" class=\"dataframe\">\n",
       "  <thead>\n",
       "    <tr style=\"text-align: right;\">\n",
       "      <th></th>\n",
       "      <th>Category</th>\n",
       "      <th>Disease</th>\n",
       "      <th>Gene Symbol</th>\n",
       "      <th>Type</th>\n",
       "      <th>PMID</th>\n",
       "      <th>Source</th>\n",
       "    </tr>\n",
       "  </thead>\n",
       "  <tbody>\n",
       "    <tr>\n",
       "      <th>0</th>\n",
       "      <td>Central Nervous System Diseases; Cerebrovascul...</td>\n",
       "      <td>Acute Cerebral Infarction</td>\n",
       "      <td>hsa-mir-124a-1</td>\n",
       "      <td>miRNA</td>\n",
       "      <td>21551949</td>\n",
       "      <td>HMDD</td>\n",
       "    </tr>\n",
       "    <tr>\n",
       "      <th>1</th>\n",
       "      <td>Central Nervous System Diseases; Cerebrovascul...</td>\n",
       "      <td>Acute Cerebral Infarction</td>\n",
       "      <td>hsa-mir-124a-2</td>\n",
       "      <td>miRNA</td>\n",
       "      <td>21551949</td>\n",
       "      <td>HMDD</td>\n",
       "    </tr>\n",
       "    <tr>\n",
       "      <th>2</th>\n",
       "      <td>Central Nervous System Diseases; Cerebrovascul...</td>\n",
       "      <td>Acute Cerebral Infarction</td>\n",
       "      <td>hsa-mir-124a-3</td>\n",
       "      <td>miRNA</td>\n",
       "      <td>21551949</td>\n",
       "      <td>HMDD</td>\n",
       "    </tr>\n",
       "    <tr>\n",
       "      <th>3</th>\n",
       "      <td>Central Nervous System Diseases; Cerebrovascul...</td>\n",
       "      <td>Acute Cerebral Infarction</td>\n",
       "      <td>hsa-mir-146</td>\n",
       "      <td>miRNA</td>\n",
       "      <td>23202363</td>\n",
       "      <td>HMDD</td>\n",
       "    </tr>\n",
       "    <tr>\n",
       "      <th>4</th>\n",
       "      <td>Central Nervous System Diseases; Cerebrovascul...</td>\n",
       "      <td>Acute Cerebral Infarction</td>\n",
       "      <td>hsa-mir-149</td>\n",
       "      <td>miRNA</td>\n",
       "      <td>23202363</td>\n",
       "      <td>HMDD</td>\n",
       "    </tr>\n",
       "    <tr>\n",
       "      <th>...</th>\n",
       "      <td>...</td>\n",
       "      <td>...</td>\n",
       "      <td>...</td>\n",
       "      <td>...</td>\n",
       "      <td>...</td>\n",
       "      <td>...</td>\n",
       "    </tr>\n",
       "    <tr>\n",
       "      <th>6685</th>\n",
       "      <td>Nervous System Diseases</td>\n",
       "      <td>Tuberous Sclerosis</td>\n",
       "      <td>VAV2</td>\n",
       "      <td>mRNA</td>\n",
       "      <td>-</td>\n",
       "      <td>Brain Disease Knowledgebase</td>\n",
       "    </tr>\n",
       "    <tr>\n",
       "      <th>6686</th>\n",
       "      <td>Nervous System Diseases</td>\n",
       "      <td>Von Hippel-Lindau Syndrome</td>\n",
       "      <td>ATP2B2</td>\n",
       "      <td>mRNA</td>\n",
       "      <td>-</td>\n",
       "      <td>Brain Disease Knowledgebase</td>\n",
       "    </tr>\n",
       "    <tr>\n",
       "      <th>6687</th>\n",
       "      <td>Nervous System Diseases</td>\n",
       "      <td>West Syndrome</td>\n",
       "      <td>BX118339</td>\n",
       "      <td>lncRNA</td>\n",
       "      <td>22245136  23791884</td>\n",
       "      <td>LncBook</td>\n",
       "    </tr>\n",
       "    <tr>\n",
       "      <th>6688</th>\n",
       "      <td>Nervous System Diseases</td>\n",
       "      <td>West Syndrome</td>\n",
       "      <td>LINC00581</td>\n",
       "      <td>lncRNA</td>\n",
       "      <td>22245136  23791884</td>\n",
       "      <td>LncBook</td>\n",
       "    </tr>\n",
       "    <tr>\n",
       "      <th>6689</th>\n",
       "      <td>Central Nervous System Diseases</td>\n",
       "      <td>X-linked Hydrocephalus</td>\n",
       "      <td>L1CAM</td>\n",
       "      <td>mRNA</td>\n",
       "      <td>-</td>\n",
       "      <td>Developmental Brain Disorders Database</td>\n",
       "    </tr>\n",
       "  </tbody>\n",
       "</table>\n",
       "<p>6690 rows × 6 columns</p>\n",
       "</div>"
      ],
      "text/plain": [
       "                                               Category  \\\n",
       "0     Central Nervous System Diseases; Cerebrovascul...   \n",
       "1     Central Nervous System Diseases; Cerebrovascul...   \n",
       "2     Central Nervous System Diseases; Cerebrovascul...   \n",
       "3     Central Nervous System Diseases; Cerebrovascul...   \n",
       "4     Central Nervous System Diseases; Cerebrovascul...   \n",
       "...                                                 ...   \n",
       "6685                            Nervous System Diseases   \n",
       "6686                            Nervous System Diseases   \n",
       "6687                            Nervous System Diseases   \n",
       "6688                            Nervous System Diseases   \n",
       "6689                    Central Nervous System Diseases   \n",
       "\n",
       "                         Disease     Gene Symbol    Type  \\\n",
       "0      Acute Cerebral Infarction  hsa-mir-124a-1   miRNA   \n",
       "1      Acute Cerebral Infarction  hsa-mir-124a-2   miRNA   \n",
       "2      Acute Cerebral Infarction  hsa-mir-124a-3   miRNA   \n",
       "3      Acute Cerebral Infarction     hsa-mir-146   miRNA   \n",
       "4      Acute Cerebral Infarction     hsa-mir-149   miRNA   \n",
       "...                          ...             ...     ...   \n",
       "6685          Tuberous Sclerosis            VAV2    mRNA   \n",
       "6686  Von Hippel-Lindau Syndrome          ATP2B2    mRNA   \n",
       "6687               West Syndrome        BX118339  lncRNA   \n",
       "6688               West Syndrome       LINC00581  lncRNA   \n",
       "6689      X-linked Hydrocephalus           L1CAM    mRNA   \n",
       "\n",
       "                      PMID                                  Source  \n",
       "0               21551949                                      HMDD  \n",
       "1               21551949                                      HMDD  \n",
       "2               21551949                                      HMDD  \n",
       "3               23202363                                      HMDD  \n",
       "4               23202363                                      HMDD  \n",
       "...                    ...                                     ...  \n",
       "6685                     -             Brain Disease Knowledgebase  \n",
       "6686                     -             Brain Disease Knowledgebase  \n",
       "6687  22245136  23791884                                   LncBook  \n",
       "6688  22245136  23791884                                   LncBook  \n",
       "6689                     -  Developmental Brain Disorders Database  \n",
       "\n",
       "[6690 rows x 6 columns]"
      ]
     },
     "execution_count": 4,
     "metadata": {},
     "output_type": "execute_result"
    }
   ],
   "source": [
    "df"
   ]
  },
  {
   "cell_type": "code",
   "execution_count": 5,
   "id": "5d742c84-0bc8-4a23-b130-36089b00d476",
   "metadata": {},
   "outputs": [
    {
     "data": {
      "text/plain": [
       "Category         0\n",
       "Disease          0\n",
       "Gene Symbol      0\n",
       "Type           129\n",
       "PMID             0\n",
       "Source           0\n",
       "dtype: int64"
      ]
     },
     "execution_count": 5,
     "metadata": {},
     "output_type": "execute_result"
    }
   ],
   "source": [
    "df.isna().sum()"
   ]
  },
  {
   "cell_type": "code",
   "execution_count": 6,
   "id": "1b531fd7-ff83-4fb0-97c6-327f03311902",
   "metadata": {},
   "outputs": [
    {
     "data": {
      "text/plain": [
       "array(['Central Nervous System Diseases; Cerebrovascular Disorders',\n",
       "       'Nervous System Diseases; Cerebrovascular Disorders',\n",
       "       'Mental Disorders', 'Nervous System Diseases',\n",
       "       'Central Nervous System Diseases; Mental Disorders',\n",
       "       'Central Nervous System Diseases', 'Neoplasms, Nerve Tissue',\n",
       "       'Nervous System Diseases; Mental Disorders',\n",
       "       'Cerebrovascular Disorders'], dtype=object)"
      ]
     },
     "execution_count": 6,
     "metadata": {},
     "output_type": "execute_result"
    }
   ],
   "source": [
    "df['Category'].unique()"
   ]
  },
  {
   "cell_type": "code",
   "execution_count": 7,
   "id": "3df36373-7c65-47fa-bb6f-e75ee190d315",
   "metadata": {},
   "outputs": [
    {
     "data": {
      "text/plain": [
       "array(['HMDD', 'LncBook', 'Brain Disease Knowledgebase',\n",
       "       'Developmental Brain Disorders Database', 'EWAS Atlas',\n",
       "       'GWAS Catalog', 'EWAS AtlasLncRNAWiki2.0', 'LncBookLncRNAWiki2.0',\n",
       "       'LncRNAWiki2.0', 'EWAS AtlasGWAS Catalog',\n",
       "       'Brain Disease KnowledgebaseGWAS Catalog',\n",
       "       'Brain Disease KnowledgebaseEWAS Atlas', 'EDK', 'EDKLncRNAWiki2.0',\n",
       "       'EDKGWAS Catalog', 'Brain Disease KnowledgebaseEDK',\n",
       "       'EDKEWAS Atlas', 'Brain Disease KnowledgebaseLncBook',\n",
       "       'Developmental Brain Disorders DatabaseGWAS Catalog', '-',\n",
       "       'CRMarker', 'CRMarkerLncBook', 'CRMarkerLncBookLncRNAWiki2.0',\n",
       "       'GWAS CatalogLncBookLncRNAWiki2.0', 'CRMarkerLncRNAWiki2.0',\n",
       "       'CRMarkerHMDD', 'CRMarkerGWAS Catalog', 'GWAS CatalogLncBook',\n",
       "       'GWAS CatalogLncRNAWiki2.0'], dtype=object)"
      ]
     },
     "execution_count": 7,
     "metadata": {},
     "output_type": "execute_result"
    }
   ],
   "source": [
    "df['Source'].unique()"
   ]
  },
  {
   "cell_type": "code",
   "execution_count": 8,
   "id": "f0b9becb-4af3-4cf7-a783-9922eb2bdc26",
   "metadata": {},
   "outputs": [
    {
     "data": {
      "text/plain": [
       "Alzheimer's Disease                    1619\n",
       "Glioma                                 1346\n",
       "Multiple Sclerosis                      742\n",
       "Autism Spectrum Disorder                414\n",
       "Amyotrophic Lateral Sclerosis           335\n",
       "                                       ... \n",
       "Neuropathic pain                          1\n",
       "Non-functioning Pituitary Adenoma         1\n",
       "Non-functioning Pituitary Neoplasms       1\n",
       "Panic Disorder                            1\n",
       "X-linked Hydrocephalus                    1\n",
       "Name: Disease, Length: 125, dtype: int64"
      ]
     },
     "execution_count": 8,
     "metadata": {},
     "output_type": "execute_result"
    }
   ],
   "source": [
    "df['Disease'].value_counts()"
   ]
  },
  {
   "cell_type": "code",
   "execution_count": 10,
   "id": "f676df5e-a466-43e5-b586-17157d35fdd2",
   "metadata": {
    "collapsed": true,
    "jupyter": {
     "outputs_hidden": true
    },
    "tags": []
   },
   "outputs": [
    {
     "data": {
      "text/plain": [
       "array(['Acute Cerebral Infarction', 'Acute Cerebral Ischemia',\n",
       "       'Acute Ischemic Stroke', 'Affective Disorder',\n",
       "       'Agenesis Corpus Callosum', 'Alopecia with Mental Retardation',\n",
       "       'Alpha-Thalassemia X-Linked Intellectual Disability Syndrome',\n",
       "       'Alternating Hemiplegia of Childhood', \"Alzheimer's Disease\",\n",
       "       'Amyotrophic Lateral Sclerosis', 'Amyotrophic lateral Sclerosis',\n",
       "       'Aneurysmal Subarachnoid Hemorrhage', 'Angelman Syndrome',\n",
       "       'Anorexia Nervosa', 'Anxiety Disorder', 'Aphasia',\n",
       "       'Ataxia Telangiectasia',\n",
       "       'Attention Deficit Hyperactivity Disorder',\n",
       "       'Autism Spectrum Disorder',\n",
       "       'Autosomal Dominant Nocturnal Frontal Lobe Epilepsy',\n",
       "       'Autosomal Dominant Partial Epilepsy with Auditory Features',\n",
       "       'Autosomal Recessive Cerebellar Ataxia Type 1', 'Batten Disease',\n",
       "       'Benign Familial Neonatal Seizures', 'Benign Hereditary Chorea',\n",
       "       'Bipolar Disorder', 'Brain Neoplasms',\n",
       "       'Central Nervous System Embryonal Tumor',\n",
       "       'Cerebellar Ataxia, Mental Retardation and Disequilibrium Syndrome',\n",
       "       'Cerebellum Cancer', 'Cerebral Aneurysm',\n",
       "       'Cerebral Cavernous Malformation', 'cerebral infarction',\n",
       "       'Cerebral Ischemia', 'Cerebral Malaria', 'Cerebral Palsy',\n",
       "       'Cerebro-Oculo-Facio-Skeletal Syndrome',\n",
       "       'Cerebrocostomandibular Syndrome', 'Cerebrovascular Disease',\n",
       "       'Charcot-Marie-Tooth Disease', 'Chiari Malformation',\n",
       "       'Chronic Inflammatory Demyelinating Polyneuropathy',\n",
       "       'Cognitive Functions and Neuronal plasticity', 'Coma',\n",
       "       'Creutzfeldt Jakob Disease', 'Dementia (Non Alzheimer)',\n",
       "       'Depression Disorder', 'Down Syndrome', 'Dysautonomia', 'Dyslexia',\n",
       "       'Dyspraxia', 'Dystonia', 'Encephalitis', 'Encephalomyelitis',\n",
       "       'Epilepsy', 'Essential Tremor',\n",
       "       'Familial Focal Epilepsy with Variable Foci',\n",
       "       'Ferro-Cerebro-Cutaneous Syndrome', 'Forebrain Ischemia',\n",
       "       'Fragile X Syndrome', 'Friedreich Ataxia',\n",
       "       'Frontotemporal Dementia', 'Frontotemporal Lobar Degeneration',\n",
       "       'Gaucher Disease',\n",
       "       'Generalized Epilepsy with Febrile Seizures Plus', 'Glioma',\n",
       "       \"Huntington's Disease\", 'Hydrocephalus', 'Intellectual Disability',\n",
       "       'Intracerebral Hemorrhage', 'Intracranial Aneurysm',\n",
       "       'Ischemic Brain injury', 'Ischemic Stroke',\n",
       "       'Major Depression Disorder', 'Meningioma', 'Meningitis',\n",
       "       'Mild Cognitive Impairment', 'Motor Neurone Disease',\n",
       "       'Multiple Sclerosis', 'Muscular Dystrophy', 'Narcolepsy',\n",
       "       'Neurilemmoma', 'Neuroblastoma', 'Neurodegenerative Disease',\n",
       "       'Neurodevelopmental Disability', 'Neuroendocrine Tumor',\n",
       "       'Neuroepithelial Tumor', 'Neurofibromatosis',\n",
       "       'Neurological Disorder', 'Neuroma',\n",
       "       'Neuronal Apoptosis-Related Disease', 'Neuropathic pain',\n",
       "       'Non-functioning Pituitary Adenoma',\n",
       "       'Non-functioning Pituitary Neoplasms', 'Panic Disorder',\n",
       "       'Paraganglioma', \"Parkinson's Disease\", 'Pituitary Adenoma',\n",
       "       'Pituitary Neoplasms', 'Plexiform Neurofibroma',\n",
       "       'Pontocerebellar Hypoplasia', 'Post-traumatic Stress Disorder',\n",
       "       'Prader-Willi Syndrome',\n",
       "       'Prader-willi Syndrome and Angelman Syndrome', 'Prion Disease',\n",
       "       'Progressive Encephalopathy with Severe infantile Anorexia',\n",
       "       'Progressive Supranuclear Plasy', 'Psychiatric Disease',\n",
       "       'Restless legs Syndrome', 'Restless Legs Syndrome',\n",
       "       'Rett Syndrome', 'Rolandic Epilepsy with Speech impairment',\n",
       "       'Schizophrenia', 'Shy Drager Syndrome', 'Smith-Magenis Syndrome',\n",
       "       'Spasmodic Dysphonia', 'Spinocerebellar Ataxia',\n",
       "       'Status Epilepticus', 'Stroke', 'Tay-Sachs Disease',\n",
       "       'Tourette Syndrome', 'Tuberous Sclerosis',\n",
       "       'Von Hippel-Lindau Syndrome', 'West Syndrome',\n",
       "       'X-linked Hydrocephalus'], dtype=object)"
      ]
     },
     "execution_count": 10,
     "metadata": {},
     "output_type": "execute_result"
    }
   ],
   "source": [
    "df['Disease'].unique()"
   ]
  },
  {
   "cell_type": "code",
   "execution_count": 23,
   "id": "a0c63629-3eef-4ce3-a499-6ea35669dc71",
   "metadata": {},
   "outputs": [
    {
     "data": {
      "text/plain": [
       "<AxesSubplot:xlabel='Disease'>"
      ]
     },
     "execution_count": 23,
     "metadata": {},
     "output_type": "execute_result"
    },
    {
     "data": {
      "image/png": "[encoded data removed]",
      "text/plain": [
       "<Figure size 640x480 with 1 Axes>"
      ]
     },
     "metadata": {},
     "output_type": "display_data"
    }
   ],
   "source": [
    "count =  df['Disease'].value_counts()[:10]\n",
    "\n",
    "df.groupby(['Disease']).Disease.count().sort_values(ascending=False)[:10].plot(kind='bar')"
   ]
  },
  {
   "cell_type": "code",
   "execution_count": 30,
   "id": "e93b862d-5bbd-4720-9b72-01b22cc9bda7",
   "metadata": {},
   "outputs": [
    {
     "data": {
      "text/html": [
       "<div>\n",
       "<style scoped>\n",
       "    .dataframe tbody tr th:only-of-type {\n",
       "        vertical-align: middle;\n",
       "    }\n",
       "\n",
       "    .dataframe tbody tr th {\n",
       "        vertical-align: top;\n",
       "    }\n",
       "\n",
       "    .dataframe thead th {\n",
       "        text-align: right;\n",
       "    }\n",
       "</style>\n",
       "<table border=\"1\" class=\"dataframe\">\n",
       "  <thead>\n",
       "    <tr style=\"text-align: right;\">\n",
       "      <th></th>\n",
       "      <th>Category</th>\n",
       "      <th>Gene Symbol</th>\n",
       "      <th>Type</th>\n",
       "      <th>PMID</th>\n",
       "      <th>Source</th>\n",
       "    </tr>\n",
       "  </thead>\n",
       "  <tbody>\n",
       "    <tr>\n",
       "      <th>55</th>\n",
       "      <td>Central Nervous System Diseases; Mental Disorders</td>\n",
       "      <td>AC005017.1</td>\n",
       "      <td>antisense</td>\n",
       "      <td>30712078</td>\n",
       "      <td>EWAS Atlas</td>\n",
       "    </tr>\n",
       "    <tr>\n",
       "      <th>56</th>\n",
       "      <td>Central Nervous System Diseases; Mental Disorders</td>\n",
       "      <td>AC005789.9</td>\n",
       "      <td>antisense</td>\n",
       "      <td>30712078</td>\n",
       "      <td>EWAS Atlas</td>\n",
       "    </tr>\n",
       "    <tr>\n",
       "      <th>57</th>\n",
       "      <td>Central Nervous System Diseases; Mental Disorders</td>\n",
       "      <td>AC006277.2</td>\n",
       "      <td>antisense</td>\n",
       "      <td>30712078</td>\n",
       "      <td>EWAS Atlas</td>\n",
       "    </tr>\n",
       "    <tr>\n",
       "      <th>58</th>\n",
       "      <td>Central Nervous System Diseases; Mental Disorders</td>\n",
       "      <td>AC008937.3</td>\n",
       "      <td>antisense</td>\n",
       "      <td>30712078</td>\n",
       "      <td>EWAS Atlas</td>\n",
       "    </tr>\n",
       "    <tr>\n",
       "      <th>59</th>\n",
       "      <td>Central Nervous System Diseases; Mental Disorders</td>\n",
       "      <td>AC009312.1</td>\n",
       "      <td>antisense</td>\n",
       "      <td>26830138</td>\n",
       "      <td>GWAS Catalog</td>\n",
       "    </tr>\n",
       "    <tr>\n",
       "      <th>...</th>\n",
       "      <td>...</td>\n",
       "      <td>...</td>\n",
       "      <td>...</td>\n",
       "      <td>...</td>\n",
       "      <td>...</td>\n",
       "    </tr>\n",
       "    <tr>\n",
       "      <th>1669</th>\n",
       "      <td>Central Nervous System Diseases; Mental Disorders</td>\n",
       "      <td>NCR2</td>\n",
       "      <td>TEC</td>\n",
       "      <td>23562540</td>\n",
       "      <td>GWAS Catalog</td>\n",
       "    </tr>\n",
       "    <tr>\n",
       "      <th>1670</th>\n",
       "      <td>Central Nervous System Diseases; Mental Disorders</td>\n",
       "      <td>RHBDF1</td>\n",
       "      <td>TEC</td>\n",
       "      <td>28714976</td>\n",
       "      <td>GWAS Catalog</td>\n",
       "    </tr>\n",
       "    <tr>\n",
       "      <th>1671</th>\n",
       "      <td>Central Nervous System Diseases; Mental Disorders</td>\n",
       "      <td>RP11-182N22.9</td>\n",
       "      <td>TEC</td>\n",
       "      <td>30712078</td>\n",
       "      <td>EWAS Atlas</td>\n",
       "    </tr>\n",
       "    <tr>\n",
       "      <th>1672</th>\n",
       "      <td>Central Nervous System Diseases; Mental Disorders</td>\n",
       "      <td>RP11-196G11.3</td>\n",
       "      <td>TEC</td>\n",
       "      <td>30712078</td>\n",
       "      <td>EWAS Atlas</td>\n",
       "    </tr>\n",
       "    <tr>\n",
       "      <th>1673</th>\n",
       "      <td>Central Nervous System Diseases; Mental Disorders</td>\n",
       "      <td>SRCIN1</td>\n",
       "      <td>TEC</td>\n",
       "      <td>30636644</td>\n",
       "      <td>GWAS Catalog</td>\n",
       "    </tr>\n",
       "  </tbody>\n",
       "</table>\n",
       "<p>1619 rows × 5 columns</p>\n",
       "</div>"
      ],
      "text/plain": [
       "                                               Category    Gene Symbol  \\\n",
       "55    Central Nervous System Diseases; Mental Disorders     AC005017.1   \n",
       "56    Central Nervous System Diseases; Mental Disorders     AC005789.9   \n",
       "57    Central Nervous System Diseases; Mental Disorders     AC006277.2   \n",
       "58    Central Nervous System Diseases; Mental Disorders     AC008937.3   \n",
       "59    Central Nervous System Diseases; Mental Disorders     AC009312.1   \n",
       "...                                                 ...            ...   \n",
       "1669  Central Nervous System Diseases; Mental Disorders           NCR2   \n",
       "1670  Central Nervous System Diseases; Mental Disorders         RHBDF1   \n",
       "1671  Central Nervous System Diseases; Mental Disorders  RP11-182N22.9   \n",
       "1672  Central Nervous System Diseases; Mental Disorders  RP11-196G11.3   \n",
       "1673  Central Nervous System Diseases; Mental Disorders         SRCIN1   \n",
       "\n",
       "           Type        PMID        Source  \n",
       "55    antisense  30712078      EWAS Atlas  \n",
       "56    antisense  30712078      EWAS Atlas  \n",
       "57    antisense  30712078      EWAS Atlas  \n",
       "58    antisense  30712078      EWAS Atlas  \n",
       "59    antisense  26830138    GWAS Catalog  \n",
       "...         ...         ...           ...  \n",
       "1669        TEC  23562540    GWAS Catalog  \n",
       "1670        TEC  28714976    GWAS Catalog  \n",
       "1671        TEC  30712078      EWAS Atlas  \n",
       "1672        TEC  30712078      EWAS Atlas  \n",
       "1673        TEC  30636644    GWAS Catalog  \n",
       "\n",
       "[1619 rows x 5 columns]"
      ]
     },
     "execution_count": 30,
     "metadata": {},
     "output_type": "execute_result"
    }
   ],
   "source": [
    "aux = \"Alzheimer's Disease\"\n",
    "alz = df.query('Disease == @aux').drop(['Disease'],axis=1)\n",
    "alz"
   ]
  },
  {
   "cell_type": "code",
   "execution_count": 34,
   "id": "cbf88615-af4f-4d4a-99fd-63caa28eb6ed",
   "metadata": {},
   "outputs": [
    {
     "data": {
      "text/plain": [
       "<AxesSubplot:xlabel='Type'>"
      ]
     },
     "execution_count": 34,
     "metadata": {},
     "output_type": "execute_result"
    },
    {
     "data": {
      "image/png": "[encoded data removed]",
      "text/plain": [
       "<Figure size 640x480 with 1 Axes>"
      ]
     },
     "metadata": {},
     "output_type": "display_data"
    }
   ],
   "source": [
    "alz.groupby(['Type']).Type.count().plot(kind='bar')"
   ]
  },
  {
   "cell_type": "code",
   "execution_count": 35,
   "id": "296558b2-bfe0-449a-98b3-6912f64c1312",
   "metadata": {},
   "outputs": [
    {
     "data": {
      "text/plain": [
       "array(['Central Nervous System Diseases; Mental Disorders'], dtype=object)"
      ]
     },
     "execution_count": 35,
     "metadata": {},
     "output_type": "execute_result"
    }
   ],
   "source": [
    "alz['Category'].unique()"
   ]
  },
  {
   "cell_type": "code",
   "execution_count": 41,
   "id": "2a343add-d7b9-4678-82f7-fdf55f4aea94",
   "metadata": {},
   "outputs": [
    {
     "data": {
      "text/plain": [
       "1608"
      ]
     },
     "execution_count": 41,
     "metadata": {},
     "output_type": "execute_result"
    }
   ],
   "source": [
    "alz['Gene Symbol'].unique().size ### Genes únicos"
   ]
  },
  {
   "cell_type": "code",
   "execution_count": null,
   "id": "bb5e6765-1ed5-4f9c-ba53-7a320f457060",
   "metadata": {},
   "outputs": [],
   "source": []
  }
 ],
 "metadata": {
  "kernelspec": {
   "display_name": "Python 3 (ipykernel)",
   "language": "python",
   "name": "python3"
  },
  "language_info": {
   "codemirror_mode": {
    "name": "ipython",
    "version": 3
   },
   "file_extension": ".py",
   "mimetype": "text/x-python",
   "name": "python",
   "nbconvert_exporter": "python",
   "pygments_lexer": "ipython3",
   "version": "3.9.13"
  }
 },
 "nbformat": 4,
 "nbformat_minor": 5
}
