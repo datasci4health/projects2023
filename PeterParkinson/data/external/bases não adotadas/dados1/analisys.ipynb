{
 "cells": [
  {
   "cell_type": "code",
   "execution_count": 10,
   "id": "0999450b-c796-4ba4-8f9e-0d975eca9027",
   "metadata": {},
   "outputs": [],
   "source": [
    "import numpy as np\n",
    "import pandas as pd\n",
    "import matplotlib.pyplot as plt"
   ]
  },
  {
   "attachments": {},
   "cell_type": "markdown",
   "id": "0439d525-482e-45b6-8707-b88e9b19a01b",
   "metadata": {},
   "source": [
    "### Dataset\n",
    "O primeiro dataset foi pesquisado para o tema de Alzheimer, podendo ser encontrado no link https://ctdbase.org/detail.go?type=disease&acc=MESH%3AD000544&view=expConsol, foi observado que nesse dataset não teria dados o suficiente para a doença, visto que somente 11 pessoas do total teriam realmente, deixando a pesquisa e a analise com um bias.\n",
    "As caracteristicas desse dataset inicialmente era bem interessante, pois mostravas alguns dados de país, receptores da doença, tipos de estressor, sua relação com alguns eventos de exposição, mas devido a sua baixa quantidade de dados não poderia ser utilizado."
   ]
  },
  {
   "cell_type": "code",
   "execution_count": 2,
   "id": "5be4a4e9-9182-473e-adcc-5ea120f64719",
   "metadata": {},
   "outputs": [],
   "source": [
    "df = pd.read_csv(\"CTD_MESHD000544_exposure_20230520230729.csv\")"
   ]
  },
  {
   "cell_type": "code",
   "execution_count": 9,
   "id": "1074b690-190b-41d3-a57b-d38a4cb580bc",
   "metadata": {},
   "outputs": [
    {
     "data": {
      "text/plain": [
       "Index(['Reference', 'Stressor Source Category', 'Exposure Stressor',\n",
       "       'Stressor Source Details', 'Stressor Notes', 'Number of Receptors',\n",
       "       'Receptors', 'Receptor Notes', 'Age', 'Sex', 'Race', 'Methods',\n",
       "       'LOD/LOQ', 'Detection Frequency (%)', 'Medium', 'Exposure Marker',\n",
       "       'Marker Level', 'Measurement Statistic', 'Assay Notes', 'Country',\n",
       "       'State or Province', 'City, Town, Region or Area',\n",
       "       'Outcome Relationship', 'Disease'],\n",
       "      dtype='object')"
      ]
     },
     "execution_count": 9,
     "metadata": {},
     "output_type": "execute_result"
    }
   ],
   "source": [
    "df.columns"
   ]
  },
  {
   "cell_type": "code",
   "execution_count": 39,
   "id": "4c22acb9-b364-4edf-ac74-21ed7e0641b8",
   "metadata": {},
   "outputs": [
    {
     "name": "stdout",
     "output_type": "stream",
     "text": [
      "<class 'pandas.core.frame.DataFrame'>\n",
      "RangeIndex: 97 entries, 0 to 96\n",
      "Data columns (total 24 columns):\n",
      " #   Column                      Non-Null Count  Dtype  \n",
      "---  ------                      --------------  -----  \n",
      " 0   Reference                   97 non-null     int64  \n",
      " 1   Stressor Source Category    97 non-null     object \n",
      " 2   Exposure Stressor           97 non-null     object \n",
      " 3   Stressor Source Details     35 non-null     object \n",
      " 4   Stressor Notes              10 non-null     object \n",
      " 5   Number of Receptors         97 non-null     object \n",
      " 6   Receptors                   97 non-null     object \n",
      " 7   Receptor Notes              61 non-null     object \n",
      " 8   Age                         89 non-null     object \n",
      " 9   Sex                         89 non-null     object \n",
      " 10  Race                        36 non-null     object \n",
      " 11  Methods                     89 non-null     object \n",
      " 12  LOD/LOQ                     56 non-null     object \n",
      " 13  Detection Frequency (%)     8 non-null      float64\n",
      " 14  Medium                      91 non-null     object \n",
      " 15  Exposure Marker             91 non-null     object \n",
      " 16  Marker Level                90 non-null     object \n",
      " 17  Measurement Statistic       90 non-null     object \n",
      " 18  Assay Notes                 10 non-null     object \n",
      " 19  Country                     97 non-null     object \n",
      " 20  State or Province           33 non-null     object \n",
      " 21  City, Town, Region or Area  34 non-null     object \n",
      " 22  Outcome Relationship        11 non-null     object \n",
      " 23  Disease                     97 non-null     object \n",
      "dtypes: float64(1), int64(1), object(22)\n",
      "memory usage: 18.3+ KB\n"
     ]
    }
   ],
   "source": [
    "df.info()"
   ]
  },
  {
   "cell_type": "code",
   "execution_count": 4,
   "id": "b57299ee-bd73-4e75-a441-6f09f79df948",
   "metadata": {},
   "outputs": [
    {
     "data": {
      "text/html": [
       "<div>\n",
       "<style scoped>\n",
       "    .dataframe tbody tr th:only-of-type {\n",
       "        vertical-align: middle;\n",
       "    }\n",
       "\n",
       "    .dataframe tbody tr th {\n",
       "        vertical-align: top;\n",
       "    }\n",
       "\n",
       "    .dataframe thead th {\n",
       "        text-align: right;\n",
       "    }\n",
       "</style>\n",
       "<table border=\"1\" class=\"dataframe\">\n",
       "  <thead>\n",
       "    <tr style=\"text-align: right;\">\n",
       "      <th></th>\n",
       "      <th>Reference</th>\n",
       "      <th>Stressor Source Category</th>\n",
       "      <th>Exposure Stressor</th>\n",
       "      <th>Stressor Source Details</th>\n",
       "      <th>Number of Stressor Samples</th>\n",
       "      <th>Stressor Notes</th>\n",
       "      <th>Number of Receptors</th>\n",
       "      <th>Receptors</th>\n",
       "      <th>Receptor Notes</th>\n",
       "      <th>Smoking Status</th>\n",
       "      <th>...</th>\n",
       "      <th>Marker Level</th>\n",
       "      <th>Measurement Statistic</th>\n",
       "      <th>Assay Notes</th>\n",
       "      <th>Country</th>\n",
       "      <th>State or Province</th>\n",
       "      <th>City, Town, Region or Area</th>\n",
       "      <th>Exposure Event Notes</th>\n",
       "      <th>Outcome Relationship</th>\n",
       "      <th>Disease</th>\n",
       "      <th>Phenotype</th>\n",
       "    </tr>\n",
       "  </thead>\n",
       "  <tbody>\n",
       "    <tr>\n",
       "      <th>0</th>\n",
       "      <td>19064650</td>\n",
       "      <td>Dietary|Environmental</td>\n",
       "      <td>Aluminum</td>\n",
       "      <td>NaN</td>\n",
       "      <td>NaN</td>\n",
       "      <td>NaN</td>\n",
       "      <td>4,177</td>\n",
       "      <td>Study subjects</td>\n",
       "      <td>NaN</td>\n",
       "      <td>NaN</td>\n",
       "      <td>...</td>\n",
       "      <td>NaN</td>\n",
       "      <td>NaN</td>\n",
       "      <td>NaN</td>\n",
       "      <td>France</td>\n",
       "      <td>NaN</td>\n",
       "      <td>NaN</td>\n",
       "      <td>NaN</td>\n",
       "      <td>positive correlation</td>\n",
       "      <td>Alzheimer Disease</td>\n",
       "      <td>NaN</td>\n",
       "    </tr>\n",
       "    <tr>\n",
       "      <th>1</th>\n",
       "      <td>15355492</td>\n",
       "      <td>Environmental</td>\n",
       "      <td>beta-N-methylamino-L-alanine</td>\n",
       "      <td>NaN</td>\n",
       "      <td>NaN</td>\n",
       "      <td>NaN</td>\n",
       "      <td>2</td>\n",
       "      <td>Subjects with disease:Alzheimer Disease</td>\n",
       "      <td>Canadian comparison who died of progressive ne...</td>\n",
       "      <td>NaN</td>\n",
       "      <td>...</td>\n",
       "      <td>6.55 micrograms per gram</td>\n",
       "      <td>mean</td>\n",
       "      <td>free BMAA form</td>\n",
       "      <td>Canada</td>\n",
       "      <td>NaN</td>\n",
       "      <td>NaN</td>\n",
       "      <td>NaN</td>\n",
       "      <td>NaN</td>\n",
       "      <td>NaN</td>\n",
       "      <td>NaN</td>\n",
       "    </tr>\n",
       "    <tr>\n",
       "      <th>2</th>\n",
       "      <td>15355492</td>\n",
       "      <td>Environmental</td>\n",
       "      <td>beta-N-methylamino-L-alanine</td>\n",
       "      <td>NaN</td>\n",
       "      <td>NaN</td>\n",
       "      <td>NaN</td>\n",
       "      <td>2</td>\n",
       "      <td>Subjects with disease:Alzheimer Disease</td>\n",
       "      <td>Canadian comparison who died of progressive ne...</td>\n",
       "      <td>NaN</td>\n",
       "      <td>...</td>\n",
       "      <td>3.4 micrograms per gram</td>\n",
       "      <td>minimum</td>\n",
       "      <td>free BMAA form</td>\n",
       "      <td>Canada</td>\n",
       "      <td>NaN</td>\n",
       "      <td>NaN</td>\n",
       "      <td>NaN</td>\n",
       "      <td>NaN</td>\n",
       "      <td>NaN</td>\n",
       "      <td>NaN</td>\n",
       "    </tr>\n",
       "    <tr>\n",
       "      <th>3</th>\n",
       "      <td>15355492</td>\n",
       "      <td>Environmental</td>\n",
       "      <td>beta-N-methylamino-L-alanine</td>\n",
       "      <td>NaN</td>\n",
       "      <td>NaN</td>\n",
       "      <td>NaN</td>\n",
       "      <td>2</td>\n",
       "      <td>Subjects with disease:Alzheimer Disease</td>\n",
       "      <td>Canadian comparison who died of progressive ne...</td>\n",
       "      <td>NaN</td>\n",
       "      <td>...</td>\n",
       "      <td>9.7 micrograms per gram</td>\n",
       "      <td>maximum</td>\n",
       "      <td>free BMAA form</td>\n",
       "      <td>Canada</td>\n",
       "      <td>NaN</td>\n",
       "      <td>NaN</td>\n",
       "      <td>NaN</td>\n",
       "      <td>NaN</td>\n",
       "      <td>NaN</td>\n",
       "      <td>NaN</td>\n",
       "    </tr>\n",
       "    <tr>\n",
       "      <th>4</th>\n",
       "      <td>15355492</td>\n",
       "      <td>Environmental</td>\n",
       "      <td>beta-N-methylamino-L-alanine</td>\n",
       "      <td>NaN</td>\n",
       "      <td>NaN</td>\n",
       "      <td>NaN</td>\n",
       "      <td>2</td>\n",
       "      <td>Subjects with disease:Alzheimer Disease</td>\n",
       "      <td>Canadian comparison who died of progressive ne...</td>\n",
       "      <td>NaN</td>\n",
       "      <td>...</td>\n",
       "      <td>242 micrograms per gram</td>\n",
       "      <td>mean</td>\n",
       "      <td>protein BMAA form</td>\n",
       "      <td>Canada</td>\n",
       "      <td>NaN</td>\n",
       "      <td>NaN</td>\n",
       "      <td>NaN</td>\n",
       "      <td>NaN</td>\n",
       "      <td>NaN</td>\n",
       "      <td>NaN</td>\n",
       "    </tr>\n",
       "    <tr>\n",
       "      <th>...</th>\n",
       "      <td>...</td>\n",
       "      <td>...</td>\n",
       "      <td>...</td>\n",
       "      <td>...</td>\n",
       "      <td>...</td>\n",
       "      <td>...</td>\n",
       "      <td>...</td>\n",
       "      <td>...</td>\n",
       "      <td>...</td>\n",
       "      <td>...</td>\n",
       "      <td>...</td>\n",
       "      <td>...</td>\n",
       "      <td>...</td>\n",
       "      <td>...</td>\n",
       "      <td>...</td>\n",
       "      <td>...</td>\n",
       "      <td>...</td>\n",
       "      <td>...</td>\n",
       "      <td>...</td>\n",
       "      <td>...</td>\n",
       "      <td>...</td>\n",
       "    </tr>\n",
       "    <tr>\n",
       "      <th>92</th>\n",
       "      <td>31964412</td>\n",
       "      <td>Environmental</td>\n",
       "      <td>Soot</td>\n",
       "      <td>air pollution</td>\n",
       "      <td>NaN</td>\n",
       "      <td>NaN</td>\n",
       "      <td>1,227</td>\n",
       "      <td>Subjects with disease:Alzheimer Disease</td>\n",
       "      <td>NaN</td>\n",
       "      <td>NaN</td>\n",
       "      <td>...</td>\n",
       "      <td>1.2 micrograms per cubic meter</td>\n",
       "      <td>interquartile range</td>\n",
       "      <td>NaN</td>\n",
       "      <td>Canada</td>\n",
       "      <td>British Columbia</td>\n",
       "      <td>Vancouver</td>\n",
       "      <td>NaN</td>\n",
       "      <td>NaN</td>\n",
       "      <td>NaN</td>\n",
       "      <td>NaN</td>\n",
       "    </tr>\n",
       "    <tr>\n",
       "      <th>93</th>\n",
       "      <td>31964412</td>\n",
       "      <td>Environmental</td>\n",
       "      <td>Soot</td>\n",
       "      <td>air pollution</td>\n",
       "      <td>NaN</td>\n",
       "      <td>NaN</td>\n",
       "      <td>12,271</td>\n",
       "      <td>Controls for disease:Alzheimer Disease</td>\n",
       "      <td>NaN</td>\n",
       "      <td>NaN</td>\n",
       "      <td>...</td>\n",
       "      <td>0 micrograms per cubic meter</td>\n",
       "      <td>minimum</td>\n",
       "      <td>NaN</td>\n",
       "      <td>Canada</td>\n",
       "      <td>British Columbia</td>\n",
       "      <td>Vancouver</td>\n",
       "      <td>NaN</td>\n",
       "      <td>NaN</td>\n",
       "      <td>NaN</td>\n",
       "      <td>NaN</td>\n",
       "    </tr>\n",
       "    <tr>\n",
       "      <th>94</th>\n",
       "      <td>31964412</td>\n",
       "      <td>Environmental</td>\n",
       "      <td>Soot</td>\n",
       "      <td>air pollution</td>\n",
       "      <td>NaN</td>\n",
       "      <td>NaN</td>\n",
       "      <td>12,271</td>\n",
       "      <td>Controls for disease:Alzheimer Disease</td>\n",
       "      <td>NaN</td>\n",
       "      <td>NaN</td>\n",
       "      <td>...</td>\n",
       "      <td>1 micrograms per cubic meter</td>\n",
       "      <td>median</td>\n",
       "      <td>NaN</td>\n",
       "      <td>Canada</td>\n",
       "      <td>British Columbia</td>\n",
       "      <td>Vancouver</td>\n",
       "      <td>NaN</td>\n",
       "      <td>NaN</td>\n",
       "      <td>NaN</td>\n",
       "      <td>NaN</td>\n",
       "    </tr>\n",
       "    <tr>\n",
       "      <th>95</th>\n",
       "      <td>31964412</td>\n",
       "      <td>Environmental</td>\n",
       "      <td>Soot</td>\n",
       "      <td>air pollution</td>\n",
       "      <td>NaN</td>\n",
       "      <td>NaN</td>\n",
       "      <td>12,271</td>\n",
       "      <td>Controls for disease:Alzheimer Disease</td>\n",
       "      <td>NaN</td>\n",
       "      <td>NaN</td>\n",
       "      <td>...</td>\n",
       "      <td>5 micrograms per cubic meter</td>\n",
       "      <td>maximum</td>\n",
       "      <td>NaN</td>\n",
       "      <td>Canada</td>\n",
       "      <td>British Columbia</td>\n",
       "      <td>Vancouver</td>\n",
       "      <td>NaN</td>\n",
       "      <td>NaN</td>\n",
       "      <td>NaN</td>\n",
       "      <td>NaN</td>\n",
       "    </tr>\n",
       "    <tr>\n",
       "      <th>96</th>\n",
       "      <td>31964412</td>\n",
       "      <td>Environmental</td>\n",
       "      <td>Soot</td>\n",
       "      <td>air pollution</td>\n",
       "      <td>NaN</td>\n",
       "      <td>NaN</td>\n",
       "      <td>12,271</td>\n",
       "      <td>Controls for disease:Alzheimer Disease</td>\n",
       "      <td>NaN</td>\n",
       "      <td>NaN</td>\n",
       "      <td>...</td>\n",
       "      <td>1.1 micrograms per cubic meter</td>\n",
       "      <td>interquartile range</td>\n",
       "      <td>NaN</td>\n",
       "      <td>Canada</td>\n",
       "      <td>British Columbia</td>\n",
       "      <td>Vancouver</td>\n",
       "      <td>NaN</td>\n",
       "      <td>NaN</td>\n",
       "      <td>NaN</td>\n",
       "      <td>NaN</td>\n",
       "    </tr>\n",
       "  </tbody>\n",
       "</table>\n",
       "<p>97 rows × 28 columns</p>\n",
       "</div>"
      ],
      "text/plain": [
       "    Reference Stressor Source Category             Exposure Stressor  \\\n",
       "0    19064650    Dietary|Environmental                      Aluminum   \n",
       "1    15355492            Environmental  beta-N-methylamino-L-alanine   \n",
       "2    15355492            Environmental  beta-N-methylamino-L-alanine   \n",
       "3    15355492            Environmental  beta-N-methylamino-L-alanine   \n",
       "4    15355492            Environmental  beta-N-methylamino-L-alanine   \n",
       "..        ...                      ...                           ...   \n",
       "92   31964412            Environmental                          Soot   \n",
       "93   31964412            Environmental                          Soot   \n",
       "94   31964412            Environmental                          Soot   \n",
       "95   31964412            Environmental                          Soot   \n",
       "96   31964412            Environmental                          Soot   \n",
       "\n",
       "   Stressor Source Details  Number of Stressor Samples Stressor Notes  \\\n",
       "0                      NaN                         NaN            NaN   \n",
       "1                      NaN                         NaN            NaN   \n",
       "2                      NaN                         NaN            NaN   \n",
       "3                      NaN                         NaN            NaN   \n",
       "4                      NaN                         NaN            NaN   \n",
       "..                     ...                         ...            ...   \n",
       "92           air pollution                         NaN            NaN   \n",
       "93           air pollution                         NaN            NaN   \n",
       "94           air pollution                         NaN            NaN   \n",
       "95           air pollution                         NaN            NaN   \n",
       "96           air pollution                         NaN            NaN   \n",
       "\n",
       "   Number of Receptors                                Receptors  \\\n",
       "0                4,177                           Study subjects   \n",
       "1                    2  Subjects with disease:Alzheimer Disease   \n",
       "2                    2  Subjects with disease:Alzheimer Disease   \n",
       "3                    2  Subjects with disease:Alzheimer Disease   \n",
       "4                    2  Subjects with disease:Alzheimer Disease   \n",
       "..                 ...                                      ...   \n",
       "92               1,227  Subjects with disease:Alzheimer Disease   \n",
       "93              12,271   Controls for disease:Alzheimer Disease   \n",
       "94              12,271   Controls for disease:Alzheimer Disease   \n",
       "95              12,271   Controls for disease:Alzheimer Disease   \n",
       "96              12,271   Controls for disease:Alzheimer Disease   \n",
       "\n",
       "                                       Receptor Notes Smoking Status  ...  \\\n",
       "0                                                 NaN            NaN  ...   \n",
       "1   Canadian comparison who died of progressive ne...            NaN  ...   \n",
       "2   Canadian comparison who died of progressive ne...            NaN  ...   \n",
       "3   Canadian comparison who died of progressive ne...            NaN  ...   \n",
       "4   Canadian comparison who died of progressive ne...            NaN  ...   \n",
       "..                                                ...            ...  ...   \n",
       "92                                                NaN            NaN  ...   \n",
       "93                                                NaN            NaN  ...   \n",
       "94                                                NaN            NaN  ...   \n",
       "95                                                NaN            NaN  ...   \n",
       "96                                                NaN            NaN  ...   \n",
       "\n",
       "                      Marker Level Measurement Statistic        Assay Notes  \\\n",
       "0                              NaN                   NaN                NaN   \n",
       "1         6.55 micrograms per gram                  mean     free BMAA form   \n",
       "2          3.4 micrograms per gram               minimum     free BMAA form   \n",
       "3          9.7 micrograms per gram               maximum     free BMAA form   \n",
       "4          242 micrograms per gram                  mean  protein BMAA form   \n",
       "..                             ...                   ...                ...   \n",
       "92  1.2 micrograms per cubic meter   interquartile range                NaN   \n",
       "93    0 micrograms per cubic meter               minimum                NaN   \n",
       "94    1 micrograms per cubic meter                median                NaN   \n",
       "95    5 micrograms per cubic meter               maximum                NaN   \n",
       "96  1.1 micrograms per cubic meter   interquartile range                NaN   \n",
       "\n",
       "   Country State or Province  City, Town, Region or Area Exposure Event Notes  \\\n",
       "0   France               NaN                         NaN                  NaN   \n",
       "1   Canada               NaN                         NaN                  NaN   \n",
       "2   Canada               NaN                         NaN                  NaN   \n",
       "3   Canada               NaN                         NaN                  NaN   \n",
       "4   Canada               NaN                         NaN                  NaN   \n",
       "..     ...               ...                         ...                  ...   \n",
       "92  Canada  British Columbia                   Vancouver                  NaN   \n",
       "93  Canada  British Columbia                   Vancouver                  NaN   \n",
       "94  Canada  British Columbia                   Vancouver                  NaN   \n",
       "95  Canada  British Columbia                   Vancouver                  NaN   \n",
       "96  Canada  British Columbia                   Vancouver                  NaN   \n",
       "\n",
       "    Outcome Relationship            Disease Phenotype  \n",
       "0   positive correlation  Alzheimer Disease       NaN  \n",
       "1                    NaN                NaN       NaN  \n",
       "2                    NaN                NaN       NaN  \n",
       "3                    NaN                NaN       NaN  \n",
       "4                    NaN                NaN       NaN  \n",
       "..                   ...                ...       ...  \n",
       "92                   NaN                NaN       NaN  \n",
       "93                   NaN                NaN       NaN  \n",
       "94                   NaN                NaN       NaN  \n",
       "95                   NaN                NaN       NaN  \n",
       "96                   NaN                NaN       NaN  \n",
       "\n",
       "[97 rows x 28 columns]"
      ]
     },
     "execution_count": 4,
     "metadata": {},
     "output_type": "execute_result"
    }
   ],
   "source": [
    "df"
   ]
  },
  {
   "cell_type": "code",
   "execution_count": 5,
   "id": "5d742c84-0bc8-4a23-b130-36089b00d476",
   "metadata": {},
   "outputs": [
    {
     "data": {
      "text/plain": [
       "Reference                      0\n",
       "Stressor Source Category       0\n",
       "Exposure Stressor              0\n",
       "Stressor Source Details       62\n",
       "Number of Stressor Samples    97\n",
       "Stressor Notes                87\n",
       "Number of Receptors            0\n",
       "Receptors                      0\n",
       "Receptor Notes                36\n",
       "Smoking Status                95\n",
       "Age                            8\n",
       "Sex                            8\n",
       "Race                          61\n",
       "Methods                        8\n",
       "LOD/LOQ                       41\n",
       "Detection Frequency (%)       89\n",
       "Medium                         6\n",
       "Exposure Marker                6\n",
       "Marker Level                   7\n",
       "Measurement Statistic          7\n",
       "Assay Notes                   87\n",
       "Country                        0\n",
       "State or Province             64\n",
       "City, Town, Region or Area    63\n",
       "Exposure Event Notes          97\n",
       "Outcome Relationship          86\n",
       "Disease                       86\n",
       "Phenotype                     97\n",
       "dtype: int64"
      ]
     },
     "execution_count": 5,
     "metadata": {},
     "output_type": "execute_result"
    }
   ],
   "source": [
    "df.isna().sum()"
   ]
  },
  {
   "cell_type": "code",
   "execution_count": 6,
   "id": "7d114bca-5bdf-4d05-b479-c0bb768d86d4",
   "metadata": {},
   "outputs": [],
   "source": [
    "df = df.drop(['Phenotype', 'Exposure Event Notes', 'Number of Stressor Samples', 'Smoking Status'], axis = 1)"
   ]
  },
  {
   "cell_type": "code",
   "execution_count": 7,
   "id": "f676df5e-a466-43e5-b586-17157d35fdd2",
   "metadata": {},
   "outputs": [
    {
     "data": {
      "text/plain": [
       "array(['Alzheimer Disease', nan], dtype=object)"
      ]
     },
     "execution_count": 7,
     "metadata": {},
     "output_type": "execute_result"
    }
   ],
   "source": [
    "df['Disease'].unique()"
   ]
  },
  {
   "cell_type": "code",
   "execution_count": 15,
   "id": "8e830292-e992-49f4-979f-9351a431157f",
   "metadata": {},
   "outputs": [],
   "source": [
    "df['Disease'].fillna(0, inplace=True)"
   ]
  },
  {
   "cell_type": "code",
   "execution_count": 16,
   "id": "e93b862d-5bbd-4720-9b72-01b22cc9bda7",
   "metadata": {},
   "outputs": [
    {
     "data": {
      "text/plain": [
       "0                    86\n",
       "Alzheimer Disease    11\n",
       "Name: Disease, dtype: int64"
      ]
     },
     "execution_count": 16,
     "metadata": {},
     "output_type": "execute_result"
    }
   ],
   "source": [
    "df['Disease'].value_counts()"
   ]
  },
  {
   "cell_type": "code",
   "execution_count": 17,
   "id": "8bdead79-9a3a-4572-b779-963be381391e",
   "metadata": {},
   "outputs": [],
   "source": [
    "count = df['Disease'].value_counts()"
   ]
  },
  {
   "cell_type": "code",
   "execution_count": 18,
   "id": "f4855d77-4b6d-47c0-9ea2-3b0379135a92",
   "metadata": {},
   "outputs": [
    {
     "data": {
      "text/plain": [
       "0                    86\n",
       "Alzheimer Disease    11\n",
       "Name: Disease, dtype: int64"
      ]
     },
     "execution_count": 18,
     "metadata": {},
     "output_type": "execute_result"
    }
   ],
   "source": [
    "count"
   ]
  },
  {
   "cell_type": "code",
   "execution_count": 20,
   "id": "4af6f058-8a34-4133-90b8-65deafe0031b",
   "metadata": {},
   "outputs": [
    {
     "data": {
      "image/png": "[encoded data removed]",
      "text/plain": [
       "<Figure size 640x480 with 1 Axes>"
      ]
     },
     "metadata": {},
     "output_type": "display_data"
    }
   ],
   "source": [
    "# Plotar o gráfico de barras\n",
    "plt.bar(['Tem Alzheimer', 'Não Tem Alzheimer'], count)\n",
    "plt.xlabel('Condição')\n",
    "plt.ylabel('Quantidade de Pessoas')\n",
    "plt.title('Quantidade de Pessoas com e sem Alzheimer')\n",
    "plt.show()"
   ]
  },
  {
   "cell_type": "code",
   "execution_count": 23,
   "id": "09670dee-6123-47d4-a02c-707e0ed09a15",
   "metadata": {},
   "outputs": [
    {
     "data": {
      "text/plain": [
       "45-84 years (range)    32\n",
       "78 years (average)     24\n",
       "88 years (average)     24\n",
       "82 years (mean)         2\n",
       "85.7 years (mean)       2\n",
       "60-89 years (range)     1\n",
       "55-85 years (range)     1\n",
       "75.6 years (mean)       1\n",
       "70.2 years (mean)       1\n",
       "74.1 years (mean)       1\n",
       "Name: Age, dtype: int64"
      ]
     },
     "execution_count": 23,
     "metadata": {},
     "output_type": "execute_result"
    }
   ],
   "source": [
    "idade = df['Age'].value_counts()\n",
    "idade"
   ]
  },
  {
   "cell_type": "code",
   "execution_count": 37,
   "id": "4f51da46-03ec-4547-98b7-859dcc2c657c",
   "metadata": {},
   "outputs": [
    {
     "data": {
      "text/plain": [
       "<AxesSubplot:xlabel='Age'>"
      ]
     },
     "execution_count": 37,
     "metadata": {},
     "output_type": "execute_result"
    },
    {
     "data": {
      "image/png": "[encoded data removed]",
      "text/plain": [
       "<Figure size 640x480 with 1 Axes>"
      ]
     },
     "metadata": {},
     "output_type": "display_data"
    }
   ],
   "source": [
    "df.groupby(['Age']).Age.count().sort_values().plot(kind='bar')"
   ]
  }
 ],
 "metadata": {
  "kernelspec": {
   "display_name": "Python 3 (ipykernel)",
   "language": "python",
   "name": "python3"
  },
  "language_info": {
   "codemirror_mode": {
    "name": "ipython",
    "version": 3
   },
   "file_extension": ".py",
   "mimetype": "text/x-python",
   "name": "python",
   "nbconvert_exporter": "python",
   "pygments_lexer": "ipython3",
   "version": "3.9.13"
  }
 },
 "nbformat": 4,
 "nbformat_minor": 5
}
