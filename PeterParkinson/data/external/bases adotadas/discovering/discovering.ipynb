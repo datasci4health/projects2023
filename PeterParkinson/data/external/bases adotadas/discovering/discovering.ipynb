{
 "cells": [
  {
   "cell_type": "code",
   "execution_count": 33,
   "id": "cad6b664-8885-4fa7-b1b5-c7867b0d1626",
   "metadata": {},
   "outputs": [],
   "source": [
    "import pandas as pd\n",
    "import numpy as np\n",
    "import matplotlib.pyplot as plt"
   ]
  },
  {
   "cell_type": "markdown",
   "id": "c1168352-fa16-4eab-a1da-05781195d41b",
   "metadata": {},
   "source": [
    "### Base inicial\n",
    "\n",
    "Foi descoberto um site, https://foxden.michaeljfox.org/insight/explore/fox.jsp , criado login e senha, e começamos uma análise inicial para descobrir a base encontrada.\n",
    "\n",
    "A fim de saber tamanho, informações e formas de se tratar"
   ]
  },
  {
   "cell_type": "code",
   "execution_count": 3,
   "id": "a9f345c5-a064-4d30-9026-e9ddca725be6",
   "metadata": {},
   "outputs": [
    {
     "data": {
      "text/html": [
       "<div>\n",
       "<style scoped>\n",
       "    .dataframe tbody tr th:only-of-type {\n",
       "        vertical-align: middle;\n",
       "    }\n",
       "\n",
       "    .dataframe tbody tr th {\n",
       "        vertical-align: top;\n",
       "    }\n",
       "\n",
       "    .dataframe thead th {\n",
       "        text-align: right;\n",
       "    }\n",
       "</style>\n",
       "<table border=\"1\" class=\"dataframe\">\n",
       "  <thead>\n",
       "    <tr style=\"text-align: right;\">\n",
       "      <th></th>\n",
       "      <th>fox_insight_id</th>\n",
       "      <th>age</th>\n",
       "      <th>days_elapsed</th>\n",
       "      <th>days_acquired</th>\n",
       "      <th>schedule_of_activities</th>\n",
       "      <th>Mobility</th>\n",
       "      <th>Care</th>\n",
       "      <th>Active</th>\n",
       "      <th>Pain</th>\n",
       "      <th>Anxious</th>\n",
       "      <th>Health</th>\n",
       "      <th>HealthPNA</th>\n",
       "    </tr>\n",
       "  </thead>\n",
       "  <tbody>\n",
       "    <tr>\n",
       "      <th>0</th>\n",
       "      <td>FOX_000014</td>\n",
       "      <td>56.7</td>\n",
       "      <td>20632</td>\n",
       "      <td>0</td>\n",
       "      <td>REG</td>\n",
       "      <td>0</td>\n",
       "      <td>0.0</td>\n",
       "      <td>0.0</td>\n",
       "      <td>1.0</td>\n",
       "      <td>1.0</td>\n",
       "      <td>65.0</td>\n",
       "      <td>0.0</td>\n",
       "    </tr>\n",
       "    <tr>\n",
       "      <th>1</th>\n",
       "      <td>FOX_000076</td>\n",
       "      <td>82.1</td>\n",
       "      <td>29889</td>\n",
       "      <td>0</td>\n",
       "      <td>REG</td>\n",
       "      <td>1</td>\n",
       "      <td>0.0</td>\n",
       "      <td>1.0</td>\n",
       "      <td>1.0</td>\n",
       "      <td>1.0</td>\n",
       "      <td>83.0</td>\n",
       "      <td>0.0</td>\n",
       "    </tr>\n",
       "    <tr>\n",
       "      <th>2</th>\n",
       "      <td>FOX_000087</td>\n",
       "      <td>63.3</td>\n",
       "      <td>23061</td>\n",
       "      <td>0</td>\n",
       "      <td>REG</td>\n",
       "      <td>2</td>\n",
       "      <td>1.0</td>\n",
       "      <td>1.0</td>\n",
       "      <td>2.0</td>\n",
       "      <td>0.0</td>\n",
       "      <td>30.0</td>\n",
       "      <td>0.0</td>\n",
       "    </tr>\n",
       "    <tr>\n",
       "      <th>3</th>\n",
       "      <td>FOX_000087</td>\n",
       "      <td>63.7</td>\n",
       "      <td>23212</td>\n",
       "      <td>0</td>\n",
       "      <td>3</td>\n",
       "      <td>2</td>\n",
       "      <td>1.0</td>\n",
       "      <td>2.0</td>\n",
       "      <td>2.0</td>\n",
       "      <td>1.0</td>\n",
       "      <td>70.0</td>\n",
       "      <td>0.0</td>\n",
       "    </tr>\n",
       "    <tr>\n",
       "      <th>4</th>\n",
       "      <td>FOX_000087</td>\n",
       "      <td>66.6</td>\n",
       "      <td>24271</td>\n",
       "      <td>0</td>\n",
       "      <td>38</td>\n",
       "      <td>1</td>\n",
       "      <td>1.0</td>\n",
       "      <td>1.0</td>\n",
       "      <td>2.0</td>\n",
       "      <td>1.0</td>\n",
       "      <td>NaN</td>\n",
       "      <td>1.0</td>\n",
       "    </tr>\n",
       "    <tr>\n",
       "      <th>...</th>\n",
       "      <td>...</td>\n",
       "      <td>...</td>\n",
       "      <td>...</td>\n",
       "      <td>...</td>\n",
       "      <td>...</td>\n",
       "      <td>...</td>\n",
       "      <td>...</td>\n",
       "      <td>...</td>\n",
       "      <td>...</td>\n",
       "      <td>...</td>\n",
       "      <td>...</td>\n",
       "      <td>...</td>\n",
       "    </tr>\n",
       "    <tr>\n",
       "      <th>133268</th>\n",
       "      <td>FOX_999971</td>\n",
       "      <td>70.3</td>\n",
       "      <td>25607</td>\n",
       "      <td>0</td>\n",
       "      <td>33</td>\n",
       "      <td>0</td>\n",
       "      <td>0.0</td>\n",
       "      <td>1.0</td>\n",
       "      <td>1.0</td>\n",
       "      <td>0.0</td>\n",
       "      <td>8.0</td>\n",
       "      <td>0.0</td>\n",
       "    </tr>\n",
       "    <tr>\n",
       "      <th>133269</th>\n",
       "      <td>FOX_999971</td>\n",
       "      <td>70.9</td>\n",
       "      <td>25817</td>\n",
       "      <td>0</td>\n",
       "      <td>40</td>\n",
       "      <td>0</td>\n",
       "      <td>0.0</td>\n",
       "      <td>0.0</td>\n",
       "      <td>1.0</td>\n",
       "      <td>0.0</td>\n",
       "      <td>85.0</td>\n",
       "      <td>0.0</td>\n",
       "    </tr>\n",
       "    <tr>\n",
       "      <th>133270</th>\n",
       "      <td>FOX_999971</td>\n",
       "      <td>71.3</td>\n",
       "      <td>25973</td>\n",
       "      <td>0</td>\n",
       "      <td>46</td>\n",
       "      <td>0</td>\n",
       "      <td>0.0</td>\n",
       "      <td>0.0</td>\n",
       "      <td>0.0</td>\n",
       "      <td>0.0</td>\n",
       "      <td>80.0</td>\n",
       "      <td>0.0</td>\n",
       "    </tr>\n",
       "    <tr>\n",
       "      <th>133271</th>\n",
       "      <td>FOX_999971</td>\n",
       "      <td>71.9</td>\n",
       "      <td>26169</td>\n",
       "      <td>0</td>\n",
       "      <td>52</td>\n",
       "      <td>0</td>\n",
       "      <td>1.0</td>\n",
       "      <td>0.0</td>\n",
       "      <td>0.0</td>\n",
       "      <td>1.0</td>\n",
       "      <td>85.0</td>\n",
       "      <td>0.0</td>\n",
       "    </tr>\n",
       "    <tr>\n",
       "      <th>133272</th>\n",
       "      <td>FOX_999976</td>\n",
       "      <td>63.8</td>\n",
       "      <td>23207</td>\n",
       "      <td>0</td>\n",
       "      <td>REG</td>\n",
       "      <td>1</td>\n",
       "      <td>0.0</td>\n",
       "      <td>1.0</td>\n",
       "      <td>1.0</td>\n",
       "      <td>0.0</td>\n",
       "      <td>80.0</td>\n",
       "      <td>0.0</td>\n",
       "    </tr>\n",
       "  </tbody>\n",
       "</table>\n",
       "<p>133273 rows × 12 columns</p>\n",
       "</div>"
      ],
      "text/plain": [
       "       fox_insight_id   age  days_elapsed  days_acquired  \\\n",
       "0          FOX_000014  56.7         20632              0   \n",
       "1          FOX_000076  82.1         29889              0   \n",
       "2          FOX_000087  63.3         23061              0   \n",
       "3          FOX_000087  63.7         23212              0   \n",
       "4          FOX_000087  66.6         24271              0   \n",
       "...               ...   ...           ...            ...   \n",
       "133268     FOX_999971  70.3         25607              0   \n",
       "133269     FOX_999971  70.9         25817              0   \n",
       "133270     FOX_999971  71.3         25973              0   \n",
       "133271     FOX_999971  71.9         26169              0   \n",
       "133272     FOX_999976  63.8         23207              0   \n",
       "\n",
       "       schedule_of_activities  Mobility  Care  Active  Pain  Anxious  Health  \\\n",
       "0                         REG         0   0.0     0.0   1.0      1.0    65.0   \n",
       "1                         REG         1   0.0     1.0   1.0      1.0    83.0   \n",
       "2                         REG         2   1.0     1.0   2.0      0.0    30.0   \n",
       "3                           3         2   1.0     2.0   2.0      1.0    70.0   \n",
       "4                          38         1   1.0     1.0   2.0      1.0     NaN   \n",
       "...                       ...       ...   ...     ...   ...      ...     ...   \n",
       "133268                     33         0   0.0     1.0   1.0      0.0     8.0   \n",
       "133269                     40         0   0.0     0.0   1.0      0.0    85.0   \n",
       "133270                     46         0   0.0     0.0   0.0      0.0    80.0   \n",
       "133271                     52         0   1.0     0.0   0.0      1.0    85.0   \n",
       "133272                    REG         1   0.0     1.0   1.0      0.0    80.0   \n",
       "\n",
       "        HealthPNA  \n",
       "0             0.0  \n",
       "1             0.0  \n",
       "2             0.0  \n",
       "3             0.0  \n",
       "4             1.0  \n",
       "...           ...  \n",
       "133268        0.0  \n",
       "133269        0.0  \n",
       "133270        0.0  \n",
       "133271        0.0  \n",
       "133272        0.0  \n",
       "\n",
       "[133273 rows x 12 columns]"
      ]
     },
     "execution_count": 3,
     "metadata": {},
     "output_type": "execute_result"
    }
   ],
   "source": [
    "df = pd.read_csv(\"FoxInsight.csv\")\n",
    "df"
   ]
  },
  {
   "cell_type": "code",
   "execution_count": 64,
   "id": "00f619d0-a4e1-4b9a-96c7-f1440c103f6c",
   "metadata": {},
   "outputs": [
    {
     "data": {
      "text/plain": [
       "89602"
      ]
     },
     "execution_count": 64,
     "metadata": {},
     "output_type": "execute_result"
    }
   ],
   "source": [
    "df['fox_insight_id'].duplicated().sum(\n",
    ")"
   ]
  },
  {
   "cell_type": "code",
   "execution_count": 13,
   "id": "937a4b8a-0afd-48dc-976b-c2d3cc7dfa7f",
   "metadata": {},
   "outputs": [
    {
     "name": "stdout",
     "output_type": "stream",
     "text": [
      "<class 'pandas.core.frame.DataFrame'>\n",
      "RangeIndex: 133273 entries, 0 to 133272\n",
      "Data columns (total 12 columns):\n",
      " #   Column                  Non-Null Count   Dtype  \n",
      "---  ------                  --------------   -----  \n",
      " 0   fox_insight_id          133273 non-null  object \n",
      " 1   age                     133273 non-null  float64\n",
      " 2   days_elapsed            133273 non-null  int64  \n",
      " 3   days_acquired           133273 non-null  int64  \n",
      " 4   schedule_of_activities  129762 non-null  object \n",
      " 5   Mobility                133273 non-null  int64  \n",
      " 6   Care                    133242 non-null  float64\n",
      " 7   Active                  133188 non-null  float64\n",
      " 8   Pain                    133151 non-null  float64\n",
      " 9   Anxious                 133119 non-null  float64\n",
      " 10  Health                  129830 non-null  float64\n",
      " 11  HealthPNA               131235 non-null  float64\n",
      "dtypes: float64(7), int64(3), object(2)\n",
      "memory usage: 12.2+ MB\n"
     ]
    }
   ],
   "source": [
    "df.info()"
   ]
  },
  {
   "cell_type": "code",
   "execution_count": 14,
   "id": "d5a0fe50-cd2b-4604-aca9-1d0f5a886401",
   "metadata": {},
   "outputs": [
    {
     "data": {
      "text/html": [
       "<div>\n",
       "<style scoped>\n",
       "    .dataframe tbody tr th:only-of-type {\n",
       "        vertical-align: middle;\n",
       "    }\n",
       "\n",
       "    .dataframe tbody tr th {\n",
       "        vertical-align: top;\n",
       "    }\n",
       "\n",
       "    .dataframe thead th {\n",
       "        text-align: right;\n",
       "    }\n",
       "</style>\n",
       "<table border=\"1\" class=\"dataframe\">\n",
       "  <thead>\n",
       "    <tr style=\"text-align: right;\">\n",
       "      <th></th>\n",
       "      <th>age</th>\n",
       "      <th>days_elapsed</th>\n",
       "      <th>days_acquired</th>\n",
       "      <th>Mobility</th>\n",
       "      <th>Care</th>\n",
       "      <th>Active</th>\n",
       "      <th>Pain</th>\n",
       "      <th>Anxious</th>\n",
       "      <th>Health</th>\n",
       "      <th>HealthPNA</th>\n",
       "    </tr>\n",
       "  </thead>\n",
       "  <tbody>\n",
       "    <tr>\n",
       "      <th>count</th>\n",
       "      <td>133273.000000</td>\n",
       "      <td>133273.000000</td>\n",
       "      <td>133273.000000</td>\n",
       "      <td>133273.000000</td>\n",
       "      <td>133242.000000</td>\n",
       "      <td>133188.000000</td>\n",
       "      <td>133151.000000</td>\n",
       "      <td>133119.000000</td>\n",
       "      <td>129830.000000</td>\n",
       "      <td>131235.000000</td>\n",
       "    </tr>\n",
       "    <tr>\n",
       "      <th>mean</th>\n",
       "      <td>65.518055</td>\n",
       "      <td>23855.218934</td>\n",
       "      <td>0.036984</td>\n",
       "      <td>0.822912</td>\n",
       "      <td>0.416160</td>\n",
       "      <td>0.770970</td>\n",
       "      <td>1.033699</td>\n",
       "      <td>0.662888</td>\n",
       "      <td>71.316083</td>\n",
       "      <td>0.010706</td>\n",
       "    </tr>\n",
       "    <tr>\n",
       "      <th>std</th>\n",
       "      <td>10.759474</td>\n",
       "      <td>3928.515636</td>\n",
       "      <td>1.102458</td>\n",
       "      <td>0.921801</td>\n",
       "      <td>0.711632</td>\n",
       "      <td>0.904445</td>\n",
       "      <td>0.873973</td>\n",
       "      <td>0.829777</td>\n",
       "      <td>20.691419</td>\n",
       "      <td>0.102915</td>\n",
       "    </tr>\n",
       "    <tr>\n",
       "      <th>min</th>\n",
       "      <td>18.000000</td>\n",
       "      <td>6493.000000</td>\n",
       "      <td>0.000000</td>\n",
       "      <td>0.000000</td>\n",
       "      <td>0.000000</td>\n",
       "      <td>0.000000</td>\n",
       "      <td>0.000000</td>\n",
       "      <td>0.000000</td>\n",
       "      <td>0.000000</td>\n",
       "      <td>0.000000</td>\n",
       "    </tr>\n",
       "    <tr>\n",
       "      <th>25%</th>\n",
       "      <td>59.900000</td>\n",
       "      <td>21804.000000</td>\n",
       "      <td>0.000000</td>\n",
       "      <td>0.000000</td>\n",
       "      <td>0.000000</td>\n",
       "      <td>0.000000</td>\n",
       "      <td>0.000000</td>\n",
       "      <td>0.000000</td>\n",
       "      <td>60.000000</td>\n",
       "      <td>0.000000</td>\n",
       "    </tr>\n",
       "    <tr>\n",
       "      <th>50%</th>\n",
       "      <td>67.000000</td>\n",
       "      <td>24414.000000</td>\n",
       "      <td>0.000000</td>\n",
       "      <td>1.000000</td>\n",
       "      <td>0.000000</td>\n",
       "      <td>1.000000</td>\n",
       "      <td>1.000000</td>\n",
       "      <td>0.000000</td>\n",
       "      <td>75.000000</td>\n",
       "      <td>0.000000</td>\n",
       "    </tr>\n",
       "    <tr>\n",
       "      <th>75%</th>\n",
       "      <td>72.700000</td>\n",
       "      <td>26491.000000</td>\n",
       "      <td>0.000000</td>\n",
       "      <td>1.000000</td>\n",
       "      <td>1.000000</td>\n",
       "      <td>1.000000</td>\n",
       "      <td>2.000000</td>\n",
       "      <td>1.000000</td>\n",
       "      <td>85.000000</td>\n",
       "      <td>0.000000</td>\n",
       "    </tr>\n",
       "    <tr>\n",
       "      <th>max</th>\n",
       "      <td>119.800000</td>\n",
       "      <td>43299.000000</td>\n",
       "      <td>90.000000</td>\n",
       "      <td>5.000000</td>\n",
       "      <td>5.000000</td>\n",
       "      <td>5.000000</td>\n",
       "      <td>5.000000</td>\n",
       "      <td>5.000000</td>\n",
       "      <td>100.000000</td>\n",
       "      <td>1.000000</td>\n",
       "    </tr>\n",
       "  </tbody>\n",
       "</table>\n",
       "</div>"
      ],
      "text/plain": [
       "                 age   days_elapsed  days_acquired       Mobility  \\\n",
       "count  133273.000000  133273.000000  133273.000000  133273.000000   \n",
       "mean       65.518055   23855.218934       0.036984       0.822912   \n",
       "std        10.759474    3928.515636       1.102458       0.921801   \n",
       "min        18.000000    6493.000000       0.000000       0.000000   \n",
       "25%        59.900000   21804.000000       0.000000       0.000000   \n",
       "50%        67.000000   24414.000000       0.000000       1.000000   \n",
       "75%        72.700000   26491.000000       0.000000       1.000000   \n",
       "max       119.800000   43299.000000      90.000000       5.000000   \n",
       "\n",
       "                Care         Active           Pain        Anxious  \\\n",
       "count  133242.000000  133188.000000  133151.000000  133119.000000   \n",
       "mean        0.416160       0.770970       1.033699       0.662888   \n",
       "std         0.711632       0.904445       0.873973       0.829777   \n",
       "min         0.000000       0.000000       0.000000       0.000000   \n",
       "25%         0.000000       0.000000       0.000000       0.000000   \n",
       "50%         0.000000       1.000000       1.000000       0.000000   \n",
       "75%         1.000000       1.000000       2.000000       1.000000   \n",
       "max         5.000000       5.000000       5.000000       5.000000   \n",
       "\n",
       "              Health      HealthPNA  \n",
       "count  129830.000000  131235.000000  \n",
       "mean       71.316083       0.010706  \n",
       "std        20.691419       0.102915  \n",
       "min         0.000000       0.000000  \n",
       "25%        60.000000       0.000000  \n",
       "50%        75.000000       0.000000  \n",
       "75%        85.000000       0.000000  \n",
       "max       100.000000       1.000000  "
      ]
     },
     "execution_count": 14,
     "metadata": {},
     "output_type": "execute_result"
    }
   ],
   "source": [
    "df.describe()"
   ]
  },
  {
   "cell_type": "code",
   "execution_count": 15,
   "id": "e44c35f8-03e4-42c6-a89b-5196969afbc0",
   "metadata": {},
   "outputs": [
    {
     "data": {
      "text/plain": [
       "fox_insight_id               0\n",
       "age                          0\n",
       "days_elapsed                 0\n",
       "days_acquired                0\n",
       "schedule_of_activities    3511\n",
       "Mobility                     0\n",
       "Care                        31\n",
       "Active                      85\n",
       "Pain                       122\n",
       "Anxious                    154\n",
       "Health                    3443\n",
       "HealthPNA                 2038\n",
       "dtype: int64"
      ]
     },
     "execution_count": 15,
     "metadata": {},
     "output_type": "execute_result"
    }
   ],
   "source": [
    "df.isnull().sum()"
   ]
  },
  {
   "cell_type": "code",
   "execution_count": 17,
   "id": "6e3cd9b0-df4a-4bab-9d83-30a9b40d7c97",
   "metadata": {},
   "outputs": [
    {
     "data": {
      "text/html": [
       "<div>\n",
       "<style scoped>\n",
       "    .dataframe tbody tr th:only-of-type {\n",
       "        vertical-align: middle;\n",
       "    }\n",
       "\n",
       "    .dataframe tbody tr th {\n",
       "        vertical-align: top;\n",
       "    }\n",
       "\n",
       "    .dataframe thead th {\n",
       "        text-align: right;\n",
       "    }\n",
       "</style>\n",
       "<table border=\"1\" class=\"dataframe\">\n",
       "  <thead>\n",
       "    <tr style=\"text-align: right;\">\n",
       "      <th></th>\n",
       "      <th>fox_insight_id</th>\n",
       "      <th>age</th>\n",
       "      <th>days_elapsed</th>\n",
       "      <th>days_acquired</th>\n",
       "      <th>schedule_of_activities</th>\n",
       "      <th>Mobility</th>\n",
       "      <th>Care</th>\n",
       "      <th>Active</th>\n",
       "      <th>Pain</th>\n",
       "      <th>Anxious</th>\n",
       "      <th>Health</th>\n",
       "      <th>HealthPNA</th>\n",
       "    </tr>\n",
       "  </thead>\n",
       "  <tbody>\n",
       "    <tr>\n",
       "      <th>0</th>\n",
       "      <td>NaN</td>\n",
       "      <td>NaN</td>\n",
       "      <td>NaN</td>\n",
       "      <td>NaN</td>\n",
       "      <td>NaN</td>\n",
       "      <td>NaN</td>\n",
       "      <td>NaN</td>\n",
       "      <td>NaN</td>\n",
       "      <td>NaN</td>\n",
       "      <td>NaN</td>\n",
       "      <td>NaN</td>\n",
       "      <td>NaN</td>\n",
       "    </tr>\n",
       "    <tr>\n",
       "      <th>1</th>\n",
       "      <td>NaN</td>\n",
       "      <td>NaN</td>\n",
       "      <td>NaN</td>\n",
       "      <td>NaN</td>\n",
       "      <td>NaN</td>\n",
       "      <td>NaN</td>\n",
       "      <td>NaN</td>\n",
       "      <td>NaN</td>\n",
       "      <td>NaN</td>\n",
       "      <td>NaN</td>\n",
       "      <td>NaN</td>\n",
       "      <td>NaN</td>\n",
       "    </tr>\n",
       "    <tr>\n",
       "      <th>2</th>\n",
       "      <td>NaN</td>\n",
       "      <td>NaN</td>\n",
       "      <td>NaN</td>\n",
       "      <td>NaN</td>\n",
       "      <td>NaN</td>\n",
       "      <td>NaN</td>\n",
       "      <td>NaN</td>\n",
       "      <td>NaN</td>\n",
       "      <td>NaN</td>\n",
       "      <td>NaN</td>\n",
       "      <td>NaN</td>\n",
       "      <td>NaN</td>\n",
       "    </tr>\n",
       "    <tr>\n",
       "      <th>3</th>\n",
       "      <td>NaN</td>\n",
       "      <td>NaN</td>\n",
       "      <td>NaN</td>\n",
       "      <td>NaN</td>\n",
       "      <td>NaN</td>\n",
       "      <td>NaN</td>\n",
       "      <td>NaN</td>\n",
       "      <td>NaN</td>\n",
       "      <td>NaN</td>\n",
       "      <td>NaN</td>\n",
       "      <td>NaN</td>\n",
       "      <td>NaN</td>\n",
       "    </tr>\n",
       "    <tr>\n",
       "      <th>4</th>\n",
       "      <td>NaN</td>\n",
       "      <td>NaN</td>\n",
       "      <td>NaN</td>\n",
       "      <td>NaN</td>\n",
       "      <td>NaN</td>\n",
       "      <td>NaN</td>\n",
       "      <td>NaN</td>\n",
       "      <td>NaN</td>\n",
       "      <td>NaN</td>\n",
       "      <td>NaN</td>\n",
       "      <td>NaN</td>\n",
       "      <td>NaN</td>\n",
       "    </tr>\n",
       "    <tr>\n",
       "      <th>...</th>\n",
       "      <td>...</td>\n",
       "      <td>...</td>\n",
       "      <td>...</td>\n",
       "      <td>...</td>\n",
       "      <td>...</td>\n",
       "      <td>...</td>\n",
       "      <td>...</td>\n",
       "      <td>...</td>\n",
       "      <td>...</td>\n",
       "      <td>...</td>\n",
       "      <td>...</td>\n",
       "      <td>...</td>\n",
       "    </tr>\n",
       "    <tr>\n",
       "      <th>133268</th>\n",
       "      <td>NaN</td>\n",
       "      <td>NaN</td>\n",
       "      <td>NaN</td>\n",
       "      <td>NaN</td>\n",
       "      <td>NaN</td>\n",
       "      <td>NaN</td>\n",
       "      <td>NaN</td>\n",
       "      <td>NaN</td>\n",
       "      <td>NaN</td>\n",
       "      <td>NaN</td>\n",
       "      <td>NaN</td>\n",
       "      <td>NaN</td>\n",
       "    </tr>\n",
       "    <tr>\n",
       "      <th>133269</th>\n",
       "      <td>NaN</td>\n",
       "      <td>NaN</td>\n",
       "      <td>NaN</td>\n",
       "      <td>NaN</td>\n",
       "      <td>NaN</td>\n",
       "      <td>NaN</td>\n",
       "      <td>NaN</td>\n",
       "      <td>NaN</td>\n",
       "      <td>NaN</td>\n",
       "      <td>NaN</td>\n",
       "      <td>NaN</td>\n",
       "      <td>NaN</td>\n",
       "    </tr>\n",
       "    <tr>\n",
       "      <th>133270</th>\n",
       "      <td>NaN</td>\n",
       "      <td>NaN</td>\n",
       "      <td>NaN</td>\n",
       "      <td>NaN</td>\n",
       "      <td>NaN</td>\n",
       "      <td>NaN</td>\n",
       "      <td>NaN</td>\n",
       "      <td>NaN</td>\n",
       "      <td>NaN</td>\n",
       "      <td>NaN</td>\n",
       "      <td>NaN</td>\n",
       "      <td>NaN</td>\n",
       "    </tr>\n",
       "    <tr>\n",
       "      <th>133271</th>\n",
       "      <td>NaN</td>\n",
       "      <td>NaN</td>\n",
       "      <td>NaN</td>\n",
       "      <td>NaN</td>\n",
       "      <td>NaN</td>\n",
       "      <td>NaN</td>\n",
       "      <td>NaN</td>\n",
       "      <td>NaN</td>\n",
       "      <td>NaN</td>\n",
       "      <td>NaN</td>\n",
       "      <td>NaN</td>\n",
       "      <td>NaN</td>\n",
       "    </tr>\n",
       "    <tr>\n",
       "      <th>133272</th>\n",
       "      <td>NaN</td>\n",
       "      <td>NaN</td>\n",
       "      <td>NaN</td>\n",
       "      <td>NaN</td>\n",
       "      <td>NaN</td>\n",
       "      <td>NaN</td>\n",
       "      <td>NaN</td>\n",
       "      <td>NaN</td>\n",
       "      <td>NaN</td>\n",
       "      <td>NaN</td>\n",
       "      <td>NaN</td>\n",
       "      <td>NaN</td>\n",
       "    </tr>\n",
       "  </tbody>\n",
       "</table>\n",
       "<p>133273 rows × 12 columns</p>\n",
       "</div>"
      ],
      "text/plain": [
       "       fox_insight_id  age  days_elapsed  days_acquired  \\\n",
       "0                 NaN  NaN           NaN            NaN   \n",
       "1                 NaN  NaN           NaN            NaN   \n",
       "2                 NaN  NaN           NaN            NaN   \n",
       "3                 NaN  NaN           NaN            NaN   \n",
       "4                 NaN  NaN           NaN            NaN   \n",
       "...               ...  ...           ...            ...   \n",
       "133268            NaN  NaN           NaN            NaN   \n",
       "133269            NaN  NaN           NaN            NaN   \n",
       "133270            NaN  NaN           NaN            NaN   \n",
       "133271            NaN  NaN           NaN            NaN   \n",
       "133272            NaN  NaN           NaN            NaN   \n",
       "\n",
       "       schedule_of_activities  Mobility  Care  Active  Pain  Anxious  Health  \\\n",
       "0                         NaN       NaN   NaN     NaN   NaN      NaN     NaN   \n",
       "1                         NaN       NaN   NaN     NaN   NaN      NaN     NaN   \n",
       "2                         NaN       NaN   NaN     NaN   NaN      NaN     NaN   \n",
       "3                         NaN       NaN   NaN     NaN   NaN      NaN     NaN   \n",
       "4                         NaN       NaN   NaN     NaN   NaN      NaN     NaN   \n",
       "...                       ...       ...   ...     ...   ...      ...     ...   \n",
       "133268                    NaN       NaN   NaN     NaN   NaN      NaN     NaN   \n",
       "133269                    NaN       NaN   NaN     NaN   NaN      NaN     NaN   \n",
       "133270                    NaN       NaN   NaN     NaN   NaN      NaN     NaN   \n",
       "133271                    NaN       NaN   NaN     NaN   NaN      NaN     NaN   \n",
       "133272                    NaN       NaN   NaN     NaN   NaN      NaN     NaN   \n",
       "\n",
       "        HealthPNA  \n",
       "0             NaN  \n",
       "1             NaN  \n",
       "2             NaN  \n",
       "3             NaN  \n",
       "4             NaN  \n",
       "...           ...  \n",
       "133268        NaN  \n",
       "133269        NaN  \n",
       "133270        NaN  \n",
       "133271        NaN  \n",
       "133272        NaN  \n",
       "\n",
       "[133273 rows x 12 columns]"
      ]
     },
     "execution_count": 17,
     "metadata": {},
     "output_type": "execute_result"
    }
   ],
   "source": [
    "mask = df.isnull()\n",
    "df[mask]"
   ]
  },
  {
   "cell_type": "code",
   "execution_count": 24,
   "id": "7f5609c9-4df2-46cd-90db-1959da25e799",
   "metadata": {},
   "outputs": [
    {
     "data": {
      "text/plain": [
       "Index(['fox_insight_id', 'age', 'days_elapsed', 'days_acquired',\n",
       "       'schedule_of_activities', 'Mobility', 'Care', 'Active', 'Pain',\n",
       "       'Anxious', 'Health', 'HealthPNA'],\n",
       "      dtype='object')"
      ]
     },
     "execution_count": 24,
     "metadata": {},
     "output_type": "execute_result"
    }
   ],
   "source": [
    "df.columns"
   ]
  },
  {
   "cell_type": "code",
   "execution_count": 28,
   "id": "536ffad1-ff6c-4c79-8530-dd6e889aad8d",
   "metadata": {},
   "outputs": [],
   "source": [
    "df.dropna(subset = ['Mobility', 'Care', 'Active', 'Pain',\n",
    "                    'Anxious', 'Health'], inplace = True)#.isnull().sum()"
   ]
  },
  {
   "cell_type": "code",
   "execution_count": 29,
   "id": "04ae8750-8db8-4266-ae4e-4fd658ab1c96",
   "metadata": {},
   "outputs": [
    {
     "data": {
      "text/plain": [
       "fox_insight_id               0\n",
       "age                          0\n",
       "days_elapsed                 0\n",
       "days_acquired                0\n",
       "schedule_of_activities    3429\n",
       "Mobility                     0\n",
       "Care                         0\n",
       "Active                       0\n",
       "Pain                         0\n",
       "Anxious                      0\n",
       "Health                       0\n",
       "HealthPNA                    0\n",
       "dtype: int64"
      ]
     },
     "execution_count": 29,
     "metadata": {},
     "output_type": "execute_result"
    }
   ],
   "source": [
    "df.isnull().sum()"
   ]
  },
  {
   "cell_type": "code",
   "execution_count": 31,
   "id": "448b6a61-5fac-4afa-802d-a8e477d728fe",
   "metadata": {},
   "outputs": [
    {
     "data": {
      "text/plain": [
       "array(['REG', '3', '7', '10', '16', '9', '31', '43', '6', '18', nan, '13',\n",
       "       '24', '27', '34', '40', '46', '51', '58', '22', '45', '28', '12',\n",
       "       '15', '21', '33', '39', '52', '64', '25', '11', '8', '14', '20',\n",
       "       '26', '32', '38', '44', '4', '30', '36', '42', '48', '60', '37',\n",
       "       '55', '56', '62', '70', '57', '2', '61', '67', '49', '63', '53',\n",
       "       '5', '19', '50', '59', '69', '65', '68', '17', '71', '29', '23',\n",
       "       '1', '73', '41', '47', '54', '74', '66', '35', '72'], dtype=object)"
      ]
     },
     "execution_count": 31,
     "metadata": {},
     "output_type": "execute_result"
    }
   ],
   "source": [
    "df['schedule_of_activities'].unique()"
   ]
  },
  {
   "cell_type": "code",
   "execution_count": 34,
   "id": "e52de81f-81dd-4f16-a4cc-b95e8978a4ea",
   "metadata": {},
   "outputs": [
    {
     "data": {
      "image/png": "[encoded data removed]",
      "text/plain": [
       "<Figure size 640x480 with 1 Axes>"
      ]
     },
     "metadata": {},
     "output_type": "display_data"
    }
   ],
   "source": [
    "plt.hist(df['age']) # Cria um histograma da coluna 'idade'\n",
    "plt.show()"
   ]
  },
  {
   "cell_type": "code",
   "execution_count": 35,
   "id": "0866b48b-5e78-4fb0-956b-bd14074f7fdc",
   "metadata": {},
   "outputs": [
    {
     "data": {
      "text/plain": [
       "Index(['fox_insight_id', 'age', 'days_elapsed', 'days_acquired',\n",
       "       'schedule_of_activities', 'Mobility', 'Care', 'Active', 'Pain',\n",
       "       'Anxious', 'Health', 'HealthPNA'],\n",
       "      dtype='object')"
      ]
     },
     "execution_count": 35,
     "metadata": {},
     "output_type": "execute_result"
    }
   ],
   "source": [
    "df.columns"
   ]
  },
  {
   "cell_type": "code",
   "execution_count": 61,
   "id": "d7c027fb-fba3-4398-8f7b-74017eabe825",
   "metadata": {},
   "outputs": [
    {
     "data": {
      "text/plain": [
       "Index(['fox_insight_id', 'age', 'days_elapsed', 'days_acquired',\n",
       "       'schedule_of_activities', 'Mobility', 'Care', 'Active', 'Pain',\n",
       "       'Anxious', 'Health', 'HealthPNA'],\n",
       "      dtype='object')"
      ]
     },
     "execution_count": 61,
     "metadata": {},
     "output_type": "execute_result"
    }
   ],
   "source": [
    "df.columns"
   ]
  },
  {
   "cell_type": "code",
   "execution_count": 63,
   "id": "dd09b537-45dd-4e25-9dc3-e02f6b62ef1e",
   "metadata": {},
   "outputs": [
    {
     "data": {
      "image/png": "[encoded data removed]",
      "text/plain": [
       "<Figure size 640x480 with 1 Axes>"
      ]
     },
     "metadata": {},
     "output_type": "display_data"
    },
    {
     "data": {
      "image/png": "[encoded data removed]",
      "text/plain": [
       "<Figure size 640x480 with 1 Axes>"
      ]
     },
     "metadata": {},
     "output_type": "display_data"
    },
    {
     "data": {
      "image/png": "[encoded data removed]",
      "text/plain": [
       "<Figure size 640x480 with 1 Axes>"
      ]
     },
     "metadata": {},
     "output_type": "display_data"
    },
    {
     "data": {
      "image/png": "[encoded data removed]",
      "text/plain": [
       "<Figure size 640x480 with 1 Axes>"
      ]
     },
     "metadata": {},
     "output_type": "display_data"
    },
    {
     "data": {
      "image/png": "[encoded data removed]",
      "text/plain": [
       "<Figure size 640x480 with 1 Axes>"
      ]
     },
     "metadata": {},
     "output_type": "display_data"
    },
    {
     "data": {
      "image/png": "[encoded data removed]",
      "text/plain": [
       "<Figure size 640x480 with 1 Axes>"
      ]
     },
     "metadata": {},
     "output_type": "display_data"
    }
   ],
   "source": [
    "col = ['Mobility', 'Care', 'Active', 'Pain',\n",
    "        'Health', 'HealthPNA']\n",
    "for i in col:\n",
    "\n",
    "    df.groupby(i)['Anxious'].mean().plot(kind='bar')\n",
    "    plt.xlabel(f'{i}')\n",
    "    plt.ylabel('Ansiedade')\n",
    "    plt.title(f'Média de Ansiedade por fator de {i}')\n",
    "    plt.show()"
   ]
  },
  {
   "cell_type": "code",
   "execution_count": 22,
   "id": "2fa584a4-8b39-45c6-840e-7d2a9eb4028a",
   "metadata": {},
   "outputs": [
    {
     "data": {
      "text/plain": [
       "0"
      ]
     },
     "execution_count": 22,
     "metadata": {},
     "output_type": "execute_result"
    }
   ],
   "source": [
    "df.duplicated().sum()"
   ]
  },
  {
   "cell_type": "code",
   "execution_count": 47,
   "id": "3f916079-a97d-40d0-b415-7b9506c30234",
   "metadata": {},
   "outputs": [
    {
     "data": {
      "text/plain": [
       "18.0"
      ]
     },
     "execution_count": 47,
     "metadata": {},
     "output_type": "execute_result"
    }
   ],
   "source": [
    "df['age'].min() ## 119  18"
   ]
  },
  {
   "cell_type": "code",
   "execution_count": 52,
   "id": "32d145c1-dbde-4265-80a8-2883573ae201",
   "metadata": {},
   "outputs": [
    {
     "data": {
      "image/png": "[encoded data removed]",
      "text/plain": [
       "<Figure size 640x480 with 1 Axes>"
      ]
     },
     "metadata": {},
     "output_type": "display_data"
    }
   ],
   "source": [
    "plt.scatter(df['age'], df['Anxious'])\n",
    "# Define o título do gráfico e dos eixos\n",
    "plt.title('Idade versus Grau de Ansiedade')\n",
    "plt.xlabel('Idade')\n",
    "plt.ylabel('Grau de Ansiedade')\n",
    "\n",
    "plt.show()"
   ]
  }
 ],
 "metadata": {
  "kernelspec": {
   "display_name": "Python 3 (ipykernel)",
   "language": "python",
   "name": "python3"
  },
  "language_info": {
   "codemirror_mode": {
    "name": "ipython",
    "version": 3
   },
   "file_extension": ".py",
   "mimetype": "text/x-python",
   "name": "python",
   "nbconvert_exporter": "python",
   "pygments_lexer": "ipython3",
   "version": "3.9.13"
  }
 },
 "nbformat": 4,
 "nbformat_minor": 5
}
