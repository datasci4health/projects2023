{
 "cells": [
  {
   "cell_type": "code",
   "execution_count": 1,
   "metadata": {
    "collapsed": true,
    "ExecuteTime": {
     "end_time": "2023-05-09T16:43:16.522484961Z",
     "start_time": "2023-05-09T16:43:13.482273829Z"
    }
   },
   "outputs": [],
   "source": [
    "%load_ext autoreload\n",
    "%autoreload 2\n",
    "\n",
    "from pathlib import Path\n",
    "import pandas as pd\n",
    "from zipfile import ZipFile\n",
    "from sklearn.model_selection import train_test_split\n",
    "\n",
    "PENSE_DATA = Path('../data/raw/PENSE_2019/PENSE_2019.zip').resolve()\n",
    "zip_pense = ZipFile(PENSE_DATA)\n",
    "path_unzip = zip_pense.namelist()[0]\n",
    "df = pd.read_csv(zip_pense.open(path_unzip), sep=\",\")"
   ]
  },
  {
   "cell_type": "code",
   "execution_count": 2,
   "outputs": [
    {
     "name": "stdout",
     "output_type": "stream",
     "text": [
      "O dataset PENSE possui 165838 linhas e 306 colunas (features).\n",
      "O numero de linhas que possuem pelo menos um dados faltante é 6593, 3.975567% do total.\n"
     ]
    }
   ],
   "source": [
    "print(\"O dataset PENSE possui {} linhas e {} colunas (features).\".format(*df.shape))\n",
    "num_nan_rows = df.isna().any(axis=1).sum()\n",
    "print(\"O numero de linhas que possuem pelo menos um dados faltante é {}, {:02f}% do total.\".format(num_nan_rows, 100*num_nan_rows/df.shape[0]))"
   ],
   "metadata": {
    "collapsed": false,
    "ExecuteTime": {
     "end_time": "2023-05-09T16:43:16.568737626Z",
     "start_time": "2023-05-09T16:43:16.524400585Z"
    }
   }
  },
  {
   "cell_type": "markdown",
   "source": [
    "Como a quantidade de dados faltantes é pequena, vamos remover estes registros da base, nota-se que estamos contando os valores nulos (NaN), o questionário ainda pode ter respostas pouco conclusivas normalmente atribuído ao código \"9\" = \"Sem resposta\"."
   ],
   "metadata": {
    "collapsed": false
   }
  },
  {
   "cell_type": "code",
   "execution_count": 3,
   "outputs": [
    {
     "name": "stdout",
     "output_type": "stream",
     "text": [
      "(159245, 306)\n"
     ]
    }
   ],
   "source": [
    "# Removendo linhas com valores nulos\n",
    "df = df.dropna()\n",
    "print(df.shape)"
   ],
   "metadata": {
    "collapsed": false,
    "ExecuteTime": {
     "end_time": "2023-05-09T16:43:16.706286330Z",
     "start_time": "2023-05-09T16:43:16.570538566Z"
    }
   }
  },
  {
   "cell_type": "code",
   "execution_count": 4,
   "outputs": [
    {
     "data": {
      "text/plain": "   REGIAO  UF  MUNICIPIO_CAP  TIPO_MUNIC  SITUACAO  DEP_ADMIN  ESFERA  ESCOLA   \n0       1  11              0         2.0       1.0        2.0     4.0       4  \\\n1       1  11              0         2.0       1.0        2.0     4.0      23   \n2       1  11              0         2.0       1.0        2.0     4.0       2   \n3       1  11              0         2.0       1.0        2.0     4.0      18   \n4       1  11              0         2.0       2.0        2.0     4.0       8   \n5       1  11              0         2.0       1.0        2.0     4.0      22   \n6       1  11              0         2.0       1.0        2.0     4.0       3   \n7       1  11              0         2.0       1.0        2.0     4.0      17   \n8       1  11              0         2.0       1.0        2.0     4.0       2   \n9       1  11              0         2.0       1.0        2.0     4.0      17   \n\n   TURMA  ALUNO  ...  E01P65A  E01P66A  E01P26A  E01P27A  ESTRATO   \n0      1     21  ...      2.0      2.0      4.0      2.0     1101  \\\n1      1      9  ...      1.0      2.0      4.0      2.0     1101   \n2      1      3  ...      2.0      1.0      4.0      2.0     1101   \n3      1     19  ...      2.0      2.0      4.0      2.0     1101   \n4      1      2  ...      1.0      1.0      4.0      2.0     1101   \n5      1      2  ...      1.0      2.0      4.0      2.0     1101   \n6      1     18  ...      2.0      1.0      4.0      2.0     1101   \n7      1      7  ...      2.0      2.0      4.0      2.0     1101   \n8      1      9  ...      2.0      1.0      4.0      2.0     1101   \n9      1      3  ...      2.0      2.0      4.0      2.0     1101   \n\n   IND_EXPANSAO  PESO_ALUNO_FREQ  PESO_INICIAL       POSEST  TOTAIS_POSEST  \n0             1         4.361431      3.409091  1100000PRI1           1767  \n1             1         3.838060      3.000000  1100000PRI1           1767  \n2             1         2.934987      2.294118  1100000PRI1           1767  \n3             1         4.786546      3.741379  1100000PRI1           1767  \n4             1         4.535889      3.545455  1100000PRI1           1767  \n5             1         2.771932      2.166667  1100000PRI1           1767  \n6             1         7.164378      5.600000  1100000PRI1           1767  \n7             1         2.771932      2.166667  1100000PRI1           1767  \n8             1         2.934987      2.294118  1100000PRI1           1767  \n9             1         2.771932      2.166667  1100000PRI1           1767  \n\n[10 rows x 306 columns]",
      "text/html": "<div>\n<style scoped>\n    .dataframe tbody tr th:only-of-type {\n        vertical-align: middle;\n    }\n\n    .dataframe tbody tr th {\n        vertical-align: top;\n    }\n\n    .dataframe thead th {\n        text-align: right;\n    }\n</style>\n<table border=\"1\" class=\"dataframe\">\n  <thead>\n    <tr style=\"text-align: right;\">\n      <th></th>\n      <th>REGIAO</th>\n      <th>UF</th>\n      <th>MUNICIPIO_CAP</th>\n      <th>TIPO_MUNIC</th>\n      <th>SITUACAO</th>\n      <th>DEP_ADMIN</th>\n      <th>ESFERA</th>\n      <th>ESCOLA</th>\n      <th>TURMA</th>\n      <th>ALUNO</th>\n      <th>...</th>\n      <th>E01P65A</th>\n      <th>E01P66A</th>\n      <th>E01P26A</th>\n      <th>E01P27A</th>\n      <th>ESTRATO</th>\n      <th>IND_EXPANSAO</th>\n      <th>PESO_ALUNO_FREQ</th>\n      <th>PESO_INICIAL</th>\n      <th>POSEST</th>\n      <th>TOTAIS_POSEST</th>\n    </tr>\n  </thead>\n  <tbody>\n    <tr>\n      <th>0</th>\n      <td>1</td>\n      <td>11</td>\n      <td>0</td>\n      <td>2.0</td>\n      <td>1.0</td>\n      <td>2.0</td>\n      <td>4.0</td>\n      <td>4</td>\n      <td>1</td>\n      <td>21</td>\n      <td>...</td>\n      <td>2.0</td>\n      <td>2.0</td>\n      <td>4.0</td>\n      <td>2.0</td>\n      <td>1101</td>\n      <td>1</td>\n      <td>4.361431</td>\n      <td>3.409091</td>\n      <td>1100000PRI1</td>\n      <td>1767</td>\n    </tr>\n    <tr>\n      <th>1</th>\n      <td>1</td>\n      <td>11</td>\n      <td>0</td>\n      <td>2.0</td>\n      <td>1.0</td>\n      <td>2.0</td>\n      <td>4.0</td>\n      <td>23</td>\n      <td>1</td>\n      <td>9</td>\n      <td>...</td>\n      <td>1.0</td>\n      <td>2.0</td>\n      <td>4.0</td>\n      <td>2.0</td>\n      <td>1101</td>\n      <td>1</td>\n      <td>3.838060</td>\n      <td>3.000000</td>\n      <td>1100000PRI1</td>\n      <td>1767</td>\n    </tr>\n    <tr>\n      <th>2</th>\n      <td>1</td>\n      <td>11</td>\n      <td>0</td>\n      <td>2.0</td>\n      <td>1.0</td>\n      <td>2.0</td>\n      <td>4.0</td>\n      <td>2</td>\n      <td>1</td>\n      <td>3</td>\n      <td>...</td>\n      <td>2.0</td>\n      <td>1.0</td>\n      <td>4.0</td>\n      <td>2.0</td>\n      <td>1101</td>\n      <td>1</td>\n      <td>2.934987</td>\n      <td>2.294118</td>\n      <td>1100000PRI1</td>\n      <td>1767</td>\n    </tr>\n    <tr>\n      <th>3</th>\n      <td>1</td>\n      <td>11</td>\n      <td>0</td>\n      <td>2.0</td>\n      <td>1.0</td>\n      <td>2.0</td>\n      <td>4.0</td>\n      <td>18</td>\n      <td>1</td>\n      <td>19</td>\n      <td>...</td>\n      <td>2.0</td>\n      <td>2.0</td>\n      <td>4.0</td>\n      <td>2.0</td>\n      <td>1101</td>\n      <td>1</td>\n      <td>4.786546</td>\n      <td>3.741379</td>\n      <td>1100000PRI1</td>\n      <td>1767</td>\n    </tr>\n    <tr>\n      <th>4</th>\n      <td>1</td>\n      <td>11</td>\n      <td>0</td>\n      <td>2.0</td>\n      <td>2.0</td>\n      <td>2.0</td>\n      <td>4.0</td>\n      <td>8</td>\n      <td>1</td>\n      <td>2</td>\n      <td>...</td>\n      <td>1.0</td>\n      <td>1.0</td>\n      <td>4.0</td>\n      <td>2.0</td>\n      <td>1101</td>\n      <td>1</td>\n      <td>4.535889</td>\n      <td>3.545455</td>\n      <td>1100000PRI1</td>\n      <td>1767</td>\n    </tr>\n    <tr>\n      <th>5</th>\n      <td>1</td>\n      <td>11</td>\n      <td>0</td>\n      <td>2.0</td>\n      <td>1.0</td>\n      <td>2.0</td>\n      <td>4.0</td>\n      <td>22</td>\n      <td>1</td>\n      <td>2</td>\n      <td>...</td>\n      <td>1.0</td>\n      <td>2.0</td>\n      <td>4.0</td>\n      <td>2.0</td>\n      <td>1101</td>\n      <td>1</td>\n      <td>2.771932</td>\n      <td>2.166667</td>\n      <td>1100000PRI1</td>\n      <td>1767</td>\n    </tr>\n    <tr>\n      <th>6</th>\n      <td>1</td>\n      <td>11</td>\n      <td>0</td>\n      <td>2.0</td>\n      <td>1.0</td>\n      <td>2.0</td>\n      <td>4.0</td>\n      <td>3</td>\n      <td>1</td>\n      <td>18</td>\n      <td>...</td>\n      <td>2.0</td>\n      <td>1.0</td>\n      <td>4.0</td>\n      <td>2.0</td>\n      <td>1101</td>\n      <td>1</td>\n      <td>7.164378</td>\n      <td>5.600000</td>\n      <td>1100000PRI1</td>\n      <td>1767</td>\n    </tr>\n    <tr>\n      <th>7</th>\n      <td>1</td>\n      <td>11</td>\n      <td>0</td>\n      <td>2.0</td>\n      <td>1.0</td>\n      <td>2.0</td>\n      <td>4.0</td>\n      <td>17</td>\n      <td>1</td>\n      <td>7</td>\n      <td>...</td>\n      <td>2.0</td>\n      <td>2.0</td>\n      <td>4.0</td>\n      <td>2.0</td>\n      <td>1101</td>\n      <td>1</td>\n      <td>2.771932</td>\n      <td>2.166667</td>\n      <td>1100000PRI1</td>\n      <td>1767</td>\n    </tr>\n    <tr>\n      <th>8</th>\n      <td>1</td>\n      <td>11</td>\n      <td>0</td>\n      <td>2.0</td>\n      <td>1.0</td>\n      <td>2.0</td>\n      <td>4.0</td>\n      <td>2</td>\n      <td>1</td>\n      <td>9</td>\n      <td>...</td>\n      <td>2.0</td>\n      <td>1.0</td>\n      <td>4.0</td>\n      <td>2.0</td>\n      <td>1101</td>\n      <td>1</td>\n      <td>2.934987</td>\n      <td>2.294118</td>\n      <td>1100000PRI1</td>\n      <td>1767</td>\n    </tr>\n    <tr>\n      <th>9</th>\n      <td>1</td>\n      <td>11</td>\n      <td>0</td>\n      <td>2.0</td>\n      <td>1.0</td>\n      <td>2.0</td>\n      <td>4.0</td>\n      <td>17</td>\n      <td>1</td>\n      <td>3</td>\n      <td>...</td>\n      <td>2.0</td>\n      <td>2.0</td>\n      <td>4.0</td>\n      <td>2.0</td>\n      <td>1101</td>\n      <td>1</td>\n      <td>2.771932</td>\n      <td>2.166667</td>\n      <td>1100000PRI1</td>\n      <td>1767</td>\n    </tr>\n  </tbody>\n</table>\n<p>10 rows × 306 columns</p>\n</div>"
     },
     "execution_count": 4,
     "metadata": {},
     "output_type": "execute_result"
    }
   ],
   "source": [
    "df.head(10)"
   ],
   "metadata": {
    "collapsed": false,
    "ExecuteTime": {
     "end_time": "2023-05-09T16:43:16.802679836Z",
     "start_time": "2023-05-09T16:43:16.707204383Z"
    }
   }
  },
  {
   "cell_type": "markdown",
   "source": [
    "Repara-se que temos colunas no formato float64 que deveriam ser inteira, podemos convertê-las, sabendo não haver mais possibilidade para NaN."
   ],
   "metadata": {
    "collapsed": false
   }
  },
  {
   "cell_type": "code",
   "execution_count": 5,
   "outputs": [
    {
     "name": "stdout",
     "output_type": "stream",
     "text": [
      "REGIAO                      Int64\n",
      "UF                          Int64\n",
      "MUNICIPIO_CAP               Int64\n",
      "TIPO_MUNIC                  Int64\n",
      "SITUACAO                    Int64\n",
      "                        ...      \n",
      "IND_EXPANSAO                Int64\n",
      "PESO_ALUNO_FREQ           Float64\n",
      "PESO_INICIAL              Float64\n",
      "POSEST             string[python]\n",
      "TOTAIS_POSEST               Int64\n",
      "Length: 306, dtype: object\n"
     ]
    },
    {
     "data": {
      "text/plain": "   REGIAO  UF  MUNICIPIO_CAP  TIPO_MUNIC  SITUACAO  DEP_ADMIN  ESFERA  ESCOLA   \n0       1  11              0           2         1          2       4       4  \\\n1       1  11              0           2         1          2       4      23   \n2       1  11              0           2         1          2       4       2   \n3       1  11              0           2         1          2       4      18   \n4       1  11              0           2         2          2       4       8   \n5       1  11              0           2         1          2       4      22   \n6       1  11              0           2         1          2       4       3   \n7       1  11              0           2         1          2       4      17   \n8       1  11              0           2         1          2       4       2   \n9       1  11              0           2         1          2       4      17   \n\n   TURMA  ALUNO  ...  E01P65A  E01P66A  E01P26A  E01P27A  ESTRATO   \n0      1     21  ...        2        2        4        2     1101  \\\n1      1      9  ...        1        2        4        2     1101   \n2      1      3  ...        2        1        4        2     1101   \n3      1     19  ...        2        2        4        2     1101   \n4      1      2  ...        1        1        4        2     1101   \n5      1      2  ...        1        2        4        2     1101   \n6      1     18  ...        2        1        4        2     1101   \n7      1      7  ...        2        2        4        2     1101   \n8      1      9  ...        2        1        4        2     1101   \n9      1      3  ...        2        2        4        2     1101   \n\n   IND_EXPANSAO  PESO_ALUNO_FREQ  PESO_INICIAL       POSEST  TOTAIS_POSEST  \n0             1         4.361431      3.409091  1100000PRI1           1767  \n1             1          3.83806           3.0  1100000PRI1           1767  \n2             1         2.934987      2.294118  1100000PRI1           1767  \n3             1         4.786546      3.741379  1100000PRI1           1767  \n4             1         4.535889      3.545455  1100000PRI1           1767  \n5             1         2.771932      2.166667  1100000PRI1           1767  \n6             1         7.164378           5.6  1100000PRI1           1767  \n7             1         2.771932      2.166667  1100000PRI1           1767  \n8             1         2.934987      2.294118  1100000PRI1           1767  \n9             1         2.771932      2.166667  1100000PRI1           1767  \n\n[10 rows x 306 columns]",
      "text/html": "<div>\n<style scoped>\n    .dataframe tbody tr th:only-of-type {\n        vertical-align: middle;\n    }\n\n    .dataframe tbody tr th {\n        vertical-align: top;\n    }\n\n    .dataframe thead th {\n        text-align: right;\n    }\n</style>\n<table border=\"1\" class=\"dataframe\">\n  <thead>\n    <tr style=\"text-align: right;\">\n      <th></th>\n      <th>REGIAO</th>\n      <th>UF</th>\n      <th>MUNICIPIO_CAP</th>\n      <th>TIPO_MUNIC</th>\n      <th>SITUACAO</th>\n      <th>DEP_ADMIN</th>\n      <th>ESFERA</th>\n      <th>ESCOLA</th>\n      <th>TURMA</th>\n      <th>ALUNO</th>\n      <th>...</th>\n      <th>E01P65A</th>\n      <th>E01P66A</th>\n      <th>E01P26A</th>\n      <th>E01P27A</th>\n      <th>ESTRATO</th>\n      <th>IND_EXPANSAO</th>\n      <th>PESO_ALUNO_FREQ</th>\n      <th>PESO_INICIAL</th>\n      <th>POSEST</th>\n      <th>TOTAIS_POSEST</th>\n    </tr>\n  </thead>\n  <tbody>\n    <tr>\n      <th>0</th>\n      <td>1</td>\n      <td>11</td>\n      <td>0</td>\n      <td>2</td>\n      <td>1</td>\n      <td>2</td>\n      <td>4</td>\n      <td>4</td>\n      <td>1</td>\n      <td>21</td>\n      <td>...</td>\n      <td>2</td>\n      <td>2</td>\n      <td>4</td>\n      <td>2</td>\n      <td>1101</td>\n      <td>1</td>\n      <td>4.361431</td>\n      <td>3.409091</td>\n      <td>1100000PRI1</td>\n      <td>1767</td>\n    </tr>\n    <tr>\n      <th>1</th>\n      <td>1</td>\n      <td>11</td>\n      <td>0</td>\n      <td>2</td>\n      <td>1</td>\n      <td>2</td>\n      <td>4</td>\n      <td>23</td>\n      <td>1</td>\n      <td>9</td>\n      <td>...</td>\n      <td>1</td>\n      <td>2</td>\n      <td>4</td>\n      <td>2</td>\n      <td>1101</td>\n      <td>1</td>\n      <td>3.83806</td>\n      <td>3.0</td>\n      <td>1100000PRI1</td>\n      <td>1767</td>\n    </tr>\n    <tr>\n      <th>2</th>\n      <td>1</td>\n      <td>11</td>\n      <td>0</td>\n      <td>2</td>\n      <td>1</td>\n      <td>2</td>\n      <td>4</td>\n      <td>2</td>\n      <td>1</td>\n      <td>3</td>\n      <td>...</td>\n      <td>2</td>\n      <td>1</td>\n      <td>4</td>\n      <td>2</td>\n      <td>1101</td>\n      <td>1</td>\n      <td>2.934987</td>\n      <td>2.294118</td>\n      <td>1100000PRI1</td>\n      <td>1767</td>\n    </tr>\n    <tr>\n      <th>3</th>\n      <td>1</td>\n      <td>11</td>\n      <td>0</td>\n      <td>2</td>\n      <td>1</td>\n      <td>2</td>\n      <td>4</td>\n      <td>18</td>\n      <td>1</td>\n      <td>19</td>\n      <td>...</td>\n      <td>2</td>\n      <td>2</td>\n      <td>4</td>\n      <td>2</td>\n      <td>1101</td>\n      <td>1</td>\n      <td>4.786546</td>\n      <td>3.741379</td>\n      <td>1100000PRI1</td>\n      <td>1767</td>\n    </tr>\n    <tr>\n      <th>4</th>\n      <td>1</td>\n      <td>11</td>\n      <td>0</td>\n      <td>2</td>\n      <td>2</td>\n      <td>2</td>\n      <td>4</td>\n      <td>8</td>\n      <td>1</td>\n      <td>2</td>\n      <td>...</td>\n      <td>1</td>\n      <td>1</td>\n      <td>4</td>\n      <td>2</td>\n      <td>1101</td>\n      <td>1</td>\n      <td>4.535889</td>\n      <td>3.545455</td>\n      <td>1100000PRI1</td>\n      <td>1767</td>\n    </tr>\n    <tr>\n      <th>5</th>\n      <td>1</td>\n      <td>11</td>\n      <td>0</td>\n      <td>2</td>\n      <td>1</td>\n      <td>2</td>\n      <td>4</td>\n      <td>22</td>\n      <td>1</td>\n      <td>2</td>\n      <td>...</td>\n      <td>1</td>\n      <td>2</td>\n      <td>4</td>\n      <td>2</td>\n      <td>1101</td>\n      <td>1</td>\n      <td>2.771932</td>\n      <td>2.166667</td>\n      <td>1100000PRI1</td>\n      <td>1767</td>\n    </tr>\n    <tr>\n      <th>6</th>\n      <td>1</td>\n      <td>11</td>\n      <td>0</td>\n      <td>2</td>\n      <td>1</td>\n      <td>2</td>\n      <td>4</td>\n      <td>3</td>\n      <td>1</td>\n      <td>18</td>\n      <td>...</td>\n      <td>2</td>\n      <td>1</td>\n      <td>4</td>\n      <td>2</td>\n      <td>1101</td>\n      <td>1</td>\n      <td>7.164378</td>\n      <td>5.6</td>\n      <td>1100000PRI1</td>\n      <td>1767</td>\n    </tr>\n    <tr>\n      <th>7</th>\n      <td>1</td>\n      <td>11</td>\n      <td>0</td>\n      <td>2</td>\n      <td>1</td>\n      <td>2</td>\n      <td>4</td>\n      <td>17</td>\n      <td>1</td>\n      <td>7</td>\n      <td>...</td>\n      <td>2</td>\n      <td>2</td>\n      <td>4</td>\n      <td>2</td>\n      <td>1101</td>\n      <td>1</td>\n      <td>2.771932</td>\n      <td>2.166667</td>\n      <td>1100000PRI1</td>\n      <td>1767</td>\n    </tr>\n    <tr>\n      <th>8</th>\n      <td>1</td>\n      <td>11</td>\n      <td>0</td>\n      <td>2</td>\n      <td>1</td>\n      <td>2</td>\n      <td>4</td>\n      <td>2</td>\n      <td>1</td>\n      <td>9</td>\n      <td>...</td>\n      <td>2</td>\n      <td>1</td>\n      <td>4</td>\n      <td>2</td>\n      <td>1101</td>\n      <td>1</td>\n      <td>2.934987</td>\n      <td>2.294118</td>\n      <td>1100000PRI1</td>\n      <td>1767</td>\n    </tr>\n    <tr>\n      <th>9</th>\n      <td>1</td>\n      <td>11</td>\n      <td>0</td>\n      <td>2</td>\n      <td>1</td>\n      <td>2</td>\n      <td>4</td>\n      <td>17</td>\n      <td>1</td>\n      <td>3</td>\n      <td>...</td>\n      <td>2</td>\n      <td>2</td>\n      <td>4</td>\n      <td>2</td>\n      <td>1101</td>\n      <td>1</td>\n      <td>2.771932</td>\n      <td>2.166667</td>\n      <td>1100000PRI1</td>\n      <td>1767</td>\n    </tr>\n  </tbody>\n</table>\n<p>10 rows × 306 columns</p>\n</div>"
     },
     "execution_count": 5,
     "metadata": {},
     "output_type": "execute_result"
    }
   ],
   "source": [
    "df = df.convert_dtypes()\n",
    "print(df.dtypes)\n",
    "df.head(10)"
   ],
   "metadata": {
    "collapsed": false,
    "ExecuteTime": {
     "end_time": "2023-05-09T16:43:19.469900560Z",
     "start_time": "2023-05-09T16:43:16.774254802Z"
    }
   }
  },
  {
   "cell_type": "markdown",
   "source": [
    "Vamos embaralhar estes dados e salva-los na pasta processed/PENSE_2019/all.zip"
   ],
   "metadata": {
    "collapsed": false
   }
  },
  {
   "cell_type": "code",
   "execution_count": 6,
   "outputs": [],
   "source": [
    "df_all = df.sample(frac=1, random_state=42).reset_index(drop=True)\n",
    "df_all.to_csv('../data/processed/PENSE_2019/all.zip', index=False, compression=dict(method='zip', archive_name='data.csv', compresslevel=9))"
   ],
   "metadata": {
    "collapsed": false,
    "ExecuteTime": {
     "end_time": "2023-05-09T16:44:21.708162705Z",
     "start_time": "2023-05-09T16:43:19.479559896Z"
    }
   }
  },
  {
   "cell_type": "markdown",
   "source": [
    "Dividindo as base em treino e teste"
   ],
   "metadata": {
    "collapsed": false
   }
  },
  {
   "cell_type": "code",
   "execution_count": 7,
   "outputs": [],
   "source": [
    "df_train, df_test = train_test_split(df_all, test_size=0.5, random_state=42)\n",
    "df_train.to_csv('../data/processed/PENSE_2019/train.zip', index=False, compression=dict(method='zip', archive_name='data.csv', compresslevel=9))\n",
    "df_test.to_csv('../data/processed/PENSE_2019/test.zip', index=False, compression=dict(method='zip', archive_name='data.csv', compresslevel=9))"
   ],
   "metadata": {
    "collapsed": false,
    "ExecuteTime": {
     "end_time": "2023-05-09T16:45:23.902373486Z",
     "start_time": "2023-05-09T16:44:21.750218914Z"
    }
   }
  }
 ],
 "metadata": {
  "kernelspec": {
   "display_name": "Python 3",
   "language": "python",
   "name": "python3"
  },
  "language_info": {
   "codemirror_mode": {
    "name": "ipython",
    "version": 2
   },
   "file_extension": ".py",
   "mimetype": "text/x-python",
   "name": "python",
   "nbconvert_exporter": "python",
   "pygments_lexer": "ipython2",
   "version": "2.7.6"
  }
 },
 "nbformat": 4,
 "nbformat_minor": 0
}
