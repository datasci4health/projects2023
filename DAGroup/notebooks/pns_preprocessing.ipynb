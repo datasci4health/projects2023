{
 "cells": [
  {
   "cell_type": "code",
   "execution_count": 1,
   "metadata": {
    "collapsed": true,
    "ExecuteTime": {
     "end_time": "2023-05-19T22:26:18.326135825Z",
     "start_time": "2023-05-19T22:25:41.221345734Z"
    }
   },
   "outputs": [],
   "source": [
    "%load_ext autoreload\n",
    "%autoreload 2\n",
    "\n",
    "import sys\n",
    "sys.path.insert(0, '../src')\n",
    "\n",
    "from pathlib import Path\n",
    "import pandas as pd\n",
    "from zipfile import ZipFile\n",
    "from sklearn.model_selection import train_test_split\n",
    "from pns_dict import PNS_DICT_RAW\n",
    "import numpy as np\n",
    "from preprocessing_constants import SELECTED_COLUMNS, UPDATE_DICT\n",
    "\n",
    "PNS_DATA = Path('../data/raw/PNS_2019/PNS_2019.zip').resolve()\n",
    "zip_pense = ZipFile(PNS_DATA)\n",
    "\n",
    "path_unzip = zip_pense.namelist()[0]\n",
    "df = pd.read_csv(zip_pense.open(path_unzip), delimiter=';', low_memory=False)"
   ]
  },
  {
   "cell_type": "code",
   "execution_count": 2,
   "metadata": {
    "ExecuteTime": {
     "end_time": "2023-05-19T22:26:18.326484342Z",
     "start_time": "2023-05-19T22:26:18.325924036Z"
    }
   },
   "outputs": [
    {
     "name": "stdout",
     "output_type": "stream",
     "text": [
      "O dataset PNS possui 293726 linhas e 1087 colunas (features).\n"
     ]
    }
   ],
   "source": [
    "print(\"O dataset PNS possui {} linhas e {} colunas (features).\".format(*df.shape))"
   ]
  },
  {
   "attachments": {},
   "cell_type": "markdown",
   "metadata": {},
   "source": [
    "### Criando indicadores"
   ]
  },
  {
   "attachments": {},
   "cell_type": "markdown",
   "metadata": {},
   "source": [
    "Neste projeto usaremos o [PHQ9](https://www.mdcalc.com/calc/1725/phq9-patient-health-questionnaire9) para ter um indicador do grau de depressão da pessoa no momento da pesquisa. \n",
    "\n",
    "Além deste indicador, utilizaremos a questão Q092 (Algum médico ou profissional de saúde mental (como psiquiatra ou psicólogo) já lhe deu o diagnóstico de depressão?) como referência de filtragem de dados devido à questões mais específicas como 'Por causa da depressão Toma medicamentos' serem dependentes dela."
   ]
  },
  {
   "cell_type": "code",
   "execution_count": 3,
   "metadata": {
    "ExecuteTime": {
     "end_time": "2023-05-19T22:26:31.126180576Z",
     "start_time": "2023-05-19T22:26:18.326576042Z"
    }
   },
   "outputs": [],
   "source": [
    "df.loc[(18 <= df['C008']) & (df['C008'] <= 59), 'phq9_total'] = df.loc[(18 <= df['C008']) & (df['C008'] <= 59), ['N010', 'N011', 'N012', 'N013', 'N014', 'N015', 'N016', 'N017', 'N018']].sum(axis=1, min_count=1) - 9 # -9 correção do valor, como o questionario a resposta \"Nenhuma\" começa no 1\n",
    "\n",
    "# Classificando a gravidade da depressão com base na pontuação total\n",
    "def classify_depression(row):\n",
    "    value = row['phq9_total']\n",
    "\n",
    "    if  0 <= value < 5:\n",
    "        return 1\n",
    "    elif value < 10:\n",
    "        return 2\n",
    "    elif value < 15:\n",
    "        return 3\n",
    "    elif value < 20:\n",
    "        return 4\n",
    "    elif value >= 20:\n",
    "        return 5\n",
    "\n",
    "    return np.nan # questionario não respondido ou idade não compativel\n",
    "\n",
    "df['depression_severity'] = df.apply(classify_depression, axis=1)"
   ]
  },
  {
   "attachments": {},
   "cell_type": "markdown",
   "metadata": {},
   "source": [
    "# Modificações em variáveis de interesse"
   ]
  },
  {
   "cell_type": "code",
   "execution_count": 4,
   "metadata": {
    "ExecuteTime": {
     "end_time": "2023-05-19T22:26:31.257721044Z",
     "start_time": "2023-05-19T22:26:31.128313838Z"
    }
   },
   "outputs": [],
   "source": [
    "conditions = [\n",
    "    df['D00901'].isin([1, 2, 3, 4, 5, 7]),\n",
    "    df['D00901'].isin([6, 8, 10]),\n",
    "    df['D00901'].isin([9, 11, 12]),\n",
    "    df['D00901'].isin([13, 14, 15])\n",
    "]\n",
    "new_classifications = [\n",
    "    1,\n",
    "    2,\n",
    "    3,\n",
    "    4\n",
    "]\n",
    "\n",
    "# Agrega as escolaridades em um novo conjunto de classificações para facilitar analise\n",
    "df['escolaridade_agregada'] = np.select(conditions, new_classifications, default=None).astype(float)"
   ]
  },
  {
   "cell_type": "code",
   "execution_count": 5,
   "outputs": [
    {
     "data": {
      "text/plain": "0         1.0\n1         NaN\n2         2.0\n3         NaN\n4         NaN\n         ... \n293721    2.0\n293722    4.0\n293723    NaN\n293724    NaN\n293725    NaN\nName: escolaridade_agregada, Length: 293726, dtype: float64"
     },
     "execution_count": 5,
     "metadata": {},
     "output_type": "execute_result"
    }
   ],
   "source": [
    "df['escolaridade_agregada']"
   ],
   "metadata": {
    "collapsed": false,
    "ExecuteTime": {
     "end_time": "2023-05-19T22:26:31.287916117Z",
     "start_time": "2023-05-19T22:26:31.258836710Z"
    }
   }
  },
  {
   "cell_type": "code",
   "execution_count": 6,
   "metadata": {
    "ExecuteTime": {
     "end_time": "2023-05-19T22:26:31.300655360Z",
     "start_time": "2023-05-19T22:26:31.280848297Z"
    }
   },
   "outputs": [],
   "source": [
    "df['renda_trabalho'] = df['E01602']+df['E01604']+df['E01802']+df['E01804']\n",
    "df['horas_semanais_trabalho'] = df['E017']+df['E019']"
   ]
  },
  {
   "cell_type": "code",
   "execution_count": 7,
   "metadata": {
    "ExecuteTime": {
     "end_time": "2023-05-19T22:26:31.510775146Z",
     "start_time": "2023-05-19T22:26:31.298200479Z"
    }
   },
   "outputs": [
    {
     "name": "stdout",
     "output_type": "stream",
     "text": [
      "A quantidade de dados investigável dos dados são 65803, 22.402852% do total.\n"
     ]
    }
   ],
   "source": [
    "selected = df[df['depression_severity'].notna()] # pega somente os registros que foram respondidos como sim ou não\n",
    "print(\"A quantidade de dados investigável dos dados são {}, {:02f}% do total.\".format(selected.shape[0], 100*selected.shape[0]/df.shape[0]))"
   ]
  },
  {
   "cell_type": "code",
   "execution_count": 8,
   "metadata": {
    "ExecuteTime": {
     "end_time": "2023-05-19T22:26:31.779682445Z",
     "start_time": "2023-05-19T22:26:31.511027536Z"
    }
   },
   "outputs": [
    {
     "name": "stdout",
     "output_type": "stream",
     "text": [
      "A quantidade de dados investigável dos dados são 90846, 30.928825% do total.\n"
     ]
    }
   ],
   "source": [
    "selected = df[(df['depression_severity'].notna()) | df['Q092'].isin([1, 2])] # pega somente os registros que foram respondidos como sim ou não ou que possui informações sobre dignostico de depressao\n",
    "print(\"A quantidade de dados investigável dos dados são {}, {:02f}% do total.\".format(selected.shape[0], 100*selected.shape[0]/df.shape[0]))"
   ]
  },
  {
   "cell_type": "code",
   "execution_count": 9,
   "metadata": {
    "ExecuteTime": {
     "end_time": "2023-05-19T22:26:31.831447186Z",
     "start_time": "2023-05-19T22:26:31.779542809Z"
    }
   },
   "outputs": [
    {
     "name": "stdout",
     "output_type": "stream",
     "text": [
      "Numero de casas entrevistadas:  90846\n",
      "Numero de pessoas entrevistadas:  90846\n"
     ]
    }
   ],
   "source": [
    "print(\"Numero de casas entrevistadas: \", selected.groupby(['V0001', 'V0024', 'UPA_PNS', 'V0006_PNS']).size().reset_index().shape[0])\n",
    "print(\"Numero de pessoas entrevistadas: \", selected.groupby(['V0001', 'V0024', 'UPA_PNS', 'V0006_PNS', 'C00301']).size().reset_index().shape[0])"
   ]
  },
  {
   "attachments": {},
   "cell_type": "markdown",
   "metadata": {
    "collapsed": false
   },
   "source": [
    "Com isso temos que as pessoas entrevistadas moram em casas diferentes, isso facilita a divisão dos dados."
   ]
  },
  {
   "attachments": {},
   "cell_type": "markdown",
   "metadata": {
    "ExecuteTime": {
     "end_time": "2023-05-19T10:05:51.774734245Z",
     "start_time": "2023-05-19T10:05:51.588321787Z"
    }
   },
   "source": [
    "#### Filtragem e renomeação das colunas de interesse"
   ],
   "outputs": [
    {
     "data": {
      "text/plain": "{'V0001': 'Unidade da Federação',\n 'V0022': 'Total de moradores',\n 'V0026': 'Tipo de situação censitária',\n 'V0031': 'Tipo de área',\n 'V0025A': 'Seleção do morador de 15 anos ou mais para responder o questionário individual',\n 'VDF004': 'Faixa de rendimento domiciliar per capita (exclusive o rendimento das pessoas cuja condição na unidade domiciliar era pensionista, empregado doméstico ou parente do empregado doméstico)',\n 'A001': 'Tipo do domicílio',\n 'A002010': 'Qual é o material que predomina na construção das paredes externas deste domicílio?',\n 'A003010': 'Material predominante na cobertura (telhado) do domicílio',\n 'A004010': 'Qual é o material que predomina no piso deste domicílio',\n 'A01001': 'Quantos cômodos têm este domicílio',\n 'A011': 'Quantos cômodos estão servindo permanentemente de dormitório para os moradores deste domicílio',\n 'A005010': 'Qual é a principal forma de abastecimento de água deste domicílio',\n 'A005012': 'Este domicílio está ligado à rede geral de distribuição de água?',\n 'A00601': 'A água utilizada neste domicílio chega',\n 'A009010': 'A água utilizada para beber neste domicílio é',\n 'A01401': 'Quantos banheiros (com chuveiro ou banheira e vaso sanitário ou privada) de uso exclusivo dos moradores existem neste domicílio, inclusive os localizados no terreno ou propriedade',\n 'A01402': 'Quantos banheiros (com chuveiro ou banheira e vaso sanitário ou privada) de uso comum a mais de um domicilio, existem neste terreno ou propriedade',\n 'A01403': 'Utiliza sanitário ou buraco para dejeções, inclusive os localizados no terreno ou na propriedade (cercado por paredes de qualquer material',\n 'A01501': 'Para onde vai o esgoto do banheiro? Ou Para onde vai o esgoto do sanitário ou do buraco para dejeções?',\n 'A016010': 'Qual o (principal) destino dado ao lixo',\n 'A018011': 'Neste domicílio existe televisão em cores',\n 'A018012': 'Quantos?',\n 'A018013': 'Neste domicílio existe geladeira',\n 'A018014': 'Quantos?',\n 'A018015': 'Neste domicílio existe máquina de lavar roupa',\n 'A018016': 'Quantos?',\n 'A018017': 'Neste domicílio existe telefone fixo convencional',\n 'A018018': 'Quantos?',\n 'A018019': 'Neste domicílio existe telefone móvel celular',\n 'A018020': 'Quantos?',\n 'A018021': 'Neste domicílio existe forno micro-ondas',\n 'A018022': 'Quantos?',\n 'A018023': 'Neste domicílio existe computador (considere inclusive os portáteis, tais como: laptop, notebook ou netbook)?',\n 'A018024': 'Quantos?',\n 'A018025': 'Neste domicílio existe motocicleta',\n 'A018026': 'Quantos?',\n 'A018027': 'Neste domicílio existe automóvel',\n 'A018028': 'Quantos?',\n 'A01901': 'Algum morador tem acesso à Internet no domicílio por meio de computador, tablet, telefone móvel celular, televisão ou outro equipamento?',\n 'A02101': 'No seu domicílio, há trabalhador (as) doméstico(as) que trabalham em seu domicílio três vezes ou mais por semana (empregada doméstica, babá, cuidador etc.)',\n 'A02102': 'Quantos?',\n 'A02201': 'Em seu domicílio, há algum animal de estimação',\n 'A02305': 'Quantos destes animais são gatos',\n 'A02306': 'Quantos destes animais são cachorros',\n 'A02307': 'Quantos destes animais são aves',\n 'A02308': 'Quantos destes animais são peixes',\n 'B001': 'O seu domicílio está cadastrado na unidade de saúde da família',\n 'B003': 'Nos últimos doze meses, com que frequência o seu domicílio recebeu uma visita de algum Agente Comunitário ou algum membro da Equipe de Saúde da Família?',\n 'C004': 'Condição no domicílio',\n 'C006': 'Sexo',\n 'C008': 'Idade do morador na data de referência',\n 'C009': 'Cor ou raça',\n 'C01001': 'Cônjuge ou companheiro(a) mora em nesse domicílio.',\n 'C014': 'Qual é a natureza dessa união?',\n 'D001': 'Sabe ler e escrever',\n 'D007': '___já concluiu algum outro curso superior de graduação',\n 'D00901': 'Qual foi o curso mais elevado que ___frequentou',\n 'escolaridade_agregada': '',\n 'E01201': 'Qual era a ocupação (cargo ou função) que ___ tinha nesse trabalho',\n 'E01602': 'Qual era o rendimento bruto mensal ou retirada que ___ fazia normalmente nesse trabalho?(valor em dinheiro)',\n 'E033': '. Na semana de___a___ (semana de referência), ___ qual foi o total de horas que dedicou às atividades de cuidados de pessoas e/ou afazeres domésticos?',\n 'renda_trabalho': '',\n 'horas_semanais_trabalho': '',\n 'I00101': 'tem algum plano odontológico particular, de empresa ou órgão público?',\n 'I00102': 'tem algum plano de saúde médico particular, de empresa ou órgão público?',\n 'J002': 'Nas duas últimas semanas, ___ deixou de realizar quaisquer de suas atividades habituais (trabalhar, ir à escola, brincar, afazeres domésticos etc.) por motivo da própria saúde',\n 'J003': 'Nas duas últimas semanas, quantos dias _____ deixou de realizar suas atividades habituais, por motivo da própria saúde',\n 'J00402': 'Qual foi o principal motivo de saúde que impediu ___ de realizar suas atividades habituais nas duas últimas semanas',\n 'J00404': 'Este motivo de saúde estava relacionado ao trabalho',\n 'J005': 'Nas duas últimas semanas___ esteve acamado (a)',\n 'J006': 'Nas duas últimas semanas, quantos dias _____ esteve acamado (a)',\n 'J007': 'Algum médico já deu o diagnóstico de alguma doença crônica, física ou mental, ou doença de longa duração (de mais de 6 meses de duração) a ___',\n 'J00801': 'Alguma dessas doenças limita de alguma forma suas atividades habituais (trabalhar, ir à escola, brincar, afazeres domésticos, etc.)',\n 'J009': '___ costuma procurar o mesmo lugar, mesmo médico ou mesmo serviço de saúde quando precisa de atendimento de saúde',\n 'J01002': 'Quando está doente ou precisando de atendimento de saúde___ costuma procurar',\n 'J01101': 'Quando ____ consultou um médico pela última vez',\n 'J012': 'Quantas vezes ___ consultou um médico nos últimos 12 meses',\n 'J01301': 'Quando ___ consultou um dentista pela última vez',\n 'J014': 'Nas duas últimas semanas, ___ procurou algum lugar, serviço ou profissional de saúde para atendimento relacionado à própria saúde',\n 'J01502': 'Qual foi o motivo principal pelo qual ___ procurou atendimento relacionado à própria saúde nas duas últimas semanas',\n 'J01602': 'Onde ___ procurou o primeiro atendimento de saúde por este motivo nas duas últimas semanas',\n 'J01701': 'Nessa primeira vez que procurou atendimento de saúde por este motivo, nas duas últimas semanas',\n 'J01802': 'Por que motivo ___ não foi atendido(a) na primeira vez que procurou atendimento de saúde nas duas últimas semanas',\n 'J019': 'Nas duas últimas semanas, quantas vezes ___ voltou a procurar atendimento de saúde por este mesmo motivo',\n 'J02002': 'Onde ___ procurou o último atendimento de saúde por este motivo nas duas últimas semanas',\n 'J021': 'Nessa última vez que procurou atendimento de saúde por este motivo, nas duas últimas semanas, ___ foi atendido (a)',\n 'J022010': 'Por que motivo ___ não foi atendido (a) nessa última vez que procurou atendimento de saúde nas duas últimas semanas',\n 'J023': 'Este serviço de saúde onde___ foi atendido era:',\n 'J024': 'Este atendimento de saúde de ___ foi coberto por algum plano de saúde',\n 'J025': '___ pagou algum valor por este atendimento de saúde recebido nas duas últimas semanas',\n 'J026': 'O atendimento de ___ foi feito pelo SUS',\n 'J02702': 'Qual foi o principal atendimento de saúde que ___ recebeu?',\n 'J02901': 'Neste atendimento de ___, foi receitado algum medicamento',\n 'J03001': '__conseguiu obter os medicamentos receitados? (Leia as opções de resposta)',\n 'J03102': 'Qual o principal motivo de ___ não ter conseguido obter todos os medicamentos receitados',\n 'J032': 'Algum dos medicamentos foi coberto por plano de saúde',\n 'J03301': 'Algum dos medicamentos foi obtido no programa Aqui Tem Farmácia Popular',\n 'J034': 'Algum dos medicamentos foi obtido em serviço público de saúde',\n 'J035': '___ pagou algum valor pelos medicamentos',\n 'J03602': 'Nas duas últimas semanas, por que motivo ___ não procurou serviço de saúde',\n 'J037': 'Nos últimos 12 meses, ___ ficou internado(a) em hospital por 24 horas ou mais',\n 'J038': 'Nos últimos 12 meses, quantas vezes ___ esteve internado(a)',\n 'J039': 'Qual foi o principal atendimento de saúde que ___recebeu quando esteve internado(a) (pela última vez) nos doze últimos meses',\n 'J04001': 'Quanto tempo em meses o morador ficou internado',\n 'J04002': 'Quanto tempo em dias o morador ficou internado',\n 'J041': 'O estabelecimento de saúde em que ___ esteve internado(a) pela última vez nos últimos 12 meses era',\n 'J042': 'A última internação de ___ nos últimos 12 meses foi coberta por algum plano de saúde',\n 'J043': '___ pagou algum valor por esta última internação? (Entrevistador: se o(a) entrevistado(a) responder que pagou, mas teve reembolso total, marque a opção 2)',\n 'J044': 'Esta última internação de ___ foi feita através do Sistema Único de Saúde (SUS)',\n 'J046': 'Nos últimos 12 meses, ___ teve atendimento de urgência ou emergência no domicílio',\n 'J047': 'Este atendimento foi coberto por algum plano de saúde',\n 'J048': '___pagou algum valor por este atendimento? (Entrevistador: se o(a) entrevistado(a) responder que pagou, mas teve reembolso total, marque a opção 2)',\n 'J049': 'Este atendimento foi feito através do Sistema Único de Saúde (SUS)',\n 'J051': 'Neste atendimento, ___ foi transportado por ambulância para um serviço de saúde',\n 'J052': 'O transporte foi feito por',\n 'J05301': 'Nos últimos doze meses, ___ utilizou tratamento como acupuntura, homeopatia, plantas medicinais e fitoterapia, meditação, yoga, tai chi chuan, lian gong ou outra prática integrativa e complementar a saúde?',\n 'J05402': 'Qual tratamento _________ fez uso Acupuntura',\n 'J05403': 'Qual tratamento _________ fez uso Homeopatia',\n 'J05404': 'Qual tratamento _________ fez uso plantas medicinais e fitoterapia',\n 'J05405': 'Qual tratamento _________ fez uso auriculoterapia',\n 'J05406': 'Qual tratamento _________ fez uso meditação',\n 'J05407': 'Qual tratamento _________ fez uso Yoga',\n 'J05408': 'Qual tratamento _________ fez uso Tai chi chuan, Lian gong, Qi gong',\n 'J05409': 'Qual tratamento _________ fez uso Terapia comunitária integrativa',\n 'J054010': 'Qual tratamento _________ fez uso Outro',\n 'J056': '___ pagou algum valor por este(s) tratamento(s)',\n 'J057': 'Este(s) tratamento(s) foi (foram) feito(s) através do Sistema Único de Saúde (SUS):',\n 'M00401': 'Quanto tempo em horas o(a) Sr(a) gasta(va), normalmente, por dia, no deslocamento para o(s) seu(s) trabalho(s), considerando ida e volta',\n 'M005010': 'No(s) seu(s) trabalho(s), habitualmente, (s) o(a) Sr(a) trabalha(va) algum período de tempo entre as 8 horas da noite e às 5 horas da manhã',\n 'M00601': 'Com que frequência, habitualmente, o(a) Sr(a) trabalha(va) no horário entre 8 horas da noite e 5 horas da manhã em algum dos seus trabalhos',\n 'M007': 'Em algum dos seus trabalhos, o(a) Sr(a) trabalha(va) em regime de turnos ininterruptos, isto é, por 24 horas seguidas',\n 'M008': 'Com que frequência o(a) Sr(a) trabalha(va) por 24 horas seguidas',\n 'M009': 'O(a) Sr(a) normalmente trabalha(va) em ambientes',\n 'M01001': 'Nos últimos 30 dias, alguém fumou no mesmo ambiente fechado onde o(a) Sr(a) trabalhava (todos os trabalhos)',\n 'M011011': 'No(s) seu(s) trabalho(s), o(a) Sr(a) está(estava) exposto(a) a algum destes fatores que podem afetar a sua saúde. Manuseio de substâncias químicas (agrotóxicos, gasolina, diesel, formol, chumbo, mercúrio, cromo, quimioterápicos etc.)',\n 'M011021': 'No(s) seu(s) trabalho(s), o(a) Sr(a) está exposto(a) a algum destes fatores que podem afetar a sua saúde Exposição a ruído (barulho intenso)',\n 'M011031': 'No(s) seu(s) trabalho(s), o(a) Sr(a) está exposto(a) a algum destes fatores que podem afetar a sua saúde Exposição longa ao sol',\n 'M011041': 'No(s) seu(s) trabalho(s), o(a) Sr(a) está exposto(a) a algum destes fatores que podem afetar a sua saúde Manuseio de material radioativo (transporte, recebimento, armazenagem, trabalho com raio-x)',\n 'M011051': 'No(s) seu(s) trabalho(s), o(a) Sr(a) está exposto(a) a algum destes fatores que podem afetar a sua saúde Manuseio de resíduos urbanos (lixo)',\n 'M011061': 'No(s) seu(s) trabalho(s), o(a) Sr(a) está exposto(a) a algum destes fatores que podem afetar a sua saúde Exposição a material biológico (sangue, agulhas, secreções)',\n 'M011071': 'No(s) seu(s) trabalho(s), o(a) Sr(a) está exposto(a) a algum destes fatores que podem afetar a sua saúde Exposição à poeira mineral (pó de mármore, de areia, de brita, de vidro (sílica), de amianto (asbesto), de ferro ou aço)',\n 'M01401': 'Com quantos familiares ou parentes ___ pode contar em momentos bons ou ruins',\n 'M01501': 'Com quantos amigos próximos ___ pode contar em momentos bons ou ruins (Sem considerar os familiares ou parentes',\n 'M01601': 'Nos últimos doze meses, com que frequência o(a) Sr(a) se reuniu com outras pessoas para prática de atividades esportivas, exercícios físicos, recreativos ou artísticos',\n 'M01701': 'Nos últimos doze meses, com que frequência o(a) Sr(a) participou de reuniões de grupos como associações de moradores ou funcionários, movimentos sociais/comunitários, centros acadêmicos ou similares',\n 'M01801': 'Nos últimos 12 meses, com que frequência o(a) Sr(a) fez trabalho voluntário não remunerado',\n 'M01901': 'Nos últimos doze meses, com que frequência o(a) Sr(a) compareceu a atividades coletivas da sua religião ou de outra religião sem contar com situações como casamento, batizado, ou enterro)',\n 'N001': 'Em geral, como o(a) Sr(a) avalia a sua saúde',\n 'N00101': 'Considerando saúde como um estado de bem-estar físico e mental, e não somente a ausência de doenças, como você avalia o seu estado de saúde?',\n 'N010': 'Nas duas últimas semanas, com que frequência o(a) Sr(a) teve problemas no sono, como dificuldade para adormecer, acordar frequentemente à noite ou dormir mais do que de costume?',\n 'N011': 'Nas duas últimas semanas, com que frequência o(a) Sr(a) teve problemas por não se sentir descansado(a) e disposto(a) durante o dia, sentindo-se cansado(a), sem ter energia?',\n 'N012': 'Nas duas últimas semanas, com que frequência o(a) Sr(a) teve pouco interesse ou não senitiu prazer em fazer as coisas?',\n 'N013': 'Nas duas últimas semanas, com que frequência o(a) Sr(a) teve problemas para se concentrar nas suas atividades habituais?',\n 'N014': 'Nas duas últimas semanas, com que frequência o(a) Sr(a) teve problemas na alimentação, como ter falta de apetite ou comer muito mais do que de costume?',\n 'N015': 'Nas duas últimas semanas, com que frequência o(a) Sr(a) teve lentidão para se movimentar ou falar, ou ao contrário ficou muito agitado(a) ou inquieto(a)?',\n 'N016': 'Nas duas últimas semanas, com que frequência o(a) Sr(a) se sentiu deprimido(a), “pra baixo” ou sem perspectiva?',\n 'N017': 'Nas duas últimas semanas, com que frequência o(a) Sr(a) se sentiu mal consigo mesmo, se achando um fracasso ou achando que decepcionou sua família?',\n 'N018': 'Nas duas últimas semanas, com que frequência o(a) Sr(a) pensou em se ferir de alguma maneira ou achou que seria melhor estar morto?',\n 'P00104': 'Peso - Final (em kg)\\n(3 inteiros e 1 casa decimal)',\n 'P00404': 'Altura - Final (em cm)\\n(3 inteiros)',\n 'P005': 'A Sra está grávida no momento?',\n 'P00601': 'Ontem o(a) Sr(a) comeu arroz, macarrão, polenta, cuscuz ou milho verde.',\n 'P00602': 'Batata comum, mandioca/aipim/macaxeira, cará ou inhame.',\n 'P00603': 'Feijão, ervilha, lentilha ou grão de bico.',\n 'P00604': 'Carne de boi, porco, frango, peixe',\n 'P00605': 'Ovo (frito, cozido ou mexido ).',\n 'P00607': 'Alface, couve, brócolis, agrião ou espinfre.',\n 'P00608': 'Abóbora, cenoura, batata doce ou quiabo/caruru.',\n 'P00609': 'Tomate, pepino, abobrinha, berinjela, chuchu ou beterraba.',\n 'P00610': 'Mamão, manga, melão amarelo ou pequi.',\n 'P00611': 'Laranja, banana, maçã, abacaxi.',\n 'P00612': 'Leite',\n 'P00613': 'Amendoim, castanha de caju ou castanha do Brasil/Pará',\n 'P00614': 'ONTEM o(a) Sr(a) tomou ou comeu:Refrigerante',\n 'P00615': 'Suco de fruta em caixinha ou lata ou refresco em pó.',\n 'P00616': 'Bebida achocolatada ou iogurte com sabor.',\n 'P00617': 'Salgadinho de pacote ou biscoito/bolacha salgado.',\n 'P00618': 'Biscoito/bolacha doce ou recheado ou bolo de pacote.',\n 'P00619': 'Sorvete, chocolate, gelatina, flan ou outra sobremesa industrializada.',\n 'P00620': 'Salsicha, linguiça, mortadela ou presunto.',\n 'P00621': 'Pão de forma, de cachorro-quente ou de hambúrguer.',\n 'P00622': 'Margarina, maionese, ketchup ou outros molhos industrializados.',\n 'P00623': 'Macarrão instantâneo, sopa de pacote, lasanha congelada ou outro prato congelado comprado pronto industrilizado.',\n 'P006': 'Em quantos dias da semana o(a) Sr(a) costuma comer feijão?',\n 'P00901': 'Em quantos dias da semana, o(a) Sr(a) costuma comer pelo menos um tipo de verdura ou legume (sem contar batata, mandioca, cará ou inhame) como alface, tomate, couve, cenoura, chuchu, berinjela, abobrinha?',\n 'P01001': 'Em geral, o(a) Sr(a) costuma comer esse tipo de verdura ou legume:',\n 'P01101': 'Em quantos dias da semana o(a) Sr(a) costuma comer carne vermelha (boi, porco, cabrito, bode, ovelha etc.)?',\n 'P013': 'Em quantos dias da semana o(a) Sr(a) costuma comer frango/galinha?',\n 'P015': 'Em quantos dias da semana o(a) Sr(a) costuma comer peixe?',\n 'P02001': 'Em quantos dias da semana o(a) Sr(a) costuma tomar suco de caixinha/lata ou refresco em pó ?',\n 'P02101': 'Que tipo de suco de caixinha/lata ou refresco em pó o(a) Sr(a) costuma tomar? (Ler as opções de resposta)',\n 'P01601': 'Em quantos dias da semana o(a) Sr(a) costuma tomar suco de fruta natural (incluída a polpa de fruta congelada)?',\n 'P018': 'Em quantos dias da semana o(a) Sr(a) costuma comer frutas?',\n 'P019': 'Em geral, quantas vezes por dia o(a) Sr(a) come frutas?',\n 'P02002': 'Em quantos dias da semana o(a) Sr(a) costuma tomar refrigerante?',\n 'P02102': 'Que tipo de refrigerante o(a) Sr(a) costuma tomar?',\n 'P023': 'Em quantos dias da semana o(a) Sr(a) costuma tomar leite? (de origem animal: vaca, cabra, búfala etc.)',\n 'P02401': 'Que tipo de leite o(a) Sr(a) costuma tomar?',\n 'P02501': 'Em quantos dias da semana o(a) Sr(a) costuma comer alimentos doces como biscoito/bolacha recheado, chocolate, gelatina, balas e outros?',\n 'P02602': 'Em quantos dias da semana o(a) Sr(a) costuma substituir a refeição do almoço por lanches rápidos como sanduíches, salgados, pizza, cachorro quente, etc?',\n 'P02601': 'Considerando a comida preparada na hora e os alimentos industrializados, o(a) Sr(a) acha que o seu consumo de sal é:',\n 'P027': 'Com que frequência o(a) Sr(a) costuma consumir alguma bebida alcoólica?',\n 'P02801': 'Quantos dias por semana o(a) Sr(a) costuma consumir alguma bebida alcoólica?',\n 'P029': 'Em geral, no dia que o(a) Sr(a) bebe, quantas doses de bebida alcoólica o(a) Sr(a) consome?',\n 'P03201': 'Nos últimos trinta dias, o(a) Sr(a) chegou a consumir cinco ou mais doses de bebida alcoólica em uma única ocasião?',\n 'P03202': 'Quando isso ocorreu, qual foi o número máximo de doses consumido em uma única ocasião?',\n 'P03001': 'Nos últimos doze meses, quando consumiu bebida alcoólica, o(a) Sr(a) dirigiu logo depois de beber?',\n 'P03301': 'Nos últimos doze meses, quantas vezes o(a) Sr(a) deixou de trabalhar, realizar afazeres domésticos, ir à escola, curso ou faculdade, fazer compras, etc. porque bebeu demais?',\n 'P03302': 'Nos últimos doze meses, quantas vezes, depois/após ter bebido, o(a) Sr(a) não conseguiu lembrar o que aconteceu?',\n 'P03303': 'Nos últimos doze meses, algum parente, amigo ou profissional de saúde disse que você estava bebendo demais ou para você parar de beber?',\n 'P034': 'Nos últimos três meses, o(a) Sr(a) praticou algum tipo de exercício físico ou esporte?',\n 'P035': 'Quantos dias por semana o(a) Sr(a) costuma  (costumava)praticar exercício físico ou esporte?',\n 'P03701': 'Em geral, no dia que o(a) Sr(a) pratica exercício ou esporte, quanto tempo em horas dura essa atividade? Horas',\n 'P03702': 'Em geral, no dia que o(a) Sr(a) pratica (praticava) exercício ou esporte, quanto tempo em minutos dura essa atividade?Minutos',\n 'P036': 'Qual o exercício físico ou esporte que o(a) Sr(a) pratica (praticava) com mais frequência? (Anotar apenas o primeiro citado)',\n 'P038': 'No seu trabalho, o(a) Sr(a) anda bastante a pé?',\n 'P039': 'No seu trabalho, o(a) Sr(a) faz faxina pesada, carrega peso ou faz outra atividade pesada que requer esforço físico intenso?',\n 'P03904': 'Em uma semana normal, em quantos dias, o(a) Sr(a) anda bastante a pé ou faz essas atividades pesadas ou que requerem esforço físico no seu trabalho?',\n 'P03905': 'Em um dia normal, quanto tempo o(a) Sr(a) passa andando bastante a pé ou realizando essas atividades pesadas ou que requerem esforço físico no seu trabalho?Horas',\n 'P03906': 'Em um dia normal, quanto tempo o(a) Sr(a) passa andando bastante a pé ou realizando atividades essas atividades pesadas ou que requerem esforço físico no seu trabalho? Minutos',\n 'P040': 'Para ir ou voltar do trabalho, o(a) Sr(a) faz algum trajeto a pé ou de bicicleta?',\n 'P04001': 'Quantos dias por semana o(a) Sr(a) faz algum trajeto a pé ou bicicleta?',\n 'P04101': 'Quanto tempo o(a) Sr(a) gasta, por dia, para percorrer este trajeto a pé ou de bicicleta, considerando a ida e a volta do trabalho?Horas',\n 'P04102': 'Quanto tempo o(a) Sr(a) gasta, por dia, para percorrer este trajeto a pé ou de bicicleta, considerando a ida e a volta do trabalho?Minutos',\n 'P042': 'Nas suas atividades habituais (tais como ir a algum curso, escola ou clube ou levar alguém a algum curso, escola ou clube), quantos dias por semana o(a) Sr(a) faz alguma atividade que envolva deslocamento a pé ou bicicleta? (Exceto o trabalho)',\n 'P04301': 'No dia em que o(a) Sr(a) faz essa(s) atividade(s), quanto tempo o(a) Sr(a) gasta no deslocamento a pé ou de bicicleta, considerando Ida e Volta?Horas',\n 'P04302': 'No dia em que o(a) Sr(a) faz essa(s) atividade(s), quanto tempo o(a) Sr(a) gasta no deslocamento a pé ou de bicicleta, considerando Ida e Volta?Minutos',\n 'P044': 'Nas suas atividades domésticas, o(a) Sr(a) faz faxina pesada, carrega peso ou faz outra atividade pesada que requer esforço físico intenso? (não considerar atividade doméstica remunerada)',\n 'P04401': 'Em uma semana normal, nas suas atividades domésticas, em quantos dias o(a) Sr(a) faz faxina pesada ou realiza atividades que requerem esforço físico intenso? (não considerar atividade doméstica remunerada)',\n 'P04405': 'Quanto tempo gasta, por dia, realizando essas atividades domésticas pesadas ou que requerem esforço físico intenso? (não considerar atividade doméstica remunerada) Horas',\n 'P04406': 'Quanto tempo gasta, por dia, realizando essas atividades domésticas pesadas ou que requerem esforço físico intenso?',\n 'P04501': 'Em média, quantas horas por dia o(a) Sr(a) costuma ficar assistindo televisão?',\n 'P04502': 'Em um dia, quantas horas do seu tempo livre (excluindo o trabalho), o(a) Sr(a) costuma usar computador, tablet ou celular para lazer, tais como: utilizar redes sociais, para ver notícias, vídeos, jogar etc?',\n 'P046': 'Perto do seu domicílio, existe algum lugar público (praça, parque, rua fechada, praia) para fazer caminhada, realizar exercício ou praticar esporte?',\n 'P04701': 'O(A) Sr(a) conhece algum programa público de estímulo à prática de atividade física no seu município?',\n 'P04801': 'O(A) Sr(a) participa desse programa público de estímulo à prática de atividade física no seu município?',\n 'P04902': 'Qual o principal motivo de não participar?',\n 'P050': 'Atualmente, o(a) Sr(a) fuma algum produto do tabaco?',\n 'P051': 'E no passado, o(a) Sr(a) fumou algum produto do tabaco diariamente?',\n 'P052': 'E no passado, o(a) Sr(a) fumou algum produto do tabaco?',\n 'P053': 'Que idade o(a) Sr(a) tinha quando começou a fumar produto de tabaco diariamente?',\n 'P05401': 'Em média, quanto fuma por dia ou por semana Cigarros industrializados',\n 'P05402': 'Quantos por dia',\n 'P05403': 'Quantos por semana',\n 'P05404': 'Em média, quanto fuma por dia ou por semana Cigarros de palha ou enrolados a mão?',\n 'P05405': 'Quantos por dia',\n 'P05406': 'Quantos por semana',\n 'P05407': 'Em média, quanto fuma por dia ou por semana Cigarros de cravo ou de Bali?',\n 'P05408': 'Quantos por dia',\n 'P05409': 'Quantos por semana',\n 'P05410': 'Em média, quanto fuma por dia ou por semana Cachimbos (considere cachimbos cheios)?',\n 'P05411': 'Quantos por dia',\n 'P05412': 'Quantos por semana',\n 'P05413': 'Em média, quanto fuma por dia ou por semana Charutos ou cigarrilhas?',\n 'P05414': 'Quantos por dia',\n 'P05415': 'Quantos por semana',\n 'P05416': 'Em média, quanto fuma por dia ou por semana Narguilé (sessões)?',\n 'P05417': 'Quantos por dia',\n 'P05418': 'Quantos por semana',\n 'P05419': 'Em média, quanto fuma por dia ou por semana Outro',\n 'P05421': 'Quantos por dia',\n 'P05422': 'Quantos por semana',\n 'P055': 'Quanto tempo depois de acordar o(a) Sr(a) normalmente fuma pela primeira vez?',\n 'P056': 'NA ÚLTIMA VEZ que o(a) Sr(a) comprou cigarros para uso próprio, quantos cigarros comprou? (Registre a quantidade e, quando necessário, registre os detalhes da unidade).',\n 'P05601': 'Quantidade de cigarros',\n 'P05602': 'Quantidade de maços',\n 'P05603': 'Quantos cigarros havia em cada maço?',\n 'P05604': 'Quantidade de pacotes',\n 'P05605': 'Quantos maços havia em cada pacote?',\n 'P057': 'No total, quanto o(a) Sr(a) pagou por essa compra?',\n 'P058': 'Em média, quantos cigarros industrializados o(a) Sr(a) fumava por dia ou por semana?',\n 'P05801': 'Quantos por dia',\n 'P05802': 'Quantos por semana',\n 'P05901': 'Número de anos que parou de fumar',\n 'P05902': 'Número de meses que parou de fumar',\n 'P05903': 'Número de semanas que parou de fumar',\n 'P05904': 'Número de dias que parou de fumar',\n 'Q00101': 'Quando foi a última vez que o (a) Sr(a) teve sua pressão arterial medida?',\n 'Q00201': 'Algum médico já lhe deu o diagnóstico de hipertensão arterial (pressão alta)?',\n 'Q00202': 'Essa hipertensão arterial (pressão alta) ocorreu apenas durante algum período de gravidez?',\n 'Q003': 'Que idade o(a) Sr(a) tinha no primeiro diagnóstico de hipertensão arterial (pressão alta)?',\n 'Q02901': 'Quando foi a última vez que o(a) Sr(a) fez exame de sangue para medir a glicemia, isto é, o açúcar no sangue?',\n 'Q03001': 'Algum médico já lhe deu o diagnóstico de diabetes?',\n 'Q03002': 'Esse diabetes ocorreu apenas durante algum período de gravidez?',\n 'Q031': 'Que idade o(a) Sr(a) tinha no primeiro diagnóstico do diabetes?',\n 'Q05901': 'Quando foi a última vez que o(a) Sr(a) fez exame de sangue para medir o colesterol e triglicerídeos?',\n 'Q060': 'Algum médico já lhe deu o diagnóstico de colesterol alto?',\n 'Q061': 'Que idade o(a) Sr(a) tinha no primeiro diagnóstico de colesterol alto?',\n 'Q06306': 'Algum médico já lhe deu o diagnóstico de uma doença do coração, tal como infarto, angina, insuficiência cardíaca ou outra?',\n 'Q06307': 'Infarto',\n 'Q06308': 'Angina',\n 'Q06309': 'Insuficiência cardíaca',\n 'Q06310': 'Arritmia',\n 'Q06311': 'Outra',\n 'Q064': 'Que idade o(a) Sr(a) tinha no primeiro diagnóstico da doença do coração?',\n 'Q068': 'Algum médico já lhe deu o diagnóstico de AVC (Acidente Vascular Cerebral) ou derrame?',\n 'Q070': 'Que idade o(a) Sr(a) tinha no primeiro diagnóstico do derrame (ou AVC)?',\n 'Q074': 'Algum médico já lhe deu o diagnóstico de asma (ou bronquite asmática)?',\n 'Q075': 'Que idade o(a) Sr(a) tinha no primeiro diagnóstico de asma?',\n 'Q076': 'Nos últimos doze meses, o(a) Sr(a) teve alguma crise de asma?',\n 'Q079': 'Algum médico já lhe deu o diagnóstico de artrite ou reumatismo?',\n 'Q080': 'Que idade o(a) Sr(a) tinha no primeiro diagnóstico de artrite ou reumatismo?',\n 'Q092': 'Algum médico ou profissional de saúde mental (como psiquiatra ou psicólogo) já lhe deu o diagnóstico de depressão?',\n 'Q09201': 'Algum médico já lhe receitou algum medicamento para depressão?',\n 'Q09202': 'Nas duas últimas semanas o(a) senhor(a) usou algum medicamento para depressão?',\n 'Q09301': 'Que idade o(a) Sr(a) tinha no primeiro diagnóstico de depressão?',\n 'Q094': 'O(A) Sr(a) vai ao médico/serviço de saúde regularmente por causa da depressão ou só quando tem algum problema?',\n 'Q09502': 'Qual o principal motivo do(a) Sr(a) não visitar o médico/serviço de saúde regularmente por causa da depressão?',\n 'Q09605': 'Por causa da depressão Faz psicoterapia',\n 'Q09606': 'Por causa da depressão Toma medicamentos',\n 'Q09607': 'Por causa da depressão Faz uso de acupuntura, plantas medicinais e fitoterapia, homeopatia, meditação, yoga, tai chi chuan, liang gong ou alguma outra prática integrativa e complementar',\n 'Q098': 'Algum dos medicamentos para depressão foi obtido em serviço público de saúde?',\n 'Q100': 'O(A) Sr(a) pagou algum valor pelos medicamentos?',\n 'Q10101': 'Quando foi a última vez que o(a) Sr(a) recebeu atendimento médico por causa da depressão?',\n 'Q10202': 'Na última vez que recebeu assistência médica para depressão, onde o(a) Sr(a) foi atendido?',\n 'Q104': 'O(A) Sr(a) pagou algum valor por esse atendimento?',\n 'Q105': 'Esse atendimento foi feito pelo SUS?',\n 'Q106': 'Em algum dos atendimentos para depressão, houve encaminhamento para algum acompanhamento com profissional de saúde mental, como psiquiatra ou psicólogo?',\n 'Q10701': 'O(A) Sr(a) conseguiu ir às consultas com profissional especialista de saúde mental?',\n 'Q109': 'Em geral, em que grau a depressão limita as suas atividades habituais (tais como trabalhar, realizar afazeres domésticos, etc.)?',\n 'Q11006': 'Algum médico ou profissional de saúde (como psiquiatra ou psicólogo) já lhe deu o diagnóstico de outra doença mental, como transtorno de ansiedade, síndrome do pânico, esquizofrenia, transtorno bipolar, psicose ou TOC (Transtorno Obsessivo Compulsivo) etc?',\n 'Q11007': 'Diagnóstico de Esquizofrenia',\n 'Q11008': 'Diagnóstico de Transtorno bipolar',\n 'Q11009': 'Diagnóstico de TOC (Transtorno obsessivo compulsivo)',\n 'Q11010': 'Outro diagnóstico',\n 'Q111': 'Que idade o(a) Sr(a) tinha no primeiro diagnóstico de doença mental?',\n 'Q11201': 'O(A) Sr(a) visita o médico/serviço de saúde regularmente por causa dessa doença mental ou só quando tem algum problema?',\n 'Q11405': 'Por causa da doença mental faz psicoterapia',\n 'Q11406': 'Por causa da doença mental usa medicamentos ou injeções',\n 'Q11407': 'Por causa da doença mental Faz uso de acupuntura, plantas medicinais e fitoterapia, homeopatia, meditação, yoga, tai chi chuan ou alguma outra prática integrativa e complementar',\n 'Q11408': 'Por causa da doença mental Faz acompanhamento regular com profissional de saúde',\n 'Q115': 'Em geral, em que grau essa doença mental limita as suas atividades habituais (tais como trabalhar, realizar afazeres domésticos etc.)?',\n 'Q11604': 'Algum médico já lhe deu o diagnóstico de alguma outra doença crônica no pulmão, tais como enfisema pulmonar, bronquite crônica ou DPOC (Doença Pulmonar Obstrutiva Crônica)?',\n 'Q11605': 'Diagnóstico de enfisema pulmonar',\n 'Q11606': 'Diagnóstico de bronquite crônica',\n 'Q120': 'Algum médico já lhe deu diagnóstico de câncer?',\n 'Q12102': 'Foi um diagnóstico de câncer de pele?',\n 'Q12103': 'O câncer de pele diagnosticado foi do tipo melanoma?',\n 'Q12104': 'Diagnóstico de outro câncer? Pulmão',\n 'Q12105': 'Diagnóstico de outro câncer? Cólon e reto (intestino)',\n 'Q12106': 'Diagnóstico de outro câncer? Estômago',\n 'Q12107': 'Diagnóstico de outro câncer? Mama (só para mulheres)',\n 'Q12108': 'Diagnóstico de outro câncer? Colo de útero (só para mulheres)',\n 'Q12109': 'Diagnóstico de outro câncer? Próstata (só para homens)',\n 'Q121010': 'Diagnóstico de outro câncer? Boca, Orofaringe ou Laringe',\n 'Q121011': 'Diagnóstico de outro câncer? Bexiga',\n 'Q121012': 'Diagnóstico de outro câncer? Linfoma ou leucemia',\n 'Q121013': 'Diagnóstico de outro câncer? Cérebro',\n 'Q121014': 'Diagnóstico de outro câncer? Ovário (só para mulheres)',\n 'Q121015': 'Diagnóstico de outro câncer? Tireoide',\n 'Q121016': 'Diagnóstico de outro câncer?',\n 'Q12201': 'Que idade o(a) Sr(a) tinha no primeiro diagnóstico de doença mental?',\n 'V00201': 'Nos últimos doze meses, alguém: Te ofendeu, humilhou ou ridicularizou na frente de outras pessoas?',\n 'V00202': 'Nos últimos doze meses, alguém: Gritou com você ou te xingou?',\n 'V00203': 'Nos últimos doze meses, alguém: Usou redes sociais ou celular para ameaçar, ofender, xingar ou expor imagens suas sem o seu consentimento?',\n 'V00204': 'Nos últimos doze meses, alguém: Te ameaçou de ferir ou machucar alguém importante para você?',\n 'V00205': 'Nos últimos doze meses, alguém: Destruiu alguma coisa sua de propósito?',\n 'V003': 'Nos últimos doze meses, quantas vezes isso aconteceu com você?',\n 'V01401': 'Nos últimos doze meses, alguém: Te deu um tapa ou uma bofetada?',\n 'V01402': 'Nos últimos doze meses, alguém: Te empurrou, segurou com força ou jogou algo em você com a intenção de machucar?',\n 'V01403': 'Nos últimos doze meses, alguém: Te deu um soco, chutou ou arrastou pelo cabelo?',\n 'V01404': 'Nos últimos doze meses, alguém: Tentou ou efetivamente estrangulou, asfixiou ou te queimou de propósito?',\n 'V01405': 'Nos últimos doze meses, alguém: Te ameaçou ou feriu com uma faca, arma de fogo ou alguma outra arma ou objeto?',\n 'V015': 'Nos últimos doze meses, quantas vezes isso aconteceu?',\n 'V02701': 'Nos últimos doze meses, alguém: tocou, manipulou, beijou ou expôs partes do seu corpo contra sua vontade',\n 'V02702': 'Nos últimos doze meses, alguém: Te ameaçou ou forçou a ter relações sexuais ou quaisquer outros atos sexuais contra sua vontade?',\n 'V02801': 'E alguma vez na vida, alguém: tocou, manipulou, beijou ou expôs partes do seu corpo contra sua vontade',\n 'V02802': 'E alguma vez na vida, alguém: Te ameaçou ou forçou a ter relações sexuais ou quaisquer outros atos sexuais contra sua vontade?',\n 'V029': 'Nos últimos doze meses, quantas vezes isso aconteceu?',\n 'V034': 'Nos últimos doze meses, você deixou de realizar quaisquer de suas atividades habituais (trabalhar, realizar afazeres domésticos, ir à escola etc.) por causa desse ato',\n 'V03501': 'Esse(s) ato(s) sexual(is) forçado(s) gerou(aram) alguma consequência para sua saúde, tais como: Hematomas, cortes, fraturas, queimaduras ou outras lesões físicas ou ferimentos?',\n 'V03502': 'Esse(s) ato(s) sexual(is) forçado(s) gerou(aram) alguma consequência para sua saúde, tais como: Medo, tristeza, desânimo, dificuldade para dormir, ansiedade, depressão ou outras consequências psicológicas?',\n 'V03503': 'Esse(s) ato(s) sexual(is) forçado(s) gerou(aram) alguma consequência para sua saúde, tais como: Doença sexualmente transmissível ou gravidez indesejada?',\n 'Y001': 'Que idade tinha quando teve relações sexuais pela primeira vez?',\n 'Y00101': 'Idade do morador quando teve relações sexuais pela primeira vez',\n 'Y002': 'Nos últimos doze meses teve relações sexuais?',\n 'Y003': 'Nos últimos doze meses nas relações sexuais que teve, com que frequência usou camisinha:',\n 'phq9_total': '',\n 'depression_severity': ''}"
     },
     "execution_count": 13,
     "metadata": {},
     "output_type": "execute_result"
    }
   ],
   "execution_count": 13
  },
  {
   "cell_type": "code",
   "execution_count": 10,
   "metadata": {
    "ExecuteTime": {
     "end_time": "2023-05-19T22:26:32.021942769Z",
     "start_time": "2023-05-19T22:26:31.833162937Z"
    }
   },
   "outputs": [
    {
     "data": {
      "text/plain": "{'V0001': 'Unidade da Federação',\n 'V0022': 'Total de moradores',\n 'V0026': 'Tipo de situação censitária',\n 'V0031': 'Tipo de área',\n 'V0025A': 'Seleção do morador de 15 anos ou mais para responder o questionário individual',\n 'VDF004': 'Faixa de rendimento domiciliar per capita (exclusive o rendimento das pessoas cuja condição na unidade domiciliar era pensionista, empregado doméstico ou parente do empregado doméstico)',\n 'A001': 'Tipo do domicílio',\n 'A002010': 'Qual é o material que predomina na construção das paredes externas deste domicílio?',\n 'A003010': 'Material predominante na cobertura (telhado) do domicílio',\n 'A004010': 'Qual é o material que predomina no piso deste domicílio',\n 'A01001': 'Quantos cômodos têm este domicílio',\n 'A011': 'Quantos cômodos estão servindo permanentemente de dormitório para os moradores deste domicílio',\n 'A005010': 'Qual é a principal forma de abastecimento de água deste domicílio',\n 'A005012': 'Este domicílio está ligado à rede geral de distribuição de água?',\n 'A00601': 'A água utilizada neste domicílio chega',\n 'A009010': 'A água utilizada para beber neste domicílio é',\n 'A01401': 'Quantos banheiros (com chuveiro ou banheira e vaso sanitário ou privada) de uso exclusivo dos moradores existem neste domicílio, inclusive os localizados no terreno ou propriedade',\n 'A01402': 'Quantos banheiros (com chuveiro ou banheira e vaso sanitário ou privada) de uso comum a mais de um domicilio, existem neste terreno ou propriedade',\n 'A01403': 'Utiliza sanitário ou buraco para dejeções, inclusive os localizados no terreno ou na propriedade (cercado por paredes de qualquer material',\n 'A01501': 'Para onde vai o esgoto do banheiro? Ou Para onde vai o esgoto do sanitário ou do buraco para dejeções?',\n 'A016010': 'Qual o (principal) destino dado ao lixo',\n 'A018011': 'Neste domicílio existe televisão em cores',\n 'A018012': 'Quantos?',\n 'A018013': 'Neste domicílio existe geladeira',\n 'A018014': 'Quantos?',\n 'A018015': 'Neste domicílio existe máquina de lavar roupa',\n 'A018016': 'Quantos?',\n 'A018017': 'Neste domicílio existe telefone fixo convencional',\n 'A018018': 'Quantos?',\n 'A018019': 'Neste domicílio existe telefone móvel celular',\n 'A018020': 'Quantos?',\n 'A018021': 'Neste domicílio existe forno micro-ondas',\n 'A018022': 'Quantos?',\n 'A018023': 'Neste domicílio existe computador (considere inclusive os portáteis, tais como: laptop, notebook ou netbook)?',\n 'A018024': 'Quantos?',\n 'A018025': 'Neste domicílio existe motocicleta',\n 'A018026': 'Quantos?',\n 'A018027': 'Neste domicílio existe automóvel',\n 'A018028': 'Quantos?',\n 'A01901': 'Algum morador tem acesso à Internet no domicílio por meio de computador, tablet, telefone móvel celular, televisão ou outro equipamento?',\n 'A02101': 'No seu domicílio, há trabalhador (as) doméstico(as) que trabalham em seu domicílio três vezes ou mais por semana (empregada doméstica, babá, cuidador etc.)',\n 'A02102': 'Quantos?',\n 'A02201': 'Em seu domicílio, há algum animal de estimação',\n 'A02305': 'Quantos destes animais são gatos',\n 'A02306': 'Quantos destes animais são cachorros',\n 'A02307': 'Quantos destes animais são aves',\n 'A02308': 'Quantos destes animais são peixes',\n 'B001': 'O seu domicílio está cadastrado na unidade de saúde da família',\n 'B003': 'Nos últimos doze meses, com que frequência o seu domicílio recebeu uma visita de algum Agente Comunitário ou algum membro da Equipe de Saúde da Família?',\n 'C004': 'Condição no domicílio',\n 'C006': 'Sexo',\n 'C008': 'Idade do morador na data de referência',\n 'C009': 'Cor ou raça',\n 'C01001': 'Cônjuge ou companheiro(a) mora em nesse domicílio.',\n 'C014': 'Qual é a natureza dessa união?',\n 'D001': 'Sabe ler e escrever',\n 'D007': '___já concluiu algum outro curso superior de graduação',\n 'D00901': 'Qual foi o curso mais elevado que ___frequentou',\n 'escolaridade_agregada': '',\n 'E01201': 'Qual era a ocupação (cargo ou função) que ___ tinha nesse trabalho',\n 'E01602': 'Qual era o rendimento bruto mensal ou retirada que ___ fazia normalmente nesse trabalho?(valor em dinheiro)',\n 'E033': '. Na semana de___a___ (semana de referência), ___ qual foi o total de horas que dedicou às atividades de cuidados de pessoas e/ou afazeres domésticos?',\n 'renda_trabalho': '',\n 'horas_semanais_trabalho': '',\n 'I00101': 'tem algum plano odontológico particular, de empresa ou órgão público?',\n 'I00102': 'tem algum plano de saúde médico particular, de empresa ou órgão público?',\n 'J002': 'Nas duas últimas semanas, ___ deixou de realizar quaisquer de suas atividades habituais (trabalhar, ir à escola, brincar, afazeres domésticos etc.) por motivo da própria saúde',\n 'J003': 'Nas duas últimas semanas, quantos dias _____ deixou de realizar suas atividades habituais, por motivo da própria saúde',\n 'J00402': 'Qual foi o principal motivo de saúde que impediu ___ de realizar suas atividades habituais nas duas últimas semanas',\n 'J00404': 'Este motivo de saúde estava relacionado ao trabalho',\n 'J005': 'Nas duas últimas semanas___ esteve acamado (a)',\n 'J006': 'Nas duas últimas semanas, quantos dias _____ esteve acamado (a)',\n 'J007': 'Algum médico já deu o diagnóstico de alguma doença crônica, física ou mental, ou doença de longa duração (de mais de 6 meses de duração) a ___',\n 'J00801': 'Alguma dessas doenças limita de alguma forma suas atividades habituais (trabalhar, ir à escola, brincar, afazeres domésticos, etc.)',\n 'J009': '___ costuma procurar o mesmo lugar, mesmo médico ou mesmo serviço de saúde quando precisa de atendimento de saúde',\n 'J01002': 'Quando está doente ou precisando de atendimento de saúde___ costuma procurar',\n 'J01101': 'Quando ____ consultou um médico pela última vez',\n 'J012': 'Quantas vezes ___ consultou um médico nos últimos 12 meses',\n 'J01301': 'Quando ___ consultou um dentista pela última vez',\n 'J014': 'Nas duas últimas semanas, ___ procurou algum lugar, serviço ou profissional de saúde para atendimento relacionado à própria saúde',\n 'J01502': 'Qual foi o motivo principal pelo qual ___ procurou atendimento relacionado à própria saúde nas duas últimas semanas',\n 'J01602': 'Onde ___ procurou o primeiro atendimento de saúde por este motivo nas duas últimas semanas',\n 'J01701': 'Nessa primeira vez que procurou atendimento de saúde por este motivo, nas duas últimas semanas',\n 'J01802': 'Por que motivo ___ não foi atendido(a) na primeira vez que procurou atendimento de saúde nas duas últimas semanas',\n 'J019': 'Nas duas últimas semanas, quantas vezes ___ voltou a procurar atendimento de saúde por este mesmo motivo',\n 'J02002': 'Onde ___ procurou o último atendimento de saúde por este motivo nas duas últimas semanas',\n 'J021': 'Nessa última vez que procurou atendimento de saúde por este motivo, nas duas últimas semanas, ___ foi atendido (a)',\n 'J022010': 'Por que motivo ___ não foi atendido (a) nessa última vez que procurou atendimento de saúde nas duas últimas semanas',\n 'J023': 'Este serviço de saúde onde___ foi atendido era:',\n 'J024': 'Este atendimento de saúde de ___ foi coberto por algum plano de saúde',\n 'J025': '___ pagou algum valor por este atendimento de saúde recebido nas duas últimas semanas',\n 'J026': 'O atendimento de ___ foi feito pelo SUS',\n 'J02702': 'Qual foi o principal atendimento de saúde que ___ recebeu?',\n 'J02901': 'Neste atendimento de ___, foi receitado algum medicamento',\n 'J03001': '__conseguiu obter os medicamentos receitados? (Leia as opções de resposta)',\n 'J03102': 'Qual o principal motivo de ___ não ter conseguido obter todos os medicamentos receitados',\n 'J032': 'Algum dos medicamentos foi coberto por plano de saúde',\n 'J03301': 'Algum dos medicamentos foi obtido no programa Aqui Tem Farmácia Popular',\n 'J034': 'Algum dos medicamentos foi obtido em serviço público de saúde',\n 'J035': '___ pagou algum valor pelos medicamentos',\n 'J03602': 'Nas duas últimas semanas, por que motivo ___ não procurou serviço de saúde',\n 'J037': 'Nos últimos 12 meses, ___ ficou internado(a) em hospital por 24 horas ou mais',\n 'J038': 'Nos últimos 12 meses, quantas vezes ___ esteve internado(a)',\n 'J039': 'Qual foi o principal atendimento de saúde que ___recebeu quando esteve internado(a) (pela última vez) nos doze últimos meses',\n 'J04001': 'Quanto tempo em meses o morador ficou internado',\n 'J04002': 'Quanto tempo em dias o morador ficou internado',\n 'J041': 'O estabelecimento de saúde em que ___ esteve internado(a) pela última vez nos últimos 12 meses era',\n 'J042': 'A última internação de ___ nos últimos 12 meses foi coberta por algum plano de saúde',\n 'J043': '___ pagou algum valor por esta última internação? (Entrevistador: se o(a) entrevistado(a) responder que pagou, mas teve reembolso total, marque a opção 2)',\n 'J044': 'Esta última internação de ___ foi feita através do Sistema Único de Saúde (SUS)',\n 'J046': 'Nos últimos 12 meses, ___ teve atendimento de urgência ou emergência no domicílio',\n 'J047': 'Este atendimento foi coberto por algum plano de saúde',\n 'J048': '___pagou algum valor por este atendimento? (Entrevistador: se o(a) entrevistado(a) responder que pagou, mas teve reembolso total, marque a opção 2)',\n 'J049': 'Este atendimento foi feito através do Sistema Único de Saúde (SUS)',\n 'J051': 'Neste atendimento, ___ foi transportado por ambulância para um serviço de saúde',\n 'J052': 'O transporte foi feito por',\n 'J05301': 'Nos últimos doze meses, ___ utilizou tratamento como acupuntura, homeopatia, plantas medicinais e fitoterapia, meditação, yoga, tai chi chuan, lian gong ou outra prática integrativa e complementar a saúde?',\n 'J05402': 'Qual tratamento _________ fez uso Acupuntura',\n 'J05403': 'Qual tratamento _________ fez uso Homeopatia',\n 'J05404': 'Qual tratamento _________ fez uso plantas medicinais e fitoterapia',\n 'J05405': 'Qual tratamento _________ fez uso auriculoterapia',\n 'J05406': 'Qual tratamento _________ fez uso meditação',\n 'J05407': 'Qual tratamento _________ fez uso Yoga',\n 'J05408': 'Qual tratamento _________ fez uso Tai chi chuan, Lian gong, Qi gong',\n 'J05409': 'Qual tratamento _________ fez uso Terapia comunitária integrativa',\n 'J054010': 'Qual tratamento _________ fez uso Outro',\n 'J056': '___ pagou algum valor por este(s) tratamento(s)',\n 'J057': 'Este(s) tratamento(s) foi (foram) feito(s) através do Sistema Único de Saúde (SUS):',\n 'M00401': 'Quanto tempo em horas o(a) Sr(a) gasta(va), normalmente, por dia, no deslocamento para o(s) seu(s) trabalho(s), considerando ida e volta',\n 'M005010': 'No(s) seu(s) trabalho(s), habitualmente, (s) o(a) Sr(a) trabalha(va) algum período de tempo entre as 8 horas da noite e às 5 horas da manhã',\n 'M00601': 'Com que frequência, habitualmente, o(a) Sr(a) trabalha(va) no horário entre 8 horas da noite e 5 horas da manhã em algum dos seus trabalhos',\n 'M007': 'Em algum dos seus trabalhos, o(a) Sr(a) trabalha(va) em regime de turnos ininterruptos, isto é, por 24 horas seguidas',\n 'M008': 'Com que frequência o(a) Sr(a) trabalha(va) por 24 horas seguidas',\n 'M009': 'O(a) Sr(a) normalmente trabalha(va) em ambientes',\n 'M01001': 'Nos últimos 30 dias, alguém fumou no mesmo ambiente fechado onde o(a) Sr(a) trabalhava (todos os trabalhos)',\n 'M011011': 'No(s) seu(s) trabalho(s), o(a) Sr(a) está(estava) exposto(a) a algum destes fatores que podem afetar a sua saúde. Manuseio de substâncias químicas (agrotóxicos, gasolina, diesel, formol, chumbo, mercúrio, cromo, quimioterápicos etc.)',\n 'M011021': 'No(s) seu(s) trabalho(s), o(a) Sr(a) está exposto(a) a algum destes fatores que podem afetar a sua saúde Exposição a ruído (barulho intenso)',\n 'M011031': 'No(s) seu(s) trabalho(s), o(a) Sr(a) está exposto(a) a algum destes fatores que podem afetar a sua saúde Exposição longa ao sol',\n 'M011041': 'No(s) seu(s) trabalho(s), o(a) Sr(a) está exposto(a) a algum destes fatores que podem afetar a sua saúde Manuseio de material radioativo (transporte, recebimento, armazenagem, trabalho com raio-x)',\n 'M011051': 'No(s) seu(s) trabalho(s), o(a) Sr(a) está exposto(a) a algum destes fatores que podem afetar a sua saúde Manuseio de resíduos urbanos (lixo)',\n 'M011061': 'No(s) seu(s) trabalho(s), o(a) Sr(a) está exposto(a) a algum destes fatores que podem afetar a sua saúde Exposição a material biológico (sangue, agulhas, secreções)',\n 'M011071': 'No(s) seu(s) trabalho(s), o(a) Sr(a) está exposto(a) a algum destes fatores que podem afetar a sua saúde Exposição à poeira mineral (pó de mármore, de areia, de brita, de vidro (sílica), de amianto (asbesto), de ferro ou aço)',\n 'M01401': 'Com quantos familiares ou parentes ___ pode contar em momentos bons ou ruins',\n 'M01501': 'Com quantos amigos próximos ___ pode contar em momentos bons ou ruins (Sem considerar os familiares ou parentes',\n 'M01601': 'Nos últimos doze meses, com que frequência o(a) Sr(a) se reuniu com outras pessoas para prática de atividades esportivas, exercícios físicos, recreativos ou artísticos',\n 'M01701': 'Nos últimos doze meses, com que frequência o(a) Sr(a) participou de reuniões de grupos como associações de moradores ou funcionários, movimentos sociais/comunitários, centros acadêmicos ou similares',\n 'M01801': 'Nos últimos 12 meses, com que frequência o(a) Sr(a) fez trabalho voluntário não remunerado',\n 'M01901': 'Nos últimos doze meses, com que frequência o(a) Sr(a) compareceu a atividades coletivas da sua religião ou de outra religião sem contar com situações como casamento, batizado, ou enterro)',\n 'N001': 'Em geral, como o(a) Sr(a) avalia a sua saúde',\n 'N00101': 'Considerando saúde como um estado de bem-estar físico e mental, e não somente a ausência de doenças, como você avalia o seu estado de saúde?',\n 'N010': 'Nas duas últimas semanas, com que frequência o(a) Sr(a) teve problemas no sono, como dificuldade para adormecer, acordar frequentemente à noite ou dormir mais do que de costume?',\n 'N011': 'Nas duas últimas semanas, com que frequência o(a) Sr(a) teve problemas por não se sentir descansado(a) e disposto(a) durante o dia, sentindo-se cansado(a), sem ter energia?',\n 'N012': 'Nas duas últimas semanas, com que frequência o(a) Sr(a) teve pouco interesse ou não senitiu prazer em fazer as coisas?',\n 'N013': 'Nas duas últimas semanas, com que frequência o(a) Sr(a) teve problemas para se concentrar nas suas atividades habituais?',\n 'N014': 'Nas duas últimas semanas, com que frequência o(a) Sr(a) teve problemas na alimentação, como ter falta de apetite ou comer muito mais do que de costume?',\n 'N015': 'Nas duas últimas semanas, com que frequência o(a) Sr(a) teve lentidão para se movimentar ou falar, ou ao contrário ficou muito agitado(a) ou inquieto(a)?',\n 'N016': 'Nas duas últimas semanas, com que frequência o(a) Sr(a) se sentiu deprimido(a), “pra baixo” ou sem perspectiva?',\n 'N017': 'Nas duas últimas semanas, com que frequência o(a) Sr(a) se sentiu mal consigo mesmo, se achando um fracasso ou achando que decepcionou sua família?',\n 'N018': 'Nas duas últimas semanas, com que frequência o(a) Sr(a) pensou em se ferir de alguma maneira ou achou que seria melhor estar morto?',\n 'P00104': 'Peso - Final (em kg)\\n(3 inteiros e 1 casa decimal)',\n 'P00404': 'Altura - Final (em cm)\\n(3 inteiros)',\n 'P005': 'A Sra está grávida no momento?',\n 'P00601': 'Ontem o(a) Sr(a) comeu arroz, macarrão, polenta, cuscuz ou milho verde.',\n 'P00602': 'Batata comum, mandioca/aipim/macaxeira, cará ou inhame.',\n 'P00603': 'Feijão, ervilha, lentilha ou grão de bico.',\n 'P00604': 'Carne de boi, porco, frango, peixe',\n 'P00605': 'Ovo (frito, cozido ou mexido ).',\n 'P00607': 'Alface, couve, brócolis, agrião ou espinfre.',\n 'P00608': 'Abóbora, cenoura, batata doce ou quiabo/caruru.',\n 'P00609': 'Tomate, pepino, abobrinha, berinjela, chuchu ou beterraba.',\n 'P00610': 'Mamão, manga, melão amarelo ou pequi.',\n 'P00611': 'Laranja, banana, maçã, abacaxi.',\n 'P00612': 'Leite',\n 'P00613': 'Amendoim, castanha de caju ou castanha do Brasil/Pará',\n 'P00614': 'ONTEM o(a) Sr(a) tomou ou comeu:Refrigerante',\n 'P00615': 'Suco de fruta em caixinha ou lata ou refresco em pó.',\n 'P00616': 'Bebida achocolatada ou iogurte com sabor.',\n 'P00617': 'Salgadinho de pacote ou biscoito/bolacha salgado.',\n 'P00618': 'Biscoito/bolacha doce ou recheado ou bolo de pacote.',\n 'P00619': 'Sorvete, chocolate, gelatina, flan ou outra sobremesa industrializada.',\n 'P00620': 'Salsicha, linguiça, mortadela ou presunto.',\n 'P00621': 'Pão de forma, de cachorro-quente ou de hambúrguer.',\n 'P00622': 'Margarina, maionese, ketchup ou outros molhos industrializados.',\n 'P00623': 'Macarrão instantâneo, sopa de pacote, lasanha congelada ou outro prato congelado comprado pronto industrilizado.',\n 'P006': 'Em quantos dias da semana o(a) Sr(a) costuma comer feijão?',\n 'P00901': 'Em quantos dias da semana, o(a) Sr(a) costuma comer pelo menos um tipo de verdura ou legume (sem contar batata, mandioca, cará ou inhame) como alface, tomate, couve, cenoura, chuchu, berinjela, abobrinha?',\n 'P01001': 'Em geral, o(a) Sr(a) costuma comer esse tipo de verdura ou legume:',\n 'P01101': 'Em quantos dias da semana o(a) Sr(a) costuma comer carne vermelha (boi, porco, cabrito, bode, ovelha etc.)?',\n 'P013': 'Em quantos dias da semana o(a) Sr(a) costuma comer frango/galinha?',\n 'P015': 'Em quantos dias da semana o(a) Sr(a) costuma comer peixe?',\n 'P02001': 'Em quantos dias da semana o(a) Sr(a) costuma tomar suco de caixinha/lata ou refresco em pó ?',\n 'P02101': 'Que tipo de suco de caixinha/lata ou refresco em pó o(a) Sr(a) costuma tomar? (Ler as opções de resposta)',\n 'P01601': 'Em quantos dias da semana o(a) Sr(a) costuma tomar suco de fruta natural (incluída a polpa de fruta congelada)?',\n 'P018': 'Em quantos dias da semana o(a) Sr(a) costuma comer frutas?',\n 'P019': 'Em geral, quantas vezes por dia o(a) Sr(a) come frutas?',\n 'P02002': 'Em quantos dias da semana o(a) Sr(a) costuma tomar refrigerante?',\n 'P02102': 'Que tipo de refrigerante o(a) Sr(a) costuma tomar?',\n 'P023': 'Em quantos dias da semana o(a) Sr(a) costuma tomar leite? (de origem animal: vaca, cabra, búfala etc.)',\n 'P02401': 'Que tipo de leite o(a) Sr(a) costuma tomar?',\n 'P02501': 'Em quantos dias da semana o(a) Sr(a) costuma comer alimentos doces como biscoito/bolacha recheado, chocolate, gelatina, balas e outros?',\n 'P02602': 'Em quantos dias da semana o(a) Sr(a) costuma substituir a refeição do almoço por lanches rápidos como sanduíches, salgados, pizza, cachorro quente, etc?',\n 'P02601': 'Considerando a comida preparada na hora e os alimentos industrializados, o(a) Sr(a) acha que o seu consumo de sal é:',\n 'P027': 'Com que frequência o(a) Sr(a) costuma consumir alguma bebida alcoólica?',\n 'P02801': 'Quantos dias por semana o(a) Sr(a) costuma consumir alguma bebida alcoólica?',\n 'P029': 'Em geral, no dia que o(a) Sr(a) bebe, quantas doses de bebida alcoólica o(a) Sr(a) consome?',\n 'P03201': 'Nos últimos trinta dias, o(a) Sr(a) chegou a consumir cinco ou mais doses de bebida alcoólica em uma única ocasião?',\n 'P03202': 'Quando isso ocorreu, qual foi o número máximo de doses consumido em uma única ocasião?',\n 'P03001': 'Nos últimos doze meses, quando consumiu bebida alcoólica, o(a) Sr(a) dirigiu logo depois de beber?',\n 'P03301': 'Nos últimos doze meses, quantas vezes o(a) Sr(a) deixou de trabalhar, realizar afazeres domésticos, ir à escola, curso ou faculdade, fazer compras, etc. porque bebeu demais?',\n 'P03302': 'Nos últimos doze meses, quantas vezes, depois/após ter bebido, o(a) Sr(a) não conseguiu lembrar o que aconteceu?',\n 'P03303': 'Nos últimos doze meses, algum parente, amigo ou profissional de saúde disse que você estava bebendo demais ou para você parar de beber?',\n 'P034': 'Nos últimos três meses, o(a) Sr(a) praticou algum tipo de exercício físico ou esporte?',\n 'P035': 'Quantos dias por semana o(a) Sr(a) costuma  (costumava)praticar exercício físico ou esporte?',\n 'P03701': 'Em geral, no dia que o(a) Sr(a) pratica exercício ou esporte, quanto tempo em horas dura essa atividade? Horas',\n 'P03702': 'Em geral, no dia que o(a) Sr(a) pratica (praticava) exercício ou esporte, quanto tempo em minutos dura essa atividade?Minutos',\n 'P036': 'Qual o exercício físico ou esporte que o(a) Sr(a) pratica (praticava) com mais frequência? (Anotar apenas o primeiro citado)',\n 'P038': 'No seu trabalho, o(a) Sr(a) anda bastante a pé?',\n 'P039': 'No seu trabalho, o(a) Sr(a) faz faxina pesada, carrega peso ou faz outra atividade pesada que requer esforço físico intenso?',\n 'P03904': 'Em uma semana normal, em quantos dias, o(a) Sr(a) anda bastante a pé ou faz essas atividades pesadas ou que requerem esforço físico no seu trabalho?',\n 'P03905': 'Em um dia normal, quanto tempo o(a) Sr(a) passa andando bastante a pé ou realizando essas atividades pesadas ou que requerem esforço físico no seu trabalho?Horas',\n 'P03906': 'Em um dia normal, quanto tempo o(a) Sr(a) passa andando bastante a pé ou realizando atividades essas atividades pesadas ou que requerem esforço físico no seu trabalho? Minutos',\n 'P040': 'Para ir ou voltar do trabalho, o(a) Sr(a) faz algum trajeto a pé ou de bicicleta?',\n 'P04001': 'Quantos dias por semana o(a) Sr(a) faz algum trajeto a pé ou bicicleta?',\n 'P04101': 'Quanto tempo o(a) Sr(a) gasta, por dia, para percorrer este trajeto a pé ou de bicicleta, considerando a ida e a volta do trabalho?Horas',\n 'P04102': 'Quanto tempo o(a) Sr(a) gasta, por dia, para percorrer este trajeto a pé ou de bicicleta, considerando a ida e a volta do trabalho?Minutos',\n 'P042': 'Nas suas atividades habituais (tais como ir a algum curso, escola ou clube ou levar alguém a algum curso, escola ou clube), quantos dias por semana o(a) Sr(a) faz alguma atividade que envolva deslocamento a pé ou bicicleta? (Exceto o trabalho)',\n 'P04301': 'No dia em que o(a) Sr(a) faz essa(s) atividade(s), quanto tempo o(a) Sr(a) gasta no deslocamento a pé ou de bicicleta, considerando Ida e Volta?Horas',\n 'P04302': 'No dia em que o(a) Sr(a) faz essa(s) atividade(s), quanto tempo o(a) Sr(a) gasta no deslocamento a pé ou de bicicleta, considerando Ida e Volta?Minutos',\n 'P044': 'Nas suas atividades domésticas, o(a) Sr(a) faz faxina pesada, carrega peso ou faz outra atividade pesada que requer esforço físico intenso? (não considerar atividade doméstica remunerada)',\n 'P04401': 'Em uma semana normal, nas suas atividades domésticas, em quantos dias o(a) Sr(a) faz faxina pesada ou realiza atividades que requerem esforço físico intenso? (não considerar atividade doméstica remunerada)',\n 'P04405': 'Quanto tempo gasta, por dia, realizando essas atividades domésticas pesadas ou que requerem esforço físico intenso? (não considerar atividade doméstica remunerada) Horas',\n 'P04406': 'Quanto tempo gasta, por dia, realizando essas atividades domésticas pesadas ou que requerem esforço físico intenso?',\n 'P04501': 'Em média, quantas horas por dia o(a) Sr(a) costuma ficar assistindo televisão?',\n 'P04502': 'Em um dia, quantas horas do seu tempo livre (excluindo o trabalho), o(a) Sr(a) costuma usar computador, tablet ou celular para lazer, tais como: utilizar redes sociais, para ver notícias, vídeos, jogar etc?',\n 'P046': 'Perto do seu domicílio, existe algum lugar público (praça, parque, rua fechada, praia) para fazer caminhada, realizar exercício ou praticar esporte?',\n 'P04701': 'O(A) Sr(a) conhece algum programa público de estímulo à prática de atividade física no seu município?',\n 'P04801': 'O(A) Sr(a) participa desse programa público de estímulo à prática de atividade física no seu município?',\n 'P04902': 'Qual o principal motivo de não participar?',\n 'P050': 'Atualmente, o(a) Sr(a) fuma algum produto do tabaco?',\n 'P051': 'E no passado, o(a) Sr(a) fumou algum produto do tabaco diariamente?',\n 'P052': 'E no passado, o(a) Sr(a) fumou algum produto do tabaco?',\n 'P053': 'Que idade o(a) Sr(a) tinha quando começou a fumar produto de tabaco diariamente?',\n 'P05401': 'Em média, quanto fuma por dia ou por semana Cigarros industrializados',\n 'P05402': 'Quantos por dia',\n 'P05403': 'Quantos por semana',\n 'P05404': 'Em média, quanto fuma por dia ou por semana Cigarros de palha ou enrolados a mão?',\n 'P05405': 'Quantos por dia',\n 'P05406': 'Quantos por semana',\n 'P05407': 'Em média, quanto fuma por dia ou por semana Cigarros de cravo ou de Bali?',\n 'P05408': 'Quantos por dia',\n 'P05409': 'Quantos por semana',\n 'P05410': 'Em média, quanto fuma por dia ou por semana Cachimbos (considere cachimbos cheios)?',\n 'P05411': 'Quantos por dia',\n 'P05412': 'Quantos por semana',\n 'P05413': 'Em média, quanto fuma por dia ou por semana Charutos ou cigarrilhas?',\n 'P05414': 'Quantos por dia',\n 'P05415': 'Quantos por semana',\n 'P05416': 'Em média, quanto fuma por dia ou por semana Narguilé (sessões)?',\n 'P05417': 'Quantos por dia',\n 'P05418': 'Quantos por semana',\n 'P05419': 'Em média, quanto fuma por dia ou por semana Outro',\n 'P05421': 'Quantos por dia',\n 'P05422': 'Quantos por semana',\n 'P055': 'Quanto tempo depois de acordar o(a) Sr(a) normalmente fuma pela primeira vez?',\n 'P056': 'NA ÚLTIMA VEZ que o(a) Sr(a) comprou cigarros para uso próprio, quantos cigarros comprou? (Registre a quantidade e, quando necessário, registre os detalhes da unidade).',\n 'P05601': 'Quantidade de cigarros',\n 'P05602': 'Quantidade de maços',\n 'P05603': 'Quantos cigarros havia em cada maço?',\n 'P05604': 'Quantidade de pacotes',\n 'P05605': 'Quantos maços havia em cada pacote?',\n 'P057': 'No total, quanto o(a) Sr(a) pagou por essa compra?',\n 'P058': 'Em média, quantos cigarros industrializados o(a) Sr(a) fumava por dia ou por semana?',\n 'P05801': 'Quantos por dia',\n 'P05802': 'Quantos por semana',\n 'P05901': 'Número de anos que parou de fumar',\n 'P05902': 'Número de meses que parou de fumar',\n 'P05903': 'Número de semanas que parou de fumar',\n 'P05904': 'Número de dias que parou de fumar',\n 'Q00101': 'Quando foi a última vez que o (a) Sr(a) teve sua pressão arterial medida?',\n 'Q00201': 'Algum médico já lhe deu o diagnóstico de hipertensão arterial (pressão alta)?',\n 'Q00202': 'Essa hipertensão arterial (pressão alta) ocorreu apenas durante algum período de gravidez?',\n 'Q003': 'Que idade o(a) Sr(a) tinha no primeiro diagnóstico de hipertensão arterial (pressão alta)?',\n 'Q02901': 'Quando foi a última vez que o(a) Sr(a) fez exame de sangue para medir a glicemia, isto é, o açúcar no sangue?',\n 'Q03001': 'Algum médico já lhe deu o diagnóstico de diabetes?',\n 'Q03002': 'Esse diabetes ocorreu apenas durante algum período de gravidez?',\n 'Q031': 'Que idade o(a) Sr(a) tinha no primeiro diagnóstico do diabetes?',\n 'Q05901': 'Quando foi a última vez que o(a) Sr(a) fez exame de sangue para medir o colesterol e triglicerídeos?',\n 'Q060': 'Algum médico já lhe deu o diagnóstico de colesterol alto?',\n 'Q061': 'Que idade o(a) Sr(a) tinha no primeiro diagnóstico de colesterol alto?',\n 'Q06306': 'Algum médico já lhe deu o diagnóstico de uma doença do coração, tal como infarto, angina, insuficiência cardíaca ou outra?',\n 'Q06307': 'Infarto',\n 'Q06308': 'Angina',\n 'Q06309': 'Insuficiência cardíaca',\n 'Q06310': 'Arritmia',\n 'Q06311': 'Outra',\n 'Q064': 'Que idade o(a) Sr(a) tinha no primeiro diagnóstico da doença do coração?',\n 'Q068': 'Algum médico já lhe deu o diagnóstico de AVC (Acidente Vascular Cerebral) ou derrame?',\n 'Q070': 'Que idade o(a) Sr(a) tinha no primeiro diagnóstico do derrame (ou AVC)?',\n 'Q074': 'Algum médico já lhe deu o diagnóstico de asma (ou bronquite asmática)?',\n 'Q075': 'Que idade o(a) Sr(a) tinha no primeiro diagnóstico de asma?',\n 'Q076': 'Nos últimos doze meses, o(a) Sr(a) teve alguma crise de asma?',\n 'Q079': 'Algum médico já lhe deu o diagnóstico de artrite ou reumatismo?',\n 'Q080': 'Que idade o(a) Sr(a) tinha no primeiro diagnóstico de artrite ou reumatismo?',\n 'Q092': 'Algum médico ou profissional de saúde mental (como psiquiatra ou psicólogo) já lhe deu o diagnóstico de depressão?',\n 'Q09201': 'Algum médico já lhe receitou algum medicamento para depressão?',\n 'Q09202': 'Nas duas últimas semanas o(a) senhor(a) usou algum medicamento para depressão?',\n 'Q09301': 'Que idade o(a) Sr(a) tinha no primeiro diagnóstico de depressão?',\n 'Q094': 'O(A) Sr(a) vai ao médico/serviço de saúde regularmente por causa da depressão ou só quando tem algum problema?',\n 'Q09502': 'Qual o principal motivo do(a) Sr(a) não visitar o médico/serviço de saúde regularmente por causa da depressão?',\n 'Q09605': 'Por causa da depressão Faz psicoterapia',\n 'Q09606': 'Por causa da depressão Toma medicamentos',\n 'Q09607': 'Por causa da depressão Faz uso de acupuntura, plantas medicinais e fitoterapia, homeopatia, meditação, yoga, tai chi chuan, liang gong ou alguma outra prática integrativa e complementar',\n 'Q098': 'Algum dos medicamentos para depressão foi obtido em serviço público de saúde?',\n 'Q100': 'O(A) Sr(a) pagou algum valor pelos medicamentos?',\n 'Q10101': 'Quando foi a última vez que o(a) Sr(a) recebeu atendimento médico por causa da depressão?',\n 'Q10202': 'Na última vez que recebeu assistência médica para depressão, onde o(a) Sr(a) foi atendido?',\n 'Q104': 'O(A) Sr(a) pagou algum valor por esse atendimento?',\n 'Q105': 'Esse atendimento foi feito pelo SUS?',\n 'Q106': 'Em algum dos atendimentos para depressão, houve encaminhamento para algum acompanhamento com profissional de saúde mental, como psiquiatra ou psicólogo?',\n 'Q10701': 'O(A) Sr(a) conseguiu ir às consultas com profissional especialista de saúde mental?',\n 'Q109': 'Em geral, em que grau a depressão limita as suas atividades habituais (tais como trabalhar, realizar afazeres domésticos, etc.)?',\n 'Q11006': 'Algum médico ou profissional de saúde (como psiquiatra ou psicólogo) já lhe deu o diagnóstico de outra doença mental, como transtorno de ansiedade, síndrome do pânico, esquizofrenia, transtorno bipolar, psicose ou TOC (Transtorno Obsessivo Compulsivo) etc?',\n 'Q11007': 'Diagnóstico de Esquizofrenia',\n 'Q11008': 'Diagnóstico de Transtorno bipolar',\n 'Q11009': 'Diagnóstico de TOC (Transtorno obsessivo compulsivo)',\n 'Q11010': 'Outro diagnóstico',\n 'Q111': 'Que idade o(a) Sr(a) tinha no primeiro diagnóstico de doença mental?',\n 'Q11201': 'O(A) Sr(a) visita o médico/serviço de saúde regularmente por causa dessa doença mental ou só quando tem algum problema?',\n 'Q11405': 'Por causa da doença mental faz psicoterapia',\n 'Q11406': 'Por causa da doença mental usa medicamentos ou injeções',\n 'Q11407': 'Por causa da doença mental Faz uso de acupuntura, plantas medicinais e fitoterapia, homeopatia, meditação, yoga, tai chi chuan ou alguma outra prática integrativa e complementar',\n 'Q11408': 'Por causa da doença mental Faz acompanhamento regular com profissional de saúde',\n 'Q115': 'Em geral, em que grau essa doença mental limita as suas atividades habituais (tais como trabalhar, realizar afazeres domésticos etc.)?',\n 'Q11604': 'Algum médico já lhe deu o diagnóstico de alguma outra doença crônica no pulmão, tais como enfisema pulmonar, bronquite crônica ou DPOC (Doença Pulmonar Obstrutiva Crônica)?',\n 'Q11605': 'Diagnóstico de enfisema pulmonar',\n 'Q11606': 'Diagnóstico de bronquite crônica',\n 'Q120': 'Algum médico já lhe deu diagnóstico de câncer?',\n 'Q12102': 'Foi um diagnóstico de câncer de pele?',\n 'Q12103': 'O câncer de pele diagnosticado foi do tipo melanoma?',\n 'Q12104': 'Diagnóstico de outro câncer? Pulmão',\n 'Q12105': 'Diagnóstico de outro câncer? Cólon e reto (intestino)',\n 'Q12106': 'Diagnóstico de outro câncer? Estômago',\n 'Q12107': 'Diagnóstico de outro câncer? Mama (só para mulheres)',\n 'Q12108': 'Diagnóstico de outro câncer? Colo de útero (só para mulheres)',\n 'Q12109': 'Diagnóstico de outro câncer? Próstata (só para homens)',\n 'Q121010': 'Diagnóstico de outro câncer? Boca, Orofaringe ou Laringe',\n 'Q121011': 'Diagnóstico de outro câncer? Bexiga',\n 'Q121012': 'Diagnóstico de outro câncer? Linfoma ou leucemia',\n 'Q121013': 'Diagnóstico de outro câncer? Cérebro',\n 'Q121014': 'Diagnóstico de outro câncer? Ovário (só para mulheres)',\n 'Q121015': 'Diagnóstico de outro câncer? Tireoide',\n 'Q121016': 'Diagnóstico de outro câncer?',\n 'Q12201': 'Que idade o(a) Sr(a) tinha no primeiro diagnóstico de doença mental?',\n 'V00201': 'Nos últimos doze meses, alguém: Te ofendeu, humilhou ou ridicularizou na frente de outras pessoas?',\n 'V00202': 'Nos últimos doze meses, alguém: Gritou com você ou te xingou?',\n 'V00203': 'Nos últimos doze meses, alguém: Usou redes sociais ou celular para ameaçar, ofender, xingar ou expor imagens suas sem o seu consentimento?',\n 'V00204': 'Nos últimos doze meses, alguém: Te ameaçou de ferir ou machucar alguém importante para você?',\n 'V00205': 'Nos últimos doze meses, alguém: Destruiu alguma coisa sua de propósito?',\n 'V003': 'Nos últimos doze meses, quantas vezes isso aconteceu com você?',\n 'V01401': 'Nos últimos doze meses, alguém: Te deu um tapa ou uma bofetada?',\n 'V01402': 'Nos últimos doze meses, alguém: Te empurrou, segurou com força ou jogou algo em você com a intenção de machucar?',\n 'V01403': 'Nos últimos doze meses, alguém: Te deu um soco, chutou ou arrastou pelo cabelo?',\n 'V01404': 'Nos últimos doze meses, alguém: Tentou ou efetivamente estrangulou, asfixiou ou te queimou de propósito?',\n 'V01405': 'Nos últimos doze meses, alguém: Te ameaçou ou feriu com uma faca, arma de fogo ou alguma outra arma ou objeto?',\n 'V015': 'Nos últimos doze meses, quantas vezes isso aconteceu?',\n 'V02701': 'Nos últimos doze meses, alguém: tocou, manipulou, beijou ou expôs partes do seu corpo contra sua vontade',\n 'V02702': 'Nos últimos doze meses, alguém: Te ameaçou ou forçou a ter relações sexuais ou quaisquer outros atos sexuais contra sua vontade?',\n 'V02801': 'E alguma vez na vida, alguém: tocou, manipulou, beijou ou expôs partes do seu corpo contra sua vontade',\n 'V02802': 'E alguma vez na vida, alguém: Te ameaçou ou forçou a ter relações sexuais ou quaisquer outros atos sexuais contra sua vontade?',\n 'V029': 'Nos últimos doze meses, quantas vezes isso aconteceu?',\n 'V034': 'Nos últimos doze meses, você deixou de realizar quaisquer de suas atividades habituais (trabalhar, realizar afazeres domésticos, ir à escola etc.) por causa desse ato',\n 'V03501': 'Esse(s) ato(s) sexual(is) forçado(s) gerou(aram) alguma consequência para sua saúde, tais como: Hematomas, cortes, fraturas, queimaduras ou outras lesões físicas ou ferimentos?',\n 'V03502': 'Esse(s) ato(s) sexual(is) forçado(s) gerou(aram) alguma consequência para sua saúde, tais como: Medo, tristeza, desânimo, dificuldade para dormir, ansiedade, depressão ou outras consequências psicológicas?',\n 'V03503': 'Esse(s) ato(s) sexual(is) forçado(s) gerou(aram) alguma consequência para sua saúde, tais como: Doença sexualmente transmissível ou gravidez indesejada?',\n 'Y001': 'Que idade tinha quando teve relações sexuais pela primeira vez?',\n 'Y00101': 'Idade do morador quando teve relações sexuais pela primeira vez',\n 'Y002': 'Nos últimos doze meses teve relações sexuais?',\n 'Y003': 'Nos últimos doze meses nas relações sexuais que teve, com que frequência usou camisinha:',\n 'phq9_total': '',\n 'depression_severity': ''}"
     },
     "execution_count": 10,
     "metadata": {},
     "output_type": "execute_result"
    }
   ],
   "source": [
    "{k: PNS_DICT_RAW.get_question(k) for k in SELECTED_COLUMNS.keys()}"
   ]
  },
  {
   "cell_type": "code",
   "execution_count": 11,
   "metadata": {
    "ExecuteTime": {
     "end_time": "2023-05-19T22:26:32.320013857Z",
     "start_time": "2023-05-19T22:26:32.020075705Z"
    }
   },
   "outputs": [
    {
     "data": {
      "text/plain": "        uf  moradores  tipo_zona  tipo_area  V0025A  renda_pc  casa_tipo   \n0       11        6.0          1          1     1.0       2.0        1.0  \\\n9       11        4.0          1          1     1.0       2.0        1.0   \n10      11        8.0          1          1     1.0       3.0        1.0   \n18      11        1.0          1          1     1.0       2.0        1.0   \n19      11        2.0          1          1     1.0       1.0        2.0   \n...     ..        ...        ...        ...     ...       ...        ...   \n293709  53        3.0          2          1     1.0       4.0        1.0   \n293712  53        2.0          2          1     1.0       4.0        1.0   \n293713  53        4.0          2          1     1.0       2.0        1.0   \n293718  53        3.0          2          1     1.0       5.0        1.0   \n293720  53        1.0          2          1     1.0       4.0        1.0   \n\n        A002010  A003010  A004010  ...  V034  V03501  V03502  V03503  Y001   \n0           1.0      1.0      1.0  ...   NaN     NaN     NaN     NaN   1.0  \\\n9           1.0      1.0      1.0  ...   NaN     NaN     NaN     NaN   4.0   \n10          1.0      1.0      1.0  ...   NaN     NaN     NaN     NaN   1.0   \n18          1.0      1.0      3.0  ...   NaN     NaN     NaN     NaN   4.0   \n19          1.0      1.0      1.0  ...   NaN     NaN     NaN     NaN   4.0   \n...         ...      ...      ...  ...   ...     ...     ...     ...   ...   \n293709      1.0      1.0      3.0  ...   NaN     NaN     NaN     NaN   1.0   \n293712      1.0      1.0      3.0  ...   1.0     2.0     1.0     NaN   4.0   \n293713      2.0      1.0      3.0  ...   NaN     NaN     NaN     NaN   1.0   \n293718      1.0      1.0      1.0  ...   2.0     NaN     1.0     NaN   1.0   \n293720      1.0      1.0      3.0  ...   NaN     NaN     NaN     NaN   1.0   \n\n        Y00101  Y002  Y003  phq9_total  depression_severity  \n0         17.0   1.0   3.0         6.0                  2.0  \n9          NaN   3.0   NaN         2.0                  1.0  \n10        17.0   1.0   1.0         3.0                  1.0  \n18         NaN   3.0   NaN         0.0                  1.0  \n19         NaN   3.0   NaN         0.0                  1.0  \n...        ...   ...   ...         ...                  ...  \n293709    18.0   1.0   3.0         4.0                  1.0  \n293712     NaN   1.0   3.0         1.0                  1.0  \n293713    15.0   1.0   3.0         1.0                  1.0  \n293718    16.0   1.0   3.0         4.0                  1.0  \n293720    15.0   1.0   1.0         0.0                  1.0  \n\n[90846 rows x 380 columns]",
      "text/html": "<div>\n<style scoped>\n    .dataframe tbody tr th:only-of-type {\n        vertical-align: middle;\n    }\n\n    .dataframe tbody tr th {\n        vertical-align: top;\n    }\n\n    .dataframe thead th {\n        text-align: right;\n    }\n</style>\n<table border=\"1\" class=\"dataframe\">\n  <thead>\n    <tr style=\"text-align: right;\">\n      <th></th>\n      <th>uf</th>\n      <th>moradores</th>\n      <th>tipo_zona</th>\n      <th>tipo_area</th>\n      <th>V0025A</th>\n      <th>renda_pc</th>\n      <th>casa_tipo</th>\n      <th>A002010</th>\n      <th>A003010</th>\n      <th>A004010</th>\n      <th>...</th>\n      <th>V034</th>\n      <th>V03501</th>\n      <th>V03502</th>\n      <th>V03503</th>\n      <th>Y001</th>\n      <th>Y00101</th>\n      <th>Y002</th>\n      <th>Y003</th>\n      <th>phq9_total</th>\n      <th>depression_severity</th>\n    </tr>\n  </thead>\n  <tbody>\n    <tr>\n      <th>0</th>\n      <td>11</td>\n      <td>6.0</td>\n      <td>1</td>\n      <td>1</td>\n      <td>1.0</td>\n      <td>2.0</td>\n      <td>1.0</td>\n      <td>1.0</td>\n      <td>1.0</td>\n      <td>1.0</td>\n      <td>...</td>\n      <td>NaN</td>\n      <td>NaN</td>\n      <td>NaN</td>\n      <td>NaN</td>\n      <td>1.0</td>\n      <td>17.0</td>\n      <td>1.0</td>\n      <td>3.0</td>\n      <td>6.0</td>\n      <td>2.0</td>\n    </tr>\n    <tr>\n      <th>9</th>\n      <td>11</td>\n      <td>4.0</td>\n      <td>1</td>\n      <td>1</td>\n      <td>1.0</td>\n      <td>2.0</td>\n      <td>1.0</td>\n      <td>1.0</td>\n      <td>1.0</td>\n      <td>1.0</td>\n      <td>...</td>\n      <td>NaN</td>\n      <td>NaN</td>\n      <td>NaN</td>\n      <td>NaN</td>\n      <td>4.0</td>\n      <td>NaN</td>\n      <td>3.0</td>\n      <td>NaN</td>\n      <td>2.0</td>\n      <td>1.0</td>\n    </tr>\n    <tr>\n      <th>10</th>\n      <td>11</td>\n      <td>8.0</td>\n      <td>1</td>\n      <td>1</td>\n      <td>1.0</td>\n      <td>3.0</td>\n      <td>1.0</td>\n      <td>1.0</td>\n      <td>1.0</td>\n      <td>1.0</td>\n      <td>...</td>\n      <td>NaN</td>\n      <td>NaN</td>\n      <td>NaN</td>\n      <td>NaN</td>\n      <td>1.0</td>\n      <td>17.0</td>\n      <td>1.0</td>\n      <td>1.0</td>\n      <td>3.0</td>\n      <td>1.0</td>\n    </tr>\n    <tr>\n      <th>18</th>\n      <td>11</td>\n      <td>1.0</td>\n      <td>1</td>\n      <td>1</td>\n      <td>1.0</td>\n      <td>2.0</td>\n      <td>1.0</td>\n      <td>1.0</td>\n      <td>1.0</td>\n      <td>3.0</td>\n      <td>...</td>\n      <td>NaN</td>\n      <td>NaN</td>\n      <td>NaN</td>\n      <td>NaN</td>\n      <td>4.0</td>\n      <td>NaN</td>\n      <td>3.0</td>\n      <td>NaN</td>\n      <td>0.0</td>\n      <td>1.0</td>\n    </tr>\n    <tr>\n      <th>19</th>\n      <td>11</td>\n      <td>2.0</td>\n      <td>1</td>\n      <td>1</td>\n      <td>1.0</td>\n      <td>1.0</td>\n      <td>2.0</td>\n      <td>1.0</td>\n      <td>1.0</td>\n      <td>1.0</td>\n      <td>...</td>\n      <td>NaN</td>\n      <td>NaN</td>\n      <td>NaN</td>\n      <td>NaN</td>\n      <td>4.0</td>\n      <td>NaN</td>\n      <td>3.0</td>\n      <td>NaN</td>\n      <td>0.0</td>\n      <td>1.0</td>\n    </tr>\n    <tr>\n      <th>...</th>\n      <td>...</td>\n      <td>...</td>\n      <td>...</td>\n      <td>...</td>\n      <td>...</td>\n      <td>...</td>\n      <td>...</td>\n      <td>...</td>\n      <td>...</td>\n      <td>...</td>\n      <td>...</td>\n      <td>...</td>\n      <td>...</td>\n      <td>...</td>\n      <td>...</td>\n      <td>...</td>\n      <td>...</td>\n      <td>...</td>\n      <td>...</td>\n      <td>...</td>\n      <td>...</td>\n    </tr>\n    <tr>\n      <th>293709</th>\n      <td>53</td>\n      <td>3.0</td>\n      <td>2</td>\n      <td>1</td>\n      <td>1.0</td>\n      <td>4.0</td>\n      <td>1.0</td>\n      <td>1.0</td>\n      <td>1.0</td>\n      <td>3.0</td>\n      <td>...</td>\n      <td>NaN</td>\n      <td>NaN</td>\n      <td>NaN</td>\n      <td>NaN</td>\n      <td>1.0</td>\n      <td>18.0</td>\n      <td>1.0</td>\n      <td>3.0</td>\n      <td>4.0</td>\n      <td>1.0</td>\n    </tr>\n    <tr>\n      <th>293712</th>\n      <td>53</td>\n      <td>2.0</td>\n      <td>2</td>\n      <td>1</td>\n      <td>1.0</td>\n      <td>4.0</td>\n      <td>1.0</td>\n      <td>1.0</td>\n      <td>1.0</td>\n      <td>3.0</td>\n      <td>...</td>\n      <td>1.0</td>\n      <td>2.0</td>\n      <td>1.0</td>\n      <td>NaN</td>\n      <td>4.0</td>\n      <td>NaN</td>\n      <td>1.0</td>\n      <td>3.0</td>\n      <td>1.0</td>\n      <td>1.0</td>\n    </tr>\n    <tr>\n      <th>293713</th>\n      <td>53</td>\n      <td>4.0</td>\n      <td>2</td>\n      <td>1</td>\n      <td>1.0</td>\n      <td>2.0</td>\n      <td>1.0</td>\n      <td>2.0</td>\n      <td>1.0</td>\n      <td>3.0</td>\n      <td>...</td>\n      <td>NaN</td>\n      <td>NaN</td>\n      <td>NaN</td>\n      <td>NaN</td>\n      <td>1.0</td>\n      <td>15.0</td>\n      <td>1.0</td>\n      <td>3.0</td>\n      <td>1.0</td>\n      <td>1.0</td>\n    </tr>\n    <tr>\n      <th>293718</th>\n      <td>53</td>\n      <td>3.0</td>\n      <td>2</td>\n      <td>1</td>\n      <td>1.0</td>\n      <td>5.0</td>\n      <td>1.0</td>\n      <td>1.0</td>\n      <td>1.0</td>\n      <td>1.0</td>\n      <td>...</td>\n      <td>2.0</td>\n      <td>NaN</td>\n      <td>1.0</td>\n      <td>NaN</td>\n      <td>1.0</td>\n      <td>16.0</td>\n      <td>1.0</td>\n      <td>3.0</td>\n      <td>4.0</td>\n      <td>1.0</td>\n    </tr>\n    <tr>\n      <th>293720</th>\n      <td>53</td>\n      <td>1.0</td>\n      <td>2</td>\n      <td>1</td>\n      <td>1.0</td>\n      <td>4.0</td>\n      <td>1.0</td>\n      <td>1.0</td>\n      <td>1.0</td>\n      <td>3.0</td>\n      <td>...</td>\n      <td>NaN</td>\n      <td>NaN</td>\n      <td>NaN</td>\n      <td>NaN</td>\n      <td>1.0</td>\n      <td>15.0</td>\n      <td>1.0</td>\n      <td>1.0</td>\n      <td>0.0</td>\n      <td>1.0</td>\n    </tr>\n  </tbody>\n</table>\n<p>90846 rows × 380 columns</p>\n</div>"
     },
     "execution_count": 11,
     "metadata": {},
     "output_type": "execute_result"
    }
   ],
   "source": [
    "df_all = selected[SELECTED_COLUMNS.keys()]\n",
    "df_all = df_all.rename(columns=SELECTED_COLUMNS)\n",
    "df_all"
   ]
  },
  {
   "cell_type": "code",
   "execution_count": 12,
   "metadata": {
    "ExecuteTime": {
     "end_time": "2023-05-19T22:26:32.339432296Z",
     "start_time": "2023-05-19T22:26:32.265863179Z"
    }
   },
   "outputs": [
    {
     "data": {
      "text/plain": "uf                         0\nmoradores                  0\ntipo_zona                  0\ntipo_area                  0\nV0025A                     0\n                       ...  \nY00101                 21515\nY002                    3939\nY003                   28623\nphq9_total             25043\ndepression_severity    25043\nLength: 380, dtype: int64"
     },
     "execution_count": 12,
     "metadata": {},
     "output_type": "execute_result"
    }
   ],
   "source": [
    "missing_values = df_all.isna().sum()\n",
    "missing_values"
   ]
  },
  {
   "cell_type": "code",
   "execution_count": 13,
   "metadata": {
    "ExecuteTime": {
     "end_time": "2023-05-19T22:26:32.372858956Z",
     "start_time": "2023-05-19T22:26:32.284733095Z"
    }
   },
   "outputs": [
    {
     "data": {
      "text/plain": "        uf  moradores  tipo_zona  tipo_area  V0025A  renda_pc  casa_tipo   \n19      11        2.0          1          1     1.0       1.0        2.0  \\\n44      11        4.0          1          1     1.0       7.0        1.0   \n57      11        1.0          1          1     1.0       4.0        2.0   \n65      11        3.0          1          1     1.0       5.0        2.0   \n76      11        3.0          1          1     1.0       3.0        1.0   \n...     ..        ...        ...        ...     ...       ...        ...   \n293565  53        4.0          2          1     1.0       2.0        1.0   \n293572  53        1.0          2          1     1.0       4.0        1.0   \n293589  53        3.0          2          1     1.0       3.0        1.0   \n293614  53        4.0          2          1     1.0       7.0        1.0   \n293628  53        1.0          2          1     1.0       4.0        1.0   \n\n        A002010  A003010  A004010  ...  V034  V03501  V03502  V03503  Y001   \n19          1.0      1.0      1.0  ...   NaN     NaN     NaN     NaN   4.0  \\\n44          1.0      1.0      1.0  ...   2.0     NaN     2.0     NaN   1.0   \n57          1.0      2.0      1.0  ...   2.0     1.0     2.0     NaN   1.0   \n65          1.0      2.0      1.0  ...   NaN     NaN     NaN     NaN   1.0   \n76          1.0      1.0      1.0  ...   NaN     NaN     NaN     NaN   3.0   \n...         ...      ...      ...  ...   ...     ...     ...     ...   ...   \n293565      1.0      1.0      1.0  ...   NaN     NaN     NaN     NaN   2.0   \n293572      1.0      1.0      1.0  ...   NaN     NaN     NaN     NaN   1.0   \n293589      2.0      1.0      3.0  ...   NaN     NaN     NaN     NaN   3.0   \n293614      1.0      1.0      1.0  ...   2.0     NaN     2.0     NaN   1.0   \n293628      6.0      1.0      1.0  ...   NaN     NaN     NaN     NaN   1.0   \n\n        Y00101  Y002  Y003  phq9_total  depression_severity  \n19         NaN   3.0   NaN         0.0                  1.0  \n44        15.0   1.0   2.0         6.0                  2.0  \n57        15.0   1.0   2.0         0.0                  1.0  \n65        16.0   1.0   1.0         0.0                  1.0  \n76         NaN   3.0   NaN         0.0                  1.0  \n...        ...   ...   ...         ...                  ...  \n293565     NaN   NaN   NaN         1.0                  1.0  \n293572    17.0   2.0   NaN         NaN                  NaN  \n293589     NaN   1.0   1.0         0.0                  1.0  \n293614    20.0   1.0   2.0         0.0                  1.0  \n293628    15.0   1.0   2.0         2.0                  1.0  \n\n[13965 rows x 380 columns]",
      "text/html": "<div>\n<style scoped>\n    .dataframe tbody tr th:only-of-type {\n        vertical-align: middle;\n    }\n\n    .dataframe tbody tr th {\n        vertical-align: top;\n    }\n\n    .dataframe thead th {\n        text-align: right;\n    }\n</style>\n<table border=\"1\" class=\"dataframe\">\n  <thead>\n    <tr style=\"text-align: right;\">\n      <th></th>\n      <th>uf</th>\n      <th>moradores</th>\n      <th>tipo_zona</th>\n      <th>tipo_area</th>\n      <th>V0025A</th>\n      <th>renda_pc</th>\n      <th>casa_tipo</th>\n      <th>A002010</th>\n      <th>A003010</th>\n      <th>A004010</th>\n      <th>...</th>\n      <th>V034</th>\n      <th>V03501</th>\n      <th>V03502</th>\n      <th>V03503</th>\n      <th>Y001</th>\n      <th>Y00101</th>\n      <th>Y002</th>\n      <th>Y003</th>\n      <th>phq9_total</th>\n      <th>depression_severity</th>\n    </tr>\n  </thead>\n  <tbody>\n    <tr>\n      <th>19</th>\n      <td>11</td>\n      <td>2.0</td>\n      <td>1</td>\n      <td>1</td>\n      <td>1.0</td>\n      <td>1.0</td>\n      <td>2.0</td>\n      <td>1.0</td>\n      <td>1.0</td>\n      <td>1.0</td>\n      <td>...</td>\n      <td>NaN</td>\n      <td>NaN</td>\n      <td>NaN</td>\n      <td>NaN</td>\n      <td>4.0</td>\n      <td>NaN</td>\n      <td>3.0</td>\n      <td>NaN</td>\n      <td>0.0</td>\n      <td>1.0</td>\n    </tr>\n    <tr>\n      <th>44</th>\n      <td>11</td>\n      <td>4.0</td>\n      <td>1</td>\n      <td>1</td>\n      <td>1.0</td>\n      <td>7.0</td>\n      <td>1.0</td>\n      <td>1.0</td>\n      <td>1.0</td>\n      <td>1.0</td>\n      <td>...</td>\n      <td>2.0</td>\n      <td>NaN</td>\n      <td>2.0</td>\n      <td>NaN</td>\n      <td>1.0</td>\n      <td>15.0</td>\n      <td>1.0</td>\n      <td>2.0</td>\n      <td>6.0</td>\n      <td>2.0</td>\n    </tr>\n    <tr>\n      <th>57</th>\n      <td>11</td>\n      <td>1.0</td>\n      <td>1</td>\n      <td>1</td>\n      <td>1.0</td>\n      <td>4.0</td>\n      <td>2.0</td>\n      <td>1.0</td>\n      <td>2.0</td>\n      <td>1.0</td>\n      <td>...</td>\n      <td>2.0</td>\n      <td>1.0</td>\n      <td>2.0</td>\n      <td>NaN</td>\n      <td>1.0</td>\n      <td>15.0</td>\n      <td>1.0</td>\n      <td>2.0</td>\n      <td>0.0</td>\n      <td>1.0</td>\n    </tr>\n    <tr>\n      <th>65</th>\n      <td>11</td>\n      <td>3.0</td>\n      <td>1</td>\n      <td>1</td>\n      <td>1.0</td>\n      <td>5.0</td>\n      <td>2.0</td>\n      <td>1.0</td>\n      <td>2.0</td>\n      <td>1.0</td>\n      <td>...</td>\n      <td>NaN</td>\n      <td>NaN</td>\n      <td>NaN</td>\n      <td>NaN</td>\n      <td>1.0</td>\n      <td>16.0</td>\n      <td>1.0</td>\n      <td>1.0</td>\n      <td>0.0</td>\n      <td>1.0</td>\n    </tr>\n    <tr>\n      <th>76</th>\n      <td>11</td>\n      <td>3.0</td>\n      <td>1</td>\n      <td>1</td>\n      <td>1.0</td>\n      <td>3.0</td>\n      <td>1.0</td>\n      <td>1.0</td>\n      <td>1.0</td>\n      <td>1.0</td>\n      <td>...</td>\n      <td>NaN</td>\n      <td>NaN</td>\n      <td>NaN</td>\n      <td>NaN</td>\n      <td>3.0</td>\n      <td>NaN</td>\n      <td>3.0</td>\n      <td>NaN</td>\n      <td>0.0</td>\n      <td>1.0</td>\n    </tr>\n    <tr>\n      <th>...</th>\n      <td>...</td>\n      <td>...</td>\n      <td>...</td>\n      <td>...</td>\n      <td>...</td>\n      <td>...</td>\n      <td>...</td>\n      <td>...</td>\n      <td>...</td>\n      <td>...</td>\n      <td>...</td>\n      <td>...</td>\n      <td>...</td>\n      <td>...</td>\n      <td>...</td>\n      <td>...</td>\n      <td>...</td>\n      <td>...</td>\n      <td>...</td>\n      <td>...</td>\n      <td>...</td>\n    </tr>\n    <tr>\n      <th>293565</th>\n      <td>53</td>\n      <td>4.0</td>\n      <td>2</td>\n      <td>1</td>\n      <td>1.0</td>\n      <td>2.0</td>\n      <td>1.0</td>\n      <td>1.0</td>\n      <td>1.0</td>\n      <td>1.0</td>\n      <td>...</td>\n      <td>NaN</td>\n      <td>NaN</td>\n      <td>NaN</td>\n      <td>NaN</td>\n      <td>2.0</td>\n      <td>NaN</td>\n      <td>NaN</td>\n      <td>NaN</td>\n      <td>1.0</td>\n      <td>1.0</td>\n    </tr>\n    <tr>\n      <th>293572</th>\n      <td>53</td>\n      <td>1.0</td>\n      <td>2</td>\n      <td>1</td>\n      <td>1.0</td>\n      <td>4.0</td>\n      <td>1.0</td>\n      <td>1.0</td>\n      <td>1.0</td>\n      <td>1.0</td>\n      <td>...</td>\n      <td>NaN</td>\n      <td>NaN</td>\n      <td>NaN</td>\n      <td>NaN</td>\n      <td>1.0</td>\n      <td>17.0</td>\n      <td>2.0</td>\n      <td>NaN</td>\n      <td>NaN</td>\n      <td>NaN</td>\n    </tr>\n    <tr>\n      <th>293589</th>\n      <td>53</td>\n      <td>3.0</td>\n      <td>2</td>\n      <td>1</td>\n      <td>1.0</td>\n      <td>3.0</td>\n      <td>1.0</td>\n      <td>2.0</td>\n      <td>1.0</td>\n      <td>3.0</td>\n      <td>...</td>\n      <td>NaN</td>\n      <td>NaN</td>\n      <td>NaN</td>\n      <td>NaN</td>\n      <td>3.0</td>\n      <td>NaN</td>\n      <td>1.0</td>\n      <td>1.0</td>\n      <td>0.0</td>\n      <td>1.0</td>\n    </tr>\n    <tr>\n      <th>293614</th>\n      <td>53</td>\n      <td>4.0</td>\n      <td>2</td>\n      <td>1</td>\n      <td>1.0</td>\n      <td>7.0</td>\n      <td>1.0</td>\n      <td>1.0</td>\n      <td>1.0</td>\n      <td>1.0</td>\n      <td>...</td>\n      <td>2.0</td>\n      <td>NaN</td>\n      <td>2.0</td>\n      <td>NaN</td>\n      <td>1.0</td>\n      <td>20.0</td>\n      <td>1.0</td>\n      <td>2.0</td>\n      <td>0.0</td>\n      <td>1.0</td>\n    </tr>\n    <tr>\n      <th>293628</th>\n      <td>53</td>\n      <td>1.0</td>\n      <td>2</td>\n      <td>1</td>\n      <td>1.0</td>\n      <td>4.0</td>\n      <td>1.0</td>\n      <td>6.0</td>\n      <td>1.0</td>\n      <td>1.0</td>\n      <td>...</td>\n      <td>NaN</td>\n      <td>NaN</td>\n      <td>NaN</td>\n      <td>NaN</td>\n      <td>1.0</td>\n      <td>15.0</td>\n      <td>1.0</td>\n      <td>2.0</td>\n      <td>2.0</td>\n      <td>1.0</td>\n    </tr>\n  </tbody>\n</table>\n<p>13965 rows × 380 columns</p>\n</div>"
     },
     "execution_count": 13,
     "metadata": {},
     "output_type": "execute_result"
    }
   ],
   "source": [
    "df_all[df_all['escolaridade'].isna()]"
   ]
  },
  {
   "cell_type": "code",
   "execution_count": 14,
   "metadata": {
    "ExecuteTime": {
     "end_time": "2023-05-19T22:26:32.441504776Z",
     "start_time": "2023-05-19T22:26:32.365950190Z"
    }
   },
   "outputs": [
    {
     "name": "stdout",
     "output_type": "stream",
     "text": [
      "148\n"
     ]
    }
   ],
   "source": [
    "n_nan_cols = (df_all.isna().mean() <= 0.2).sum()\n",
    "print(n_nan_cols)"
   ]
  },
  {
   "attachments": {},
   "cell_type": "markdown",
   "metadata": {
    "ExecuteTime": {
     "end_time": "2023-05-14T19:50:20.020544788Z",
     "start_time": "2023-05-14T19:50:19.866172123Z"
    }
   },
   "source": [
    "#### Criando dicionarios"
   ]
  },
  {
   "cell_type": "code",
   "execution_count": 15,
   "metadata": {
    "ExecuteTime": {
     "end_time": "2023-05-19T22:26:32.953455647Z",
     "start_time": "2023-05-19T22:26:32.417173993Z"
    }
   },
   "outputs": [
    {
     "data": {
      "text/plain": "                   index                                        origin   \n0                     uf                                         V0001  \\\n1              moradores                                         V0022   \n2              tipo_zona                                         V0026   \n3              tipo_area                                         V0031   \n4                 V0025A                                        V0025A   \n..                   ...                                           ...   \n375               Y00101                                        Y00101   \n376                 Y002                                          Y002   \n377                 Y003                                          Y003   \n378           phq9_total  N010|N011|N012|N013|N014|N015|N016|N017|N018   \n379  depression_severity                                    phq9_total   \n\n                                                  desc   \n0                                 Unidade da Federação  \\\n1                                   Total de moradores   \n2                          Tipo de situação censitária   \n3                                         Tipo de área   \n4    Seleção do morador de 15 anos ou mais para res...   \n..                                                 ...   \n375  Idade do morador quando teve relações sexuais ...   \n376      Nos últimos doze meses teve relações sexuais?   \n377  Nos últimos doze meses nas relações sexuais qu...   \n378  Valor de risco para depressão segundo question...   \n379                   Classificação risco de depressão   \n\n                                                    pv  \n0    {11: 'Rondônia', 12: 'Acre', 13: 'Amazonas', 1...  \n1                                                   {}  \n2                            {1: 'Urbano', 2: 'Rural'}  \n3    {1: 'Capital', 2: 'Resto da RM (Região Metropo...  \n4    {0: 'Não selecionado', 1: 'Selecionado', 9: 'N...  \n..                                                 ...  \n375                                                 {}  \n376  {1: 'Sim', 2: 'Não', 3: 'Recusou-se a responder'}  \n377  {1: 'Sempre', 2: 'Às vezes', 3: 'Nenhuma  vez'...  \n378                                                 {}  \n379  {1: 'Nenhum ou mínimo', 2: 'Leve', 3: 'Moderad...  \n\n[380 rows x 4 columns]",
      "text/html": "<div>\n<style scoped>\n    .dataframe tbody tr th:only-of-type {\n        vertical-align: middle;\n    }\n\n    .dataframe tbody tr th {\n        vertical-align: top;\n    }\n\n    .dataframe thead th {\n        text-align: right;\n    }\n</style>\n<table border=\"1\" class=\"dataframe\">\n  <thead>\n    <tr style=\"text-align: right;\">\n      <th></th>\n      <th>index</th>\n      <th>origin</th>\n      <th>desc</th>\n      <th>pv</th>\n    </tr>\n  </thead>\n  <tbody>\n    <tr>\n      <th>0</th>\n      <td>uf</td>\n      <td>V0001</td>\n      <td>Unidade da Federação</td>\n      <td>{11: 'Rondônia', 12: 'Acre', 13: 'Amazonas', 1...</td>\n    </tr>\n    <tr>\n      <th>1</th>\n      <td>moradores</td>\n      <td>V0022</td>\n      <td>Total de moradores</td>\n      <td>{}</td>\n    </tr>\n    <tr>\n      <th>2</th>\n      <td>tipo_zona</td>\n      <td>V0026</td>\n      <td>Tipo de situação censitária</td>\n      <td>{1: 'Urbano', 2: 'Rural'}</td>\n    </tr>\n    <tr>\n      <th>3</th>\n      <td>tipo_area</td>\n      <td>V0031</td>\n      <td>Tipo de área</td>\n      <td>{1: 'Capital', 2: 'Resto da RM (Região Metropo...</td>\n    </tr>\n    <tr>\n      <th>4</th>\n      <td>V0025A</td>\n      <td>V0025A</td>\n      <td>Seleção do morador de 15 anos ou mais para res...</td>\n      <td>{0: 'Não selecionado', 1: 'Selecionado', 9: 'N...</td>\n    </tr>\n    <tr>\n      <th>...</th>\n      <td>...</td>\n      <td>...</td>\n      <td>...</td>\n      <td>...</td>\n    </tr>\n    <tr>\n      <th>375</th>\n      <td>Y00101</td>\n      <td>Y00101</td>\n      <td>Idade do morador quando teve relações sexuais ...</td>\n      <td>{}</td>\n    </tr>\n    <tr>\n      <th>376</th>\n      <td>Y002</td>\n      <td>Y002</td>\n      <td>Nos últimos doze meses teve relações sexuais?</td>\n      <td>{1: 'Sim', 2: 'Não', 3: 'Recusou-se a responder'}</td>\n    </tr>\n    <tr>\n      <th>377</th>\n      <td>Y003</td>\n      <td>Y003</td>\n      <td>Nos últimos doze meses nas relações sexuais qu...</td>\n      <td>{1: 'Sempre', 2: 'Às vezes', 3: 'Nenhuma  vez'...</td>\n    </tr>\n    <tr>\n      <th>378</th>\n      <td>phq9_total</td>\n      <td>N010|N011|N012|N013|N014|N015|N016|N017|N018</td>\n      <td>Valor de risco para depressão segundo question...</td>\n      <td>{}</td>\n    </tr>\n    <tr>\n      <th>379</th>\n      <td>depression_severity</td>\n      <td>phq9_total</td>\n      <td>Classificação risco de depressão</td>\n      <td>{1: 'Nenhum ou mínimo', 2: 'Leve', 3: 'Moderad...</td>\n    </tr>\n  </tbody>\n</table>\n<p>380 rows × 4 columns</p>\n</div>"
     },
     "execution_count": 15,
     "metadata": {},
     "output_type": "execute_result"
    }
   ],
   "source": [
    "desc_dict = {v: {'origin': k} for k, v in SELECTED_COLUMNS.items()}\n",
    "\n",
    "desc_dict.update(UPDATE_DICT)\n",
    "\n",
    "df_dict = pd.DataFrame.from_dict(PNS_DICT_RAW.complete_dictionary(desc_dict), orient='index').reset_index()\n",
    "df_dict.to_csv('../data/processed/PNS_2019/dictionary.csv', index=False)\n",
    "df_dict"
   ]
  },
  {
   "cell_type": "markdown",
   "source": [
    "Vamos subtituir tudo que foi ignorado por NaN"
   ],
   "metadata": {
    "collapsed": false
   }
  },
  {
   "cell_type": "code",
   "execution_count": 17,
   "outputs": [],
   "source": [
    "from pns_dict import PnsDict\n",
    "\n",
    "PNS_DICT = PnsDict()\n",
    "\n",
    "for column in df_all.columns:\n",
    "    pv_dict = PNS_DICT.get_pv_dict(column)\n",
    "    reversed_dict = {value: key for key, value in pv_dict.items()}\n",
    "    if \"Ignorado\" in reversed_dict:\n",
    "        value = reversed_dict['Ignorado']\n",
    "        df_all[df_all[column] == value] = np.nan"
   ],
   "metadata": {
    "collapsed": false,
    "ExecuteTime": {
     "end_time": "2023-05-19T22:27:47.401762817Z",
     "start_time": "2023-05-19T22:27:47.083536558Z"
    }
   }
  },
  {
   "attachments": {},
   "cell_type": "markdown",
   "metadata": {
    "ExecuteTime": {
     "end_time": "2023-05-19T10:07:19.908102633Z",
     "start_time": "2023-05-19T10:06:49.642549838Z"
    }
   },
   "source": [
    "Vamos embaralhar estes dados e salva-los na pasta processed/PNS/all.zip"
   ],
   "outputs": [],
   "execution_count": 19
  },
  {
   "cell_type": "code",
   "execution_count": 18,
   "metadata": {
    "ExecuteTime": {
     "end_time": "2023-05-19T22:28:25.511286355Z",
     "start_time": "2023-05-19T22:27:52.363680661Z"
    }
   },
   "outputs": [],
   "source": [
    "df_all = df_all.convert_dtypes()\n",
    "df_all = df_all.sample(frac=1, random_state=42).reset_index(drop=True)\n",
    "df_all.to_csv('../data/processed/PNS_2019/all.zip', index=False, compression=dict(method='zip', archive_name='data.csv', compresslevel=9))"
   ]
  },
  {
   "attachments": {},
   "cell_type": "markdown",
   "metadata": {
    "ExecuteTime": {
     "end_time": "2023-05-14T19:50:20.414978698Z",
     "start_time": "2023-05-14T19:50:20.362297122Z"
    }
   },
   "source": [
    "Dividindo as base em treino e teste"
   ]
  },
  {
   "cell_type": "code",
   "execution_count": 19,
   "metadata": {
    "ExecuteTime": {
     "end_time": "2023-05-19T22:28:56.105550904Z",
     "start_time": "2023-05-19T22:28:25.553838014Z"
    }
   },
   "outputs": [],
   "source": [
    "df_train, df_test = train_test_split(df_all, test_size=0.5, random_state=42)\n",
    "df_train.to_csv('../data/processed/PNS_2019/train.zip', index=False, compression=dict(method='zip', archive_name='data.csv', compresslevel=9))\n",
    "df_test.to_csv('../data/processed/PNS_2019/test.zip', index=False, compression=dict(method='zip', archive_name='data.csv', compresslevel=9))"
   ]
  }
 ],
 "metadata": {
  "kernelspec": {
   "display_name": "Python 3",
   "language": "python",
   "name": "python3"
  },
  "language_info": {
   "codemirror_mode": {
    "name": "ipython",
    "version": 3
   },
   "file_extension": ".py",
   "mimetype": "text/x-python",
   "name": "python",
   "nbconvert_exporter": "python",
   "pygments_lexer": "ipython3",
   "version": "3.8.10"
  },
  "vscode": {
   "interpreter": {
    "hash": "916dbcbb3f70747c44a77c7bcd40155683ae19c65e1c03b4aa3499c5328201f1"
   }
  }
 },
 "nbformat": 4,
 "nbformat_minor": 1
}
