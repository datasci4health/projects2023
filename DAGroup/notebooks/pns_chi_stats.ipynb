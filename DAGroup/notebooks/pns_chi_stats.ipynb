{
 "cells": [
  {
   "cell_type": "code",
   "execution_count": 1,
   "metadata": {
    "collapsed": true,
    "ExecuteTime": {
     "end_time": "2023-06-26T10:53:48.073706183Z",
     "start_time": "2023-06-26T10:53:44.258577915Z"
    }
   },
   "outputs": [
    {
     "name": "stderr",
     "output_type": "stream",
     "text": [
      "/tmp/ipykernel_8676/3843809049.py:39: SettingWithCopyWarning: \n",
      "A value is trying to be set on a copy of a slice from a DataFrame.\n",
      "Try using .loc[row_indexer,col_indexer] = value instead\n",
      "\n",
      "See the caveats in the documentation: https://pandas.pydata.org/pandas-docs/stable/user_guide/indexing.html#returning-a-view-versus-a-copy\n",
      "  df_innatura['qst_innatura'] = (df_innatura == 1.0).sum(axis=1)\n",
      "/tmp/ipykernel_8676/3843809049.py:43: SettingWithCopyWarning: \n",
      "A value is trying to be set on a copy of a slice from a DataFrame.\n",
      "Try using .loc[row_indexer,col_indexer] = value instead\n",
      "\n",
      "See the caveats in the documentation: https://pandas.pydata.org/pandas-docs/stable/user_guide/indexing.html#returning-a-view-versus-a-copy\n",
      "  df_upf['qst_upf'] = (df_upf == 1.0).sum(axis=1)\n"
     ]
    },
    {
     "name": "stdout",
     "output_type": "stream",
     "text": [
      "Número de dados totais:  64664\n",
      "Número de dados filtrados:  49843\n",
      "Porcentagem de dados faltantes: 22.92\n",
      "\n",
      "Número de dados totais (treino):  45264\n",
      "Número de dados filtrados (treino):  34932\n",
      "Porcentagem de dados faltantes (treino): 22.83\n",
      "\n",
      "Número de dados totais (teste):  19400\n",
      "Número de dados filtrados (teste):  14911\n",
      "Porcentagem de dados faltantes (teste): 23.14\n"
     ]
    }
   ],
   "source": [
    "from sklearn.model_selection import train_test_split\n",
    "%load_ext autoreload\n",
    "%autoreload 2\n",
    "import sys\n",
    "sys.path.insert(0, '../src')\n",
    "\n",
    "from pathlib import Path\n",
    "import pandas as pd\n",
    "from zipfile import ZipFile\n",
    "import numpy as np\n",
    "import matplotlib.pyplot as plt\n",
    "import copy\n",
    "\n",
    "\n",
    "PNS_DATA = Path('../data/processed/PNS_2019/all.zip').resolve()\n",
    "zip_pns = ZipFile(PNS_DATA)\n",
    "df = pd.read_csv(zip_pns.open(zip_pns.namelist()[0]), sep=\",\", low_memory=False)\n",
    "\n",
    "PATH_GEN_DATA = Path('generated_data/pns_data_models').resolve()\n",
    "\n",
    "def process_df(df_i, remove_na=True):\n",
    "    df_i = copy.deepcopy(df_i)\n",
    "    if remove_na:\n",
    "        df_i = df_i.dropna()\n",
    "    return df_i.drop(['r_norte', 'r_nordeste', 'r_sudeste', 'r_sul', 'r_centro_oeste'], axis=1)\n",
    "\n",
    "\n",
    "\n",
    "# Target\n",
    "df['depression'] = np.where(df['phq9_total'].isna(), np.nan, np.where(df['phq9_total'] >= 10, 1, 0))\n",
    "df = df.dropna(subset=['depression'])\n",
    "df['depression'].value_counts()\n",
    "\n",
    "\n",
    "\n",
    "# Alimentos in natura ou minimamente processado\n",
    "innatura = ['P00601','P00602', 'P00603', 'P00604', 'P00605', 'P00607', 'P00608', 'P00609', 'P00610', 'P00611', 'P00612', 'P00613']\n",
    "df_innatura = df[innatura]\n",
    "df_innatura['qst_innatura'] = (df_innatura == 1.0).sum(axis=1)\n",
    "# Alimentos ultraprocessados\n",
    "ultraprocessados = ['P00614', 'P00615', 'P00616', 'P00617', 'P00618', 'P00619', 'P00620', 'P00621', 'P00622', 'P00623']\n",
    "df_upf = df[ultraprocessados]\n",
    "df_upf['qst_upf'] = (df_upf == 1.0).sum(axis=1)\n",
    "\n",
    "# A literatura não usa a porcentagem de ultraprocessados do prato como análise. O artigo 'Food consumption and depression among Brazilian adults: results from the Brazilian National Health Survey, 2013'\n",
    "# Usa como base o número de perguntas respondidas 'Sim' nos alimentos ultraprocessados das ultimas 24hrs\n",
    "df['per_innatura'] = df_innatura['qst_innatura'] / (df_innatura['qst_innatura'] + df_upf['qst_upf']) * 100\n",
    "df['per_upf'] = df_upf['qst_upf'] / (df_innatura['qst_innatura'] + df_upf['qst_upf']) * 100\n",
    "df['qst_upf'] = df_upf['qst_upf'] # Baseado no artigo\n",
    "\n",
    "def classify_upf(row):\n",
    "    value = row['qst_upf']\n",
    "\n",
    "    if  0 <= value < 2:\n",
    "        return 1\n",
    "    elif value < 4:\n",
    "        return 2\n",
    "    elif value < 6:\n",
    "        return 3\n",
    "    elif value < 8:\n",
    "        return 4\n",
    "    elif value <= 10:\n",
    "        return 5\n",
    "\n",
    "    return np.nan # questionario não respondido\n",
    "\n",
    "df['upf_severity'] = df.apply(classify_upf, axis=1)\n",
    "\n",
    "\n",
    "def count_imc(row):\n",
    "    height = row['altura']\n",
    "    weight = row['peso']\n",
    "\n",
    "    imc = weight/np.square(height/100)   # Peso está em kg e altura em cm, no calculo do imc é kg/m^2\n",
    "    return imc\n",
    "\n",
    "df['imc'] = df.apply(count_imc, axis=1)\n",
    "\n",
    "\n",
    "def classify_imc(row):\n",
    "    value = row['imc']\n",
    "\n",
    "    if  0 <= value < 18.5:\n",
    "        return 1  # Baixo peso\n",
    "    elif value < 24.9:\n",
    "        return 2 # Eutrofia/peso adequado\n",
    "    elif value < 29.9:\n",
    "        return 3   # Sobrepeso\n",
    "    elif value >= 30:\n",
    "        return 4  # Obesidade\n",
    "\n",
    "    return np.nan # questionario não respondido\n",
    "\n",
    "df['class_imc'] = df.apply(classify_imc, axis=1)\n",
    "\n",
    "\n",
    "def classify_idade(row):\n",
    "    value = row['idade']\n",
    "    if  18 <= value <= 29:\n",
    "        return 1\n",
    "    elif value <= 39:\n",
    "        return 2\n",
    "    elif value <= 49:\n",
    "        return 3\n",
    "    elif value <= 59:\n",
    "        return 4\n",
    "\n",
    "    return np.nan\n",
    "\n",
    "df['class_idade'] = df.apply(classify_idade, axis=1)\n",
    "\n",
    "\n",
    "# Essa variável foi criada a partir de um índice utilizado pela OMS. Na literatura, usam a pergunta 'P034' relacionada à prática de exercícios físicos nos ultimos 3 meses\n",
    "df_activity = pd.DataFrame()\n",
    "df_activity['minutes_per_week'] = df['P03702'] * df['P035']\n",
    "\n",
    "vigorous_activities = [3.0, 4.0, 5.0, 6.0, 12.0, 13.0, 15.0]\n",
    "moderated_activities = [1.0, 2.0, 7.0, 8.0, 9.0, 10.0, 11.0, 14.0, 16.0, 17.0]\n",
    "df_activity['time_vigorous'] = df_activity['minutes_per_week'].loc[df['P036'].isin(vigorous_activities)]\n",
    "df_activity['time_moderated'] = df_activity['minutes_per_week'].loc[df['P036'].isin(moderated_activities)]\n",
    "\n",
    "df_activity['activity_class'] = 0\n",
    "df_activity.loc[df_activity['minutes_per_week'].isna(), 'activity_class'] = np.nan\n",
    "df_activity.loc[(df_activity['time_vigorous'] >= 75) | (df_activity['time_moderated'] >= 150), 'activity_class'] = 1\n",
    "\n",
    "df['activity_class'] = df_activity['activity_class']\n",
    "df['exerc_fisico'] = np.where(df['P034'].isin([1.0]), 1, np.where(df['P034'] == 2.0, 0, np.nan))\n",
    "df['tabagismo'] = np.where(df['P050'].isin([1.0, 2.0]), 1, np.where(df['P050'] == 3.0, 0, np.nan))\n",
    "\n",
    "# Na literatura eles usam outra variável para analisar o consumo alcoolico\n",
    "# df['cons_alcool'] = np.where(df['P02801'] >= 1, 1, 0)\n",
    "# df['cons_alcool'] = np.where(df['P02801'].isna(), np.nan, df['cons_alcool'])\n",
    "\n",
    "# Olhar artigo 'Food consumption and depression among Brazilian adults: results from the Brazilian National Health Survey, 2013'\n",
    "df['cons_alcool'] = np.where(df['P027'].isin([2.0, 3.0]), 1, np.where(df['P027'] == 1.0, 0, np.nan))\n",
    "\n",
    "df = df[df['P005'] != 1.0] #Retirando as grávidas da análise\n",
    "\n",
    "df['obesidade'] = np.where(df['class_imc'].isna(), np.nan, np.where(df['class_imc'] >= 4, 1, 0))\n",
    "\n",
    "# Limitação da análise por idades que se adequam ao PHQ9 baseado no artigo 'Food consumption and depression among Brazilian adults: results from the Brazilian National Health Survey, 2013'\n",
    "df = df[(df['idade'] >= 18) & (df['idade'] <= 59)]\n",
    "\n",
    "\n",
    "regiao_mapping = {\n",
    "    'r_norte': [11, 12, 13, 14, 15, 16, 17],\n",
    "    'r_nordeste': [21, 22, 23, 24, 25, 26, 27, 28, 29],\n",
    "    'r_sudeste': [31, 32, 33, 35],\n",
    "    'r_sul': [41, 42, 43],\n",
    "    'r_centro_oeste': [50, 51, 52, 53]\n",
    "}\n",
    "\n",
    "for regiao, estados in regiao_mapping.items():\n",
    "    df[regiao] = df['uf'].apply(lambda x: int(x in estados))\n",
    "\n",
    "\n",
    "df['class_renda'] = np.where(df['renda_pc'].isin([4.0, 5.0, 6.0, 7.0]), 1, np.where(df['renda_pc'].isin([1.0, 2.0, 3.0]), 0, np.nan))\n",
    "\n",
    "\n",
    "\n",
    "\n",
    "\n",
    "df_total = pd.DataFrame()\n",
    "\n",
    "df_total['exerc_fisico'] = df['exerc_fisico']\n",
    "df_total['tabagismo'] = df['tabagismo']\n",
    "df_total['cons_alcool'] = df['cons_alcool']\n",
    "df_total['cancer'] = df['Q120']\n",
    "df_total['hipertensao'] = df['Q00201']\n",
    "df_total['diabetes'] = df['Q03001']\n",
    "df_total['cardiovascular'] = df['Q06306']\n",
    "df_total['hipercolesterolemia'] = df['Q060']\n",
    "df_total['avc'] = df['Q068']\n",
    "df_total['artrite'] = df['Q079']\n",
    "df_total['obesidade'] = df['obesidade']\n",
    "df_total['depression'] = df['depression']\n",
    "df_total['sexo'] = df['sexo']\n",
    "df_total['estado_civil'] = df['vive_conjugue']\n",
    "df_total = df_total.replace(2.0, 0.0)\n",
    "df_total['class_renda'] = df['class_renda']\n",
    "\n",
    "df_total['r_norte'] = df['r_norte']\n",
    "df_total['r_nordeste'] = df['r_nordeste']\n",
    "df_total['r_sudeste'] = df['r_sudeste']\n",
    "df_total['r_sul'] = df['r_sul']\n",
    "df_total['r_centro_oeste'] = df['r_centro_oeste']\n",
    "\n",
    "df_total['escolaridade'] = df['escolaridade_agregada']\n",
    "df_total['upf'] = df['qst_upf']\n",
    "df_total['class_idade'] = df['class_idade']\n",
    "\n",
    "df_total['perc_saude'] = df['N00101'] # Variável não utilizada na literatura, meio duvidosa\n",
    "\n",
    "df_train_total, df_test_total = train_test_split(df_total, test_size=0.3, random_state=42)\n",
    "\n",
    "df_total_t = copy.deepcopy(df_total)\n",
    "\n",
    "print(\"Número de dados totais: \", len(df_total_t))\n",
    "print(\"Número de dados filtrados: \", len(df_total_t.dropna()))\n",
    "print(\"Porcentagem de dados faltantes: {:.2f}\".format(100*(1 - (len(df_total_t.dropna()) / len(df_total_t)))))\n",
    "\n",
    "print()\n",
    "\n",
    "df_total_t = copy.deepcopy(df_train_total)\n",
    "print(\"Número de dados totais (treino): \", len(df_total_t))\n",
    "print(\"Número de dados filtrados (treino): \", len(df_total_t.dropna()))\n",
    "print(\"Porcentagem de dados faltantes (treino): {:.2f}\".format(100*(1 - (len(df_total_t.dropna()) / len(df_total_t)))))\n",
    "\n",
    "print()\n",
    "\n",
    "df_total_t = copy.deepcopy(df_test_total)\n",
    "print(\"Número de dados totais (teste): \", len(df_total_t))\n",
    "print(\"Número de dados filtrados (teste): \", len(df_total_t.dropna()))\n",
    "print(\"Porcentagem de dados faltantes (teste): {:.2f}\".format(100*(1 - (len(df_total_t.dropna()) / len(df_total_t)))))"
   ]
  },
  {
   "cell_type": "code",
   "execution_count": 2,
   "metadata": {
    "ExecuteTime": {
     "end_time": "2023-06-26T10:53:48.090900805Z",
     "start_time": "2023-06-26T10:53:48.074759761Z"
    }
   },
   "outputs": [
    {
     "data": {
      "text/plain": "depression\n0.0    57816\n1.0     6848\nName: count, dtype: int64"
     },
     "execution_count": 2,
     "metadata": {},
     "output_type": "execute_result"
    }
   ],
   "source": [
    "df_total['depression'].value_counts()"
   ]
  },
  {
   "cell_type": "code",
   "execution_count": 3,
   "metadata": {
    "ExecuteTime": {
     "end_time": "2023-06-26T10:53:48.134507189Z",
     "start_time": "2023-06-26T10:53:48.092325604Z"
    }
   },
   "outputs": [],
   "source": [
    "from scipy.stats import chi2_contingency\n",
    "from IPython.display import display_markdown"
   ]
  },
  {
   "cell_type": "code",
   "execution_count": 4,
   "metadata": {
    "collapsed": false,
    "ExecuteTime": {
     "end_time": "2023-06-26T10:53:49.419400546Z",
     "start_time": "2023-06-26T10:53:48.134293917Z"
    }
   },
   "outputs": [
    {
     "data": {
      "text/markdown": "### exerc_fisico"
     },
     "metadata": {},
     "output_type": "display_data"
    },
    {
     "data": {
      "text/plain": "depression      0.0   1.0\nexerc_fisico             \n0.0           32263  4451\n1.0           25553  2397",
      "text/html": "<div>\n<style scoped>\n    .dataframe tbody tr th:only-of-type {\n        vertical-align: middle;\n    }\n\n    .dataframe tbody tr th {\n        vertical-align: top;\n    }\n\n    .dataframe thead th {\n        text-align: right;\n    }\n</style>\n<table border=\"1\" class=\"dataframe\">\n  <thead>\n    <tr style=\"text-align: right;\">\n      <th>depression</th>\n      <th>0.0</th>\n      <th>1.0</th>\n    </tr>\n    <tr>\n      <th>exerc_fisico</th>\n      <th></th>\n      <th></th>\n    </tr>\n  </thead>\n  <tbody>\n    <tr>\n      <th>0.0</th>\n      <td>32263</td>\n      <td>4451</td>\n    </tr>\n    <tr>\n      <th>1.0</th>\n      <td>25553</td>\n      <td>2397</td>\n    </tr>\n  </tbody>\n</table>\n</div>"
     },
     "metadata": {},
     "output_type": "display_data"
    },
    {
     "name": "stdout",
     "output_type": "stream",
     "text": [
      "\n"
     ]
    },
    {
     "data": {
      "text/plain": "depression       0.0     1.0        n  p_value       chi\nexerc_fisico                                            \n0.0           55.803  64.997  56.7766      0.0  210.9053\n1.0           44.197  35.003  43.2234      0.0  210.9053",
      "text/html": "<div>\n<style scoped>\n    .dataframe tbody tr th:only-of-type {\n        vertical-align: middle;\n    }\n\n    .dataframe tbody tr th {\n        vertical-align: top;\n    }\n\n    .dataframe thead th {\n        text-align: right;\n    }\n</style>\n<table border=\"1\" class=\"dataframe\">\n  <thead>\n    <tr style=\"text-align: right;\">\n      <th>depression</th>\n      <th>0.0</th>\n      <th>1.0</th>\n      <th>n</th>\n      <th>p_value</th>\n      <th>chi</th>\n    </tr>\n    <tr>\n      <th>exerc_fisico</th>\n      <th></th>\n      <th></th>\n      <th></th>\n      <th></th>\n      <th></th>\n    </tr>\n  </thead>\n  <tbody>\n    <tr>\n      <th>0.0</th>\n      <td>55.803</td>\n      <td>64.997</td>\n      <td>56.7766</td>\n      <td>0.0</td>\n      <td>210.9053</td>\n    </tr>\n    <tr>\n      <th>1.0</th>\n      <td>44.197</td>\n      <td>35.003</td>\n      <td>43.2234</td>\n      <td>0.0</td>\n      <td>210.9053</td>\n    </tr>\n  </tbody>\n</table>\n</div>"
     },
     "metadata": {},
     "output_type": "display_data"
    },
    {
     "name": "stdout",
     "output_type": "stream",
     "text": [
      "-------------------------------------------------------------\n",
      "\n"
     ]
    },
    {
     "data": {
      "text/markdown": "### tabagismo"
     },
     "metadata": {},
     "output_type": "display_data"
    },
    {
     "data": {
      "text/plain": "depression    0.0   1.0\ntabagismo              \n0.0         50525  5644\n1.0          7291  1204",
      "text/html": "<div>\n<style scoped>\n    .dataframe tbody tr th:only-of-type {\n        vertical-align: middle;\n    }\n\n    .dataframe tbody tr th {\n        vertical-align: top;\n    }\n\n    .dataframe thead th {\n        text-align: right;\n    }\n</style>\n<table border=\"1\" class=\"dataframe\">\n  <thead>\n    <tr style=\"text-align: right;\">\n      <th>depression</th>\n      <th>0.0</th>\n      <th>1.0</th>\n    </tr>\n    <tr>\n      <th>tabagismo</th>\n      <th></th>\n      <th></th>\n    </tr>\n  </thead>\n  <tbody>\n    <tr>\n      <th>0.0</th>\n      <td>50525</td>\n      <td>5644</td>\n    </tr>\n    <tr>\n      <th>1.0</th>\n      <td>7291</td>\n      <td>1204</td>\n    </tr>\n  </tbody>\n</table>\n</div>"
     },
     "metadata": {},
     "output_type": "display_data"
    },
    {
     "name": "stdout",
     "output_type": "stream",
     "text": [
      "\n"
     ]
    },
    {
     "data": {
      "text/plain": "depression     0.0     1.0        n  p_value       chi\ntabagismo                                             \n0.0         87.389  82.418  86.8629      0.0  132.5915\n1.0         12.611  17.582  13.1371      0.0  132.5915",
      "text/html": "<div>\n<style scoped>\n    .dataframe tbody tr th:only-of-type {\n        vertical-align: middle;\n    }\n\n    .dataframe tbody tr th {\n        vertical-align: top;\n    }\n\n    .dataframe thead th {\n        text-align: right;\n    }\n</style>\n<table border=\"1\" class=\"dataframe\">\n  <thead>\n    <tr style=\"text-align: right;\">\n      <th>depression</th>\n      <th>0.0</th>\n      <th>1.0</th>\n      <th>n</th>\n      <th>p_value</th>\n      <th>chi</th>\n    </tr>\n    <tr>\n      <th>tabagismo</th>\n      <th></th>\n      <th></th>\n      <th></th>\n      <th></th>\n      <th></th>\n    </tr>\n  </thead>\n  <tbody>\n    <tr>\n      <th>0.0</th>\n      <td>87.389</td>\n      <td>82.418</td>\n      <td>86.8629</td>\n      <td>0.0</td>\n      <td>132.5915</td>\n    </tr>\n    <tr>\n      <th>1.0</th>\n      <td>12.611</td>\n      <td>17.582</td>\n      <td>13.1371</td>\n      <td>0.0</td>\n      <td>132.5915</td>\n    </tr>\n  </tbody>\n</table>\n</div>"
     },
     "metadata": {},
     "output_type": "display_data"
    },
    {
     "name": "stdout",
     "output_type": "stream",
     "text": [
      "-------------------------------------------------------------\n",
      "\n"
     ]
    },
    {
     "data": {
      "text/markdown": "### cons_alcool"
     },
     "metadata": {},
     "output_type": "display_data"
    },
    {
     "data": {
      "text/plain": "depression     0.0   1.0\ncons_alcool             \n0.0          31537  4104\n1.0          26279  2744",
      "text/html": "<div>\n<style scoped>\n    .dataframe tbody tr th:only-of-type {\n        vertical-align: middle;\n    }\n\n    .dataframe tbody tr th {\n        vertical-align: top;\n    }\n\n    .dataframe thead th {\n        text-align: right;\n    }\n</style>\n<table border=\"1\" class=\"dataframe\">\n  <thead>\n    <tr style=\"text-align: right;\">\n      <th>depression</th>\n      <th>0.0</th>\n      <th>1.0</th>\n    </tr>\n    <tr>\n      <th>cons_alcool</th>\n      <th></th>\n      <th></th>\n    </tr>\n  </thead>\n  <tbody>\n    <tr>\n      <th>0.0</th>\n      <td>31537</td>\n      <td>4104</td>\n    </tr>\n    <tr>\n      <th>1.0</th>\n      <td>26279</td>\n      <td>2744</td>\n    </tr>\n  </tbody>\n</table>\n</div>"
     },
     "metadata": {},
     "output_type": "display_data"
    },
    {
     "name": "stdout",
     "output_type": "stream",
     "text": [
      "\n"
     ]
    },
    {
     "data": {
      "text/plain": "depression      0.0    1.0        n  p_value      chi\ncons_alcool                                          \n0.0          54.547  59.93  55.1172      0.0  71.7111\n1.0          45.453  40.07  44.8828      0.0  71.7111",
      "text/html": "<div>\n<style scoped>\n    .dataframe tbody tr th:only-of-type {\n        vertical-align: middle;\n    }\n\n    .dataframe tbody tr th {\n        vertical-align: top;\n    }\n\n    .dataframe thead th {\n        text-align: right;\n    }\n</style>\n<table border=\"1\" class=\"dataframe\">\n  <thead>\n    <tr style=\"text-align: right;\">\n      <th>depression</th>\n      <th>0.0</th>\n      <th>1.0</th>\n      <th>n</th>\n      <th>p_value</th>\n      <th>chi</th>\n    </tr>\n    <tr>\n      <th>cons_alcool</th>\n      <th></th>\n      <th></th>\n      <th></th>\n      <th></th>\n      <th></th>\n    </tr>\n  </thead>\n  <tbody>\n    <tr>\n      <th>0.0</th>\n      <td>54.547</td>\n      <td>59.93</td>\n      <td>55.1172</td>\n      <td>0.0</td>\n      <td>71.7111</td>\n    </tr>\n    <tr>\n      <th>1.0</th>\n      <td>45.453</td>\n      <td>40.07</td>\n      <td>44.8828</td>\n      <td>0.0</td>\n      <td>71.7111</td>\n    </tr>\n  </tbody>\n</table>\n</div>"
     },
     "metadata": {},
     "output_type": "display_data"
    },
    {
     "name": "stdout",
     "output_type": "stream",
     "text": [
      "-------------------------------------------------------------\n",
      "\n"
     ]
    },
    {
     "data": {
      "text/markdown": "### cancer"
     },
     "metadata": {},
     "output_type": "display_data"
    },
    {
     "data": {
      "text/plain": "depression    0.0   1.0\ncancer                 \n0.0         57134  6648\n1.0           682   200",
      "text/html": "<div>\n<style scoped>\n    .dataframe tbody tr th:only-of-type {\n        vertical-align: middle;\n    }\n\n    .dataframe tbody tr th {\n        vertical-align: top;\n    }\n\n    .dataframe thead th {\n        text-align: right;\n    }\n</style>\n<table border=\"1\" class=\"dataframe\">\n  <thead>\n    <tr style=\"text-align: right;\">\n      <th>depression</th>\n      <th>0.0</th>\n      <th>1.0</th>\n    </tr>\n    <tr>\n      <th>cancer</th>\n      <th></th>\n      <th></th>\n    </tr>\n  </thead>\n  <tbody>\n    <tr>\n      <th>0.0</th>\n      <td>57134</td>\n      <td>6648</td>\n    </tr>\n    <tr>\n      <th>1.0</th>\n      <td>682</td>\n      <td>200</td>\n    </tr>\n  </tbody>\n</table>\n</div>"
     },
     "metadata": {},
     "output_type": "display_data"
    },
    {
     "name": "stdout",
     "output_type": "stream",
     "text": [
      "\n"
     ]
    },
    {
     "data": {
      "text/plain": "depression    0.0     1.0       n  p_value       chi\ncancer                                              \n0.0         98.82  97.079  98.636      0.0  137.9379\n1.0          1.18   2.921   1.364      0.0  137.9379",
      "text/html": "<div>\n<style scoped>\n    .dataframe tbody tr th:only-of-type {\n        vertical-align: middle;\n    }\n\n    .dataframe tbody tr th {\n        vertical-align: top;\n    }\n\n    .dataframe thead th {\n        text-align: right;\n    }\n</style>\n<table border=\"1\" class=\"dataframe\">\n  <thead>\n    <tr style=\"text-align: right;\">\n      <th>depression</th>\n      <th>0.0</th>\n      <th>1.0</th>\n      <th>n</th>\n      <th>p_value</th>\n      <th>chi</th>\n    </tr>\n    <tr>\n      <th>cancer</th>\n      <th></th>\n      <th></th>\n      <th></th>\n      <th></th>\n      <th></th>\n    </tr>\n  </thead>\n  <tbody>\n    <tr>\n      <th>0.0</th>\n      <td>98.82</td>\n      <td>97.079</td>\n      <td>98.636</td>\n      <td>0.0</td>\n      <td>137.9379</td>\n    </tr>\n    <tr>\n      <th>1.0</th>\n      <td>1.18</td>\n      <td>2.921</td>\n      <td>1.364</td>\n      <td>0.0</td>\n      <td>137.9379</td>\n    </tr>\n  </tbody>\n</table>\n</div>"
     },
     "metadata": {},
     "output_type": "display_data"
    },
    {
     "name": "stdout",
     "output_type": "stream",
     "text": [
      "-------------------------------------------------------------\n",
      "\n"
     ]
    },
    {
     "data": {
      "text/markdown": "### hipertensao"
     },
     "metadata": {},
     "output_type": "display_data"
    },
    {
     "data": {
      "text/plain": "depression     0.0   1.0\nhipertensao             \n0.0          47122  4821\n1.0           9270  1956",
      "text/html": "<div>\n<style scoped>\n    .dataframe tbody tr th:only-of-type {\n        vertical-align: middle;\n    }\n\n    .dataframe tbody tr th {\n        vertical-align: top;\n    }\n\n    .dataframe thead th {\n        text-align: right;\n    }\n</style>\n<table border=\"1\" class=\"dataframe\">\n  <thead>\n    <tr style=\"text-align: right;\">\n      <th>depression</th>\n      <th>0.0</th>\n      <th>1.0</th>\n    </tr>\n    <tr>\n      <th>hipertensao</th>\n      <th></th>\n      <th></th>\n    </tr>\n  </thead>\n  <tbody>\n    <tr>\n      <th>0.0</th>\n      <td>47122</td>\n      <td>4821</td>\n    </tr>\n    <tr>\n      <th>1.0</th>\n      <td>9270</td>\n      <td>1956</td>\n    </tr>\n  </tbody>\n</table>\n</div>"
     },
     "metadata": {},
     "output_type": "display_data"
    },
    {
     "name": "stdout",
     "output_type": "stream",
     "text": [
      "\n"
     ]
    },
    {
     "data": {
      "text/plain": "depression      0.0     1.0        n  p_value       chi\nhipertensao                                            \n0.0          83.561  71.138  82.2286      0.0  639.0247\n1.0          16.439  28.862  17.7714      0.0  639.0247",
      "text/html": "<div>\n<style scoped>\n    .dataframe tbody tr th:only-of-type {\n        vertical-align: middle;\n    }\n\n    .dataframe tbody tr th {\n        vertical-align: top;\n    }\n\n    .dataframe thead th {\n        text-align: right;\n    }\n</style>\n<table border=\"1\" class=\"dataframe\">\n  <thead>\n    <tr style=\"text-align: right;\">\n      <th>depression</th>\n      <th>0.0</th>\n      <th>1.0</th>\n      <th>n</th>\n      <th>p_value</th>\n      <th>chi</th>\n    </tr>\n    <tr>\n      <th>hipertensao</th>\n      <th></th>\n      <th></th>\n      <th></th>\n      <th></th>\n      <th></th>\n    </tr>\n  </thead>\n  <tbody>\n    <tr>\n      <th>0.0</th>\n      <td>83.561</td>\n      <td>71.138</td>\n      <td>82.2286</td>\n      <td>0.0</td>\n      <td>639.0247</td>\n    </tr>\n    <tr>\n      <th>1.0</th>\n      <td>16.439</td>\n      <td>28.862</td>\n      <td>17.7714</td>\n      <td>0.0</td>\n      <td>639.0247</td>\n    </tr>\n  </tbody>\n</table>\n</div>"
     },
     "metadata": {},
     "output_type": "display_data"
    },
    {
     "name": "stdout",
     "output_type": "stream",
     "text": [
      "-------------------------------------------------------------\n",
      "\n"
     ]
    },
    {
     "data": {
      "text/markdown": "### diabetes"
     },
     "metadata": {},
     "output_type": "display_data"
    },
    {
     "data": {
      "text/plain": "depression    0.0   1.0\ndiabetes               \n0.0         50366  5889\n1.0          2393   606",
      "text/html": "<div>\n<style scoped>\n    .dataframe tbody tr th:only-of-type {\n        vertical-align: middle;\n    }\n\n    .dataframe tbody tr th {\n        vertical-align: top;\n    }\n\n    .dataframe thead th {\n        text-align: right;\n    }\n</style>\n<table border=\"1\" class=\"dataframe\">\n  <thead>\n    <tr style=\"text-align: right;\">\n      <th>depression</th>\n      <th>0.0</th>\n      <th>1.0</th>\n    </tr>\n    <tr>\n      <th>diabetes</th>\n      <th></th>\n      <th></th>\n    </tr>\n  </thead>\n  <tbody>\n    <tr>\n      <th>0.0</th>\n      <td>50366</td>\n      <td>5889</td>\n    </tr>\n    <tr>\n      <th>1.0</th>\n      <td>2393</td>\n      <td>606</td>\n    </tr>\n  </tbody>\n</table>\n</div>"
     },
     "metadata": {},
     "output_type": "display_data"
    },
    {
     "name": "stdout",
     "output_type": "stream",
     "text": [
      "\n"
     ]
    },
    {
     "data": {
      "text/plain": "depression     0.0    1.0        n  p_value       chi\ndiabetes                                             \n0.0         95.464  90.67  94.9387      0.0  276.6615\n1.0          4.536   9.33   5.0613      0.0  276.6615",
      "text/html": "<div>\n<style scoped>\n    .dataframe tbody tr th:only-of-type {\n        vertical-align: middle;\n    }\n\n    .dataframe tbody tr th {\n        vertical-align: top;\n    }\n\n    .dataframe thead th {\n        text-align: right;\n    }\n</style>\n<table border=\"1\" class=\"dataframe\">\n  <thead>\n    <tr style=\"text-align: right;\">\n      <th>depression</th>\n      <th>0.0</th>\n      <th>1.0</th>\n      <th>n</th>\n      <th>p_value</th>\n      <th>chi</th>\n    </tr>\n    <tr>\n      <th>diabetes</th>\n      <th></th>\n      <th></th>\n      <th></th>\n      <th></th>\n      <th></th>\n    </tr>\n  </thead>\n  <tbody>\n    <tr>\n      <th>0.0</th>\n      <td>95.464</td>\n      <td>90.67</td>\n      <td>94.9387</td>\n      <td>0.0</td>\n      <td>276.6615</td>\n    </tr>\n    <tr>\n      <th>1.0</th>\n      <td>4.536</td>\n      <td>9.33</td>\n      <td>5.0613</td>\n      <td>0.0</td>\n      <td>276.6615</td>\n    </tr>\n  </tbody>\n</table>\n</div>"
     },
     "metadata": {},
     "output_type": "display_data"
    },
    {
     "name": "stdout",
     "output_type": "stream",
     "text": [
      "-------------------------------------------------------------\n",
      "\n"
     ]
    },
    {
     "data": {
      "text/markdown": "### cardiovascular"
     },
     "metadata": {},
     "output_type": "display_data"
    },
    {
     "data": {
      "text/plain": "depression        0.0   1.0\ncardiovascular             \n0.0             56385  6303\n1.0              1431   545",
      "text/html": "<div>\n<style scoped>\n    .dataframe tbody tr th:only-of-type {\n        vertical-align: middle;\n    }\n\n    .dataframe tbody tr th {\n        vertical-align: top;\n    }\n\n    .dataframe thead th {\n        text-align: right;\n    }\n</style>\n<table border=\"1\" class=\"dataframe\">\n  <thead>\n    <tr style=\"text-align: right;\">\n      <th>depression</th>\n      <th>0.0</th>\n      <th>1.0</th>\n    </tr>\n    <tr>\n      <th>cardiovascular</th>\n      <th></th>\n      <th></th>\n    </tr>\n  </thead>\n  <tbody>\n    <tr>\n      <th>0.0</th>\n      <td>56385</td>\n      <td>6303</td>\n    </tr>\n    <tr>\n      <th>1.0</th>\n      <td>1431</td>\n      <td>545</td>\n    </tr>\n  </tbody>\n</table>\n</div>"
     },
     "metadata": {},
     "output_type": "display_data"
    },
    {
     "name": "stdout",
     "output_type": "stream",
     "text": [
      "\n"
     ]
    },
    {
     "data": {
      "text/plain": "depression         0.0     1.0        n  p_value       chi\ncardiovascular                                            \n0.0             97.525  92.041  96.9442      0.0  621.4531\n1.0              2.475   7.959   3.0558      0.0  621.4531",
      "text/html": "<div>\n<style scoped>\n    .dataframe tbody tr th:only-of-type {\n        vertical-align: middle;\n    }\n\n    .dataframe tbody tr th {\n        vertical-align: top;\n    }\n\n    .dataframe thead th {\n        text-align: right;\n    }\n</style>\n<table border=\"1\" class=\"dataframe\">\n  <thead>\n    <tr style=\"text-align: right;\">\n      <th>depression</th>\n      <th>0.0</th>\n      <th>1.0</th>\n      <th>n</th>\n      <th>p_value</th>\n      <th>chi</th>\n    </tr>\n    <tr>\n      <th>cardiovascular</th>\n      <th></th>\n      <th></th>\n      <th></th>\n      <th></th>\n      <th></th>\n    </tr>\n  </thead>\n  <tbody>\n    <tr>\n      <th>0.0</th>\n      <td>97.525</td>\n      <td>92.041</td>\n      <td>96.9442</td>\n      <td>0.0</td>\n      <td>621.4531</td>\n    </tr>\n    <tr>\n      <th>1.0</th>\n      <td>2.475</td>\n      <td>7.959</td>\n      <td>3.0558</td>\n      <td>0.0</td>\n      <td>621.4531</td>\n    </tr>\n  </tbody>\n</table>\n</div>"
     },
     "metadata": {},
     "output_type": "display_data"
    },
    {
     "name": "stdout",
     "output_type": "stream",
     "text": [
      "-------------------------------------------------------------\n",
      "\n"
     ]
    },
    {
     "data": {
      "text/markdown": "### hipercolesterolemia"
     },
     "metadata": {},
     "output_type": "display_data"
    },
    {
     "data": {
      "text/plain": "depression             0.0   1.0\nhipercolesterolemia             \n0.0                  45843  5003\n1.0                   6047  1402",
      "text/html": "<div>\n<style scoped>\n    .dataframe tbody tr th:only-of-type {\n        vertical-align: middle;\n    }\n\n    .dataframe tbody tr th {\n        vertical-align: top;\n    }\n\n    .dataframe thead th {\n        text-align: right;\n    }\n</style>\n<table border=\"1\" class=\"dataframe\">\n  <thead>\n    <tr style=\"text-align: right;\">\n      <th>depression</th>\n      <th>0.0</th>\n      <th>1.0</th>\n    </tr>\n    <tr>\n      <th>hipercolesterolemia</th>\n      <th></th>\n      <th></th>\n    </tr>\n  </thead>\n  <tbody>\n    <tr>\n      <th>0.0</th>\n      <td>45843</td>\n      <td>5003</td>\n    </tr>\n    <tr>\n      <th>1.0</th>\n      <td>6047</td>\n      <td>1402</td>\n    </tr>\n  </tbody>\n</table>\n</div>"
     },
     "metadata": {},
     "output_type": "display_data"
    },
    {
     "name": "stdout",
     "output_type": "stream",
     "text": [
      "\n"
     ]
    },
    {
     "data": {
      "text/plain": "depression              0.0     1.0        n  p_value       chi\nhipercolesterolemia                                            \n0.0                  88.347  78.111  87.2219      0.0  535.9328\n1.0                  11.653  21.889  12.7781      0.0  535.9328",
      "text/html": "<div>\n<style scoped>\n    .dataframe tbody tr th:only-of-type {\n        vertical-align: middle;\n    }\n\n    .dataframe tbody tr th {\n        vertical-align: top;\n    }\n\n    .dataframe thead th {\n        text-align: right;\n    }\n</style>\n<table border=\"1\" class=\"dataframe\">\n  <thead>\n    <tr style=\"text-align: right;\">\n      <th>depression</th>\n      <th>0.0</th>\n      <th>1.0</th>\n      <th>n</th>\n      <th>p_value</th>\n      <th>chi</th>\n    </tr>\n    <tr>\n      <th>hipercolesterolemia</th>\n      <th></th>\n      <th></th>\n      <th></th>\n      <th></th>\n      <th></th>\n    </tr>\n  </thead>\n  <tbody>\n    <tr>\n      <th>0.0</th>\n      <td>88.347</td>\n      <td>78.111</td>\n      <td>87.2219</td>\n      <td>0.0</td>\n      <td>535.9328</td>\n    </tr>\n    <tr>\n      <th>1.0</th>\n      <td>11.653</td>\n      <td>21.889</td>\n      <td>12.7781</td>\n      <td>0.0</td>\n      <td>535.9328</td>\n    </tr>\n  </tbody>\n</table>\n</div>"
     },
     "metadata": {},
     "output_type": "display_data"
    },
    {
     "name": "stdout",
     "output_type": "stream",
     "text": [
      "-------------------------------------------------------------\n",
      "\n"
     ]
    },
    {
     "data": {
      "text/markdown": "### avc"
     },
     "metadata": {},
     "output_type": "display_data"
    },
    {
     "data": {
      "text/plain": "depression    0.0   1.0\navc                    \n0.0         57341  6627\n1.0           475   221",
      "text/html": "<div>\n<style scoped>\n    .dataframe tbody tr th:only-of-type {\n        vertical-align: middle;\n    }\n\n    .dataframe tbody tr th {\n        vertical-align: top;\n    }\n\n    .dataframe thead th {\n        text-align: right;\n    }\n</style>\n<table border=\"1\" class=\"dataframe\">\n  <thead>\n    <tr style=\"text-align: right;\">\n      <th>depression</th>\n      <th>0.0</th>\n      <th>1.0</th>\n    </tr>\n    <tr>\n      <th>avc</th>\n      <th></th>\n      <th></th>\n    </tr>\n  </thead>\n  <tbody>\n    <tr>\n      <th>0.0</th>\n      <td>57341</td>\n      <td>6627</td>\n    </tr>\n    <tr>\n      <th>1.0</th>\n      <td>475</td>\n      <td>221</td>\n    </tr>\n  </tbody>\n</table>\n</div>"
     },
     "metadata": {},
     "output_type": "display_data"
    },
    {
     "name": "stdout",
     "output_type": "stream",
     "text": [
      "\n"
     ]
    },
    {
     "data": {
      "text/plain": "depression     0.0     1.0        n  p_value      chi\navc                                                  \n0.0         99.178  96.773  98.9237      0.0  332.787\n1.0          0.822   3.227   1.0763      0.0  332.787",
      "text/html": "<div>\n<style scoped>\n    .dataframe tbody tr th:only-of-type {\n        vertical-align: middle;\n    }\n\n    .dataframe tbody tr th {\n        vertical-align: top;\n    }\n\n    .dataframe thead th {\n        text-align: right;\n    }\n</style>\n<table border=\"1\" class=\"dataframe\">\n  <thead>\n    <tr style=\"text-align: right;\">\n      <th>depression</th>\n      <th>0.0</th>\n      <th>1.0</th>\n      <th>n</th>\n      <th>p_value</th>\n      <th>chi</th>\n    </tr>\n    <tr>\n      <th>avc</th>\n      <th></th>\n      <th></th>\n      <th></th>\n      <th></th>\n      <th></th>\n    </tr>\n  </thead>\n  <tbody>\n    <tr>\n      <th>0.0</th>\n      <td>99.178</td>\n      <td>96.773</td>\n      <td>98.9237</td>\n      <td>0.0</td>\n      <td>332.787</td>\n    </tr>\n    <tr>\n      <th>1.0</th>\n      <td>0.822</td>\n      <td>3.227</td>\n      <td>1.0763</td>\n      <td>0.0</td>\n      <td>332.787</td>\n    </tr>\n  </tbody>\n</table>\n</div>"
     },
     "metadata": {},
     "output_type": "display_data"
    },
    {
     "name": "stdout",
     "output_type": "stream",
     "text": [
      "-------------------------------------------------------------\n",
      "\n"
     ]
    },
    {
     "data": {
      "text/markdown": "### artrite"
     },
     "metadata": {},
     "output_type": "display_data"
    },
    {
     "data": {
      "text/plain": "depression    0.0   1.0\nartrite                \n0.0         55536  5977\n1.0          2280   871",
      "text/html": "<div>\n<style scoped>\n    .dataframe tbody tr th:only-of-type {\n        vertical-align: middle;\n    }\n\n    .dataframe tbody tr th {\n        vertical-align: top;\n    }\n\n    .dataframe thead th {\n        text-align: right;\n    }\n</style>\n<table border=\"1\" class=\"dataframe\">\n  <thead>\n    <tr style=\"text-align: right;\">\n      <th>depression</th>\n      <th>0.0</th>\n      <th>1.0</th>\n    </tr>\n    <tr>\n      <th>artrite</th>\n      <th></th>\n      <th></th>\n    </tr>\n  </thead>\n  <tbody>\n    <tr>\n      <th>0.0</th>\n      <td>55536</td>\n      <td>5977</td>\n    </tr>\n    <tr>\n      <th>1.0</th>\n      <td>2280</td>\n      <td>871</td>\n    </tr>\n  </tbody>\n</table>\n</div>"
     },
     "metadata": {},
     "output_type": "display_data"
    },
    {
     "name": "stdout",
     "output_type": "stream",
     "text": [
      "\n"
     ]
    },
    {
     "data": {
      "text/plain": "depression     0.0     1.0        n  p_value       chi\nartrite                                               \n0.0         96.056  87.281  95.1271      0.0  1017.191\n1.0          3.944  12.719   4.8729      0.0  1017.191",
      "text/html": "<div>\n<style scoped>\n    .dataframe tbody tr th:only-of-type {\n        vertical-align: middle;\n    }\n\n    .dataframe tbody tr th {\n        vertical-align: top;\n    }\n\n    .dataframe thead th {\n        text-align: right;\n    }\n</style>\n<table border=\"1\" class=\"dataframe\">\n  <thead>\n    <tr style=\"text-align: right;\">\n      <th>depression</th>\n      <th>0.0</th>\n      <th>1.0</th>\n      <th>n</th>\n      <th>p_value</th>\n      <th>chi</th>\n    </tr>\n    <tr>\n      <th>artrite</th>\n      <th></th>\n      <th></th>\n      <th></th>\n      <th></th>\n      <th></th>\n    </tr>\n  </thead>\n  <tbody>\n    <tr>\n      <th>0.0</th>\n      <td>96.056</td>\n      <td>87.281</td>\n      <td>95.1271</td>\n      <td>0.0</td>\n      <td>1017.191</td>\n    </tr>\n    <tr>\n      <th>1.0</th>\n      <td>3.944</td>\n      <td>12.719</td>\n      <td>4.8729</td>\n      <td>0.0</td>\n      <td>1017.191</td>\n    </tr>\n  </tbody>\n</table>\n</div>"
     },
     "metadata": {},
     "output_type": "display_data"
    },
    {
     "name": "stdout",
     "output_type": "stream",
     "text": [
      "-------------------------------------------------------------\n",
      "\n"
     ]
    },
    {
     "data": {
      "text/markdown": "### obesidade"
     },
     "metadata": {},
     "output_type": "display_data"
    },
    {
     "data": {
      "text/plain": "depression    0.0   1.0\nobesidade              \n0.0         45888  4970\n1.0         11640  1821",
      "text/html": "<div>\n<style scoped>\n    .dataframe tbody tr th:only-of-type {\n        vertical-align: middle;\n    }\n\n    .dataframe tbody tr th {\n        vertical-align: top;\n    }\n\n    .dataframe thead th {\n        text-align: right;\n    }\n</style>\n<table border=\"1\" class=\"dataframe\">\n  <thead>\n    <tr style=\"text-align: right;\">\n      <th>depression</th>\n      <th>0.0</th>\n      <th>1.0</th>\n    </tr>\n    <tr>\n      <th>obesidade</th>\n      <th></th>\n      <th></th>\n    </tr>\n  </thead>\n  <tbody>\n    <tr>\n      <th>0.0</th>\n      <td>45888</td>\n      <td>4970</td>\n    </tr>\n    <tr>\n      <th>1.0</th>\n      <td>11640</td>\n      <td>1821</td>\n    </tr>\n  </tbody>\n</table>\n</div>"
     },
     "metadata": {},
     "output_type": "display_data"
    },
    {
     "name": "stdout",
     "output_type": "stream",
     "text": [
      "\n"
     ]
    },
    {
     "data": {
      "text/plain": "depression     0.0     1.0        n  p_value       chi\nobesidade                                             \n0.0         79.766  73.185  79.0715      0.0  158.9776\n1.0         20.234  26.815  20.9285      0.0  158.9776",
      "text/html": "<div>\n<style scoped>\n    .dataframe tbody tr th:only-of-type {\n        vertical-align: middle;\n    }\n\n    .dataframe tbody tr th {\n        vertical-align: top;\n    }\n\n    .dataframe thead th {\n        text-align: right;\n    }\n</style>\n<table border=\"1\" class=\"dataframe\">\n  <thead>\n    <tr style=\"text-align: right;\">\n      <th>depression</th>\n      <th>0.0</th>\n      <th>1.0</th>\n      <th>n</th>\n      <th>p_value</th>\n      <th>chi</th>\n    </tr>\n    <tr>\n      <th>obesidade</th>\n      <th></th>\n      <th></th>\n      <th></th>\n      <th></th>\n      <th></th>\n    </tr>\n  </thead>\n  <tbody>\n    <tr>\n      <th>0.0</th>\n      <td>79.766</td>\n      <td>73.185</td>\n      <td>79.0715</td>\n      <td>0.0</td>\n      <td>158.9776</td>\n    </tr>\n    <tr>\n      <th>1.0</th>\n      <td>20.234</td>\n      <td>26.815</td>\n      <td>20.9285</td>\n      <td>0.0</td>\n      <td>158.9776</td>\n    </tr>\n  </tbody>\n</table>\n</div>"
     },
     "metadata": {},
     "output_type": "display_data"
    },
    {
     "name": "stdout",
     "output_type": "stream",
     "text": [
      "-------------------------------------------------------------\n",
      "\n"
     ]
    },
    {
     "data": {
      "text/markdown": "### depression"
     },
     "metadata": {},
     "output_type": "display_data"
    },
    {
     "data": {
      "text/plain": "depression    0.0   1.0\ndepression             \n0.0         57816     0\n1.0             0  6848",
      "text/html": "<div>\n<style scoped>\n    .dataframe tbody tr th:only-of-type {\n        vertical-align: middle;\n    }\n\n    .dataframe tbody tr th {\n        vertical-align: top;\n    }\n\n    .dataframe thead th {\n        text-align: right;\n    }\n</style>\n<table border=\"1\" class=\"dataframe\">\n  <thead>\n    <tr style=\"text-align: right;\">\n      <th>depression</th>\n      <th>0.0</th>\n      <th>1.0</th>\n    </tr>\n    <tr>\n      <th>depression</th>\n      <th></th>\n      <th></th>\n    </tr>\n  </thead>\n  <tbody>\n    <tr>\n      <th>0.0</th>\n      <td>57816</td>\n      <td>0</td>\n    </tr>\n    <tr>\n      <th>1.0</th>\n      <td>0</td>\n      <td>6848</td>\n    </tr>\n  </tbody>\n</table>\n</div>"
     },
     "metadata": {},
     "output_type": "display_data"
    },
    {
     "name": "stdout",
     "output_type": "stream",
     "text": [
      "\n"
     ]
    },
    {
     "data": {
      "text/plain": "depression    0.0    1.0        n  p_value      chi\ndepression                                         \n0.0         100.0    0.0  89.4099      0.0  64664.0\n1.0           0.0  100.0  10.5901      0.0  64664.0",
      "text/html": "<div>\n<style scoped>\n    .dataframe tbody tr th:only-of-type {\n        vertical-align: middle;\n    }\n\n    .dataframe tbody tr th {\n        vertical-align: top;\n    }\n\n    .dataframe thead th {\n        text-align: right;\n    }\n</style>\n<table border=\"1\" class=\"dataframe\">\n  <thead>\n    <tr style=\"text-align: right;\">\n      <th>depression</th>\n      <th>0.0</th>\n      <th>1.0</th>\n      <th>n</th>\n      <th>p_value</th>\n      <th>chi</th>\n    </tr>\n    <tr>\n      <th>depression</th>\n      <th></th>\n      <th></th>\n      <th></th>\n      <th></th>\n      <th></th>\n    </tr>\n  </thead>\n  <tbody>\n    <tr>\n      <th>0.0</th>\n      <td>100.0</td>\n      <td>0.0</td>\n      <td>89.4099</td>\n      <td>0.0</td>\n      <td>64664.0</td>\n    </tr>\n    <tr>\n      <th>1.0</th>\n      <td>0.0</td>\n      <td>100.0</td>\n      <td>10.5901</td>\n      <td>0.0</td>\n      <td>64664.0</td>\n    </tr>\n  </tbody>\n</table>\n</div>"
     },
     "metadata": {},
     "output_type": "display_data"
    },
    {
     "name": "stdout",
     "output_type": "stream",
     "text": [
      "-------------------------------------------------------------\n",
      "\n"
     ]
    },
    {
     "data": {
      "text/markdown": "### sexo"
     },
     "metadata": {},
     "output_type": "display_data"
    },
    {
     "data": {
      "text/plain": "depression    0.0   1.0\nsexo                   \n0.0         28378  5061\n1.0         29438  1787",
      "text/html": "<div>\n<style scoped>\n    .dataframe tbody tr th:only-of-type {\n        vertical-align: middle;\n    }\n\n    .dataframe tbody tr th {\n        vertical-align: top;\n    }\n\n    .dataframe thead th {\n        text-align: right;\n    }\n</style>\n<table border=\"1\" class=\"dataframe\">\n  <thead>\n    <tr style=\"text-align: right;\">\n      <th>depression</th>\n      <th>0.0</th>\n      <th>1.0</th>\n    </tr>\n    <tr>\n      <th>sexo</th>\n      <th></th>\n      <th></th>\n    </tr>\n  </thead>\n  <tbody>\n    <tr>\n      <th>0.0</th>\n      <td>28378</td>\n      <td>5061</td>\n    </tr>\n    <tr>\n      <th>1.0</th>\n      <td>29438</td>\n      <td>1787</td>\n    </tr>\n  </tbody>\n</table>\n</div>"
     },
     "metadata": {},
     "output_type": "display_data"
    },
    {
     "name": "stdout",
     "output_type": "stream",
     "text": [
      "\n"
     ]
    },
    {
     "data": {
      "text/plain": "depression     0.0     1.0        n  p_value        chi\nsexo                                                   \n0.0         49.083  73.905  51.7119      0.0  1510.6865\n1.0         50.917  26.095  48.2881      0.0  1510.6865",
      "text/html": "<div>\n<style scoped>\n    .dataframe tbody tr th:only-of-type {\n        vertical-align: middle;\n    }\n\n    .dataframe tbody tr th {\n        vertical-align: top;\n    }\n\n    .dataframe thead th {\n        text-align: right;\n    }\n</style>\n<table border=\"1\" class=\"dataframe\">\n  <thead>\n    <tr style=\"text-align: right;\">\n      <th>depression</th>\n      <th>0.0</th>\n      <th>1.0</th>\n      <th>n</th>\n      <th>p_value</th>\n      <th>chi</th>\n    </tr>\n    <tr>\n      <th>sexo</th>\n      <th></th>\n      <th></th>\n      <th></th>\n      <th></th>\n      <th></th>\n    </tr>\n  </thead>\n  <tbody>\n    <tr>\n      <th>0.0</th>\n      <td>49.083</td>\n      <td>73.905</td>\n      <td>51.7119</td>\n      <td>0.0</td>\n      <td>1510.6865</td>\n    </tr>\n    <tr>\n      <th>1.0</th>\n      <td>50.917</td>\n      <td>26.095</td>\n      <td>48.2881</td>\n      <td>0.0</td>\n      <td>1510.6865</td>\n    </tr>\n  </tbody>\n</table>\n</div>"
     },
     "metadata": {},
     "output_type": "display_data"
    },
    {
     "name": "stdout",
     "output_type": "stream",
     "text": [
      "-------------------------------------------------------------\n",
      "\n"
     ]
    },
    {
     "data": {
      "text/markdown": "### estado_civil"
     },
     "metadata": {},
     "output_type": "display_data"
    },
    {
     "data": {
      "text/plain": "depression      0.0   1.0\nestado_civil             \n0.0           22556  3383\n1.0           35260  3465",
      "text/html": "<div>\n<style scoped>\n    .dataframe tbody tr th:only-of-type {\n        vertical-align: middle;\n    }\n\n    .dataframe tbody tr th {\n        vertical-align: top;\n    }\n\n    .dataframe thead th {\n        text-align: right;\n    }\n</style>\n<table border=\"1\" class=\"dataframe\">\n  <thead>\n    <tr style=\"text-align: right;\">\n      <th>depression</th>\n      <th>0.0</th>\n      <th>1.0</th>\n    </tr>\n    <tr>\n      <th>estado_civil</th>\n      <th></th>\n      <th></th>\n    </tr>\n  </thead>\n  <tbody>\n    <tr>\n      <th>0.0</th>\n      <td>22556</td>\n      <td>3383</td>\n    </tr>\n    <tr>\n      <th>1.0</th>\n      <td>35260</td>\n      <td>3465</td>\n    </tr>\n  </tbody>\n</table>\n</div>"
     },
     "metadata": {},
     "output_type": "display_data"
    },
    {
     "name": "stdout",
     "output_type": "stream",
     "text": [
      "\n"
     ]
    },
    {
     "data": {
      "text/plain": "depression       0.0     1.0        n  p_value       chi\nestado_civil                                            \n0.0           39.013  49.401  40.1135      0.0  275.0313\n1.0           60.987  50.599  59.8865      0.0  275.0313",
      "text/html": "<div>\n<style scoped>\n    .dataframe tbody tr th:only-of-type {\n        vertical-align: middle;\n    }\n\n    .dataframe tbody tr th {\n        vertical-align: top;\n    }\n\n    .dataframe thead th {\n        text-align: right;\n    }\n</style>\n<table border=\"1\" class=\"dataframe\">\n  <thead>\n    <tr style=\"text-align: right;\">\n      <th>depression</th>\n      <th>0.0</th>\n      <th>1.0</th>\n      <th>n</th>\n      <th>p_value</th>\n      <th>chi</th>\n    </tr>\n    <tr>\n      <th>estado_civil</th>\n      <th></th>\n      <th></th>\n      <th></th>\n      <th></th>\n      <th></th>\n    </tr>\n  </thead>\n  <tbody>\n    <tr>\n      <th>0.0</th>\n      <td>39.013</td>\n      <td>49.401</td>\n      <td>40.1135</td>\n      <td>0.0</td>\n      <td>275.0313</td>\n    </tr>\n    <tr>\n      <th>1.0</th>\n      <td>60.987</td>\n      <td>50.599</td>\n      <td>59.8865</td>\n      <td>0.0</td>\n      <td>275.0313</td>\n    </tr>\n  </tbody>\n</table>\n</div>"
     },
     "metadata": {},
     "output_type": "display_data"
    },
    {
     "name": "stdout",
     "output_type": "stream",
     "text": [
      "-------------------------------------------------------------\n",
      "\n"
     ]
    },
    {
     "data": {
      "text/markdown": "### class_renda"
     },
     "metadata": {},
     "output_type": "display_data"
    },
    {
     "data": {
      "text/plain": "depression     0.0   1.0\nclass_renda             \n0.0          32900  4412\n1.0          24898  2436",
      "text/html": "<div>\n<style scoped>\n    .dataframe tbody tr th:only-of-type {\n        vertical-align: middle;\n    }\n\n    .dataframe tbody tr th {\n        vertical-align: top;\n    }\n\n    .dataframe thead th {\n        text-align: right;\n    }\n</style>\n<table border=\"1\" class=\"dataframe\">\n  <thead>\n    <tr style=\"text-align: right;\">\n      <th>depression</th>\n      <th>0.0</th>\n      <th>1.0</th>\n    </tr>\n    <tr>\n      <th>class_renda</th>\n      <th></th>\n      <th></th>\n    </tr>\n  </thead>\n  <tbody>\n    <tr>\n      <th>0.0</th>\n      <td>32900</td>\n      <td>4412</td>\n    </tr>\n    <tr>\n      <th>1.0</th>\n      <td>24898</td>\n      <td>2436</td>\n    </tr>\n  </tbody>\n</table>\n</div>"
     },
     "metadata": {},
     "output_type": "display_data"
    },
    {
     "name": "stdout",
     "output_type": "stream",
     "text": [
      "\n"
     ]
    },
    {
     "data": {
      "text/plain": "depression      0.0     1.0        n  p_value       chi\nclass_renda                                            \n0.0          56.922  64.428  57.7174      0.0  141.3153\n1.0          43.078  35.572  42.2826      0.0  141.3153",
      "text/html": "<div>\n<style scoped>\n    .dataframe tbody tr th:only-of-type {\n        vertical-align: middle;\n    }\n\n    .dataframe tbody tr th {\n        vertical-align: top;\n    }\n\n    .dataframe thead th {\n        text-align: right;\n    }\n</style>\n<table border=\"1\" class=\"dataframe\">\n  <thead>\n    <tr style=\"text-align: right;\">\n      <th>depression</th>\n      <th>0.0</th>\n      <th>1.0</th>\n      <th>n</th>\n      <th>p_value</th>\n      <th>chi</th>\n    </tr>\n    <tr>\n      <th>class_renda</th>\n      <th></th>\n      <th></th>\n      <th></th>\n      <th></th>\n      <th></th>\n    </tr>\n  </thead>\n  <tbody>\n    <tr>\n      <th>0.0</th>\n      <td>56.922</td>\n      <td>64.428</td>\n      <td>57.7174</td>\n      <td>0.0</td>\n      <td>141.3153</td>\n    </tr>\n    <tr>\n      <th>1.0</th>\n      <td>43.078</td>\n      <td>35.572</td>\n      <td>42.2826</td>\n      <td>0.0</td>\n      <td>141.3153</td>\n    </tr>\n  </tbody>\n</table>\n</div>"
     },
     "metadata": {},
     "output_type": "display_data"
    },
    {
     "name": "stdout",
     "output_type": "stream",
     "text": [
      "-------------------------------------------------------------\n",
      "\n"
     ]
    },
    {
     "data": {
      "text/markdown": "### r_norte"
     },
     "metadata": {},
     "output_type": "display_data"
    },
    {
     "data": {
      "text/plain": "depression    0.0   1.0\nr_norte                \n0           45808  5652\n1           12008  1196",
      "text/html": "<div>\n<style scoped>\n    .dataframe tbody tr th:only-of-type {\n        vertical-align: middle;\n    }\n\n    .dataframe tbody tr th {\n        vertical-align: top;\n    }\n\n    .dataframe thead th {\n        text-align: right;\n    }\n</style>\n<table border=\"1\" class=\"dataframe\">\n  <thead>\n    <tr style=\"text-align: right;\">\n      <th>depression</th>\n      <th>0.0</th>\n      <th>1.0</th>\n    </tr>\n    <tr>\n      <th>r_norte</th>\n      <th></th>\n      <th></th>\n    </tr>\n  </thead>\n  <tbody>\n    <tr>\n      <th>0</th>\n      <td>45808</td>\n      <td>5652</td>\n    </tr>\n    <tr>\n      <th>1</th>\n      <td>12008</td>\n      <td>1196</td>\n    </tr>\n  </tbody>\n</table>\n</div>"
     },
     "metadata": {},
     "output_type": "display_data"
    },
    {
     "name": "stdout",
     "output_type": "stream",
     "text": [
      "\n"
     ]
    },
    {
     "data": {
      "text/plain": "depression     0.0     1.0        n  p_value      chi\nr_norte                                              \n0           79.231  82.535  79.5806      0.0  41.1415\n1           20.769  17.465  20.4194      0.0  41.1415",
      "text/html": "<div>\n<style scoped>\n    .dataframe tbody tr th:only-of-type {\n        vertical-align: middle;\n    }\n\n    .dataframe tbody tr th {\n        vertical-align: top;\n    }\n\n    .dataframe thead th {\n        text-align: right;\n    }\n</style>\n<table border=\"1\" class=\"dataframe\">\n  <thead>\n    <tr style=\"text-align: right;\">\n      <th>depression</th>\n      <th>0.0</th>\n      <th>1.0</th>\n      <th>n</th>\n      <th>p_value</th>\n      <th>chi</th>\n    </tr>\n    <tr>\n      <th>r_norte</th>\n      <th></th>\n      <th></th>\n      <th></th>\n      <th></th>\n      <th></th>\n    </tr>\n  </thead>\n  <tbody>\n    <tr>\n      <th>0</th>\n      <td>79.231</td>\n      <td>82.535</td>\n      <td>79.5806</td>\n      <td>0.0</td>\n      <td>41.1415</td>\n    </tr>\n    <tr>\n      <th>1</th>\n      <td>20.769</td>\n      <td>17.465</td>\n      <td>20.4194</td>\n      <td>0.0</td>\n      <td>41.1415</td>\n    </tr>\n  </tbody>\n</table>\n</div>"
     },
     "metadata": {},
     "output_type": "display_data"
    },
    {
     "name": "stdout",
     "output_type": "stream",
     "text": [
      "-------------------------------------------------------------\n",
      "\n"
     ]
    },
    {
     "data": {
      "text/markdown": "### r_nordeste"
     },
     "metadata": {},
     "output_type": "display_data"
    },
    {
     "data": {
      "text/plain": "depression    0.0   1.0\nr_nordeste             \n0           37739  4355\n1           20077  2493",
      "text/html": "<div>\n<style scoped>\n    .dataframe tbody tr th:only-of-type {\n        vertical-align: middle;\n    }\n\n    .dataframe tbody tr th {\n        vertical-align: top;\n    }\n\n    .dataframe thead th {\n        text-align: right;\n    }\n</style>\n<table border=\"1\" class=\"dataframe\">\n  <thead>\n    <tr style=\"text-align: right;\">\n      <th>depression</th>\n      <th>0.0</th>\n      <th>1.0</th>\n    </tr>\n    <tr>\n      <th>r_nordeste</th>\n      <th></th>\n      <th></th>\n    </tr>\n  </thead>\n  <tbody>\n    <tr>\n      <th>0</th>\n      <td>37739</td>\n      <td>4355</td>\n    </tr>\n    <tr>\n      <th>1</th>\n      <td>20077</td>\n      <td>2493</td>\n    </tr>\n  </tbody>\n</table>\n</div>"
     },
     "metadata": {},
     "output_type": "display_data"
    },
    {
     "name": "stdout",
     "output_type": "stream",
     "text": [
      "\n"
     ]
    },
    {
     "data": {
      "text/plain": "depression     0.0     1.0        n  p_value     chi\nr_nordeste                                          \n0           65.274  63.595  65.0965   0.0058  7.5977\n1           34.726  36.405  34.9035   0.0058  7.5977",
      "text/html": "<div>\n<style scoped>\n    .dataframe tbody tr th:only-of-type {\n        vertical-align: middle;\n    }\n\n    .dataframe tbody tr th {\n        vertical-align: top;\n    }\n\n    .dataframe thead th {\n        text-align: right;\n    }\n</style>\n<table border=\"1\" class=\"dataframe\">\n  <thead>\n    <tr style=\"text-align: right;\">\n      <th>depression</th>\n      <th>0.0</th>\n      <th>1.0</th>\n      <th>n</th>\n      <th>p_value</th>\n      <th>chi</th>\n    </tr>\n    <tr>\n      <th>r_nordeste</th>\n      <th></th>\n      <th></th>\n      <th></th>\n      <th></th>\n      <th></th>\n    </tr>\n  </thead>\n  <tbody>\n    <tr>\n      <th>0</th>\n      <td>65.274</td>\n      <td>63.595</td>\n      <td>65.0965</td>\n      <td>0.0058</td>\n      <td>7.5977</td>\n    </tr>\n    <tr>\n      <th>1</th>\n      <td>34.726</td>\n      <td>36.405</td>\n      <td>34.9035</td>\n      <td>0.0058</td>\n      <td>7.5977</td>\n    </tr>\n  </tbody>\n</table>\n</div>"
     },
     "metadata": {},
     "output_type": "display_data"
    },
    {
     "name": "stdout",
     "output_type": "stream",
     "text": [
      "-------------------------------------------------------------\n",
      "\n"
     ]
    },
    {
     "data": {
      "text/markdown": "### r_sudeste"
     },
     "metadata": {},
     "output_type": "display_data"
    },
    {
     "data": {
      "text/plain": "depression    0.0   1.0\nr_sudeste              \n0           45973  5308\n1           11843  1540",
      "text/html": "<div>\n<style scoped>\n    .dataframe tbody tr th:only-of-type {\n        vertical-align: middle;\n    }\n\n    .dataframe tbody tr th {\n        vertical-align: top;\n    }\n\n    .dataframe thead th {\n        text-align: right;\n    }\n</style>\n<table border=\"1\" class=\"dataframe\">\n  <thead>\n    <tr style=\"text-align: right;\">\n      <th>depression</th>\n      <th>0.0</th>\n      <th>1.0</th>\n    </tr>\n    <tr>\n      <th>r_sudeste</th>\n      <th></th>\n      <th></th>\n    </tr>\n  </thead>\n  <tbody>\n    <tr>\n      <th>0</th>\n      <td>45973</td>\n      <td>5308</td>\n    </tr>\n    <tr>\n      <th>1</th>\n      <td>11843</td>\n      <td>1540</td>\n    </tr>\n  </tbody>\n</table>\n</div>"
     },
     "metadata": {},
     "output_type": "display_data"
    },
    {
     "name": "stdout",
     "output_type": "stream",
     "text": [
      "\n"
     ]
    },
    {
     "data": {
      "text/plain": "depression     0.0     1.0        n  p_value      chi\nr_sudeste                                            \n0           79.516  77.512  79.3038   0.0001  14.9872\n1           20.484  22.488  20.6962   0.0001  14.9872",
      "text/html": "<div>\n<style scoped>\n    .dataframe tbody tr th:only-of-type {\n        vertical-align: middle;\n    }\n\n    .dataframe tbody tr th {\n        vertical-align: top;\n    }\n\n    .dataframe thead th {\n        text-align: right;\n    }\n</style>\n<table border=\"1\" class=\"dataframe\">\n  <thead>\n    <tr style=\"text-align: right;\">\n      <th>depression</th>\n      <th>0.0</th>\n      <th>1.0</th>\n      <th>n</th>\n      <th>p_value</th>\n      <th>chi</th>\n    </tr>\n    <tr>\n      <th>r_sudeste</th>\n      <th></th>\n      <th></th>\n      <th></th>\n      <th></th>\n      <th></th>\n    </tr>\n  </thead>\n  <tbody>\n    <tr>\n      <th>0</th>\n      <td>79.516</td>\n      <td>77.512</td>\n      <td>79.3038</td>\n      <td>0.0001</td>\n      <td>14.9872</td>\n    </tr>\n    <tr>\n      <th>1</th>\n      <td>20.484</td>\n      <td>22.488</td>\n      <td>20.6962</td>\n      <td>0.0001</td>\n      <td>14.9872</td>\n    </tr>\n  </tbody>\n</table>\n</div>"
     },
     "metadata": {},
     "output_type": "display_data"
    },
    {
     "name": "stdout",
     "output_type": "stream",
     "text": [
      "-------------------------------------------------------------\n",
      "\n"
     ]
    },
    {
     "data": {
      "text/markdown": "### r_sul"
     },
     "metadata": {},
     "output_type": "display_data"
    },
    {
     "data": {
      "text/plain": "depression    0.0   1.0\nr_sul                  \n0           50750  6074\n1            7066   774",
      "text/html": "<div>\n<style scoped>\n    .dataframe tbody tr th:only-of-type {\n        vertical-align: middle;\n    }\n\n    .dataframe tbody tr th {\n        vertical-align: top;\n    }\n\n    .dataframe thead th {\n        text-align: right;\n    }\n</style>\n<table border=\"1\" class=\"dataframe\">\n  <thead>\n    <tr style=\"text-align: right;\">\n      <th>depression</th>\n      <th>0.0</th>\n      <th>1.0</th>\n    </tr>\n    <tr>\n      <th>r_sul</th>\n      <th></th>\n      <th></th>\n    </tr>\n  </thead>\n  <tbody>\n    <tr>\n      <th>0</th>\n      <td>50750</td>\n      <td>6074</td>\n    </tr>\n    <tr>\n      <th>1</th>\n      <td>7066</td>\n      <td>774</td>\n    </tr>\n  </tbody>\n</table>\n</div>"
     },
     "metadata": {},
     "output_type": "display_data"
    },
    {
     "name": "stdout",
     "output_type": "stream",
     "text": [
      "\n"
     ]
    },
    {
     "data": {
      "text/plain": "depression     0.0     1.0        n  p_value     chi\nr_sul                                               \n0           87.778  88.697  87.8758   0.0276  4.8531\n1           12.222  11.303  12.1242   0.0276  4.8531",
      "text/html": "<div>\n<style scoped>\n    .dataframe tbody tr th:only-of-type {\n        vertical-align: middle;\n    }\n\n    .dataframe tbody tr th {\n        vertical-align: top;\n    }\n\n    .dataframe thead th {\n        text-align: right;\n    }\n</style>\n<table border=\"1\" class=\"dataframe\">\n  <thead>\n    <tr style=\"text-align: right;\">\n      <th>depression</th>\n      <th>0.0</th>\n      <th>1.0</th>\n      <th>n</th>\n      <th>p_value</th>\n      <th>chi</th>\n    </tr>\n    <tr>\n      <th>r_sul</th>\n      <th></th>\n      <th></th>\n      <th></th>\n      <th></th>\n      <th></th>\n    </tr>\n  </thead>\n  <tbody>\n    <tr>\n      <th>0</th>\n      <td>87.778</td>\n      <td>88.697</td>\n      <td>87.8758</td>\n      <td>0.0276</td>\n      <td>4.8531</td>\n    </tr>\n    <tr>\n      <th>1</th>\n      <td>12.222</td>\n      <td>11.303</td>\n      <td>12.1242</td>\n      <td>0.0276</td>\n      <td>4.8531</td>\n    </tr>\n  </tbody>\n</table>\n</div>"
     },
     "metadata": {},
     "output_type": "display_data"
    },
    {
     "name": "stdout",
     "output_type": "stream",
     "text": [
      "-------------------------------------------------------------\n",
      "\n"
     ]
    },
    {
     "data": {
      "text/markdown": "### r_centro_oeste"
     },
     "metadata": {},
     "output_type": "display_data"
    },
    {
     "data": {
      "text/plain": "depression        0.0   1.0\nr_centro_oeste             \n0               50994  6003\n1                6822   845",
      "text/html": "<div>\n<style scoped>\n    .dataframe tbody tr th:only-of-type {\n        vertical-align: middle;\n    }\n\n    .dataframe tbody tr th {\n        vertical-align: top;\n    }\n\n    .dataframe thead th {\n        text-align: right;\n    }\n</style>\n<table border=\"1\" class=\"dataframe\">\n  <thead>\n    <tr style=\"text-align: right;\">\n      <th>depression</th>\n      <th>0.0</th>\n      <th>1.0</th>\n    </tr>\n    <tr>\n      <th>r_centro_oeste</th>\n      <th></th>\n      <th></th>\n    </tr>\n  </thead>\n  <tbody>\n    <tr>\n      <th>0</th>\n      <td>50994</td>\n      <td>6003</td>\n    </tr>\n    <tr>\n      <th>1</th>\n      <td>6822</td>\n      <td>845</td>\n    </tr>\n  </tbody>\n</table>\n</div>"
     },
     "metadata": {},
     "output_type": "display_data"
    },
    {
     "name": "stdout",
     "output_type": "stream",
     "text": [
      "\n"
     ]
    },
    {
     "data": {
      "text/plain": "depression       0.0     1.0        n  p_value     chi\nr_centro_oeste                                        \n0               88.2  87.661  88.1433   0.1913  1.7075\n1               11.8  12.339  11.8567   0.1913  1.7075",
      "text/html": "<div>\n<style scoped>\n    .dataframe tbody tr th:only-of-type {\n        vertical-align: middle;\n    }\n\n    .dataframe tbody tr th {\n        vertical-align: top;\n    }\n\n    .dataframe thead th {\n        text-align: right;\n    }\n</style>\n<table border=\"1\" class=\"dataframe\">\n  <thead>\n    <tr style=\"text-align: right;\">\n      <th>depression</th>\n      <th>0.0</th>\n      <th>1.0</th>\n      <th>n</th>\n      <th>p_value</th>\n      <th>chi</th>\n    </tr>\n    <tr>\n      <th>r_centro_oeste</th>\n      <th></th>\n      <th></th>\n      <th></th>\n      <th></th>\n      <th></th>\n    </tr>\n  </thead>\n  <tbody>\n    <tr>\n      <th>0</th>\n      <td>88.2</td>\n      <td>87.661</td>\n      <td>88.1433</td>\n      <td>0.1913</td>\n      <td>1.7075</td>\n    </tr>\n    <tr>\n      <th>1</th>\n      <td>11.8</td>\n      <td>12.339</td>\n      <td>11.8567</td>\n      <td>0.1913</td>\n      <td>1.7075</td>\n    </tr>\n  </tbody>\n</table>\n</div>"
     },
     "metadata": {},
     "output_type": "display_data"
    },
    {
     "name": "stdout",
     "output_type": "stream",
     "text": [
      "-------------------------------------------------------------\n",
      "\n"
     ]
    },
    {
     "data": {
      "text/markdown": "### escolaridade"
     },
     "metadata": {},
     "output_type": "display_data"
    },
    {
     "data": {
      "text/plain": "depression      0.0   1.0\nescolaridade             \n1.0           18260  2392\n2.0           20809  2278\n3.0            8755  1002\n4.0            2815   309",
      "text/html": "<div>\n<style scoped>\n    .dataframe tbody tr th:only-of-type {\n        vertical-align: middle;\n    }\n\n    .dataframe tbody tr th {\n        vertical-align: top;\n    }\n\n    .dataframe thead th {\n        text-align: right;\n    }\n</style>\n<table border=\"1\" class=\"dataframe\">\n  <thead>\n    <tr style=\"text-align: right;\">\n      <th>depression</th>\n      <th>0.0</th>\n      <th>1.0</th>\n    </tr>\n    <tr>\n      <th>escolaridade</th>\n      <th></th>\n      <th></th>\n    </tr>\n  </thead>\n  <tbody>\n    <tr>\n      <th>1.0</th>\n      <td>18260</td>\n      <td>2392</td>\n    </tr>\n    <tr>\n      <th>2.0</th>\n      <td>20809</td>\n      <td>2278</td>\n    </tr>\n    <tr>\n      <th>3.0</th>\n      <td>8755</td>\n      <td>1002</td>\n    </tr>\n    <tr>\n      <th>4.0</th>\n      <td>2815</td>\n      <td>309</td>\n    </tr>\n  </tbody>\n</table>\n</div>"
     },
     "metadata": {},
     "output_type": "display_data"
    },
    {
     "name": "stdout",
     "output_type": "stream",
     "text": [
      "\n"
     ]
    },
    {
     "data": {
      "text/plain": "depression       0.0     1.0        n  p_value      chi\nescolaridade                                           \n1.0           36.059  39.993  36.4747      0.0  36.9353\n2.0           41.093  38.087  40.7753      0.0  36.9353\n3.0           17.289  16.753  17.2324      0.0  36.9353\n4.0            5.559   5.166   5.5175      0.0  36.9353",
      "text/html": "<div>\n<style scoped>\n    .dataframe tbody tr th:only-of-type {\n        vertical-align: middle;\n    }\n\n    .dataframe tbody tr th {\n        vertical-align: top;\n    }\n\n    .dataframe thead th {\n        text-align: right;\n    }\n</style>\n<table border=\"1\" class=\"dataframe\">\n  <thead>\n    <tr style=\"text-align: right;\">\n      <th>depression</th>\n      <th>0.0</th>\n      <th>1.0</th>\n      <th>n</th>\n      <th>p_value</th>\n      <th>chi</th>\n    </tr>\n    <tr>\n      <th>escolaridade</th>\n      <th></th>\n      <th></th>\n      <th></th>\n      <th></th>\n      <th></th>\n    </tr>\n  </thead>\n  <tbody>\n    <tr>\n      <th>1.0</th>\n      <td>36.059</td>\n      <td>39.993</td>\n      <td>36.4747</td>\n      <td>0.0</td>\n      <td>36.9353</td>\n    </tr>\n    <tr>\n      <th>2.0</th>\n      <td>41.093</td>\n      <td>38.087</td>\n      <td>40.7753</td>\n      <td>0.0</td>\n      <td>36.9353</td>\n    </tr>\n    <tr>\n      <th>3.0</th>\n      <td>17.289</td>\n      <td>16.753</td>\n      <td>17.2324</td>\n      <td>0.0</td>\n      <td>36.9353</td>\n    </tr>\n    <tr>\n      <th>4.0</th>\n      <td>5.559</td>\n      <td>5.166</td>\n      <td>5.5175</td>\n      <td>0.0</td>\n      <td>36.9353</td>\n    </tr>\n  </tbody>\n</table>\n</div>"
     },
     "metadata": {},
     "output_type": "display_data"
    },
    {
     "name": "stdout",
     "output_type": "stream",
     "text": [
      "-------------------------------------------------------------\n",
      "\n"
     ]
    },
    {
     "data": {
      "text/markdown": "### upf"
     },
     "metadata": {},
     "output_type": "display_data"
    },
    {
     "data": {
      "text/plain": "depression    0.0   1.0\nupf                    \n0            9318  1038\n1           11888  1377\n2           11988  1382\n3            9873  1183\n4            6876   824\n5            3936   499\n6            2019   262\n7            1034   148\n8             463    77\n9             251    40\n10            170    18",
      "text/html": "<div>\n<style scoped>\n    .dataframe tbody tr th:only-of-type {\n        vertical-align: middle;\n    }\n\n    .dataframe tbody tr th {\n        vertical-align: top;\n    }\n\n    .dataframe thead th {\n        text-align: right;\n    }\n</style>\n<table border=\"1\" class=\"dataframe\">\n  <thead>\n    <tr style=\"text-align: right;\">\n      <th>depression</th>\n      <th>0.0</th>\n      <th>1.0</th>\n    </tr>\n    <tr>\n      <th>upf</th>\n      <th></th>\n      <th></th>\n    </tr>\n  </thead>\n  <tbody>\n    <tr>\n      <th>0</th>\n      <td>9318</td>\n      <td>1038</td>\n    </tr>\n    <tr>\n      <th>1</th>\n      <td>11888</td>\n      <td>1377</td>\n    </tr>\n    <tr>\n      <th>2</th>\n      <td>11988</td>\n      <td>1382</td>\n    </tr>\n    <tr>\n      <th>3</th>\n      <td>9873</td>\n      <td>1183</td>\n    </tr>\n    <tr>\n      <th>4</th>\n      <td>6876</td>\n      <td>824</td>\n    </tr>\n    <tr>\n      <th>5</th>\n      <td>3936</td>\n      <td>499</td>\n    </tr>\n    <tr>\n      <th>6</th>\n      <td>2019</td>\n      <td>262</td>\n    </tr>\n    <tr>\n      <th>7</th>\n      <td>1034</td>\n      <td>148</td>\n    </tr>\n    <tr>\n      <th>8</th>\n      <td>463</td>\n      <td>77</td>\n    </tr>\n    <tr>\n      <th>9</th>\n      <td>251</td>\n      <td>40</td>\n    </tr>\n    <tr>\n      <th>10</th>\n      <td>170</td>\n      <td>18</td>\n    </tr>\n  </tbody>\n</table>\n</div>"
     },
     "metadata": {},
     "output_type": "display_data"
    },
    {
     "name": "stdout",
     "output_type": "stream",
     "text": [
      "\n"
     ]
    },
    {
     "data": {
      "text/plain": "depression     0.0     1.0        n  p_value      chi\nupf                                                  \n0           16.117  15.158  16.0151   0.0056  24.8597\n1           20.562  20.108  20.5137   0.0056  24.8597\n2           20.735  20.181  20.6761   0.0056  24.8597\n3           17.077  17.275  17.0976   0.0056  24.8597\n4           11.893  12.033  11.9077   0.0056  24.8597\n5            6.808   7.287   6.8585   0.0056  24.8597\n6            3.492   3.826   3.5275   0.0056  24.8597\n7            1.788   2.161   1.8279   0.0056  24.8597\n8            0.801   1.124   0.8351   0.0056  24.8597\n9            0.434   0.584   0.4500   0.0056  24.8597\n10           0.294   0.263   0.2907   0.0056  24.8597",
      "text/html": "<div>\n<style scoped>\n    .dataframe tbody tr th:only-of-type {\n        vertical-align: middle;\n    }\n\n    .dataframe tbody tr th {\n        vertical-align: top;\n    }\n\n    .dataframe thead th {\n        text-align: right;\n    }\n</style>\n<table border=\"1\" class=\"dataframe\">\n  <thead>\n    <tr style=\"text-align: right;\">\n      <th>depression</th>\n      <th>0.0</th>\n      <th>1.0</th>\n      <th>n</th>\n      <th>p_value</th>\n      <th>chi</th>\n    </tr>\n    <tr>\n      <th>upf</th>\n      <th></th>\n      <th></th>\n      <th></th>\n      <th></th>\n      <th></th>\n    </tr>\n  </thead>\n  <tbody>\n    <tr>\n      <th>0</th>\n      <td>16.117</td>\n      <td>15.158</td>\n      <td>16.0151</td>\n      <td>0.0056</td>\n      <td>24.8597</td>\n    </tr>\n    <tr>\n      <th>1</th>\n      <td>20.562</td>\n      <td>20.108</td>\n      <td>20.5137</td>\n      <td>0.0056</td>\n      <td>24.8597</td>\n    </tr>\n    <tr>\n      <th>2</th>\n      <td>20.735</td>\n      <td>20.181</td>\n      <td>20.6761</td>\n      <td>0.0056</td>\n      <td>24.8597</td>\n    </tr>\n    <tr>\n      <th>3</th>\n      <td>17.077</td>\n      <td>17.275</td>\n      <td>17.0976</td>\n      <td>0.0056</td>\n      <td>24.8597</td>\n    </tr>\n    <tr>\n      <th>4</th>\n      <td>11.893</td>\n      <td>12.033</td>\n      <td>11.9077</td>\n      <td>0.0056</td>\n      <td>24.8597</td>\n    </tr>\n    <tr>\n      <th>5</th>\n      <td>6.808</td>\n      <td>7.287</td>\n      <td>6.8585</td>\n      <td>0.0056</td>\n      <td>24.8597</td>\n    </tr>\n    <tr>\n      <th>6</th>\n      <td>3.492</td>\n      <td>3.826</td>\n      <td>3.5275</td>\n      <td>0.0056</td>\n      <td>24.8597</td>\n    </tr>\n    <tr>\n      <th>7</th>\n      <td>1.788</td>\n      <td>2.161</td>\n      <td>1.8279</td>\n      <td>0.0056</td>\n      <td>24.8597</td>\n    </tr>\n    <tr>\n      <th>8</th>\n      <td>0.801</td>\n      <td>1.124</td>\n      <td>0.8351</td>\n      <td>0.0056</td>\n      <td>24.8597</td>\n    </tr>\n    <tr>\n      <th>9</th>\n      <td>0.434</td>\n      <td>0.584</td>\n      <td>0.4500</td>\n      <td>0.0056</td>\n      <td>24.8597</td>\n    </tr>\n    <tr>\n      <th>10</th>\n      <td>0.294</td>\n      <td>0.263</td>\n      <td>0.2907</td>\n      <td>0.0056</td>\n      <td>24.8597</td>\n    </tr>\n  </tbody>\n</table>\n</div>"
     },
     "metadata": {},
     "output_type": "display_data"
    },
    {
     "name": "stdout",
     "output_type": "stream",
     "text": [
      "-------------------------------------------------------------\n",
      "\n"
     ]
    },
    {
     "data": {
      "text/markdown": "### class_idade"
     },
     "metadata": {},
     "output_type": "display_data"
    },
    {
     "data": {
      "text/plain": "depression     0.0   1.0\nclass_idade             \n1            13464  1435\n2            16063  1692\n3            14600  1853\n4            13689  1868",
      "text/html": "<div>\n<style scoped>\n    .dataframe tbody tr th:only-of-type {\n        vertical-align: middle;\n    }\n\n    .dataframe tbody tr th {\n        vertical-align: top;\n    }\n\n    .dataframe thead th {\n        text-align: right;\n    }\n</style>\n<table border=\"1\" class=\"dataframe\">\n  <thead>\n    <tr style=\"text-align: right;\">\n      <th>depression</th>\n      <th>0.0</th>\n      <th>1.0</th>\n    </tr>\n    <tr>\n      <th>class_idade</th>\n      <th></th>\n      <th></th>\n    </tr>\n  </thead>\n  <tbody>\n    <tr>\n      <th>1</th>\n      <td>13464</td>\n      <td>1435</td>\n    </tr>\n    <tr>\n      <th>2</th>\n      <td>16063</td>\n      <td>1692</td>\n    </tr>\n    <tr>\n      <th>3</th>\n      <td>14600</td>\n      <td>1853</td>\n    </tr>\n    <tr>\n      <th>4</th>\n      <td>13689</td>\n      <td>1868</td>\n    </tr>\n  </tbody>\n</table>\n</div>"
     },
     "metadata": {},
     "output_type": "display_data"
    },
    {
     "name": "stdout",
     "output_type": "stream",
     "text": [
      "\n"
     ]
    },
    {
     "data": {
      "text/plain": "depression      0.0     1.0        n  p_value      chi\nclass_idade                                           \n1            23.288  20.955  23.0406      0.0  76.4031\n2            27.783  24.708  27.4573      0.0  76.4031\n3            25.253  27.059  25.4438      0.0  76.4031\n4            23.677  27.278  24.0582      0.0  76.4031",
      "text/html": "<div>\n<style scoped>\n    .dataframe tbody tr th:only-of-type {\n        vertical-align: middle;\n    }\n\n    .dataframe tbody tr th {\n        vertical-align: top;\n    }\n\n    .dataframe thead th {\n        text-align: right;\n    }\n</style>\n<table border=\"1\" class=\"dataframe\">\n  <thead>\n    <tr style=\"text-align: right;\">\n      <th>depression</th>\n      <th>0.0</th>\n      <th>1.0</th>\n      <th>n</th>\n      <th>p_value</th>\n      <th>chi</th>\n    </tr>\n    <tr>\n      <th>class_idade</th>\n      <th></th>\n      <th></th>\n      <th></th>\n      <th></th>\n      <th></th>\n    </tr>\n  </thead>\n  <tbody>\n    <tr>\n      <th>1</th>\n      <td>23.288</td>\n      <td>20.955</td>\n      <td>23.0406</td>\n      <td>0.0</td>\n      <td>76.4031</td>\n    </tr>\n    <tr>\n      <th>2</th>\n      <td>27.783</td>\n      <td>24.708</td>\n      <td>27.4573</td>\n      <td>0.0</td>\n      <td>76.4031</td>\n    </tr>\n    <tr>\n      <th>3</th>\n      <td>25.253</td>\n      <td>27.059</td>\n      <td>25.4438</td>\n      <td>0.0</td>\n      <td>76.4031</td>\n    </tr>\n    <tr>\n      <th>4</th>\n      <td>23.677</td>\n      <td>27.278</td>\n      <td>24.0582</td>\n      <td>0.0</td>\n      <td>76.4031</td>\n    </tr>\n  </tbody>\n</table>\n</div>"
     },
     "metadata": {},
     "output_type": "display_data"
    },
    {
     "name": "stdout",
     "output_type": "stream",
     "text": [
      "-------------------------------------------------------------\n",
      "\n"
     ]
    },
    {
     "data": {
      "text/markdown": "### perc_saude"
     },
     "metadata": {},
     "output_type": "display_data"
    },
    {
     "data": {
      "text/plain": "depression    0.0   1.0\nperc_saude             \n1.0         10622   361\n2.0         36313  2473\n3.0          9819  2756\n4.0           923   992\n5.0           139   266",
      "text/html": "<div>\n<style scoped>\n    .dataframe tbody tr th:only-of-type {\n        vertical-align: middle;\n    }\n\n    .dataframe tbody tr th {\n        vertical-align: top;\n    }\n\n    .dataframe thead th {\n        text-align: right;\n    }\n</style>\n<table border=\"1\" class=\"dataframe\">\n  <thead>\n    <tr style=\"text-align: right;\">\n      <th>depression</th>\n      <th>0.0</th>\n      <th>1.0</th>\n    </tr>\n    <tr>\n      <th>perc_saude</th>\n      <th></th>\n      <th></th>\n    </tr>\n  </thead>\n  <tbody>\n    <tr>\n      <th>1.0</th>\n      <td>10622</td>\n      <td>361</td>\n    </tr>\n    <tr>\n      <th>2.0</th>\n      <td>36313</td>\n      <td>2473</td>\n    </tr>\n    <tr>\n      <th>3.0</th>\n      <td>9819</td>\n      <td>2756</td>\n    </tr>\n    <tr>\n      <th>4.0</th>\n      <td>923</td>\n      <td>992</td>\n    </tr>\n    <tr>\n      <th>5.0</th>\n      <td>139</td>\n      <td>266</td>\n    </tr>\n  </tbody>\n</table>\n</div>"
     },
     "metadata": {},
     "output_type": "display_data"
    },
    {
     "name": "stdout",
     "output_type": "stream",
     "text": [
      "\n"
     ]
    },
    {
     "data": {
      "text/plain": "depression     0.0     1.0        n  p_value        chi\nperc_saude                                             \n1.0         18.372   5.272  16.9847      0.0  7782.8562\n2.0         62.808  36.113  59.9808      0.0  7782.8562\n3.0         16.983  40.245  19.4467      0.0  7782.8562\n4.0          1.596  14.486   2.9615      0.0  7782.8562\n5.0          0.240   3.884   0.6263      0.0  7782.8562",
      "text/html": "<div>\n<style scoped>\n    .dataframe tbody tr th:only-of-type {\n        vertical-align: middle;\n    }\n\n    .dataframe tbody tr th {\n        vertical-align: top;\n    }\n\n    .dataframe thead th {\n        text-align: right;\n    }\n</style>\n<table border=\"1\" class=\"dataframe\">\n  <thead>\n    <tr style=\"text-align: right;\">\n      <th>depression</th>\n      <th>0.0</th>\n      <th>1.0</th>\n      <th>n</th>\n      <th>p_value</th>\n      <th>chi</th>\n    </tr>\n    <tr>\n      <th>perc_saude</th>\n      <th></th>\n      <th></th>\n      <th></th>\n      <th></th>\n      <th></th>\n    </tr>\n  </thead>\n  <tbody>\n    <tr>\n      <th>1.0</th>\n      <td>18.372</td>\n      <td>5.272</td>\n      <td>16.9847</td>\n      <td>0.0</td>\n      <td>7782.8562</td>\n    </tr>\n    <tr>\n      <th>2.0</th>\n      <td>62.808</td>\n      <td>36.113</td>\n      <td>59.9808</td>\n      <td>0.0</td>\n      <td>7782.8562</td>\n    </tr>\n    <tr>\n      <th>3.0</th>\n      <td>16.983</td>\n      <td>40.245</td>\n      <td>19.4467</td>\n      <td>0.0</td>\n      <td>7782.8562</td>\n    </tr>\n    <tr>\n      <th>4.0</th>\n      <td>1.596</td>\n      <td>14.486</td>\n      <td>2.9615</td>\n      <td>0.0</td>\n      <td>7782.8562</td>\n    </tr>\n    <tr>\n      <th>5.0</th>\n      <td>0.240</td>\n      <td>3.884</td>\n      <td>0.6263</td>\n      <td>0.0</td>\n      <td>7782.8562</td>\n    </tr>\n  </tbody>\n</table>\n</div>"
     },
     "metadata": {},
     "output_type": "display_data"
    },
    {
     "name": "stdout",
     "output_type": "stream",
     "text": [
      "-------------------------------------------------------------\n",
      "\n"
     ]
    }
   ],
   "source": [
    "def gen_chi2_statistics(df_i, columns_dict, key_dep_d='depression'):\n",
    "    selected_g = copy.deepcopy(df_i)\n",
    "    data = []\n",
    "\n",
    "    for c in columns_dict:\n",
    "\n",
    "        # display(Markdown(\"### {}\".format(c['name'])))\n",
    "\n",
    "        display_markdown('''### {}'''.format(c['name']), raw=True)\n",
    "\n",
    "        selected = copy.deepcopy(selected_g)\n",
    "\n",
    "        key_dep = key_dep_d\n",
    "        if 'dep' in c:\n",
    "            key_dep = c['dep']\n",
    "\n",
    "        selected = selected.dropna(subset=[c['key'], key_dep])\n",
    "        contingency_table = pd.crosstab(selected[c['key']], selected[key_dep])\n",
    "        chi2, p_value, dof, _ = chi2_contingency(contingency_table, correction=False)\n",
    "        c1 = selected[c['key']]\n",
    "        c2 = selected[key_dep]\n",
    "        selected_min = pd.DataFrame({c['key']: c1, key_dep: c2})\n",
    "        # Para printar\n",
    "        contingency_table = pd.crosstab(selected_min[c['key']], selected_min[key_dep], normalize=False)\n",
    "        #contingency_table_n = pd.crosstab(selected[c['key']], selected[key_dep], normalize='index')\n",
    "        contingency_table_c = round(pd.crosstab(selected_min[c['key']], selected_min[key_dep], normalize='columns') * 100, 3)\n",
    "        contingency_table_c['n'] = round(selected_min.groupby(c['key'])[key_dep].count() / len(selected_min) * 100, 4)\n",
    "        contingency_table_c['p_value'] = round(p_value, 4)\n",
    "        contingency_table_c['chi'] = round(chi2, 4)\n",
    "        display(contingency_table)\n",
    "        #print(\"Normalizado pelas linhas: \")\n",
    "        #display(contingency_table_n * 100)\n",
    "\n",
    "        print()\n",
    "        #print(\"Normalizado pelas colunas: \")\n",
    "        display(contingency_table_c)\n",
    "\n",
    "        #print(\"chi2: {}, p_value: {}, dof: {}\".format(chi2, p_value, dof))\n",
    "\n",
    "\n",
    "        print(\"-------------------------------------------------------------\")\n",
    "        print()\n",
    "\n",
    "        data.append([c['key'], key_dep, c['name'], chi2, p_value, dof])\n",
    "\n",
    "    return pd.DataFrame(data, columns=['variavel1', 'variavel2', 'titulo', 'chi2', 'p_value', 'dof'])\n",
    "\n",
    "\n",
    "selected_columns = [ {'key': c, 'name': c} for c in df_total.columns]\n",
    "df_chi = gen_chi2_statistics(df_total, selected_columns)\n",
    "df_chi.to_excel(PATH_GEN_DATA / 'chi2_variables.xlsx')"
   ]
  },
  {
   "cell_type": "code",
   "execution_count": 7,
   "metadata": {
    "collapsed": false,
    "ExecuteTime": {
     "end_time": "2023-06-26T10:55:15.234546513Z",
     "start_time": "2023-06-26T10:55:15.187680275Z"
    }
   },
   "outputs": [
    {
     "data": {
      "text/plain": "              variavel1   variavel2               titulo          chi2   \n0          exerc_fisico  depression         exerc_fisico    210.905330  \\\n1             tabagismo  depression            tabagismo    132.591516   \n2           cons_alcool  depression          cons_alcool     71.711059   \n3                cancer  depression               cancer    137.937857   \n4           hipertensao  depression          hipertensao    639.024747   \n5              diabetes  depression             diabetes    276.661533   \n6        cardiovascular  depression       cardiovascular    621.453083   \n7   hipercolesterolemia  depression  hipercolesterolemia    535.932766   \n8                   avc  depression                  avc    332.787048   \n9               artrite  depression              artrite   1017.190964   \n10            obesidade  depression            obesidade    158.977620   \n11           depression  depression           depression  64664.000000   \n12                 sexo  depression                 sexo   1510.686545   \n13         estado_civil  depression         estado_civil    275.031314   \n14          class_renda  depression          class_renda    141.315348   \n15              r_norte  depression              r_norte     41.141495   \n16           r_nordeste  depression           r_nordeste      7.597662   \n17            r_sudeste  depression            r_sudeste     14.987169   \n18                r_sul  depression                r_sul      4.853108   \n19       r_centro_oeste  depression       r_centro_oeste      1.707540   \n20         escolaridade  depression         escolaridade     36.935288   \n21                  upf  depression                  upf     24.859685   \n22          class_idade  depression          class_idade     76.403109   \n23           perc_saude  depression           perc_saude   7782.856166   \n\n          p_value  dof  \n0    8.716665e-48    1  \n1    1.110669e-30    1  \n2    2.491323e-17    1  \n3    7.519344e-32    1  \n4   5.445572e-141    1  \n5    4.009787e-62    1  \n6   3.611749e-137    1  \n7   1.446295e-118    1  \n8    2.375594e-74    1  \n9   3.293074e-223    1  \n10   1.892476e-36    1  \n11   0.000000e+00    1  \n12   0.000000e+00    1  \n13   9.086425e-62    1  \n14   1.372735e-32    1  \n15   1.415981e-10    1  \n16   5.844403e-03    1  \n17   1.082447e-04    1  \n18   2.759636e-02    1  \n19   1.913048e-01    1  \n20   4.748747e-08    3  \n21   5.617910e-03   10  \n22   1.812792e-16    3  \n23   0.000000e+00    4  ",
      "text/html": "<div>\n<style scoped>\n    .dataframe tbody tr th:only-of-type {\n        vertical-align: middle;\n    }\n\n    .dataframe tbody tr th {\n        vertical-align: top;\n    }\n\n    .dataframe thead th {\n        text-align: right;\n    }\n</style>\n<table border=\"1\" class=\"dataframe\">\n  <thead>\n    <tr style=\"text-align: right;\">\n      <th></th>\n      <th>variavel1</th>\n      <th>variavel2</th>\n      <th>titulo</th>\n      <th>chi2</th>\n      <th>p_value</th>\n      <th>dof</th>\n    </tr>\n  </thead>\n  <tbody>\n    <tr>\n      <th>0</th>\n      <td>exerc_fisico</td>\n      <td>depression</td>\n      <td>exerc_fisico</td>\n      <td>210.905330</td>\n      <td>8.716665e-48</td>\n      <td>1</td>\n    </tr>\n    <tr>\n      <th>1</th>\n      <td>tabagismo</td>\n      <td>depression</td>\n      <td>tabagismo</td>\n      <td>132.591516</td>\n      <td>1.110669e-30</td>\n      <td>1</td>\n    </tr>\n    <tr>\n      <th>2</th>\n      <td>cons_alcool</td>\n      <td>depression</td>\n      <td>cons_alcool</td>\n      <td>71.711059</td>\n      <td>2.491323e-17</td>\n      <td>1</td>\n    </tr>\n    <tr>\n      <th>3</th>\n      <td>cancer</td>\n      <td>depression</td>\n      <td>cancer</td>\n      <td>137.937857</td>\n      <td>7.519344e-32</td>\n      <td>1</td>\n    </tr>\n    <tr>\n      <th>4</th>\n      <td>hipertensao</td>\n      <td>depression</td>\n      <td>hipertensao</td>\n      <td>639.024747</td>\n      <td>5.445572e-141</td>\n      <td>1</td>\n    </tr>\n    <tr>\n      <th>5</th>\n      <td>diabetes</td>\n      <td>depression</td>\n      <td>diabetes</td>\n      <td>276.661533</td>\n      <td>4.009787e-62</td>\n      <td>1</td>\n    </tr>\n    <tr>\n      <th>6</th>\n      <td>cardiovascular</td>\n      <td>depression</td>\n      <td>cardiovascular</td>\n      <td>621.453083</td>\n      <td>3.611749e-137</td>\n      <td>1</td>\n    </tr>\n    <tr>\n      <th>7</th>\n      <td>hipercolesterolemia</td>\n      <td>depression</td>\n      <td>hipercolesterolemia</td>\n      <td>535.932766</td>\n      <td>1.446295e-118</td>\n      <td>1</td>\n    </tr>\n    <tr>\n      <th>8</th>\n      <td>avc</td>\n      <td>depression</td>\n      <td>avc</td>\n      <td>332.787048</td>\n      <td>2.375594e-74</td>\n      <td>1</td>\n    </tr>\n    <tr>\n      <th>9</th>\n      <td>artrite</td>\n      <td>depression</td>\n      <td>artrite</td>\n      <td>1017.190964</td>\n      <td>3.293074e-223</td>\n      <td>1</td>\n    </tr>\n    <tr>\n      <th>10</th>\n      <td>obesidade</td>\n      <td>depression</td>\n      <td>obesidade</td>\n      <td>158.977620</td>\n      <td>1.892476e-36</td>\n      <td>1</td>\n    </tr>\n    <tr>\n      <th>11</th>\n      <td>depression</td>\n      <td>depression</td>\n      <td>depression</td>\n      <td>64664.000000</td>\n      <td>0.000000e+00</td>\n      <td>1</td>\n    </tr>\n    <tr>\n      <th>12</th>\n      <td>sexo</td>\n      <td>depression</td>\n      <td>sexo</td>\n      <td>1510.686545</td>\n      <td>0.000000e+00</td>\n      <td>1</td>\n    </tr>\n    <tr>\n      <th>13</th>\n      <td>estado_civil</td>\n      <td>depression</td>\n      <td>estado_civil</td>\n      <td>275.031314</td>\n      <td>9.086425e-62</td>\n      <td>1</td>\n    </tr>\n    <tr>\n      <th>14</th>\n      <td>class_renda</td>\n      <td>depression</td>\n      <td>class_renda</td>\n      <td>141.315348</td>\n      <td>1.372735e-32</td>\n      <td>1</td>\n    </tr>\n    <tr>\n      <th>15</th>\n      <td>r_norte</td>\n      <td>depression</td>\n      <td>r_norte</td>\n      <td>41.141495</td>\n      <td>1.415981e-10</td>\n      <td>1</td>\n    </tr>\n    <tr>\n      <th>16</th>\n      <td>r_nordeste</td>\n      <td>depression</td>\n      <td>r_nordeste</td>\n      <td>7.597662</td>\n      <td>5.844403e-03</td>\n      <td>1</td>\n    </tr>\n    <tr>\n      <th>17</th>\n      <td>r_sudeste</td>\n      <td>depression</td>\n      <td>r_sudeste</td>\n      <td>14.987169</td>\n      <td>1.082447e-04</td>\n      <td>1</td>\n    </tr>\n    <tr>\n      <th>18</th>\n      <td>r_sul</td>\n      <td>depression</td>\n      <td>r_sul</td>\n      <td>4.853108</td>\n      <td>2.759636e-02</td>\n      <td>1</td>\n    </tr>\n    <tr>\n      <th>19</th>\n      <td>r_centro_oeste</td>\n      <td>depression</td>\n      <td>r_centro_oeste</td>\n      <td>1.707540</td>\n      <td>1.913048e-01</td>\n      <td>1</td>\n    </tr>\n    <tr>\n      <th>20</th>\n      <td>escolaridade</td>\n      <td>depression</td>\n      <td>escolaridade</td>\n      <td>36.935288</td>\n      <td>4.748747e-08</td>\n      <td>3</td>\n    </tr>\n    <tr>\n      <th>21</th>\n      <td>upf</td>\n      <td>depression</td>\n      <td>upf</td>\n      <td>24.859685</td>\n      <td>5.617910e-03</td>\n      <td>10</td>\n    </tr>\n    <tr>\n      <th>22</th>\n      <td>class_idade</td>\n      <td>depression</td>\n      <td>class_idade</td>\n      <td>76.403109</td>\n      <td>1.812792e-16</td>\n      <td>3</td>\n    </tr>\n    <tr>\n      <th>23</th>\n      <td>perc_saude</td>\n      <td>depression</td>\n      <td>perc_saude</td>\n      <td>7782.856166</td>\n      <td>0.000000e+00</td>\n      <td>4</td>\n    </tr>\n  </tbody>\n</table>\n</div>"
     },
     "execution_count": 7,
     "metadata": {},
     "output_type": "execute_result"
    }
   ],
   "source": [
    "df_chi"
   ]
  },
  {
   "cell_type": "code",
   "execution_count": 21,
   "outputs": [
    {
     "data": {
      "text/plain": "                                chi2  p_value\ntitulo                                       \nExercício Físico              210.91  0.00000\nTabagismo                     132.59  0.00000\nConsumo Álcool                 71.71  0.00000\nCâncer                        137.94  0.00000\nHipertensão                   639.02  0.00000\nDiabetes                      276.66  0.00000\nCardiovascular                621.45  0.00000\nHipercolesterolemia           535.93  0.00000\nAVC                           332.79  0.00000\nArtrite                      1017.19  0.00000\nObesidade                     158.98  0.00000\nDepressão                   64664.00  0.00000\nSexo                         1510.69  0.00000\nEstado Civil                  275.03  0.00000\nClassificação Renda           141.32  0.00000\nRegião Norte                   41.14  0.00000\nRegião Nordeste                 7.60  0.00584\nRegião Sudeste                 14.99  0.00011\nRegião Sul                      4.85  0.02760\nRegião Centro Oeste             1.71  0.19130\nClassificação Escolaridade     36.94  0.00000\nUltraprocessados               24.86  0.00562\nClassificação Idade            76.40  0.00000\nPercepção de Saúde           7782.86  0.00000",
      "text/html": "<div>\n<style scoped>\n    .dataframe tbody tr th:only-of-type {\n        vertical-align: middle;\n    }\n\n    .dataframe tbody tr th {\n        vertical-align: top;\n    }\n\n    .dataframe thead th {\n        text-align: right;\n    }\n</style>\n<table border=\"1\" class=\"dataframe\">\n  <thead>\n    <tr style=\"text-align: right;\">\n      <th></th>\n      <th>chi2</th>\n      <th>p_value</th>\n    </tr>\n    <tr>\n      <th>titulo</th>\n      <th></th>\n      <th></th>\n    </tr>\n  </thead>\n  <tbody>\n    <tr>\n      <th>Exercício Físico</th>\n      <td>210.91</td>\n      <td>0.00000</td>\n    </tr>\n    <tr>\n      <th>Tabagismo</th>\n      <td>132.59</td>\n      <td>0.00000</td>\n    </tr>\n    <tr>\n      <th>Consumo Álcool</th>\n      <td>71.71</td>\n      <td>0.00000</td>\n    </tr>\n    <tr>\n      <th>Câncer</th>\n      <td>137.94</td>\n      <td>0.00000</td>\n    </tr>\n    <tr>\n      <th>Hipertensão</th>\n      <td>639.02</td>\n      <td>0.00000</td>\n    </tr>\n    <tr>\n      <th>Diabetes</th>\n      <td>276.66</td>\n      <td>0.00000</td>\n    </tr>\n    <tr>\n      <th>Cardiovascular</th>\n      <td>621.45</td>\n      <td>0.00000</td>\n    </tr>\n    <tr>\n      <th>Hipercolesterolemia</th>\n      <td>535.93</td>\n      <td>0.00000</td>\n    </tr>\n    <tr>\n      <th>AVC</th>\n      <td>332.79</td>\n      <td>0.00000</td>\n    </tr>\n    <tr>\n      <th>Artrite</th>\n      <td>1017.19</td>\n      <td>0.00000</td>\n    </tr>\n    <tr>\n      <th>Obesidade</th>\n      <td>158.98</td>\n      <td>0.00000</td>\n    </tr>\n    <tr>\n      <th>Depressão</th>\n      <td>64664.00</td>\n      <td>0.00000</td>\n    </tr>\n    <tr>\n      <th>Sexo</th>\n      <td>1510.69</td>\n      <td>0.00000</td>\n    </tr>\n    <tr>\n      <th>Estado Civil</th>\n      <td>275.03</td>\n      <td>0.00000</td>\n    </tr>\n    <tr>\n      <th>Classificação Renda</th>\n      <td>141.32</td>\n      <td>0.00000</td>\n    </tr>\n    <tr>\n      <th>Região Norte</th>\n      <td>41.14</td>\n      <td>0.00000</td>\n    </tr>\n    <tr>\n      <th>Região Nordeste</th>\n      <td>7.60</td>\n      <td>0.00584</td>\n    </tr>\n    <tr>\n      <th>Região Sudeste</th>\n      <td>14.99</td>\n      <td>0.00011</td>\n    </tr>\n    <tr>\n      <th>Região Sul</th>\n      <td>4.85</td>\n      <td>0.02760</td>\n    </tr>\n    <tr>\n      <th>Região Centro Oeste</th>\n      <td>1.71</td>\n      <td>0.19130</td>\n    </tr>\n    <tr>\n      <th>Classificação Escolaridade</th>\n      <td>36.94</td>\n      <td>0.00000</td>\n    </tr>\n    <tr>\n      <th>Ultraprocessados</th>\n      <td>24.86</td>\n      <td>0.00562</td>\n    </tr>\n    <tr>\n      <th>Classificação Idade</th>\n      <td>76.40</td>\n      <td>0.00000</td>\n    </tr>\n    <tr>\n      <th>Percepção de Saúde</th>\n      <td>7782.86</td>\n      <td>0.00000</td>\n    </tr>\n  </tbody>\n</table>\n</div>"
     },
     "execution_count": 21,
     "metadata": {},
     "output_type": "execute_result"
    }
   ],
   "source": [
    "df = copy.deepcopy(df_chi)\n",
    "df = df[['titulo', 'chi2', 'p_value']]\n",
    "\n",
    "df['chi2'] = df['chi2'].map('{:.2f}'.format).astype(str)\n",
    "df['p_value'] = df['p_value'].map('{:.5f}'.format).astype(str)\n",
    "\n",
    "variables_names = {\n",
    "    'upf': 'Ultraprocessados',\n",
    "    'exerc_fisico': 'Exercício Físico',\n",
    "    'tabagismo': 'Tabagismo',\n",
    "    'cons_alcool': 'Consumo Álcool',\n",
    "    'cancer': 'Câncer',\n",
    "    'hipertensao': 'Hipertensão',\n",
    "    'diabetes': 'Diabetes',\n",
    "    'cardiovascular': 'Cardiovascular',\n",
    "    'hipercolesterolemia': 'Hipercolesterolemia',\n",
    "    'avc': 'AVC',\n",
    "    'artrite': 'Artrite',\n",
    "    'obesidade': 'Obesidade',\n",
    "    'sexo': 'Sexo',\n",
    "    'estado_civil': 'Estado Civil',\n",
    "    'escolaridade': 'Classificação Escolaridade',\n",
    "    'class_idade': 'Classificação Idade',\n",
    "    'class_renda': 'Classificação Renda',\n",
    "    'depression': 'Depressão',\n",
    "    'perc_saude': 'Percepção de Saúde',\n",
    "    'r_norte': 'Região Norte',\n",
    "    'r_nordeste': 'Região Nordeste',\n",
    "    'r_sudeste': 'Região Sudeste',\n",
    "    'r_sul': 'Região Sul',\n",
    "    'r_centro_oeste': 'Região Centro Oeste'\n",
    "\n",
    "}\n",
    "\n",
    "df['titulo'] = df['titulo'].replace(variables_names)\n",
    "df.set_index('titulo', inplace=True)\n",
    "\n",
    "\n",
    "df.to_markdown(PATH_GEN_DATA / 'chi2.md')\n",
    "\n",
    "df"
   ],
   "metadata": {
    "collapsed": false,
    "ExecuteTime": {
     "end_time": "2023-06-26T11:17:34.460072411Z",
     "start_time": "2023-06-26T11:17:34.416016458Z"
    }
   }
  }
 ],
 "metadata": {
  "kernelspec": {
   "display_name": "Python 3",
   "language": "python",
   "name": "python3"
  },
  "language_info": {
   "codemirror_mode": {
    "name": "ipython",
    "version": 3
   },
   "file_extension": ".py",
   "mimetype": "text/x-python",
   "name": "python",
   "nbconvert_exporter": "python",
   "pygments_lexer": "ipython3",
   "version": "3.8.10"
  }
 },
 "nbformat": 4,
 "nbformat_minor": 0
}
